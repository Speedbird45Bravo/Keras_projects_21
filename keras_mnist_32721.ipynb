{
  "nbformat": 4,
  "nbformat_minor": 0,
  "metadata": {
    "colab": {
      "name": "keras_mnist_32721.ipynb",
      "provenance": [],
      "collapsed_sections": [],
      "authorship_tag": "ABX9TyOxCHyZ+pmM/uS4gZsGyWEc"
    },
    "kernelspec": {
      "name": "python3",
      "display_name": "Python 3"
    },
    "language_info": {
      "name": "python"
    }
  },
  "cells": [
    {
      "cell_type": "code",
      "metadata": {
        "colab": {
          "base_uri": "https://localhost:8080/"
        },
        "id": "Qj4AJ6rpI19J",
        "outputId": "ca85df09-b6c4-47a3-fa55-7aa7f78d8ec4"
      },
      "source": [
        "from keras.datasets import mnist\n",
        "from keras.layers import Dense, Dropout\n",
        "from keras.models import Sequential\n",
        "from keras.utils import to_categorical\n",
        "\n",
        "(X_train, y_train), (X_test, y_test) = mnist.load_data()\n",
        "\n",
        "# Isolating these statistics makes it easier down the road.\n",
        "# That said, could have just called len() for the lengths.\n",
        "# But that wouldn't be fun.\n",
        "Xtrl = len(X_train)\n",
        "Xtel = len(X_test)\n",
        "i_dims = X_train.shape[1] * X_train.shape[2]\n",
        "\n",
        "# Reshaping.\n",
        "X_train = X_train.reshape((Xtrl, i_dims))\n",
        "X_test = X_test.reshape((Xtel, i_dims)).astype(\"float32\")\n",
        "y_train = to_categorical(y_train)\n",
        "y_test = to_categorical(y_test)\n",
        "\n",
        "# Adding a Dropout layer. Not needed for mnist, but interesting to experiment with nonetheless.\n",
        "model = Sequential()\n",
        "model.add(Dense(1024, activation=\"relu\", input_shape=(i_dims,)))\n",
        "model.add(Dropout(0.1))\n",
        "model.add(Dense(10, activation='softmax'))\n",
        "model.compile(optimizer='rmsprop', loss='categorical_crossentropy', metrics=['accuracy'])\n",
        "model.fit(X_train, y_train, epochs=5, batch_size=128, verbose=1)"
      ],
      "execution_count": 6,
      "outputs": [
        {
          "output_type": "stream",
          "text": [
            "Epoch 1/5\n",
            "469/469 [==============================] - 12s 25ms/step - loss: 23.4786 - accuracy: 0.8316\n",
            "Epoch 2/5\n",
            "469/469 [==============================] - 11s 24ms/step - loss: 0.8238 - accuracy: 0.9495\n",
            "Epoch 3/5\n",
            "469/469 [==============================] - 11s 24ms/step - loss: 0.5553 - accuracy: 0.9628\n",
            "Epoch 4/5\n",
            "469/469 [==============================] - 11s 24ms/step - loss: 0.4090 - accuracy: 0.9698\n",
            "Epoch 5/5\n",
            "469/469 [==============================] - 12s 25ms/step - loss: 0.4199 - accuracy: 0.9734\n"
          ],
          "name": "stdout"
        },
        {
          "output_type": "execute_result",
          "data": {
            "text/plain": [
              "<tensorflow.python.keras.callbacks.History at 0x7f0adca1fe10>"
            ]
          },
          "metadata": {
            "tags": []
          },
          "execution_count": 6
        }
      ]
    },
    {
      "cell_type": "code",
      "metadata": {
        "colab": {
          "base_uri": "https://localhost:8080/"
        },
        "id": "TYFysvqjJk7v",
        "outputId": "faa648ab-94b3-4e94-d0cd-70278462ae98"
      },
      "source": [
        "loss, accuracy = model.evaluate(X_test, y_test)\n",
        "print(\"Test Accuracy: %.2f\" % (accuracy * 100) + \"%\")"
      ],
      "execution_count": 7,
      "outputs": [
        {
          "output_type": "stream",
          "text": [
            "313/313 [==============================] - 2s 5ms/step - loss: 0.7189 - accuracy: 0.9681\n",
            "Test Accuracy: 96.81%\n"
          ],
          "name": "stdout"
        }
      ]
    }
  ]
}