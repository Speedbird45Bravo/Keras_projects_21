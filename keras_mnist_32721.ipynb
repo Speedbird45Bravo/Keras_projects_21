{
  "nbformat": 4,
  "nbformat_minor": 0,
  "metadata": {
    "colab": {
      "name": "keras_mnist_32721.ipynb",
      "provenance": [],
      "collapsed_sections": [],
      "authorship_tag": "ABX9TyNSm5MiY46uGoK9a8f+R2Xy"
    },
    "kernelspec": {
      "name": "python3",
      "display_name": "Python 3"
    },
    "language_info": {
      "name": "python"
    }
  },
  "cells": [
    {
      "cell_type": "code",
      "metadata": {
        "colab": {
          "base_uri": "https://localhost:8080/"
        },
        "id": "Qj4AJ6rpI19J",
        "outputId": "906839bc-f8ac-4dcf-d0de-4464839bb68f"
      },
      "source": [
        "from keras.datasets import mnist\n",
        "from keras.layers import Dense, Dropout\n",
        "from keras.models import Sequential\n",
        "from keras.utils import to_categorical\n",
        "\n",
        "(X_train, y_train), (X_test, y_test) = mnist.load_data()\n",
        "\n",
        "Xtrl = len(X_train)\n",
        "Xtel = len(X_test)\n",
        "i_dims = X_train.shape[1] * X_train.shape[2]\n",
        "\n",
        "X_train = X_train.reshape((Xtrl, i_dims))\n",
        "X_test = X_test.reshape((Xtel, i_dims)).astype(\"float32\")\n",
        "y_train = to_categorical(y_train)\n",
        "y_test = to_categorical(y_test)\n",
        "\n",
        "model = Sequential()\n",
        "model.add(Dense(1024, activation=\"relu\", input_shape=(i_dims,)))\n",
        "model.add(Dropout(0.1))\n",
        "model.add(Dense(10, activation='softmax'))\n",
        "model.compile(optimizer='rmsprop', loss='categorical_crossentropy', metrics=['accuracy'])\n",
        "model.fit(X_train, y_train, epochs=5, batch_size=128, verbose=1)"
      ],
      "execution_count": 2,
      "outputs": [
        {
          "output_type": "stream",
          "text": [
            "Epoch 1/5\n",
            "469/469 [==============================] - 12s 24ms/step - loss: 22.1821 - accuracy: 0.8321\n",
            "Epoch 2/5\n",
            "469/469 [==============================] - 12s 25ms/step - loss: 0.8148 - accuracy: 0.9491\n",
            "Epoch 3/5\n",
            "469/469 [==============================] - 11s 25ms/step - loss: 0.5785 - accuracy: 0.9615\n",
            "Epoch 4/5\n",
            "469/469 [==============================] - 11s 25ms/step - loss: 0.4492 - accuracy: 0.9686\n",
            "Epoch 5/5\n",
            "469/469 [==============================] - 12s 25ms/step - loss: 0.4213 - accuracy: 0.9734\n"
          ],
          "name": "stdout"
        },
        {
          "output_type": "execute_result",
          "data": {
            "text/plain": [
              "<tensorflow.python.keras.callbacks.History at 0x7f0add33c950>"
            ]
          },
          "metadata": {
            "tags": []
          },
          "execution_count": 2
        }
      ]
    },
    {
      "cell_type": "code",
      "metadata": {
        "colab": {
          "base_uri": "https://localhost:8080/"
        },
        "id": "TYFysvqjJk7v",
        "outputId": "dc3664bc-bed7-4df5-91bf-ec19af468e45"
      },
      "source": [
        "loss, accuracy = model.evaluate(X_test, y_test)\n",
        "print(\"Test Accuracy: %.2f\" % (accuracy * 100) + \"%\")"
      ],
      "execution_count": 5,
      "outputs": [
        {
          "output_type": "stream",
          "text": [
            "313/313 [==============================] - 2s 5ms/step - loss: 0.7977 - accuracy: 0.9650\n",
            "Test Accuracy: 96.50%\n"
          ],
          "name": "stdout"
        }
      ]
    }
  ]
}