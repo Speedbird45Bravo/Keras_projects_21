{
  "nbformat": 4,
  "nbformat_minor": 0,
  "metadata": {
    "colab": {
      "name": "ksand_411.ipynb",
      "provenance": [],
      "collapsed_sections": [],
      "authorship_tag": "ABX9TyOIMyVJe2OIZH53ezu5qlqi",
      "include_colab_link": true
    },
    "kernelspec": {
      "name": "python3",
      "display_name": "Python 3"
    },
    "language_info": {
      "name": "python"
    }
  },
  "cells": [
    {
      "cell_type": "markdown",
      "metadata": {
        "id": "view-in-github",
        "colab_type": "text"
      },
      "source": [
        "<a href=\"https://colab.research.google.com/github/Speedbird45Bravo/Keras_projects_21/blob/main/ksand_411.ipynb\" target=\"_parent\"><img src=\"https://colab.research.google.com/assets/colab-badge.svg\" alt=\"Open In Colab\"/></a>"
      ]
    },
    {
      "cell_type": "code",
      "metadata": {
        "id": "pkaP_-jQamxQ"
      },
      "source": [
        "from keras.layers import Dense\n",
        "from keras.models import Sequential\n",
        "from keras.utils import to_categorical\n",
        "from sklearn.model_selection import train_test_split\n",
        "import numpy as np\n",
        "import pandas as pd\n",
        "\n",
        "df = pd.read_csv(\"https://projects.fivethirtyeight.com/soccer-api/club/spi_matches.csv\").dropna()"
      ],
      "execution_count": 4,
      "outputs": []
    },
    {
      "cell_type": "code",
      "metadata": {
        "id": "uj3Boz4YcdGE"
      },
      "source": [
        "hg = []\n",
        "\n",
        "for x in df['score1']:\n",
        "  if x > 0:\n",
        "    hg.append(\"HOME GOALS\")\n",
        "  else:\n",
        "    hg.append(\"NO HOME GOALS\")\n",
        "\n",
        "df['score1_label'] = hg"
      ],
      "execution_count": 9,
      "outputs": []
    },
    {
      "cell_type": "code",
      "metadata": {
        "id": "_v_q4DMQc0NV"
      },
      "source": [
        "def load_model():\n",
        "  model = Sequential()\n",
        "  model.add(Dense(8, activation='relu'))\n",
        "  model.add(Dense(2, activation='softmax'))\n",
        "  model.compile(optimizer='adam', loss='categorical_crossentropy', metrics=['accuracy'])\n",
        "  return model\n",
        "\n",
        "def to_cat(array):\n",
        "  array = to_categorical(np.array(pd.factorize(array)[0]))\n",
        "  return array\n",
        "\n",
        "def to_df(array):\n",
        "  df = pd.DataFrame(array).reset_index(drop=True)\n",
        "  return df"
      ],
      "execution_count": 10,
      "outputs": []
    },
    {
      "cell_type": "code",
      "metadata": {
        "id": "VoRY2YyoeM7D"
      },
      "source": [
        "X = df[['score2','score1']].reset_index(drop=True)\n",
        "y = df[['score1_label']].copy()\n",
        "X_train, X_test, y_train, y_test = train_test_split(X, y, test_size=0.2, random_state=6)"
      ],
      "execution_count": 11,
      "outputs": []
    },
    {
      "cell_type": "code",
      "metadata": {
        "id": "UDzDvdOTeERN"
      },
      "source": [
        "model = load_model()\n",
        "y_train = to_cat(y_train['score1_label'])\n",
        "y_test = to_cat(y_test['score1_label'])"
      ],
      "execution_count": 13,
      "outputs": []
    },
    {
      "cell_type": "code",
      "metadata": {
        "colab": {
          "base_uri": "https://localhost:8080/"
        },
        "id": "Ux4NwBVueF36",
        "outputId": "952e4738-ec3c-487e-8458-a7821680874a"
      },
      "source": [
        "model.fit(X_train, y_train, epochs=20, batch_size=128, verbose=2)"
      ],
      "execution_count": 15,
      "outputs": [
        {
          "output_type": "stream",
          "text": [
            "Epoch 1/20\n",
            "126/126 - 0s - loss: 0.0644 - accuracy: 1.0000\n",
            "Epoch 2/20\n",
            "126/126 - 0s - loss: 0.0452 - accuracy: 1.0000\n",
            "Epoch 3/20\n",
            "126/126 - 0s - loss: 0.0330 - accuracy: 1.0000\n",
            "Epoch 4/20\n",
            "126/126 - 0s - loss: 0.0248 - accuracy: 1.0000\n",
            "Epoch 5/20\n",
            "126/126 - 0s - loss: 0.0192 - accuracy: 1.0000\n",
            "Epoch 6/20\n",
            "126/126 - 0s - loss: 0.0152 - accuracy: 1.0000\n",
            "Epoch 7/20\n",
            "126/126 - 0s - loss: 0.0123 - accuracy: 1.0000\n",
            "Epoch 8/20\n",
            "126/126 - 0s - loss: 0.0101 - accuracy: 1.0000\n",
            "Epoch 9/20\n",
            "126/126 - 0s - loss: 0.0083 - accuracy: 1.0000\n",
            "Epoch 10/20\n",
            "126/126 - 0s - loss: 0.0070 - accuracy: 1.0000\n",
            "Epoch 11/20\n",
            "126/126 - 0s - loss: 0.0059 - accuracy: 1.0000\n",
            "Epoch 12/20\n",
            "126/126 - 0s - loss: 0.0051 - accuracy: 1.0000\n",
            "Epoch 13/20\n",
            "126/126 - 0s - loss: 0.0044 - accuracy: 1.0000\n",
            "Epoch 14/20\n",
            "126/126 - 0s - loss: 0.0038 - accuracy: 1.0000\n",
            "Epoch 15/20\n",
            "126/126 - 0s - loss: 0.0033 - accuracy: 1.0000\n",
            "Epoch 16/20\n",
            "126/126 - 0s - loss: 0.0029 - accuracy: 1.0000\n",
            "Epoch 17/20\n",
            "126/126 - 0s - loss: 0.0026 - accuracy: 1.0000\n",
            "Epoch 18/20\n",
            "126/126 - 0s - loss: 0.0023 - accuracy: 1.0000\n",
            "Epoch 19/20\n",
            "126/126 - 0s - loss: 0.0020 - accuracy: 1.0000\n",
            "Epoch 20/20\n",
            "126/126 - 0s - loss: 0.0018 - accuracy: 1.0000\n"
          ],
          "name": "stdout"
        },
        {
          "output_type": "execute_result",
          "data": {
            "text/plain": [
              "<tensorflow.python.keras.callbacks.History at 0x7f15ca223f90>"
            ]
          },
          "metadata": {
            "tags": []
          },
          "execution_count": 15
        }
      ]
    },
    {
      "cell_type": "code",
      "metadata": {
        "colab": {
          "base_uri": "https://localhost:8080/"
        },
        "id": "w6YPKhWDeq-a",
        "outputId": "57ae9db8-63a8-4a89-e44c-5e62addf17a9"
      },
      "source": [
        "predictions = model.predict(X_test).round(0)\n",
        "test, acc = model.evaluate(X_test, y_test)"
      ],
      "execution_count": 16,
      "outputs": [
        {
          "output_type": "stream",
          "text": [
            "126/126 [==============================] - 0s 979us/step - loss: 0.0017 - accuracy: 1.0000\n"
          ],
          "name": "stdout"
        }
      ]
    },
    {
      "cell_type": "code",
      "metadata": {
        "colab": {
          "base_uri": "https://localhost:8080/"
        },
        "id": "c4Bl-euMfqi1",
        "outputId": "17c3d952-026e-4e28-e7d9-2ce033057b6a"
      },
      "source": [
        "print(\"Test Accuracy: %.2f\" % (acc * 100) + \"%\")"
      ],
      "execution_count": 18,
      "outputs": [
        {
          "output_type": "stream",
          "text": [
            "Test Accuracy: 100.00%\n"
          ],
          "name": "stdout"
        }
      ]
    }
  ]
}