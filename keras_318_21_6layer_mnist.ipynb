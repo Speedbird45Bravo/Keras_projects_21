{
  "nbformat": 4,
  "nbformat_minor": 0,
  "metadata": {
    "colab": {
      "name": "keras_318_21_6layer_mnist.ipynb",
      "provenance": [],
      "collapsed_sections": []
    },
    "kernelspec": {
      "name": "python3",
      "display_name": "Python 3"
    }
  },
  "cells": [
    {
      "cell_type": "code",
      "metadata": {
        "colab": {
          "base_uri": "https://localhost:8080/"
        },
        "id": "Qxy-Tr9bjYej",
        "outputId": "83cead95-5f2d-4c0e-a5b6-a18b74f7a34d"
      },
      "source": [
        "from keras.datasets import mnist\r\n",
        "from keras.layers import Dense\r\n",
        "from keras.models import Sequential\r\n",
        "from keras.utils import to_categorical\r\n",
        "\r\n",
        "# Loading and defining the data.\r\n",
        "(X_train, y_train), (X_test, y_test) = mnist.load_data()\r\n",
        "\r\n",
        "# Defining X_train length, X_test length, and input dimensions.\r\n",
        "Xtrl = len(X_train)\r\n",
        "Xtel = len(X_test)\r\n",
        "i_dims = X_train.shape[1] * X_train.shape[2]\r\n",
        "\r\n",
        "# Six layers is computationally taxing, but who cares because there are only 25 epochs.\r\n",
        "model = Sequential()\r\n",
        "model.add(Dense(512, activation='relu', input_shape=(i_dims,)))\r\n",
        "model.add(Dense(250, activation='relu'))\r\n",
        "model.add(Dense(100, activation='relu'))\r\n",
        "model.add(Dense(50, activation='relu'))\r\n",
        "model.add(Dense(25, activation='relu'))\r\n",
        "model.add(Dense(10, activation='softmax'))\r\n",
        "model.compile(optimizer='rmsprop', loss='categorical_crossentropy', metrics=['accuracy'])\r\n",
        "\r\n",
        "# Reshaping the tensors. It's probably cleaner to just write in the numbers since we are using them once,\r\n",
        "# but for reproducability it's good to know how to reference the lengths that are needed for reshaping.\r\n",
        "X_train = X_train.reshape((Xtrl, i_dims))\r\n",
        "X_test = X_test.reshape((Xtel, i_dims)).astype('float32')\r\n",
        "y_train = to_categorical(y_train)\r\n",
        "y_test = to_categorical(y_test)\r\n",
        "\r\n",
        "# Fitting the data to the model. We might anticipate some overfitting when accuracy hits 0.98XX but\r\n",
        "# as long as the accuracy doesn't start regressing writ large it's all good.\r\n",
        "model.fit(X_train, y_train, epochs=25, batch_size=128, verbose=2)"
      ],
      "execution_count": 14,
      "outputs": [
        {
          "output_type": "stream",
          "text": [
            "Epoch 1/25\n",
            "469/469 - 7s - loss: 1.1836 - accuracy: 0.8562\n",
            "Epoch 2/25\n",
            "469/469 - 6s - loss: 0.1907 - accuracy: 0.9520\n",
            "Epoch 3/25\n",
            "469/469 - 6s - loss: 0.1416 - accuracy: 0.9655\n",
            "Epoch 4/25\n",
            "469/469 - 6s - loss: 0.1148 - accuracy: 0.9720\n",
            "Epoch 5/25\n",
            "469/469 - 6s - loss: 0.1030 - accuracy: 0.9757\n",
            "Epoch 6/25\n",
            "469/469 - 6s - loss: 0.0963 - accuracy: 0.9786\n",
            "Epoch 7/25\n",
            "469/469 - 6s - loss: 0.0912 - accuracy: 0.9805\n",
            "Epoch 8/25\n",
            "469/469 - 6s - loss: 0.0835 - accuracy: 0.9822\n",
            "Epoch 9/25\n",
            "469/469 - 6s - loss: 0.0757 - accuracy: 0.9834\n",
            "Epoch 10/25\n",
            "469/469 - 6s - loss: 0.0774 - accuracy: 0.9843\n",
            "Epoch 11/25\n",
            "469/469 - 6s - loss: 0.0731 - accuracy: 0.9865\n",
            "Epoch 12/25\n",
            "469/469 - 6s - loss: 0.0637 - accuracy: 0.9875\n",
            "Epoch 13/25\n",
            "469/469 - 6s - loss: 0.0635 - accuracy: 0.9876\n",
            "Epoch 14/25\n",
            "469/469 - 6s - loss: 0.0648 - accuracy: 0.9880\n",
            "Epoch 15/25\n",
            "469/469 - 6s - loss: 0.0556 - accuracy: 0.9891\n",
            "Epoch 16/25\n",
            "469/469 - 6s - loss: 0.0750 - accuracy: 0.9897\n",
            "Epoch 17/25\n",
            "469/469 - 6s - loss: 0.0553 - accuracy: 0.9899\n",
            "Epoch 18/25\n",
            "469/469 - 6s - loss: 0.0529 - accuracy: 0.9906\n",
            "Epoch 19/25\n",
            "469/469 - 6s - loss: 0.0615 - accuracy: 0.9909\n",
            "Epoch 20/25\n",
            "469/469 - 6s - loss: 0.0569 - accuracy: 0.9915\n",
            "Epoch 21/25\n",
            "469/469 - 6s - loss: 0.0499 - accuracy: 0.9922\n",
            "Epoch 22/25\n",
            "469/469 - 6s - loss: 0.0624 - accuracy: 0.9915\n",
            "Epoch 23/25\n",
            "469/469 - 6s - loss: 0.0547 - accuracy: 0.9911\n",
            "Epoch 24/25\n",
            "469/469 - 6s - loss: 0.0571 - accuracy: 0.9916\n",
            "Epoch 25/25\n",
            "469/469 - 6s - loss: 0.0616 - accuracy: 0.9927\n"
          ],
          "name": "stdout"
        },
        {
          "output_type": "execute_result",
          "data": {
            "text/plain": [
              "<tensorflow.python.keras.callbacks.History at 0x7f5578820dd0>"
            ]
          },
          "metadata": {
            "tags": []
          },
          "execution_count": 14
        }
      ]
    },
    {
      "cell_type": "code",
      "metadata": {
        "colab": {
          "base_uri": "https://localhost:8080/"
        },
        "id": "MsePbn-0nFjV",
        "outputId": "57dab4a8-3ae5-4e9e-be4d-511e47c0ffc5"
      },
      "source": [
        "# Good to see that our last epoch yielded the highest accuracy value, which is what we want!\r\n",
        "# Computing loss and accuracy.\r\n",
        "loss, accuracy = model.evaluate(X_test, y_test)\r\n",
        "\r\n",
        "# The accuracy won't be as high as the last epoch, but still a general overview.\r\n",
        "print(\"Test Accuracy Metric: %.2f\" % (accuracy * 100) + \"%\")"
      ],
      "execution_count": 18,
      "outputs": [
        {
          "output_type": "stream",
          "text": [
            "313/313 [==============================] - 1s 4ms/step - loss: 0.3519 - accuracy: 0.9775\n",
            "Test Accuracy Metric: 97.75%\n"
          ],
          "name": "stdout"
        }
      ]
    }
  ]
}