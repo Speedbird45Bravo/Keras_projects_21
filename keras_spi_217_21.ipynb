{
  "nbformat": 4,
  "nbformat_minor": 0,
  "metadata": {
    "colab": {
      "name": "keras_spi_217_21.ipynb",
      "provenance": [],
      "collapsed_sections": []
    },
    "kernelspec": {
      "name": "python3",
      "display_name": "Python 3"
    }
  },
  "cells": [
    {
      "cell_type": "code",
      "metadata": {
        "id": "3vfE_8vne5JO"
      },
      "source": [
        "import numpy as np\r\n",
        "import pandas as pd\r\n",
        "from keras.layers import Dense\r\n",
        "from keras.models import Sequential\r\n",
        "from keras.utils import to_categorical\r\n",
        "from sklearn.preprocessing import OneHotEncoder\r\n",
        "from sklearn.model_selection import train_test_split\r\n",
        "\r\n",
        "url = 'https://projects.fivethirtyeight.com/soccer-api/club/spi_matches.csv'\r\n",
        "df = pd.read_csv(url, parse_dates=['date']).dropna()\r\n",
        "df = df[(df.league=='Barclays Premier League') | (df.league=='Major League Soccer') | (df.league=='Chinese Super League')]\r\n",
        "df['spi_margin'] = np.abs(df['spi1'] - df['spi2'])"
      ],
      "execution_count": 1,
      "outputs": []
    },
    {
      "cell_type": "code",
      "metadata": {
        "id": "fEr750_qwVXR"
      },
      "source": [
        "ohe = OneHotEncoder()\r\n",
        "t1 = df['team1'].unique().tolist()\r\n",
        "t2 = df['team2'].unique().tolist()\r\n",
        "team1 = df.iloc[:,4:5].values\r\n",
        "team1 = ohe.fit_transform(team1).toarray()\r\n",
        "team1 = pd.DataFrame(team1).reset_index(drop=True)\r\n",
        "team1.columns = t1\r\n",
        "team2 = df.iloc[:,5:6].values\r\n",
        "team2 = ohe.fit_transform(team2).toarray()\r\n",
        "team2 = pd.DataFrame(team2).reset_index(drop=True)\r\n",
        "team2.columns = t2\r\n",
        "X_num = df[['spi1', 'spi2', 'prob1', 'prob2', 'probtie', 'proj_score1', 'proj_score2', 'importance1', 'importance2', 'score1', 'score2', 'xg1', 'xg2', 'nsxg1', 'nsxg2', 'adj_score1', 'adj_score2']].reset_index(drop=True)\r\n",
        "X = pd.concat([X_num, team1, team2], axis=1)\r\n",
        "y = df[['spi_margin']].copy()\r\n",
        "\r\n",
        "X_train, X_test, y_train, y_test = train_test_split(X, y, test_size=0.25, random_state=6)\r\n",
        "y_train = ohe.fit_transform(y_train).toarray()\r\n",
        "y_test = ohe.fit_transform(y_test).toarray()"
      ],
      "execution_count": 2,
      "outputs": []
    },
    {
      "cell_type": "code",
      "metadata": {
        "id": "UFc0BdBYz8-2"
      },
      "source": [
        "model = Sequential()\r\n",
        "model.add(Dense(128, activation='relu', input_shape=(165, )))\r\n",
        "model.add(Dense(64, activation='relu', name='dense_2'))\r\n",
        "model.add(Dense(1, activation='linear', name='dense_output'))"
      ],
      "execution_count": 3,
      "outputs": []
    },
    {
      "cell_type": "code",
      "metadata": {
        "id": "uoLQjNBc0KB5"
      },
      "source": [
        "model.compile(optimizer='rmsprop', loss='mse', metrics=['mae'])"
      ],
      "execution_count": 4,
      "outputs": []
    },
    {
      "cell_type": "code",
      "metadata": {
        "colab": {
          "base_uri": "https://localhost:8080/"
        },
        "id": "Bspd6u_10L20",
        "outputId": "e4745e0e-debc-4890-9554-0f71e24297b9"
      },
      "source": [
        "model.fit(X_train, y_train, epochs=5, batch_size=128)"
      ],
      "execution_count": 5,
      "outputs": [
        {
          "output_type": "stream",
          "text": [
            "Epoch 1/5\n",
            "21/21 [==============================] - 1s 5ms/step - loss: 8.5982 - mae: 1.8700\n",
            "Epoch 2/5\n",
            "21/21 [==============================] - 0s 6ms/step - loss: 0.8490 - mae: 0.7655\n",
            "Epoch 3/5\n",
            "21/21 [==============================] - 0s 5ms/step - loss: 1.1779 - mae: 0.9705\n",
            "Epoch 4/5\n",
            "21/21 [==============================] - 0s 5ms/step - loss: 0.7499 - mae: 0.7549\n",
            "Epoch 5/5\n",
            "21/21 [==============================] - 0s 5ms/step - loss: 0.7534 - mae: 0.7833\n"
          ],
          "name": "stdout"
        },
        {
          "output_type": "execute_result",
          "data": {
            "text/plain": [
              "<tensorflow.python.keras.callbacks.History at 0x7f9e605e69b0>"
            ]
          },
          "metadata": {
            "tags": []
          },
          "execution_count": 5
        }
      ]
    },
    {
      "cell_type": "code",
      "metadata": {
        "colab": {
          "base_uri": "https://localhost:8080/"
        },
        "id": "Zcij3Rp00pZ0",
        "outputId": "a05456a2-809f-4f6d-867a-509004ecd01d"
      },
      "source": [
        "mse, mae = model.evaluate(X_test, y_test)"
      ],
      "execution_count": 6,
      "outputs": [
        {
          "output_type": "stream",
          "text": [
            "28/28 [==============================] - 0s 1ms/step - loss: 0.7136 - mae: 0.7707\n"
          ],
          "name": "stdout"
        }
      ]
    },
    {
      "cell_type": "code",
      "metadata": {
        "id": "fMmrWQCwFnkb",
        "colab": {
          "base_uri": "https://localhost:8080/"
        },
        "outputId": "3b081642-5e20-45f4-e59d-59e055474f1e"
      },
      "source": [
        "print(\"Mean Average Error: %.2f\" % mae)\r\n",
        "print(\"Mean Y Value: %.2f\" % np.mean(df['spi_margin']))\r\n",
        "m_calc = mae / np.mean(df['spi_margin'])\r\n",
        "print(\"Mean Accuracy: %.2f\" % ((1 - m_calc) * 100) + \"%\")"
      ],
      "execution_count": 30,
      "outputs": [
        {
          "output_type": "stream",
          "text": [
            "Mean Average Error: 0.77\n",
            "Mean Y Value: 10.63\n",
            "Mean Accuracy: 92.75%\n"
          ],
          "name": "stdout"
        }
      ]
    }
  ]
}