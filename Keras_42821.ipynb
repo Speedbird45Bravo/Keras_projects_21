{
  "nbformat": 4,
  "nbformat_minor": 0,
  "metadata": {
    "colab": {
      "name": "Keras_42821.ipynb",
      "provenance": [],
      "collapsed_sections": [],
      "authorship_tag": "ABX9TyOq9cmAEsS02IAhE6zdj2qm",
      "include_colab_link": true
    },
    "kernelspec": {
      "name": "python3",
      "display_name": "Python 3"
    },
    "language_info": {
      "name": "python"
    }
  },
  "cells": [
    {
      "cell_type": "markdown",
      "metadata": {
        "id": "view-in-github",
        "colab_type": "text"
      },
      "source": [
        "<a href=\"https://colab.research.google.com/github/Speedbird45Bravo/Keras_projects_21/blob/main/Keras_42821.ipynb\" target=\"_parent\"><img src=\"https://colab.research.google.com/assets/colab-badge.svg\" alt=\"Open In Colab\"/></a>"
      ]
    },
    {
      "cell_type": "code",
      "metadata": {
        "id": "9SVwdvVdgj62"
      },
      "source": [
        "from keras.layers import Dense\n",
        "from keras.models import Sequential\n",
        "from keras.utils import to_categorical\n",
        "from sklearn.model_selection import train_test_split\n",
        "import numpy as np\n",
        "import pandas as pd"
      ],
      "execution_count": 18,
      "outputs": []
    },
    {
      "cell_type": "code",
      "metadata": {
        "id": "aagAfUKCiV0i"
      },
      "source": [
        "df = pd.read_csv(\"https://projects.fivethirtyeight.com/soccer-api/club/spi_matches.csv\").dropna()"
      ],
      "execution_count": 19,
      "outputs": []
    },
    {
      "cell_type": "code",
      "metadata": {
        "id": "Y9AtGrOBiaJi"
      },
      "source": [
        "df['margin'] = np.abs(df['score1'] - df['score2'])"
      ],
      "execution_count": 20,
      "outputs": []
    },
    {
      "cell_type": "code",
      "metadata": {
        "id": "DEaawNWJioGp"
      },
      "source": [
        "margs = []"
      ],
      "execution_count": 21,
      "outputs": []
    },
    {
      "cell_type": "code",
      "metadata": {
        "id": "R0PnpUcRio9p"
      },
      "source": [
        "for x in df['margin']:\n",
        "  if x > 0:\n",
        "    margs.append(\"OUTCOME\")\n",
        "  else:\n",
        "    margs.append(\"DRAW\")"
      ],
      "execution_count": 22,
      "outputs": []
    },
    {
      "cell_type": "code",
      "metadata": {
        "id": "am0ZzI_MiuJE"
      },
      "source": [
        "df['outcome'] = margs"
      ],
      "execution_count": 23,
      "outputs": []
    },
    {
      "cell_type": "code",
      "metadata": {
        "id": "FHV1YnqLivqO"
      },
      "source": [
        "X = df[['score1', 'score2']]\n",
        "y = df[['outcome']].copy()\n",
        "X_train, X_test, y_train, y_test = train_test_split(X, y, test_size=0.2, random_state=6)"
      ],
      "execution_count": 24,
      "outputs": []
    },
    {
      "cell_type": "code",
      "metadata": {
        "id": "oTteu8RMi3YI"
      },
      "source": [
        "def categorize(array):\n",
        "  array = to_categorical(np.asarray(pd.factorize(array)[0]))\n",
        "  return array"
      ],
      "execution_count": 25,
      "outputs": []
    },
    {
      "cell_type": "code",
      "metadata": {
        "id": "6MqbuYktjHHY"
      },
      "source": [
        "def load_model():\n",
        "  model = Sequential()\n",
        "  model.add(Dense(16, activation='relu'))\n",
        "  model.add(Dense(2, activation='softmax'))\n",
        "  model.compile(optimizer='adam', loss='binary_crossentropy', metrics=['accuracy'])\n",
        "  return model"
      ],
      "execution_count": 26,
      "outputs": []
    },
    {
      "cell_type": "code",
      "metadata": {
        "id": "UsIS-VZ9jQdc"
      },
      "source": [
        "y_train = categorize(y_train['outcome'])\n",
        "y_test = categorize(y_test['outcome'])"
      ],
      "execution_count": 27,
      "outputs": []
    },
    {
      "cell_type": "code",
      "metadata": {
        "colab": {
          "base_uri": "https://localhost:8080/"
        },
        "id": "pKYR6X9ejYYE",
        "outputId": "ce85c615-2339-462e-8b43-5e6aa0d2587b"
      },
      "source": [
        "model = load_model()\n",
        "model.fit(X_train, y_train, epochs=40, batch_size=128, verbose=1, validation_split=0.2)"
      ],
      "execution_count": 28,
      "outputs": [
        {
          "output_type": "stream",
          "text": [
            "Epoch 1/40\n",
            "102/102 [==============================] - 1s 4ms/step - loss: 0.5846 - accuracy: 0.7427 - val_loss: 0.5221 - val_accuracy: 0.7424\n",
            "Epoch 2/40\n",
            "102/102 [==============================] - 0s 2ms/step - loss: 0.5021 - accuracy: 0.7466 - val_loss: 0.4828 - val_accuracy: 0.7424\n",
            "Epoch 3/40\n",
            "102/102 [==============================] - 0s 2ms/step - loss: 0.4644 - accuracy: 0.7458 - val_loss: 0.4508 - val_accuracy: 0.7424\n",
            "Epoch 4/40\n",
            "102/102 [==============================] - 0s 2ms/step - loss: 0.4376 - accuracy: 0.7443 - val_loss: 0.4232 - val_accuracy: 0.7424\n",
            "Epoch 5/40\n",
            "102/102 [==============================] - 0s 2ms/step - loss: 0.4109 - accuracy: 0.7425 - val_loss: 0.3935 - val_accuracy: 0.7424\n",
            "Epoch 6/40\n",
            "102/102 [==============================] - 0s 2ms/step - loss: 0.3770 - accuracy: 0.7505 - val_loss: 0.3589 - val_accuracy: 0.8105\n",
            "Epoch 7/40\n",
            "102/102 [==============================] - 0s 2ms/step - loss: 0.3415 - accuracy: 0.8200 - val_loss: 0.3181 - val_accuracy: 0.8105\n",
            "Epoch 8/40\n",
            "102/102 [==============================] - 0s 2ms/step - loss: 0.3016 - accuracy: 0.8953 - val_loss: 0.2777 - val_accuracy: 0.9883\n",
            "Epoch 9/40\n",
            "102/102 [==============================] - 0s 2ms/step - loss: 0.2646 - accuracy: 0.9952 - val_loss: 0.2408 - val_accuracy: 1.0000\n",
            "Epoch 10/40\n",
            "102/102 [==============================] - 0s 2ms/step - loss: 0.2311 - accuracy: 1.0000 - val_loss: 0.2081 - val_accuracy: 1.0000\n",
            "Epoch 11/40\n",
            "102/102 [==============================] - 0s 2ms/step - loss: 0.1970 - accuracy: 1.0000 - val_loss: 0.1797 - val_accuracy: 1.0000\n",
            "Epoch 12/40\n",
            "102/102 [==============================] - 0s 2ms/step - loss: 0.1713 - accuracy: 1.0000 - val_loss: 0.1551 - val_accuracy: 1.0000\n",
            "Epoch 13/40\n",
            "102/102 [==============================] - 0s 2ms/step - loss: 0.1500 - accuracy: 1.0000 - val_loss: 0.1340 - val_accuracy: 1.0000\n",
            "Epoch 14/40\n",
            "102/102 [==============================] - 0s 2ms/step - loss: 0.1279 - accuracy: 1.0000 - val_loss: 0.1148 - val_accuracy: 1.0000\n",
            "Epoch 15/40\n",
            "102/102 [==============================] - 0s 2ms/step - loss: 0.1093 - accuracy: 1.0000 - val_loss: 0.0981 - val_accuracy: 1.0000\n",
            "Epoch 16/40\n",
            "102/102 [==============================] - 0s 2ms/step - loss: 0.0941 - accuracy: 1.0000 - val_loss: 0.0834 - val_accuracy: 1.0000\n",
            "Epoch 17/40\n",
            "102/102 [==============================] - 0s 2ms/step - loss: 0.0792 - accuracy: 1.0000 - val_loss: 0.0707 - val_accuracy: 1.0000\n",
            "Epoch 18/40\n",
            "102/102 [==============================] - 0s 2ms/step - loss: 0.0672 - accuracy: 1.0000 - val_loss: 0.0607 - val_accuracy: 1.0000\n",
            "Epoch 19/40\n",
            "102/102 [==============================] - 0s 2ms/step - loss: 0.0578 - accuracy: 1.0000 - val_loss: 0.0526 - val_accuracy: 1.0000\n",
            "Epoch 20/40\n",
            "102/102 [==============================] - 0s 2ms/step - loss: 0.0504 - accuracy: 1.0000 - val_loss: 0.0458 - val_accuracy: 1.0000\n",
            "Epoch 21/40\n",
            "102/102 [==============================] - 0s 2ms/step - loss: 0.0441 - accuracy: 1.0000 - val_loss: 0.0400 - val_accuracy: 1.0000\n",
            "Epoch 22/40\n",
            "102/102 [==============================] - 0s 2ms/step - loss: 0.0382 - accuracy: 1.0000 - val_loss: 0.0351 - val_accuracy: 1.0000\n",
            "Epoch 23/40\n",
            "102/102 [==============================] - 0s 2ms/step - loss: 0.0335 - accuracy: 1.0000 - val_loss: 0.0309 - val_accuracy: 1.0000\n",
            "Epoch 24/40\n",
            "102/102 [==============================] - 0s 2ms/step - loss: 0.0295 - accuracy: 1.0000 - val_loss: 0.0274 - val_accuracy: 1.0000\n",
            "Epoch 25/40\n",
            "102/102 [==============================] - 0s 2ms/step - loss: 0.0258 - accuracy: 1.0000 - val_loss: 0.0243 - val_accuracy: 1.0000\n",
            "Epoch 26/40\n",
            "102/102 [==============================] - 0s 2ms/step - loss: 0.0230 - accuracy: 1.0000 - val_loss: 0.0216 - val_accuracy: 1.0000\n",
            "Epoch 27/40\n",
            "102/102 [==============================] - 0s 2ms/step - loss: 0.0208 - accuracy: 1.0000 - val_loss: 0.0193 - val_accuracy: 1.0000\n",
            "Epoch 28/40\n",
            "102/102 [==============================] - 0s 2ms/step - loss: 0.0186 - accuracy: 1.0000 - val_loss: 0.0173 - val_accuracy: 1.0000\n",
            "Epoch 29/40\n",
            "102/102 [==============================] - 0s 2ms/step - loss: 0.0165 - accuracy: 1.0000 - val_loss: 0.0156 - val_accuracy: 1.0000\n",
            "Epoch 30/40\n",
            "102/102 [==============================] - 0s 2ms/step - loss: 0.0149 - accuracy: 1.0000 - val_loss: 0.0141 - val_accuracy: 1.0000\n",
            "Epoch 31/40\n",
            "102/102 [==============================] - 0s 2ms/step - loss: 0.0135 - accuracy: 1.0000 - val_loss: 0.0127 - val_accuracy: 1.0000\n",
            "Epoch 32/40\n",
            "102/102 [==============================] - 0s 2ms/step - loss: 0.0122 - accuracy: 1.0000 - val_loss: 0.0116 - val_accuracy: 1.0000\n",
            "Epoch 33/40\n",
            "102/102 [==============================] - 0s 2ms/step - loss: 0.0112 - accuracy: 1.0000 - val_loss: 0.0105 - val_accuracy: 1.0000\n",
            "Epoch 34/40\n",
            "102/102 [==============================] - 0s 2ms/step - loss: 0.0101 - accuracy: 1.0000 - val_loss: 0.0096 - val_accuracy: 1.0000\n",
            "Epoch 35/40\n",
            "102/102 [==============================] - 0s 2ms/step - loss: 0.0093 - accuracy: 1.0000 - val_loss: 0.0087 - val_accuracy: 1.0000\n",
            "Epoch 36/40\n",
            "102/102 [==============================] - 0s 2ms/step - loss: 0.0085 - accuracy: 1.0000 - val_loss: 0.0080 - val_accuracy: 1.0000\n",
            "Epoch 37/40\n",
            "102/102 [==============================] - 0s 2ms/step - loss: 0.0077 - accuracy: 1.0000 - val_loss: 0.0073 - val_accuracy: 1.0000\n",
            "Epoch 38/40\n",
            "102/102 [==============================] - 0s 2ms/step - loss: 0.0072 - accuracy: 1.0000 - val_loss: 0.0067 - val_accuracy: 1.0000\n",
            "Epoch 39/40\n",
            "102/102 [==============================] - 0s 2ms/step - loss: 0.0065 - accuracy: 1.0000 - val_loss: 0.0061 - val_accuracy: 1.0000\n",
            "Epoch 40/40\n",
            "102/102 [==============================] - 0s 2ms/step - loss: 0.0060 - accuracy: 1.0000 - val_loss: 0.0056 - val_accuracy: 1.0000\n"
          ],
          "name": "stdout"
        },
        {
          "output_type": "execute_result",
          "data": {
            "text/plain": [
              "<tensorflow.python.keras.callbacks.History at 0x7f97f8458290>"
            ]
          },
          "metadata": {
            "tags": []
          },
          "execution_count": 28
        }
      ]
    },
    {
      "cell_type": "code",
      "metadata": {
        "colab": {
          "base_uri": "https://localhost:8080/"
        },
        "id": "nmLyE5XkjeJs",
        "outputId": "2ae10a0e-b50c-4386-e9f9-c2f2d7d42229"
      },
      "source": [
        "predictions = model.predict(X_test)\n",
        "loss, accuracy = model.evaluate(y_test, predictions)"
      ],
      "execution_count": 29,
      "outputs": [
        {
          "output_type": "stream",
          "text": [
            "128/128 [==============================] - 0s 1ms/step - loss: 1.1781 - accuracy: 0.7507\n"
          ],
          "name": "stdout"
        }
      ]
    },
    {
      "cell_type": "code",
      "metadata": {
        "colab": {
          "base_uri": "https://localhost:8080/"
        },
        "id": "7DIWLttgjqGs",
        "outputId": "1855c14e-4e76-484d-eb21-da1584cb5e48"
      },
      "source": [
        "print(\"Test Accuracy: {}%\".format(round(accuracy * 100)))"
      ],
      "execution_count": 30,
      "outputs": [
        {
          "output_type": "stream",
          "text": [
            "Test Accuracy: 75%\n"
          ],
          "name": "stdout"
        }
      ]
    }
  ]
}