{
  "nbformat": 4,
  "nbformat_minor": 0,
  "metadata": {
    "colab": {
      "name": "Keras_4821_sand.ipynb",
      "provenance": [],
      "collapsed_sections": [],
      "authorship_tag": "ABX9TyMGCl/jUJ3IPQyNHU7JbjUQ",
      "include_colab_link": true
    },
    "kernelspec": {
      "name": "python3",
      "display_name": "Python 3"
    },
    "language_info": {
      "name": "python"
    }
  },
  "cells": [
    {
      "cell_type": "markdown",
      "metadata": {
        "id": "view-in-github",
        "colab_type": "text"
      },
      "source": [
        "<a href=\"https://colab.research.google.com/github/Speedbird45Bravo/Keras_projects_21/blob/main/Keras_4821_sand.ipynb\" target=\"_parent\"><img src=\"https://colab.research.google.com/assets/colab-badge.svg\" alt=\"Open In Colab\"/></a>"
      ]
    },
    {
      "cell_type": "code",
      "metadata": {
        "id": "jM2H5RyeUONz"
      },
      "source": [
        "from keras.layers import Dense, Dropout\n",
        "from keras.models import Sequential\n",
        "from keras.utils import to_categorical\n",
        "from sklearn.model_selection import train_test_split\n",
        "import numpy as np\n",
        "import pandas as pd\n",
        "\n",
        "df = pd.read_csv(\"https://projects.fivethirtyeight.com/soccer-api/club/spi_matches.csv\").dropna()\n",
        "df = df[(df.league=='Barclays Premier League') | (df.league=='English League Championship') | (df.league=='Major League Soccer')]\n",
        "df['spi_margin'] = np.abs(df['spi1'] - df['spi2'])\n",
        "df['margin'] = np.abs(df['score1'] - df['score2'])\n",
        "df['totgoals'] = df['score1'] + df['score2']\n",
        "\n",
        "res = []\n",
        "\n",
        "for x in df['totgoals']:\n",
        "  if x > 0:\n",
        "    res.append(\"GOALS\")\n",
        "  else:\n",
        "    res.append(\"SCORELESS\")\n",
        "\n",
        "df['goals'] = res"
      ],
      "execution_count": 6,
      "outputs": []
    },
    {
      "cell_type": "code",
      "metadata": {
        "id": "GCIrB7gFUqQT"
      },
      "source": [
        "def load_model():\n",
        "  model = Sequential()\n",
        "  model.add(Dense(256, activation='relu'))\n",
        "  model.add(Dense(64, activation='relu'))\n",
        "  model.add(Dense(16, activation='relu'))\n",
        "  model.add(Dense(2, activation='softmax'))\n",
        "  model.compile(optimizer='adam', loss='categorical_crossentropy', metrics=['accuracy'])\n",
        "  return model\n",
        "\n",
        "def to_cat(array):\n",
        "  y = to_categorical(np.asarray(pd.factorize(array)[0]))\n",
        "  return y\n",
        "\n",
        "def to_df(array):\n",
        "  df = pd.DataFrame(array).reset_index(drop=True)\n",
        "  return df"
      ],
      "execution_count": 7,
      "outputs": []
    },
    {
      "cell_type": "code",
      "metadata": {
        "id": "ETh_OCVEU9mx"
      },
      "source": [
        "model = load_model()"
      ],
      "execution_count": 8,
      "outputs": []
    },
    {
      "cell_type": "code",
      "metadata": {
        "id": "aLbapr4jU_KR"
      },
      "source": [
        "X = df[['score1','score2']].reset_index(drop=True)\n",
        "y = df[['goals']].copy()\n",
        "X_train, X_test, y_train, y_test = train_test_split(X, y, test_size=0.2, random_state=6)"
      ],
      "execution_count": 13,
      "outputs": []
    },
    {
      "cell_type": "code",
      "metadata": {
        "id": "zaOJj51qVRBH"
      },
      "source": [
        "y_train = to_cat(y_train['goals'])\n",
        "y_train = to_df(y_train)\n",
        "y_test = to_cat(y_test['goals'])\n",
        "y_test = to_df(y_test)"
      ],
      "execution_count": 14,
      "outputs": []
    },
    {
      "cell_type": "code",
      "metadata": {
        "colab": {
          "base_uri": "https://localhost:8080/"
        },
        "id": "MH2I27qnVdTs",
        "outputId": "1729ee35-c23c-4443-999b-3194de831411"
      },
      "source": [
        "model.fit(X_train, y_train, epochs=40, batch_size=128, verbose=1, validation_split=0.1)"
      ],
      "execution_count": 15,
      "outputs": [
        {
          "output_type": "stream",
          "text": [
            "Epoch 1/40\n",
            "29/29 [==============================] - 0s 13ms/step - loss: 9.1854e-07 - accuracy: 1.0000 - val_loss: 7.0423e-07 - val_accuracy: 1.0000\n",
            "Epoch 2/40\n",
            "29/29 [==============================] - 0s 4ms/step - loss: 8.9633e-07 - accuracy: 1.0000 - val_loss: 6.9321e-07 - val_accuracy: 1.0000\n",
            "Epoch 3/40\n",
            "29/29 [==============================] - 0s 4ms/step - loss: 8.8412e-07 - accuracy: 1.0000 - val_loss: 6.7001e-07 - val_accuracy: 1.0000\n",
            "Epoch 4/40\n",
            "29/29 [==============================] - 0s 4ms/step - loss: 8.5723e-07 - accuracy: 1.0000 - val_loss: 6.5521e-07 - val_accuracy: 1.0000\n",
            "Epoch 5/40\n",
            "29/29 [==============================] - 0s 4ms/step - loss: 8.3730e-07 - accuracy: 1.0000 - val_loss: 6.4419e-07 - val_accuracy: 1.0000\n",
            "Epoch 6/40\n",
            "29/29 [==============================] - 0s 4ms/step - loss: 8.2436e-07 - accuracy: 1.0000 - val_loss: 6.3868e-07 - val_accuracy: 1.0000\n",
            "Epoch 7/40\n",
            "29/29 [==============================] - 0s 4ms/step - loss: 8.1286e-07 - accuracy: 1.0000 - val_loss: 6.1838e-07 - val_accuracy: 1.0000\n",
            "Epoch 8/40\n",
            "29/29 [==============================] - 0s 4ms/step - loss: 7.9139e-07 - accuracy: 1.0000 - val_loss: 6.1287e-07 - val_accuracy: 1.0000\n",
            "Epoch 9/40\n",
            "29/29 [==============================] - 0s 4ms/step - loss: 7.8044e-07 - accuracy: 1.0000 - val_loss: 6.0185e-07 - val_accuracy: 1.0000\n",
            "Epoch 10/40\n",
            "29/29 [==============================] - 0s 4ms/step - loss: 7.6801e-07 - accuracy: 1.0000 - val_loss: 5.9633e-07 - val_accuracy: 1.0000\n",
            "Epoch 11/40\n",
            "29/29 [==============================] - 0s 5ms/step - loss: 7.5093e-07 - accuracy: 1.0000 - val_loss: 5.8154e-07 - val_accuracy: 1.0000\n",
            "Epoch 12/40\n",
            "29/29 [==============================] - 0s 4ms/step - loss: 7.3779e-07 - accuracy: 1.0000 - val_loss: 5.5834e-07 - val_accuracy: 1.0000\n",
            "Epoch 13/40\n",
            "29/29 [==============================] - 0s 4ms/step - loss: 7.1516e-07 - accuracy: 1.0000 - val_loss: 5.5283e-07 - val_accuracy: 1.0000\n",
            "Epoch 14/40\n",
            "29/29 [==============================] - 0s 4ms/step - loss: 7.0379e-07 - accuracy: 1.0000 - val_loss: 5.3804e-07 - val_accuracy: 1.0000\n",
            "Epoch 15/40\n",
            "29/29 [==============================] - 0s 4ms/step - loss: 6.8645e-07 - accuracy: 1.0000 - val_loss: 5.3252e-07 - val_accuracy: 1.0000\n",
            "Epoch 16/40\n",
            "29/29 [==============================] - 0s 4ms/step - loss: 6.7625e-07 - accuracy: 1.0000 - val_loss: 5.2150e-07 - val_accuracy: 1.0000\n",
            "Epoch 17/40\n",
            "29/29 [==============================] - 0s 4ms/step - loss: 6.6634e-07 - accuracy: 1.0000 - val_loss: 5.1599e-07 - val_accuracy: 1.0000\n",
            "Epoch 18/40\n",
            "29/29 [==============================] - 0s 4ms/step - loss: 6.5384e-07 - accuracy: 1.0000 - val_loss: 5.0120e-07 - val_accuracy: 1.0000\n",
            "Epoch 19/40\n",
            "29/29 [==============================] - 0s 4ms/step - loss: 6.3912e-07 - accuracy: 1.0000 - val_loss: 4.9569e-07 - val_accuracy: 1.0000\n",
            "Epoch 20/40\n",
            "29/29 [==============================] - 0s 4ms/step - loss: 6.2972e-07 - accuracy: 1.0000 - val_loss: 4.9018e-07 - val_accuracy: 1.0000\n",
            "Epoch 21/40\n",
            "29/29 [==============================] - 0s 4ms/step - loss: 6.2136e-07 - accuracy: 1.0000 - val_loss: 4.8467e-07 - val_accuracy: 1.0000\n",
            "Epoch 22/40\n",
            "29/29 [==============================] - 0s 4ms/step - loss: 6.1032e-07 - accuracy: 1.0000 - val_loss: 4.6988e-07 - val_accuracy: 1.0000\n",
            "Epoch 23/40\n",
            "29/29 [==============================] - 0s 4ms/step - loss: 5.9475e-07 - accuracy: 1.0000 - val_loss: 4.5218e-07 - val_accuracy: 1.0000\n",
            "Epoch 24/40\n",
            "29/29 [==============================] - 0s 4ms/step - loss: 5.7548e-07 - accuracy: 1.0000 - val_loss: 4.4667e-07 - val_accuracy: 1.0000\n",
            "Epoch 25/40\n",
            "29/29 [==============================] - 0s 4ms/step - loss: 5.6702e-07 - accuracy: 1.0000 - val_loss: 4.4116e-07 - val_accuracy: 1.0000\n",
            "Epoch 26/40\n",
            "29/29 [==============================] - 0s 4ms/step - loss: 5.5937e-07 - accuracy: 1.0000 - val_loss: 4.3565e-07 - val_accuracy: 1.0000\n",
            "Epoch 27/40\n",
            "29/29 [==============================] - 0s 4ms/step - loss: 5.4467e-07 - accuracy: 1.0000 - val_loss: 4.2086e-07 - val_accuracy: 1.0000\n",
            "Epoch 28/40\n",
            "29/29 [==============================] - 0s 4ms/step - loss: 5.3525e-07 - accuracy: 1.0000 - val_loss: 4.1535e-07 - val_accuracy: 1.0000\n",
            "Epoch 29/40\n",
            "29/29 [==============================] - 0s 4ms/step - loss: 5.2750e-07 - accuracy: 1.0000 - val_loss: 4.0984e-07 - val_accuracy: 1.0000\n",
            "Epoch 30/40\n",
            "29/29 [==============================] - 0s 4ms/step - loss: 5.2020e-07 - accuracy: 1.0000 - val_loss: 4.0432e-07 - val_accuracy: 1.0000\n",
            "Epoch 31/40\n",
            "29/29 [==============================] - 0s 4ms/step - loss: 5.1297e-07 - accuracy: 1.0000 - val_loss: 3.9881e-07 - val_accuracy: 1.0000\n",
            "Epoch 32/40\n",
            "29/29 [==============================] - 0s 3ms/step - loss: 4.9879e-07 - accuracy: 1.0000 - val_loss: 3.8402e-07 - val_accuracy: 1.0000\n",
            "Epoch 33/40\n",
            "29/29 [==============================] - 0s 4ms/step - loss: 4.9104e-07 - accuracy: 1.0000 - val_loss: 3.7851e-07 - val_accuracy: 1.0000\n",
            "Epoch 34/40\n",
            "29/29 [==============================] - 0s 4ms/step - loss: 4.8368e-07 - accuracy: 1.0000 - val_loss: 3.7851e-07 - val_accuracy: 1.0000\n",
            "Epoch 35/40\n",
            "29/29 [==============================] - 0s 4ms/step - loss: 4.7671e-07 - accuracy: 1.0000 - val_loss: 3.7300e-07 - val_accuracy: 1.0000\n",
            "Epoch 36/40\n",
            "29/29 [==============================] - 0s 4ms/step - loss: 4.7080e-07 - accuracy: 1.0000 - val_loss: 3.6749e-07 - val_accuracy: 1.0000\n",
            "Epoch 37/40\n",
            "29/29 [==============================] - 0s 4ms/step - loss: 4.5924e-07 - accuracy: 1.0000 - val_loss: 3.4051e-07 - val_accuracy: 1.0000\n",
            "Epoch 38/40\n",
            "29/29 [==============================] - 0s 4ms/step - loss: 4.3874e-07 - accuracy: 1.0000 - val_loss: 3.4051e-07 - val_accuracy: 1.0000\n",
            "Epoch 39/40\n",
            "29/29 [==============================] - 0s 4ms/step - loss: 4.3079e-07 - accuracy: 1.0000 - val_loss: 3.3500e-07 - val_accuracy: 1.0000\n",
            "Epoch 40/40\n",
            "29/29 [==============================] - 0s 4ms/step - loss: 4.2582e-07 - accuracy: 1.0000 - val_loss: 3.2949e-07 - val_accuracy: 1.0000\n"
          ],
          "name": "stdout"
        },
        {
          "output_type": "execute_result",
          "data": {
            "text/plain": [
              "<tensorflow.python.keras.callbacks.History at 0x7f265ea94a50>"
            ]
          },
          "metadata": {
            "tags": []
          },
          "execution_count": 15
        }
      ]
    },
    {
      "cell_type": "code",
      "metadata": {
        "id": "nJgGpcGkV42Y"
      },
      "source": [
        "predictions = model.predict(X_test).round(0)\n",
        "pred2 = model.predict(X_train)"
      ],
      "execution_count": 16,
      "outputs": []
    },
    {
      "cell_type": "code",
      "metadata": {
        "colab": {
          "base_uri": "https://localhost:8080/"
        },
        "id": "GkjanFeXW_KI",
        "outputId": "2bd0852d-aeb2-490a-912f-f36e1f5740f5"
      },
      "source": [
        "loss2, acc2 = model.evaluate(y_train, pred2)\n",
        "loss, acc = model.evaluate(y_test, predictions)"
      ],
      "execution_count": 17,
      "outputs": [
        {
          "output_type": "stream",
          "text": [
            "129/129 [==============================] - 0s 2ms/step - loss: 0.9017 - accuracy: 0.9344\n",
            "33/33 [==============================] - 0s 1ms/step - loss: 1.1641 - accuracy: 0.9211\n"
          ],
          "name": "stdout"
        }
      ]
    },
    {
      "cell_type": "code",
      "metadata": {
        "id": "kauDbD0MXng6",
        "colab": {
          "base_uri": "https://localhost:8080/"
        },
        "outputId": "66c53686-67f0-4391-cf40-d297c6e01d6e"
      },
      "source": [
        "print(\"Train Accuracy: %.2f\" % (acc2 * 100) + \"%\")\n",
        "print(\"Test Accuracy: %.2f\" % (acc * 100) + \"%\")"
      ],
      "execution_count": 18,
      "outputs": [
        {
          "output_type": "stream",
          "text": [
            "Train Accuracy: 93.44%\n",
            "Test Accuracy: 92.11%\n"
          ],
          "name": "stdout"
        }
      ]
    }
  ]
}