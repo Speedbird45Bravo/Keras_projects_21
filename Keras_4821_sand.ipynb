{
  "nbformat": 4,
  "nbformat_minor": 0,
  "metadata": {
    "colab": {
      "name": "Keras_4821_sand.ipynb",
      "provenance": [],
      "collapsed_sections": [],
      "authorship_tag": "ABX9TyMDRGzXhauehNBmg4PhaGeC"
    },
    "kernelspec": {
      "name": "python3",
      "display_name": "Python 3"
    },
    "language_info": {
      "name": "python"
    }
  },
  "cells": [
    {
      "cell_type": "code",
      "metadata": {
        "id": "jM2H5RyeUONz"
      },
      "source": [
        "from keras.layers import Dense, Dropout\n",
        "from keras.models import Sequential\n",
        "from keras.utils import to_categorical\n",
        "from sklearn.model_selection import train_test_split\n",
        "import numpy as np\n",
        "import pandas as pd\n",
        "\n",
        "df = pd.read_csv(\"https://projects.fivethirtyeight.com/soccer-api/club/spi_matches.csv\").dropna()\n",
        "df = df[(df.league=='Barclays Premier League') | (df.league=='English League Championship') | (df.league=='Major League Soccer')]\n",
        "df['spi_margin'] = np.abs(df['spi1'] - df['spi2'])\n",
        "df['margin'] = np.abs(df['score1'] - df['score2'])\n",
        "df['totgoals'] = df['score1'] + df['score2']\n",
        "\n",
        "res = []\n",
        "\n",
        "for x in df['totgoals']:\n",
        "  if x > 0:\n",
        "    res.append(\"GOALS\")\n",
        "  else:\n",
        "    res.append(\"SCORELESS\")\n",
        "\n",
        "df['goals'] = res"
      ],
      "execution_count": 29,
      "outputs": []
    },
    {
      "cell_type": "code",
      "metadata": {
        "id": "GCIrB7gFUqQT"
      },
      "source": [
        "def load_model():\n",
        "  model = Sequential()\n",
        "  model.add(Dense(16, activation='relu'))\n",
        "  model.add(Dense(2, activation='softmax'))\n",
        "  model.compile(optimizer='adam', loss='categorical_crossentropy', metrics=['accuracy'])\n",
        "  return model\n",
        "\n",
        "def to_cat(array):\n",
        "  y = to_categorical(np.asarray(pd.factorize(array)[0]))\n",
        "  return y\n",
        "\n",
        "def to_df(array):\n",
        "  df = pd.DataFrame(array).reset_index(drop=True)\n",
        "  return df"
      ],
      "execution_count": 31,
      "outputs": []
    },
    {
      "cell_type": "code",
      "metadata": {
        "id": "ETh_OCVEU9mx"
      },
      "source": [
        "model = load_model()"
      ],
      "execution_count": 32,
      "outputs": []
    },
    {
      "cell_type": "code",
      "metadata": {
        "id": "aLbapr4jU_KR"
      },
      "source": [
        "X = df[['score1','score2']].reset_index(drop=True)\n",
        "y = df[['goals']].copy()\n",
        "X_train, X_test, y_train, y_test = train_test_split(X, y, test_size=0.2, random_state=6)"
      ],
      "execution_count": 33,
      "outputs": []
    },
    {
      "cell_type": "code",
      "metadata": {
        "id": "zaOJj51qVRBH"
      },
      "source": [
        "y_train = to_cat(y_train['goals'])\n",
        "y_train = to_df(y_train)\n",
        "y_test = to_cat(y_test['goals'])\n",
        "y_test = to_df(y_test)"
      ],
      "execution_count": 34,
      "outputs": []
    },
    {
      "cell_type": "code",
      "metadata": {
        "colab": {
          "base_uri": "https://localhost:8080/"
        },
        "id": "MH2I27qnVdTs",
        "outputId": "8d5c30ea-1d62-419f-cc3a-f5475e519e5f"
      },
      "source": [
        "model.fit(X_train, y_train, epochs=40, batch_size=128, verbose=1, validation_split=0.1)"
      ],
      "execution_count": 35,
      "outputs": [
        {
          "output_type": "stream",
          "text": [
            "Epoch 1/40\n",
            "29/29 [==============================] - 1s 9ms/step - loss: 0.4120 - accuracy: 0.9347 - val_loss: 0.2771 - val_accuracy: 0.9538\n",
            "Epoch 2/40\n",
            "29/29 [==============================] - 0s 3ms/step - loss: 0.2576 - accuracy: 0.9341 - val_loss: 0.1850 - val_accuracy: 0.9538\n",
            "Epoch 3/40\n",
            "29/29 [==============================] - 0s 2ms/step - loss: 0.1878 - accuracy: 0.9286 - val_loss: 0.1420 - val_accuracy: 0.9538\n",
            "Epoch 4/40\n",
            "29/29 [==============================] - 0s 3ms/step - loss: 0.1572 - accuracy: 0.9272 - val_loss: 0.1180 - val_accuracy: 0.9538\n",
            "Epoch 5/40\n",
            "29/29 [==============================] - 0s 2ms/step - loss: 0.1260 - accuracy: 0.9404 - val_loss: 0.1031 - val_accuracy: 0.9538\n",
            "Epoch 6/40\n",
            "29/29 [==============================] - 0s 3ms/step - loss: 0.1206 - accuracy: 0.9315 - val_loss: 0.0935 - val_accuracy: 0.9538\n",
            "Epoch 7/40\n",
            "29/29 [==============================] - 0s 3ms/step - loss: 0.1134 - accuracy: 0.9312 - val_loss: 0.0858 - val_accuracy: 0.9538\n",
            "Epoch 8/40\n",
            "29/29 [==============================] - 0s 3ms/step - loss: 0.1042 - accuracy: 0.9342 - val_loss: 0.0797 - val_accuracy: 0.9538\n",
            "Epoch 9/40\n",
            "29/29 [==============================] - 0s 3ms/step - loss: 0.0886 - accuracy: 0.9415 - val_loss: 0.0743 - val_accuracy: 0.9538\n",
            "Epoch 10/40\n",
            "29/29 [==============================] - 0s 3ms/step - loss: 0.0928 - accuracy: 0.9307 - val_loss: 0.0693 - val_accuracy: 0.9538\n",
            "Epoch 11/40\n",
            "29/29 [==============================] - 0s 3ms/step - loss: 0.0856 - accuracy: 0.9336 - val_loss: 0.0650 - val_accuracy: 0.9538\n",
            "Epoch 12/40\n",
            "29/29 [==============================] - 0s 3ms/step - loss: 0.0818 - accuracy: 0.9328 - val_loss: 0.0612 - val_accuracy: 0.9538\n",
            "Epoch 13/40\n",
            "29/29 [==============================] - 0s 3ms/step - loss: 0.0786 - accuracy: 0.9308 - val_loss: 0.0580 - val_accuracy: 0.9538\n",
            "Epoch 14/40\n",
            "29/29 [==============================] - 0s 3ms/step - loss: 0.0724 - accuracy: 0.9354 - val_loss: 0.0549 - val_accuracy: 0.9538\n",
            "Epoch 15/40\n",
            "29/29 [==============================] - 0s 3ms/step - loss: 0.0689 - accuracy: 0.9335 - val_loss: 0.0521 - val_accuracy: 0.9538\n",
            "Epoch 16/40\n",
            "29/29 [==============================] - 0s 3ms/step - loss: 0.0709 - accuracy: 0.9283 - val_loss: 0.0494 - val_accuracy: 0.9538\n",
            "Epoch 17/40\n",
            "29/29 [==============================] - 0s 3ms/step - loss: 0.0600 - accuracy: 0.9366 - val_loss: 0.0472 - val_accuracy: 0.9538\n",
            "Epoch 18/40\n",
            "29/29 [==============================] - 0s 3ms/step - loss: 0.0617 - accuracy: 0.9316 - val_loss: 0.0452 - val_accuracy: 0.9538\n",
            "Epoch 19/40\n",
            "29/29 [==============================] - 0s 3ms/step - loss: 0.0602 - accuracy: 0.9552 - val_loss: 0.0435 - val_accuracy: 1.0000\n",
            "Epoch 20/40\n",
            "29/29 [==============================] - 0s 3ms/step - loss: 0.0587 - accuracy: 1.0000 - val_loss: 0.0420 - val_accuracy: 1.0000\n",
            "Epoch 21/40\n",
            "29/29 [==============================] - 0s 3ms/step - loss: 0.0522 - accuracy: 1.0000 - val_loss: 0.0405 - val_accuracy: 1.0000\n",
            "Epoch 22/40\n",
            "29/29 [==============================] - 0s 3ms/step - loss: 0.0531 - accuracy: 1.0000 - val_loss: 0.0392 - val_accuracy: 1.0000\n",
            "Epoch 23/40\n",
            "29/29 [==============================] - 0s 3ms/step - loss: 0.0509 - accuracy: 1.0000 - val_loss: 0.0380 - val_accuracy: 1.0000\n",
            "Epoch 24/40\n",
            "29/29 [==============================] - 0s 2ms/step - loss: 0.0514 - accuracy: 1.0000 - val_loss: 0.0368 - val_accuracy: 1.0000\n",
            "Epoch 25/40\n",
            "29/29 [==============================] - 0s 3ms/step - loss: 0.0533 - accuracy: 1.0000 - val_loss: 0.0357 - val_accuracy: 1.0000\n",
            "Epoch 26/40\n",
            "29/29 [==============================] - 0s 3ms/step - loss: 0.0498 - accuracy: 1.0000 - val_loss: 0.0346 - val_accuracy: 1.0000\n",
            "Epoch 27/40\n",
            "29/29 [==============================] - 0s 3ms/step - loss: 0.0491 - accuracy: 1.0000 - val_loss: 0.0335 - val_accuracy: 1.0000\n",
            "Epoch 28/40\n",
            "29/29 [==============================] - 0s 3ms/step - loss: 0.0453 - accuracy: 1.0000 - val_loss: 0.0326 - val_accuracy: 1.0000\n",
            "Epoch 29/40\n",
            "29/29 [==============================] - 0s 3ms/step - loss: 0.0446 - accuracy: 1.0000 - val_loss: 0.0316 - val_accuracy: 1.0000\n",
            "Epoch 30/40\n",
            "29/29 [==============================] - 0s 3ms/step - loss: 0.0433 - accuracy: 1.0000 - val_loss: 0.0307 - val_accuracy: 1.0000\n",
            "Epoch 31/40\n",
            "29/29 [==============================] - 0s 3ms/step - loss: 0.0394 - accuracy: 1.0000 - val_loss: 0.0298 - val_accuracy: 1.0000\n",
            "Epoch 32/40\n",
            "29/29 [==============================] - 0s 3ms/step - loss: 0.0420 - accuracy: 1.0000 - val_loss: 0.0290 - val_accuracy: 1.0000\n",
            "Epoch 33/40\n",
            "29/29 [==============================] - 0s 3ms/step - loss: 0.0412 - accuracy: 1.0000 - val_loss: 0.0281 - val_accuracy: 1.0000\n",
            "Epoch 34/40\n",
            "29/29 [==============================] - 0s 3ms/step - loss: 0.0367 - accuracy: 1.0000 - val_loss: 0.0274 - val_accuracy: 1.0000\n",
            "Epoch 35/40\n",
            "29/29 [==============================] - 0s 3ms/step - loss: 0.0375 - accuracy: 1.0000 - val_loss: 0.0266 - val_accuracy: 1.0000\n",
            "Epoch 36/40\n",
            "29/29 [==============================] - 0s 3ms/step - loss: 0.0345 - accuracy: 1.0000 - val_loss: 0.0258 - val_accuracy: 1.0000\n",
            "Epoch 37/40\n",
            "29/29 [==============================] - 0s 3ms/step - loss: 0.0316 - accuracy: 1.0000 - val_loss: 0.0251 - val_accuracy: 1.0000\n",
            "Epoch 38/40\n",
            "29/29 [==============================] - 0s 3ms/step - loss: 0.0353 - accuracy: 1.0000 - val_loss: 0.0244 - val_accuracy: 1.0000\n",
            "Epoch 39/40\n",
            "29/29 [==============================] - 0s 3ms/step - loss: 0.0335 - accuracy: 1.0000 - val_loss: 0.0237 - val_accuracy: 1.0000\n",
            "Epoch 40/40\n",
            "29/29 [==============================] - 0s 3ms/step - loss: 0.0323 - accuracy: 1.0000 - val_loss: 0.0231 - val_accuracy: 1.0000\n"
          ],
          "name": "stdout"
        },
        {
          "output_type": "execute_result",
          "data": {
            "text/plain": [
              "<tensorflow.python.keras.callbacks.History at 0x7f265eade950>"
            ]
          },
          "metadata": {
            "tags": []
          },
          "execution_count": 35
        }
      ]
    },
    {
      "cell_type": "code",
      "metadata": {
        "id": "nJgGpcGkV42Y"
      },
      "source": [
        "predictions = model.predict(X_test).round(0)\n",
        "pred2 = model.predict(X_train)"
      ],
      "execution_count": 36,
      "outputs": []
    },
    {
      "cell_type": "code",
      "metadata": {
        "colab": {
          "base_uri": "https://localhost:8080/"
        },
        "id": "GkjanFeXW_KI",
        "outputId": "6afa15f7-5ae7-47e6-bfeb-1e6986b72074"
      },
      "source": [
        "loss2, acc2 = model.evaluate(y_train, pred2)\n",
        "loss, acc = model.evaluate(y_test, predictions)"
      ],
      "execution_count": 37,
      "outputs": [
        {
          "output_type": "stream",
          "text": [
            "129/129 [==============================] - 0s 1ms/step - loss: 0.1822 - accuracy: 0.9344\n",
            "33/33 [==============================] - 0s 1ms/step - loss: 0.3788 - accuracy: 0.9211\n"
          ],
          "name": "stdout"
        }
      ]
    },
    {
      "cell_type": "code",
      "metadata": {
        "id": "kauDbD0MXng6",
        "colab": {
          "base_uri": "https://localhost:8080/"
        },
        "outputId": "61704c88-8733-45f2-a89a-c1a4de592b22"
      },
      "source": [
        "print(\"Train Prediction Accuracy: %.2f\" % (acc2 * 100) + \"%\")\n",
        "print(\"Test Prediction Accuracy: %.2f\" % (acc * 100) + \"%\")"
      ],
      "execution_count": 38,
      "outputs": [
        {
          "output_type": "stream",
          "text": [
            "Train Prediction Accuracy: 93.44%\n",
            "Test Prediction Accuracy: 92.11%\n"
          ],
          "name": "stdout"
        }
      ]
    }
  ]
}