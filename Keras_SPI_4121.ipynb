{
  "nbformat": 4,
  "nbformat_minor": 0,
  "metadata": {
    "colab": {
      "name": "Keras_SPI_4121.ipynb",
      "provenance": [],
      "collapsed_sections": []
    },
    "kernelspec": {
      "name": "python3",
      "display_name": "Python 3"
    },
    "language_info": {
      "name": "python"
    }
  },
  "cells": [
    {
      "cell_type": "code",
      "metadata": {
        "id": "ipsY4ETEii7U"
      },
      "source": [
        "from keras.layers import Dense\n",
        "from keras.models import Sequential\n",
        "from keras.utils import to_categorical\n",
        "from sklearn.model_selection import train_test_split\n",
        "import numpy as np\n",
        "import pandas as pd\n",
        "\n",
        "# This is a swing at a custom neural network predicting soccer game results based on scores.\n",
        "# I've been in Keras for a few months, but am just starting to understand my way around.\n",
        "df = pd.read_csv(\"https://projects.fivethirtyeight.com/soccer-api/club/spi_matches.csv\").dropna()\n",
        "\n",
        "# We need to calculate one team's aggregate margin in order to determine the result.\n",
        "# We've chosen home for that calculation, but may as well get away as well for good measure.\n",
        "# Then, the absolute margin is the number of goals between the teams.\n",
        "df['h_marg'] = df['score1'] - df['score2']\n",
        "df['a_marg'] = df['score2'] - df['score1']\n",
        "df['margin'] = np.abs(df['score1'] - df['score2'])\n",
        "\n",
        "results = []\n",
        "\n",
        "for i in df['h_marg']:\n",
        "  if i > 0: # If the home team's margin is greater than 0, it's a home win.\n",
        "    results.append(\"HOME WIN\")\n",
        "  elif i < 0: # If the home team's margin is less than 0, it's an away win.\n",
        "    results.append(\"AWAY WIN\")\n",
        "  else: # Otherwise, it's a draw.\n",
        "    results.append(\"DRAW\")\n",
        "\n",
        "df['result'] = results"
      ],
      "execution_count": 1,
      "outputs": []
    },
    {
      "cell_type": "code",
      "metadata": {
        "id": "t1SHdtXTr0Y6"
      },
      "source": [
        "# The model gets a little confused the more numerical rows are fed into it, so we're keeping it simple.\n",
        "X = df[['score1', 'score2', 'h_marg', 'a_marg', 'margin']].reset_index(drop=True)\n",
        "y = df[['result']].copy()\n",
        "X_train, X_test, y_train, y_test = train_test_split(X, y, test_size=0.4, random_state=6)"
      ],
      "execution_count": 2,
      "outputs": []
    },
    {
      "cell_type": "code",
      "metadata": {
        "id": "zf8bCj8SD5R4"
      },
      "source": [
        "# Have to factorize the labels before converting them to categorical (e.g. 1.,0.,0.).\n",
        "y_train = to_categorical(pd.factorize(y_train['result'])[0])\n",
        "y_test = to_categorical(pd.factorize(y_test['result'])[0])\n",
        "\n",
        "# The train and test data will be easier to handle in array form.\n",
        "X_train = np.asarray(X_train)\n",
        "X_test = np.asarray(X_test)"
      ],
      "execution_count": 3,
      "outputs": []
    },
    {
      "cell_type": "code",
      "metadata": {
        "id": "jq9DJLDYD90V"
      },
      "source": [
        "# Three layers with a 3 unit output layer given the number of outcomes (HOME WIN, AWAY WIN, DRAW).\n",
        "model = Sequential()\n",
        "model.add(Dense(16, activation='relu'))\n",
        "model.add(Dense(3, activation='softmax'))\n",
        "model.compile(optimizer='rmsprop', loss='categorical_crossentropy', metrics=['accuracy'])"
      ],
      "execution_count": 4,
      "outputs": []
    },
    {
      "cell_type": "code",
      "metadata": {
        "colab": {
          "base_uri": "https://localhost:8080/"
        },
        "id": "KF8WnMkZD-Km",
        "outputId": "0848fad3-1461-44c7-b10c-92ab7e58e5d2"
      },
      "source": [
        "# Definitely excessive on the epochs. ¯\\_(ツ)_/¯\n",
        "model.fit(X_train, y_train, epochs=40, batch_size=128, validation_split=0.2, verbose=1)"
      ],
      "execution_count": 5,
      "outputs": [
        {
          "output_type": "stream",
          "text": [
            "Epoch 1/40\n",
            "75/75 [==============================] - 1s 8ms/step - loss: 0.5550 - accuracy: 0.7398 - val_loss: 0.3410 - val_accuracy: 0.9261\n",
            "Epoch 2/40\n",
            "75/75 [==============================] - 0s 2ms/step - loss: 0.2864 - accuracy: 0.9954 - val_loss: 0.1885 - val_accuracy: 1.0000\n",
            "Epoch 3/40\n",
            "75/75 [==============================] - 0s 2ms/step - loss: 0.1581 - accuracy: 0.9995 - val_loss: 0.1048 - val_accuracy: 1.0000\n",
            "Epoch 4/40\n",
            "75/75 [==============================] - 0s 2ms/step - loss: 0.0913 - accuracy: 0.9998 - val_loss: 0.0602 - val_accuracy: 1.0000\n",
            "Epoch 5/40\n",
            "75/75 [==============================] - 0s 2ms/step - loss: 0.0528 - accuracy: 0.9998 - val_loss: 0.0346 - val_accuracy: 1.0000\n",
            "Epoch 6/40\n",
            "75/75 [==============================] - 0s 2ms/step - loss: 0.0289 - accuracy: 0.9998 - val_loss: 0.0189 - val_accuracy: 1.0000\n",
            "Epoch 7/40\n",
            "75/75 [==============================] - 0s 2ms/step - loss: 0.0155 - accuracy: 1.0000 - val_loss: 0.0096 - val_accuracy: 1.0000\n",
            "Epoch 8/40\n",
            "75/75 [==============================] - 0s 2ms/step - loss: 0.0079 - accuracy: 1.0000 - val_loss: 0.0044 - val_accuracy: 1.0000\n",
            "Epoch 9/40\n",
            "75/75 [==============================] - 0s 2ms/step - loss: 0.0036 - accuracy: 1.0000 - val_loss: 0.0019 - val_accuracy: 1.0000\n",
            "Epoch 10/40\n",
            "75/75 [==============================] - 0s 2ms/step - loss: 0.0014 - accuracy: 1.0000 - val_loss: 7.2746e-04 - val_accuracy: 1.0000\n",
            "Epoch 11/40\n",
            "75/75 [==============================] - 0s 2ms/step - loss: 5.4174e-04 - accuracy: 1.0000 - val_loss: 2.5693e-04 - val_accuracy: 1.0000\n",
            "Epoch 12/40\n",
            "75/75 [==============================] - 0s 2ms/step - loss: 1.9403e-04 - accuracy: 1.0000 - val_loss: 8.3552e-05 - val_accuracy: 1.0000\n",
            "Epoch 13/40\n",
            "75/75 [==============================] - 0s 2ms/step - loss: 5.8857e-05 - accuracy: 1.0000 - val_loss: 2.5070e-05 - val_accuracy: 1.0000\n",
            "Epoch 14/40\n",
            "75/75 [==============================] - 0s 2ms/step - loss: 1.8424e-05 - accuracy: 1.0000 - val_loss: 7.1740e-06 - val_accuracy: 1.0000\n",
            "Epoch 15/40\n",
            "75/75 [==============================] - 0s 2ms/step - loss: 5.1906e-06 - accuracy: 1.0000 - val_loss: 2.0289e-06 - val_accuracy: 1.0000\n",
            "Epoch 16/40\n",
            "75/75 [==============================] - 0s 2ms/step - loss: 1.4653e-06 - accuracy: 1.0000 - val_loss: 5.5950e-07 - val_accuracy: 1.0000\n",
            "Epoch 17/40\n",
            "75/75 [==============================] - 0s 2ms/step - loss: 4.2245e-07 - accuracy: 1.0000 - val_loss: 1.9556e-07 - val_accuracy: 1.0000\n",
            "Epoch 18/40\n",
            "75/75 [==============================] - 0s 2ms/step - loss: 1.5081e-07 - accuracy: 1.0000 - val_loss: 7.1095e-08 - val_accuracy: 1.0000\n",
            "Epoch 19/40\n",
            "75/75 [==============================] - 0s 2ms/step - loss: 5.7276e-08 - accuracy: 1.0000 - val_loss: 3.5698e-08 - val_accuracy: 1.0000\n",
            "Epoch 20/40\n",
            "75/75 [==============================] - 0s 2ms/step - loss: 2.7544e-08 - accuracy: 1.0000 - val_loss: 1.8074e-08 - val_accuracy: 1.0000\n",
            "Epoch 21/40\n",
            "75/75 [==============================] - 0s 2ms/step - loss: 1.6087e-08 - accuracy: 1.0000 - val_loss: 1.7624e-08 - val_accuracy: 1.0000\n",
            "Epoch 22/40\n",
            "75/75 [==============================] - 0s 2ms/step - loss: 1.5887e-08 - accuracy: 1.0000 - val_loss: 8.8118e-09 - val_accuracy: 1.0000\n",
            "Epoch 23/40\n",
            "75/75 [==============================] - 0s 2ms/step - loss: 9.0424e-09 - accuracy: 1.0000 - val_loss: 8.8118e-09 - val_accuracy: 1.0000\n",
            "Epoch 24/40\n",
            "75/75 [==============================] - 0s 2ms/step - loss: 8.7191e-09 - accuracy: 1.0000 - val_loss: 8.8118e-09 - val_accuracy: 1.0000\n",
            "Epoch 25/40\n",
            "75/75 [==============================] - 0s 2ms/step - loss: 8.3913e-09 - accuracy: 1.0000 - val_loss: 8.8118e-09 - val_accuracy: 1.0000\n",
            "Epoch 26/40\n",
            "75/75 [==============================] - 0s 2ms/step - loss: 8.1436e-09 - accuracy: 1.0000 - val_loss: 8.8118e-09 - val_accuracy: 1.0000\n",
            "Epoch 27/40\n",
            "75/75 [==============================] - 0s 2ms/step - loss: 7.9455e-09 - accuracy: 1.0000 - val_loss: 8.8118e-09 - val_accuracy: 1.0000\n",
            "Epoch 28/40\n",
            "75/75 [==============================] - 0s 2ms/step - loss: 7.9126e-09 - accuracy: 1.0000 - val_loss: 0.0000e+00 - val_accuracy: 1.0000\n",
            "Epoch 29/40\n",
            "75/75 [==============================] - 0s 2ms/step - loss: 0.0000e+00 - accuracy: 1.0000 - val_loss: 0.0000e+00 - val_accuracy: 1.0000\n",
            "Epoch 30/40\n",
            "75/75 [==============================] - 0s 2ms/step - loss: 0.0000e+00 - accuracy: 1.0000 - val_loss: 0.0000e+00 - val_accuracy: 1.0000\n",
            "Epoch 31/40\n",
            "75/75 [==============================] - 0s 2ms/step - loss: 0.0000e+00 - accuracy: 1.0000 - val_loss: 0.0000e+00 - val_accuracy: 1.0000\n",
            "Epoch 32/40\n",
            "75/75 [==============================] - 0s 2ms/step - loss: 0.0000e+00 - accuracy: 1.0000 - val_loss: 0.0000e+00 - val_accuracy: 1.0000\n",
            "Epoch 33/40\n",
            "75/75 [==============================] - 0s 2ms/step - loss: 0.0000e+00 - accuracy: 1.0000 - val_loss: 0.0000e+00 - val_accuracy: 1.0000\n",
            "Epoch 34/40\n",
            "75/75 [==============================] - 0s 2ms/step - loss: 0.0000e+00 - accuracy: 1.0000 - val_loss: 0.0000e+00 - val_accuracy: 1.0000\n",
            "Epoch 35/40\n",
            "75/75 [==============================] - 0s 2ms/step - loss: 0.0000e+00 - accuracy: 1.0000 - val_loss: 0.0000e+00 - val_accuracy: 1.0000\n",
            "Epoch 36/40\n",
            "75/75 [==============================] - 0s 2ms/step - loss: 0.0000e+00 - accuracy: 1.0000 - val_loss: 0.0000e+00 - val_accuracy: 1.0000\n",
            "Epoch 37/40\n",
            "75/75 [==============================] - 0s 2ms/step - loss: 0.0000e+00 - accuracy: 1.0000 - val_loss: 0.0000e+00 - val_accuracy: 1.0000\n",
            "Epoch 38/40\n",
            "75/75 [==============================] - 0s 2ms/step - loss: 0.0000e+00 - accuracy: 1.0000 - val_loss: 0.0000e+00 - val_accuracy: 1.0000\n",
            "Epoch 39/40\n",
            "75/75 [==============================] - 0s 2ms/step - loss: 0.0000e+00 - accuracy: 1.0000 - val_loss: 0.0000e+00 - val_accuracy: 1.0000\n",
            "Epoch 40/40\n",
            "75/75 [==============================] - 0s 2ms/step - loss: 0.0000e+00 - accuracy: 1.0000 - val_loss: 0.0000e+00 - val_accuracy: 1.0000\n"
          ],
          "name": "stdout"
        },
        {
          "output_type": "execute_result",
          "data": {
            "text/plain": [
              "<tensorflow.python.keras.callbacks.History at 0x7fbec3c202d0>"
            ]
          },
          "metadata": {
            "tags": []
          },
          "execution_count": 5
        }
      ]
    },
    {
      "cell_type": "code",
      "metadata": {
        "id": "-8_qMHJaEHDH"
      },
      "source": [
        "# Now we will predict results based on test data.\n",
        "predictions = model.predict(X_test).round(2)"
      ],
      "execution_count": 6,
      "outputs": []
    },
    {
      "cell_type": "code",
      "metadata": {
        "id": "hbykGDS5EJYG"
      },
      "source": [
        "# Reshaping y_test and predictions to be directly compared 1v1 iteratively.\n",
        "predictions = predictions.reshape(23814,)\n",
        "predictions = pd.Series(predictions)\n",
        "predictions = pd.DataFrame(predictions).reset_index(drop=True)\n",
        "y_test = y_test.reshape(23814,)\n",
        "y_test = pd.Series(y_test)\n",
        "y_test = pd.DataFrame(y_test).reset_index(drop=True)\n",
        "PvA = pd.concat([y_test, predictions], axis=1)\n",
        "PvA.columns = [\"Predicted\", \"Actual\"]"
      ],
      "execution_count": 7,
      "outputs": []
    },
    {
      "cell_type": "code",
      "metadata": {
        "id": "e_LV-1FeELB2"
      },
      "source": [
        "# If the margin is 0, there is no error. If the margin is 1, there was an error.\n",
        "PvA['Margin'] = np.abs(PvA['Predicted'] - PvA['Actual'])"
      ],
      "execution_count": 8,
      "outputs": []
    },
    {
      "cell_type": "code",
      "metadata": {
        "id": "lPukn4BtEMdW"
      },
      "source": [
        "# Sum of all of the rows with errors.\n",
        "PvA_err = np.sum(PvA['Margin'])"
      ],
      "execution_count": 9,
      "outputs": []
    },
    {
      "cell_type": "code",
      "metadata": {
        "id": "eOmWvh2oEOAF"
      },
      "source": [
        "# Length of the prediction set.\n",
        "PvA_len = len(PvA)"
      ],
      "execution_count": 10,
      "outputs": []
    },
    {
      "cell_type": "code",
      "metadata": {
        "id": "l8ZBN5s5EWP2"
      },
      "source": [
        "# Accuracy metric.\n",
        "PvA_acc = 1-(PvA_err/PvA_len)"
      ],
      "execution_count": 11,
      "outputs": []
    },
    {
      "cell_type": "code",
      "metadata": {
        "colab": {
          "base_uri": "https://localhost:8080/"
        },
        "id": "bQYkTfgOEa-V",
        "outputId": "e2c1ac13-5b3e-49f4-d231-36641557ddb0"
      },
      "source": [
        "# AORTD = Accuracy on Random Test Data\n",
        "print(\"AORTD: %.2f\" % (PvA_acc * 100) + \"%\")"
      ],
      "execution_count": 12,
      "outputs": [
        {
          "output_type": "stream",
          "text": [
            "AORTD: 100.00%\n"
          ],
          "name": "stdout"
        }
      ]
    }
  ]
}