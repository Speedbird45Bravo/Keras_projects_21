{
  "nbformat": 4,
  "nbformat_minor": 0,
  "metadata": {
    "colab": {
      "name": "Keras_SPI_4121.ipynb",
      "provenance": [],
      "collapsed_sections": [],
      "authorship_tag": "ABX9TyOqtrgzRxPjeZOxZ+5s6ogF"
    },
    "kernelspec": {
      "name": "python3",
      "display_name": "Python 3"
    },
    "language_info": {
      "name": "python"
    }
  },
  "cells": [
    {
      "cell_type": "code",
      "metadata": {
        "id": "ipsY4ETEii7U"
      },
      "source": [
        "from keras.layers import Dense\n",
        "from keras.models import Sequential\n",
        "from keras.utils import to_categorical\n",
        "from sklearn.model_selection import train_test_split\n",
        "import numpy as np\n",
        "import pandas as pd\n",
        "\n",
        "# This is a swing at a custom neural network predicting soccer game results based on scores.\n",
        "# I've been in Keras for a few months, but am just starting to understand my way around.\n",
        "df = pd.read_csv(\"https://projects.fivethirtyeight.com/soccer-api/club/spi_matches.csv\").dropna()\n",
        "\n",
        "# We need to calculate one team's aggregate margin in order to determine the result.\n",
        "# We've chosen home for that calculation, but may as well get away as well for good measure.\n",
        "# Then, the absolute margin is the number of goals between the teams.\n",
        "df['h_marg'] = df['score1'] - df['score2']\n",
        "df['a_marg'] = df['score2'] - df['score1']\n",
        "df['margin'] = np.abs(df['score1'] - df['score2'])\n",
        "\n",
        "results = []\n",
        "\n",
        "for i in df['h_marg']:\n",
        "  if i > 0: # If the home team's margin is greater than 0, it's a home win.\n",
        "    results.append(\"HOME WIN\")\n",
        "  elif i < 0: # If the home team's margin is less than 0, it's an away win.\n",
        "    results.append(\"AWAY WIN\")\n",
        "  else: # Otherwise, it's a draw.\n",
        "    results.append(\"DRAW\")\n",
        "\n",
        "df['result'] = results"
      ],
      "execution_count": 25,
      "outputs": []
    },
    {
      "cell_type": "code",
      "metadata": {
        "id": "t1SHdtXTr0Y6"
      },
      "source": [
        "# The model gets a little confused the more numerical rows are fed into it, so we're keeping it simple.\n",
        "X = df[['score1', 'score2', 'h_marg', 'a_marg', 'margin']].reset_index(drop=True)\n",
        "\n",
        "# Have to factorize the labels before converting them to categorical (e.g. 1.,0.,0.).\n",
        "y = df[['result']].copy()\n",
        "\n",
        "# Train-Test Split\n",
        "X_train, X_test, y_train, y_test = train_test_split(X, y, test_size=0.4, random_state=6)"
      ],
      "execution_count": 26,
      "outputs": []
    },
    {
      "cell_type": "code",
      "metadata": {
        "id": "zf8bCj8SD5R4"
      },
      "source": [
        "# Have to factorize the labels before converting them to categorical (e.g. 1.,0.,0.).\n",
        "y_train = to_categorical(pd.factorize(y_train['result'])[0])\n",
        "y_test = to_categorical(pd.factorize(y_test['result'])[0])\n",
        "\n",
        "# The train and test data will be easier to handle in array form.\n",
        "X_train = np.asarray(X_train)\n",
        "X_test = np.asarray(X_test)"
      ],
      "execution_count": 27,
      "outputs": []
    },
    {
      "cell_type": "code",
      "metadata": {
        "id": "jq9DJLDYD90V"
      },
      "source": [
        "# Three layers with a 3 unit output layer given the number of outcomes (HOME WIN, AWAY WIN, DRAW).\n",
        "model = Sequential()\n",
        "model.add(Dense(16, activation='relu'))\n",
        "model.add(Dense(3, activation='softmax'))\n",
        "model.compile(optimizer='rmsprop', loss='categorical_crossentropy', metrics=['accuracy'])"
      ],
      "execution_count": 28,
      "outputs": []
    },
    {
      "cell_type": "code",
      "metadata": {
        "colab": {
          "base_uri": "https://localhost:8080/"
        },
        "id": "KF8WnMkZD-Km",
        "outputId": "d62a4bd7-8259-40c4-bfd8-462f142ea460"
      },
      "source": [
        "# Definitely excess on the epochs. ¯\\_(ツ)_/¯\n",
        "model.fit(X_train, y_train, epochs=40, batch_size=128, validation_split=0.2, verbose=1)"
      ],
      "execution_count": 29,
      "outputs": [
        {
          "output_type": "stream",
          "text": [
            "Epoch 1/40\n",
            "75/75 [==============================] - 1s 5ms/step - loss: 1.4946 - accuracy: 0.3116 - val_loss: 0.6594 - val_accuracy: 0.8807\n",
            "Epoch 2/40\n",
            "75/75 [==============================] - 0s 2ms/step - loss: 0.5348 - accuracy: 0.9375 - val_loss: 0.3077 - val_accuracy: 1.0000\n",
            "Epoch 3/40\n",
            "75/75 [==============================] - 0s 2ms/step - loss: 0.2527 - accuracy: 0.9997 - val_loss: 0.1569 - val_accuracy: 1.0000\n",
            "Epoch 4/40\n",
            "75/75 [==============================] - 0s 2ms/step - loss: 0.1290 - accuracy: 1.0000 - val_loss: 0.0816 - val_accuracy: 0.9996\n",
            "Epoch 5/40\n",
            "75/75 [==============================] - 0s 3ms/step - loss: 0.0641 - accuracy: 1.0000 - val_loss: 0.0412 - val_accuracy: 1.0000\n",
            "Epoch 6/40\n",
            "75/75 [==============================] - 0s 2ms/step - loss: 0.0317 - accuracy: 1.0000 - val_loss: 0.0197 - val_accuracy: 1.0000\n",
            "Epoch 7/40\n",
            "75/75 [==============================] - 0s 2ms/step - loss: 0.0150 - accuracy: 1.0000 - val_loss: 0.0086 - val_accuracy: 1.0000\n",
            "Epoch 8/40\n",
            "75/75 [==============================] - 0s 2ms/step - loss: 0.0067 - accuracy: 1.0000 - val_loss: 0.0035 - val_accuracy: 1.0000\n",
            "Epoch 9/40\n",
            "75/75 [==============================] - 0s 2ms/step - loss: 0.0025 - accuracy: 1.0000 - val_loss: 0.0013 - val_accuracy: 1.0000\n",
            "Epoch 10/40\n",
            "75/75 [==============================] - 0s 2ms/step - loss: 8.7816e-04 - accuracy: 1.0000 - val_loss: 4.1907e-04 - val_accuracy: 1.0000\n",
            "Epoch 11/40\n",
            "75/75 [==============================] - 0s 3ms/step - loss: 3.1104e-04 - accuracy: 1.0000 - val_loss: 1.3078e-04 - val_accuracy: 1.0000\n",
            "Epoch 12/40\n",
            "75/75 [==============================] - 0s 2ms/step - loss: 9.6020e-05 - accuracy: 1.0000 - val_loss: 3.6952e-05 - val_accuracy: 1.0000\n",
            "Epoch 13/40\n",
            "75/75 [==============================] - 0s 3ms/step - loss: 2.4320e-05 - accuracy: 1.0000 - val_loss: 9.5651e-06 - val_accuracy: 1.0000\n",
            "Epoch 14/40\n",
            "75/75 [==============================] - 0s 3ms/step - loss: 6.4839e-06 - accuracy: 1.0000 - val_loss: 2.4654e-06 - val_accuracy: 1.0000\n",
            "Epoch 15/40\n",
            "75/75 [==============================] - 0s 2ms/step - loss: 1.6764e-06 - accuracy: 1.0000 - val_loss: 6.6313e-07 - val_accuracy: 1.0000\n",
            "Epoch 16/40\n",
            "75/75 [==============================] - 0s 2ms/step - loss: 4.7253e-07 - accuracy: 1.0000 - val_loss: 1.9831e-07 - val_accuracy: 1.0000\n",
            "Epoch 17/40\n",
            "75/75 [==============================] - 0s 2ms/step - loss: 1.3711e-07 - accuracy: 1.0000 - val_loss: 7.0294e-08 - val_accuracy: 1.0000\n",
            "Epoch 18/40\n",
            "75/75 [==============================] - 0s 2ms/step - loss: 5.3838e-08 - accuracy: 1.0000 - val_loss: 3.5447e-08 - val_accuracy: 1.0000\n",
            "Epoch 19/40\n",
            "75/75 [==============================] - 0s 3ms/step - loss: 3.0087e-08 - accuracy: 1.0000 - val_loss: 2.6135e-08 - val_accuracy: 1.0000\n",
            "Epoch 20/40\n",
            "75/75 [==============================] - 0s 3ms/step - loss: 2.1968e-08 - accuracy: 1.0000 - val_loss: 8.7116e-09 - val_accuracy: 1.0000\n",
            "Epoch 21/40\n",
            "75/75 [==============================] - 0s 2ms/step - loss: 8.3485e-09 - accuracy: 1.0000 - val_loss: 8.7116e-09 - val_accuracy: 1.0000\n",
            "Epoch 22/40\n",
            "75/75 [==============================] - 0s 3ms/step - loss: 7.9812e-09 - accuracy: 1.0000 - val_loss: 8.7116e-09 - val_accuracy: 1.0000\n",
            "Epoch 23/40\n",
            "75/75 [==============================] - 0s 2ms/step - loss: 7.8676e-09 - accuracy: 1.0000 - val_loss: 8.7116e-09 - val_accuracy: 1.0000\n",
            "Epoch 24/40\n",
            "75/75 [==============================] - 0s 3ms/step - loss: 8.1973e-09 - accuracy: 1.0000 - val_loss: 8.7116e-09 - val_accuracy: 1.0000\n",
            "Epoch 25/40\n",
            "75/75 [==============================] - 0s 3ms/step - loss: 8.0880e-09 - accuracy: 1.0000 - val_loss: 8.7116e-09 - val_accuracy: 1.0000\n",
            "Epoch 26/40\n",
            "75/75 [==============================] - 0s 2ms/step - loss: 2.2354e-09 - accuracy: 1.0000 - val_loss: 0.0000e+00 - val_accuracy: 1.0000\n",
            "Epoch 27/40\n",
            "75/75 [==============================] - 0s 3ms/step - loss: 0.0000e+00 - accuracy: 1.0000 - val_loss: 0.0000e+00 - val_accuracy: 1.0000\n",
            "Epoch 28/40\n",
            "75/75 [==============================] - 0s 2ms/step - loss: 0.0000e+00 - accuracy: 1.0000 - val_loss: 0.0000e+00 - val_accuracy: 1.0000\n",
            "Epoch 29/40\n",
            "75/75 [==============================] - 0s 2ms/step - loss: 0.0000e+00 - accuracy: 1.0000 - val_loss: 0.0000e+00 - val_accuracy: 1.0000\n",
            "Epoch 30/40\n",
            "75/75 [==============================] - 0s 2ms/step - loss: 0.0000e+00 - accuracy: 1.0000 - val_loss: 0.0000e+00 - val_accuracy: 1.0000\n",
            "Epoch 31/40\n",
            "75/75 [==============================] - 0s 3ms/step - loss: 0.0000e+00 - accuracy: 1.0000 - val_loss: 0.0000e+00 - val_accuracy: 1.0000\n",
            "Epoch 32/40\n",
            "75/75 [==============================] - 0s 3ms/step - loss: 0.0000e+00 - accuracy: 1.0000 - val_loss: 0.0000e+00 - val_accuracy: 1.0000\n",
            "Epoch 33/40\n",
            "75/75 [==============================] - 0s 2ms/step - loss: 0.0000e+00 - accuracy: 1.0000 - val_loss: 0.0000e+00 - val_accuracy: 1.0000\n",
            "Epoch 34/40\n",
            "75/75 [==============================] - 0s 3ms/step - loss: 0.0000e+00 - accuracy: 1.0000 - val_loss: 0.0000e+00 - val_accuracy: 1.0000\n",
            "Epoch 35/40\n",
            "75/75 [==============================] - 0s 3ms/step - loss: 0.0000e+00 - accuracy: 1.0000 - val_loss: 0.0000e+00 - val_accuracy: 1.0000\n",
            "Epoch 36/40\n",
            "75/75 [==============================] - 0s 3ms/step - loss: 0.0000e+00 - accuracy: 1.0000 - val_loss: 0.0000e+00 - val_accuracy: 1.0000\n",
            "Epoch 37/40\n",
            "75/75 [==============================] - 0s 3ms/step - loss: 0.0000e+00 - accuracy: 1.0000 - val_loss: 0.0000e+00 - val_accuracy: 1.0000\n",
            "Epoch 38/40\n",
            "75/75 [==============================] - 0s 2ms/step - loss: 0.0000e+00 - accuracy: 1.0000 - val_loss: 0.0000e+00 - val_accuracy: 1.0000\n",
            "Epoch 39/40\n",
            "75/75 [==============================] - 0s 3ms/step - loss: 0.0000e+00 - accuracy: 1.0000 - val_loss: 0.0000e+00 - val_accuracy: 1.0000\n",
            "Epoch 40/40\n",
            "75/75 [==============================] - 0s 2ms/step - loss: 0.0000e+00 - accuracy: 1.0000 - val_loss: 0.0000e+00 - val_accuracy: 1.0000\n"
          ],
          "name": "stdout"
        },
        {
          "output_type": "execute_result",
          "data": {
            "text/plain": [
              "<tensorflow.python.keras.callbacks.History at 0x7f069a4cc290>"
            ]
          },
          "metadata": {
            "tags": []
          },
          "execution_count": 29
        }
      ]
    },
    {
      "cell_type": "code",
      "metadata": {
        "id": "-8_qMHJaEHDH"
      },
      "source": [
        "# Now we will predict results based on test data.\n",
        "predictions = model.predict(X_test).round(2)"
      ],
      "execution_count": 30,
      "outputs": []
    },
    {
      "cell_type": "code",
      "metadata": {
        "id": "hbykGDS5EJYG"
      },
      "source": [
        "# Reshaping y_test and predictions to be directly compared 1v1 iteratively.\n",
        "predictions = predictions.reshape(23814,)\n",
        "predictions = pd.Series(predictions)\n",
        "predictions = pd.DataFrame(predictions).reset_index(drop=True)\n",
        "y_test = y_test.reshape(23814,)\n",
        "y_test = pd.Series(y_test)\n",
        "y_test = pd.DataFrame(y_test).reset_index(drop=True)\n",
        "PvA = pd.concat([y_test, predictions], axis=1)\n",
        "PvA.columns = [\"Predicted\", \"Actual\"]"
      ],
      "execution_count": 31,
      "outputs": []
    },
    {
      "cell_type": "code",
      "metadata": {
        "id": "e_LV-1FeELB2"
      },
      "source": [
        "# If the margin is 0, there is no error. If the margin is 1, there was an error.\n",
        "PvA['Margin'] = np.abs(PvA['Predicted'] - PvA['Actual'])"
      ],
      "execution_count": 32,
      "outputs": []
    },
    {
      "cell_type": "code",
      "metadata": {
        "id": "lPukn4BtEMdW"
      },
      "source": [
        "# Sum of all of the rows with errors.\n",
        "PvA_err = np.sum(PvA['Margin'])"
      ],
      "execution_count": 33,
      "outputs": []
    },
    {
      "cell_type": "code",
      "metadata": {
        "id": "eOmWvh2oEOAF"
      },
      "source": [
        "# Length of the prediction set.\n",
        "PvA_len = len(PvA)"
      ],
      "execution_count": 34,
      "outputs": []
    },
    {
      "cell_type": "code",
      "metadata": {
        "id": "l8ZBN5s5EWP2"
      },
      "source": [
        "# Accuracy metric.\n",
        "PvA_acc = 1-(PvA_err/PvA_len)"
      ],
      "execution_count": 35,
      "outputs": []
    },
    {
      "cell_type": "code",
      "metadata": {
        "colab": {
          "base_uri": "https://localhost:8080/"
        },
        "id": "bQYkTfgOEa-V",
        "outputId": "f0c1dfeb-bdaf-4f93-dc3e-f8c6defd9c62"
      },
      "source": [
        "# AORTD = Accuracy on Random Test Data\n",
        "print(\"AORTD: %.2f\" % (PvA_acc * 100) + \"%\")"
      ],
      "execution_count": 38,
      "outputs": [
        {
          "output_type": "stream",
          "text": [
            "AORTD: 63.55%\n"
          ],
          "name": "stdout"
        }
      ]
    }
  ]
}