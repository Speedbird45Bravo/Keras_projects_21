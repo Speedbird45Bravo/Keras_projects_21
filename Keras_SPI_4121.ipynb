{
  "nbformat": 4,
  "nbformat_minor": 0,
  "metadata": {
    "colab": {
      "name": "Keras_SPI_4121.ipynb",
      "provenance": [],
      "collapsed_sections": [],
      "authorship_tag": "ABX9TyPVejwy80zTsc0JS0cBfVWF",
      "include_colab_link": true
    },
    "kernelspec": {
      "name": "python3",
      "display_name": "Python 3"
    },
    "language_info": {
      "name": "python"
    }
  },
  "cells": [
    {
      "cell_type": "markdown",
      "metadata": {
        "id": "view-in-github",
        "colab_type": "text"
      },
      "source": [
        "<a href=\"https://colab.research.google.com/github/Speedbird45Bravo/Keras_projects_21/blob/main/Keras_SPI_4121.ipynb\" target=\"_parent\"><img src=\"https://colab.research.google.com/assets/colab-badge.svg\" alt=\"Open In Colab\"/></a>"
      ]
    },
    {
      "cell_type": "code",
      "metadata": {
        "id": "ipsY4ETEii7U"
      },
      "source": [
        "from keras.layers import Dense\n",
        "from keras.models import Sequential\n",
        "from keras.utils import to_categorical\n",
        "from sklearn.model_selection import train_test_split\n",
        "import numpy as np\n",
        "import pandas as pd\n",
        "\n",
        "# This is a swing at a custom neural network predicting soccer game results based on scores.\n",
        "# I've been in Keras for a few months, but am just starting to understand my way around.\n",
        "df = pd.read_csv(\"https://projects.fivethirtyeight.com/soccer-api/club/spi_matches.csv\").dropna()\n",
        "\n",
        "# We need to calculate one team's aggregate margin in order to determine the result.\n",
        "# We've chosen home for that calculation, but may as well get away as well for good measure.\n",
        "# Then, the absolute margin is the number of goals between the teams.\n",
        "df['h_marg'] = df['score1'] - df['score2']\n",
        "df['a_marg'] = df['score2'] - df['score1']\n",
        "df['margin'] = np.abs(df['score1'] - df['score2'])\n",
        "\n",
        "results = []\n",
        "\n",
        "for i in df['h_marg']:\n",
        "  if i > 0: # If the home team's margin is greater than 0, it's a home win.\n",
        "    results.append(\"HOME WIN\")\n",
        "  elif i < 0: # If the home team's margin is less than 0, it's an away win.\n",
        "    results.append(\"AWAY WIN\")\n",
        "  else: # Otherwise, it's a draw.\n",
        "    results.append(\"DRAW\")\n",
        "\n",
        "df['result'] = results"
      ],
      "execution_count": 87,
      "outputs": []
    },
    {
      "cell_type": "code",
      "metadata": {
        "id": "t1SHdtXTr0Y6"
      },
      "source": [
        "# The model gets a little confused the more numerical rows are fed into it, so we're keeping it simple.\n",
        "X = df[['score1', 'score2', 'margin']].reset_index(drop=True)\n",
        "y = df[['result']].copy()\n",
        "X_train, X_test, y_train, y_test = train_test_split(X, y, test_size=0.4, random_state=6)"
      ],
      "execution_count": 88,
      "outputs": []
    },
    {
      "cell_type": "code",
      "metadata": {
        "id": "tDtLz66a8GTP"
      },
      "source": [
        "# Make some random test data (separate from the existing test dfs). First, we need to generate a function to turn the list into a dataframe.\n",
        "\n",
        "def to_df(l1):\n",
        "  df = pd.DataFrame(l1).reset_index(drop=True)\n",
        "  return df\n",
        "\n",
        "def to_cat(cats):\n",
        "  cat = to_categorical(pd.factorize(cats)[0])\n",
        "  return cat\n",
        "\n",
        "t1 = to_df([3,0,2,4,2,1,3,2,4,1,5,1,3,4,3,2,1,1,0,5])\n",
        "t2 = to_df([2,1,4,2,4,2,3,1,2,2,0,0,3,2,1,2,3,2,1,0])\n",
        "t3 = np.abs(t1) - np.abs(t2)\n",
        "t4 = t2 - t1\n",
        "t5 = t1 - t2\n",
        "\n",
        "t_res = []\n",
        "\n",
        "cols = ['score1', 'score2', 'margin', 'h_margin', 'a_margin']\n",
        "\n",
        "rand_X_test = pd.concat([t1, t2, t3, t4, t5], axis=1)\n",
        "rand_X_test.columns = cols\n",
        "\n",
        "for i in rand_X_test['h_margin']:\n",
        "  if i > 0: # If the home team's margin is greater than 0, it's a home win.\n",
        "    t_res.append(\"HOME WIN\")\n",
        "  elif i < 0: # If the home team's margin is less than 0, it's an away win.\n",
        "    t_res.append(\"AWAY WIN\")\n",
        "  else: # Otherwise, it's a draw.\n",
        "    t_res.append(\"DRAW\")\n",
        "\n",
        "rand_X_test['result'] = t_res\n",
        "rand_y_test = to_cat(rand_X_test['result'])\n",
        "rand_X_test = rand_X_test[['score1', 'score2', 'margin']]\n",
        "rand_X_test = np.asarray(rand_X_test)\n",
        "rand_y_test = np.asarray(rand_y_test)"
      ],
      "execution_count": 90,
      "outputs": []
    },
    {
      "cell_type": "code",
      "metadata": {
        "id": "zf8bCj8SD5R4"
      },
      "source": [
        "# Have to factorize the labels before converting them to categorical (e.g. 1.,0.,0.).\n",
        "y_train = to_cat(y_train['result'])\n",
        "y_test = to_cat(y_test['result'])\n",
        "\n",
        "# The train and test data will be easier to handle in array form.\n",
        "X_train = np.asarray(X_train)\n",
        "X_test = np.asarray(X_test)"
      ],
      "execution_count": 91,
      "outputs": []
    },
    {
      "cell_type": "code",
      "metadata": {
        "id": "jq9DJLDYD90V"
      },
      "source": [
        "# Three layers with a 3 unit output layer given the number of outcomes (HOME WIN, AWAY WIN, DRAW).\n",
        "model = Sequential()\n",
        "model.add(Dense(16, activation='relu'))\n",
        "model.add(Dense(3, activation='softmax'))\n",
        "model.compile(optimizer='rmsprop', loss='categorical_crossentropy', metrics=['accuracy'])"
      ],
      "execution_count": 92,
      "outputs": []
    },
    {
      "cell_type": "code",
      "metadata": {
        "colab": {
          "base_uri": "https://localhost:8080/"
        },
        "id": "KF8WnMkZD-Km",
        "outputId": "5173d711-4ef0-440d-9e9f-a94f464ec842"
      },
      "source": [
        "# Definitely excessive on the epochs. ¯\\_(ツ)_/¯\n",
        "model.fit(X_train, y_train, epochs=40, batch_size=128, validation_split=0.2, verbose=1)"
      ],
      "execution_count": 93,
      "outputs": [
        {
          "output_type": "stream",
          "text": [
            "Epoch 1/40\n",
            "75/75 [==============================] - 1s 3ms/step - loss: 1.0662 - accuracy: 0.3962 - val_loss: 0.6320 - val_accuracy: 0.9269\n",
            "Epoch 2/40\n",
            "75/75 [==============================] - 0s 2ms/step - loss: 0.5690 - accuracy: 0.9346 - val_loss: 0.4014 - val_accuracy: 0.9962\n",
            "Epoch 3/40\n",
            "75/75 [==============================] - 0s 2ms/step - loss: 0.3677 - accuracy: 0.9972 - val_loss: 0.2587 - val_accuracy: 0.9962\n",
            "Epoch 4/40\n",
            "75/75 [==============================] - 0s 2ms/step - loss: 0.2336 - accuracy: 0.9988 - val_loss: 0.1628 - val_accuracy: 1.0000\n",
            "Epoch 5/40\n",
            "75/75 [==============================] - 0s 2ms/step - loss: 0.1468 - accuracy: 0.9999 - val_loss: 0.0983 - val_accuracy: 1.0000\n",
            "Epoch 6/40\n",
            "75/75 [==============================] - 0s 2ms/step - loss: 0.0904 - accuracy: 1.0000 - val_loss: 0.0558 - val_accuracy: 1.0000\n",
            "Epoch 7/40\n",
            "75/75 [==============================] - 0s 2ms/step - loss: 0.0498 - accuracy: 1.0000 - val_loss: 0.0300 - val_accuracy: 1.0000\n",
            "Epoch 8/40\n",
            "75/75 [==============================] - 0s 2ms/step - loss: 0.0266 - accuracy: 1.0000 - val_loss: 0.0153 - val_accuracy: 1.0000\n",
            "Epoch 9/40\n",
            "75/75 [==============================] - 0s 2ms/step - loss: 0.0131 - accuracy: 1.0000 - val_loss: 0.0074 - val_accuracy: 1.0000\n",
            "Epoch 10/40\n",
            "75/75 [==============================] - 0s 2ms/step - loss: 0.0065 - accuracy: 1.0000 - val_loss: 0.0034 - val_accuracy: 1.0000\n",
            "Epoch 11/40\n",
            "75/75 [==============================] - 0s 2ms/step - loss: 0.0027 - accuracy: 1.0000 - val_loss: 0.0014 - val_accuracy: 1.0000\n",
            "Epoch 12/40\n",
            "75/75 [==============================] - 0s 2ms/step - loss: 0.0012 - accuracy: 1.0000 - val_loss: 5.9441e-04 - val_accuracy: 1.0000\n",
            "Epoch 13/40\n",
            "75/75 [==============================] - 0s 2ms/step - loss: 4.6107e-04 - accuracy: 1.0000 - val_loss: 2.3196e-04 - val_accuracy: 1.0000\n",
            "Epoch 14/40\n",
            "75/75 [==============================] - 0s 2ms/step - loss: 1.9163e-04 - accuracy: 1.0000 - val_loss: 8.7040e-05 - val_accuracy: 1.0000\n",
            "Epoch 15/40\n",
            "75/75 [==============================] - 0s 2ms/step - loss: 6.9645e-05 - accuracy: 1.0000 - val_loss: 3.0854e-05 - val_accuracy: 1.0000\n",
            "Epoch 16/40\n",
            "75/75 [==============================] - 0s 2ms/step - loss: 2.4434e-05 - accuracy: 1.0000 - val_loss: 1.0650e-05 - val_accuracy: 1.0000\n",
            "Epoch 17/40\n",
            "75/75 [==============================] - 0s 2ms/step - loss: 8.1436e-06 - accuracy: 1.0000 - val_loss: 3.6012e-06 - val_accuracy: 1.0000\n",
            "Epoch 18/40\n",
            "75/75 [==============================] - 0s 2ms/step - loss: 2.7798e-06 - accuracy: 1.0000 - val_loss: 1.1623e-06 - val_accuracy: 1.0000\n",
            "Epoch 19/40\n",
            "75/75 [==============================] - 0s 2ms/step - loss: 9.5082e-07 - accuracy: 1.0000 - val_loss: 4.3463e-07 - val_accuracy: 1.0000\n",
            "Epoch 20/40\n",
            "75/75 [==============================] - 0s 2ms/step - loss: 3.3303e-07 - accuracy: 1.0000 - val_loss: 1.4519e-07 - val_accuracy: 1.0000\n",
            "Epoch 21/40\n",
            "75/75 [==============================] - 0s 2ms/step - loss: 1.1293e-07 - accuracy: 1.0000 - val_loss: 6.1173e-08 - val_accuracy: 1.0000\n",
            "Epoch 22/40\n",
            "75/75 [==============================] - 0s 2ms/step - loss: 5.3508e-08 - accuracy: 1.0000 - val_loss: 3.3697e-08 - val_accuracy: 1.0000\n",
            "Epoch 23/40\n",
            "75/75 [==============================] - 0s 2ms/step - loss: 2.9230e-08 - accuracy: 1.0000 - val_loss: 1.7073e-08 - val_accuracy: 1.0000\n",
            "Epoch 24/40\n",
            "75/75 [==============================] - 0s 2ms/step - loss: 1.8267e-08 - accuracy: 1.0000 - val_loss: 1.6625e-08 - val_accuracy: 1.0000\n",
            "Epoch 25/40\n",
            "75/75 [==============================] - 0s 2ms/step - loss: 1.4132e-08 - accuracy: 1.0000 - val_loss: 8.3123e-09 - val_accuracy: 1.0000\n",
            "Epoch 26/40\n",
            "75/75 [==============================] - 0s 2ms/step - loss: 8.7790e-09 - accuracy: 1.0000 - val_loss: 8.3123e-09 - val_accuracy: 1.0000\n",
            "Epoch 27/40\n",
            "75/75 [==============================] - 0s 2ms/step - loss: 7.8059e-09 - accuracy: 1.0000 - val_loss: 8.3123e-09 - val_accuracy: 1.0000\n",
            "Epoch 28/40\n",
            "75/75 [==============================] - 0s 2ms/step - loss: 8.3543e-09 - accuracy: 1.0000 - val_loss: 8.3123e-09 - val_accuracy: 1.0000\n",
            "Epoch 29/40\n",
            "75/75 [==============================] - 0s 2ms/step - loss: 8.6248e-09 - accuracy: 1.0000 - val_loss: 8.3123e-09 - val_accuracy: 1.0000\n",
            "Epoch 30/40\n",
            "75/75 [==============================] - 0s 2ms/step - loss: 8.2302e-09 - accuracy: 1.0000 - val_loss: 0.0000e+00 - val_accuracy: 1.0000\n",
            "Epoch 31/40\n",
            "75/75 [==============================] - 0s 2ms/step - loss: 0.0000e+00 - accuracy: 1.0000 - val_loss: 0.0000e+00 - val_accuracy: 1.0000\n",
            "Epoch 32/40\n",
            "75/75 [==============================] - 0s 2ms/step - loss: 0.0000e+00 - accuracy: 1.0000 - val_loss: 0.0000e+00 - val_accuracy: 1.0000\n",
            "Epoch 33/40\n",
            "75/75 [==============================] - 0s 2ms/step - loss: 0.0000e+00 - accuracy: 1.0000 - val_loss: 0.0000e+00 - val_accuracy: 1.0000\n",
            "Epoch 34/40\n",
            "75/75 [==============================] - 0s 2ms/step - loss: 0.0000e+00 - accuracy: 1.0000 - val_loss: 0.0000e+00 - val_accuracy: 1.0000\n",
            "Epoch 35/40\n",
            "75/75 [==============================] - 0s 2ms/step - loss: 0.0000e+00 - accuracy: 1.0000 - val_loss: 0.0000e+00 - val_accuracy: 1.0000\n",
            "Epoch 36/40\n",
            "75/75 [==============================] - 0s 2ms/step - loss: 0.0000e+00 - accuracy: 1.0000 - val_loss: 0.0000e+00 - val_accuracy: 1.0000\n",
            "Epoch 37/40\n",
            "75/75 [==============================] - 0s 2ms/step - loss: 0.0000e+00 - accuracy: 1.0000 - val_loss: 0.0000e+00 - val_accuracy: 1.0000\n",
            "Epoch 38/40\n",
            "75/75 [==============================] - 0s 2ms/step - loss: 0.0000e+00 - accuracy: 1.0000 - val_loss: 0.0000e+00 - val_accuracy: 1.0000\n",
            "Epoch 39/40\n",
            "75/75 [==============================] - 0s 2ms/step - loss: 0.0000e+00 - accuracy: 1.0000 - val_loss: 0.0000e+00 - val_accuracy: 1.0000\n",
            "Epoch 40/40\n",
            "75/75 [==============================] - 0s 2ms/step - loss: 0.0000e+00 - accuracy: 1.0000 - val_loss: 0.0000e+00 - val_accuracy: 1.0000\n"
          ],
          "name": "stdout"
        },
        {
          "output_type": "execute_result",
          "data": {
            "text/plain": [
              "<tensorflow.python.keras.callbacks.History at 0x7f9f9ab67810>"
            ]
          },
          "metadata": {
            "tags": []
          },
          "execution_count": 93
        }
      ]
    },
    {
      "cell_type": "code",
      "metadata": {
        "id": "-8_qMHJaEHDH"
      },
      "source": [
        "# Now we will predict results based on test data.\n",
        "predictions = model.predict(rand_X_test).round(2)\n",
        "predictions = np.asarray(predictions)"
      ],
      "execution_count": 98,
      "outputs": []
    },
    {
      "cell_type": "code",
      "metadata": {
        "id": "hbykGDS5EJYG"
      },
      "source": [
        "# Reshaping y_test and predictions to be directly compared 1v1 iteratively.\n",
        "predictions = predictions.reshape(60,)\n",
        "predictions = pd.DataFrame(predictions).reset_index(drop=True)\n",
        "rand_y_test = rand_y_test.reshape(60,)\n",
        "rand_y_test = pd.DataFrame(rand_y_test).reset_index(drop=True)\n",
        "PvA = pd.concat([rand_y_test, predictions], axis=1)\n",
        "PvA.columns = [\"Predicted\", \"Actual\"]"
      ],
      "execution_count": 99,
      "outputs": []
    },
    {
      "cell_type": "code",
      "metadata": {
        "id": "e_LV-1FeELB2"
      },
      "source": [
        "# If the margin is 0, there is no error. If the margin is 1, there was an error.\n",
        "PvA['Margin'] = np.abs(PvA['Predicted'] - PvA['Actual'])"
      ],
      "execution_count": 100,
      "outputs": []
    },
    {
      "cell_type": "code",
      "metadata": {
        "id": "lPukn4BtEMdW"
      },
      "source": [
        "# Sum of all of the rows with errors.\n",
        "PvA_err = np.sum(PvA['Margin'])"
      ],
      "execution_count": 101,
      "outputs": []
    },
    {
      "cell_type": "code",
      "metadata": {
        "id": "eOmWvh2oEOAF"
      },
      "source": [
        "# Length of the prediction set.\n",
        "PvA_len = len(PvA)"
      ],
      "execution_count": 102,
      "outputs": []
    },
    {
      "cell_type": "code",
      "metadata": {
        "id": "l8ZBN5s5EWP2"
      },
      "source": [
        "# Accuracy metric.\n",
        "PvA_acc = 1-(PvA_err/PvA_len)"
      ],
      "execution_count": 103,
      "outputs": []
    },
    {
      "cell_type": "code",
      "metadata": {
        "colab": {
          "base_uri": "https://localhost:8080/"
        },
        "id": "bQYkTfgOEa-V",
        "outputId": "6659e3f3-08cf-4cfd-a2c9-55762493a992"
      },
      "source": [
        "# AORTD = Accuracy on Random Test Data\n",
        "print(\"AORTD: %.2f\" % (PvA_acc * 100) + \"%\")"
      ],
      "execution_count": 104,
      "outputs": [
        {
          "output_type": "stream",
          "text": [
            "AORTD: 73.33%\n"
          ],
          "name": "stdout"
        }
      ]
    }
  ]
}