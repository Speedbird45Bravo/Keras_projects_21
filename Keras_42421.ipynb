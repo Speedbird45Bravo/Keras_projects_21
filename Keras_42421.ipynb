{
  "nbformat": 4,
  "nbformat_minor": 0,
  "metadata": {
    "colab": {
      "name": "Keras_42421.ipynb",
      "provenance": [],
      "collapsed_sections": [],
      "authorship_tag": "ABX9TyOVUlqFjElIPTB41jsQoKyy",
      "include_colab_link": true
    },
    "kernelspec": {
      "name": "python3",
      "display_name": "Python 3"
    },
    "language_info": {
      "name": "python"
    }
  },
  "cells": [
    {
      "cell_type": "markdown",
      "metadata": {
        "id": "view-in-github",
        "colab_type": "text"
      },
      "source": [
        "<a href=\"https://colab.research.google.com/github/Speedbird45Bravo/Keras_projects_21/blob/main/Keras_42421.ipynb\" target=\"_parent\"><img src=\"https://colab.research.google.com/assets/colab-badge.svg\" alt=\"Open In Colab\"/></a>"
      ]
    },
    {
      "cell_type": "code",
      "metadata": {
        "id": "TKWuG26DS-zW"
      },
      "source": [
        "from keras.layers import Dense\n",
        "from keras.models import Sequential\n",
        "from keras.utils import to_categorical\n",
        "from sklearn.model_selection import train_test_split\n",
        "import numpy as np\n",
        "import pandas as pd"
      ],
      "execution_count": 1,
      "outputs": []
    },
    {
      "cell_type": "code",
      "metadata": {
        "id": "TrNWS57GTz6l"
      },
      "source": [
        "df = pd.read_csv(\"https://projects.fivethirtyeight.com/soccer-api/club/spi_matches.csv\").dropna()\n",
        "df = df[df.season==2019]"
      ],
      "execution_count": 2,
      "outputs": []
    },
    {
      "cell_type": "code",
      "metadata": {
        "id": "JERuaRNLT9Wc"
      },
      "source": [
        "df['number_of_goals'] = df['score1'] + df['score2']"
      ],
      "execution_count": 4,
      "outputs": []
    },
    {
      "cell_type": "code",
      "metadata": {
        "id": "UqrspOUPUIel"
      },
      "source": [
        "totals = []"
      ],
      "execution_count": 5,
      "outputs": []
    },
    {
      "cell_type": "code",
      "metadata": {
        "id": "NHfAgjEuUJ-d"
      },
      "source": [
        "for x in df['number_of_goals']:\n",
        "  if x > 0:\n",
        "    totals.append(\"GOAL SCORING MATCH\")\n",
        "  else:\n",
        "    totals.append(\"NO SCORING MATCH\")"
      ],
      "execution_count": 6,
      "outputs": []
    },
    {
      "cell_type": "code",
      "metadata": {
        "id": "toHSjoL2UUyG"
      },
      "source": [
        "df['goal_bucket'] = totals"
      ],
      "execution_count": 7,
      "outputs": []
    },
    {
      "cell_type": "code",
      "metadata": {
        "id": "ZQeIyWNAUX23"
      },
      "source": [
        "def model():\n",
        "  model = Sequential()\n",
        "  model.add(Dense(16, activation='relu'))\n",
        "  model.add(Dense(2, activation='softmax'))\n",
        "  model.compile(optimizer='adam', loss='binary_crossentropy', metrics=['accuracy'])\n",
        "  return model"
      ],
      "execution_count": 8,
      "outputs": []
    },
    {
      "cell_type": "code",
      "metadata": {
        "id": "8c8kEPAuUiSh"
      },
      "source": [
        "def categorical(array):\n",
        "  array = to_categorical(np.asarray(pd.factorize(array)[0]))\n",
        "  return array"
      ],
      "execution_count": 11,
      "outputs": []
    },
    {
      "cell_type": "code",
      "metadata": {
        "id": "QVaurh9vU1Ta"
      },
      "source": [
        "X = df[['score1', 'score2']]\n",
        "y = df[['goal_bucket']].copy()\n",
        "X_train, X_test, y_train, y_test = train_test_split(X, y, test_size=0.2, random_state=6)"
      ],
      "execution_count": 12,
      "outputs": []
    },
    {
      "cell_type": "code",
      "metadata": {
        "id": "O-0WE8IyU9_A"
      },
      "source": [
        "y_train = categorical(y_train['goal_bucket'])\n",
        "y_test = categorical(y_test['goal_bucket'])"
      ],
      "execution_count": 13,
      "outputs": []
    },
    {
      "cell_type": "code",
      "metadata": {
        "colab": {
          "base_uri": "https://localhost:8080/"
        },
        "id": "xbccyBmpVIuu",
        "outputId": "0232ed43-5c78-4c49-a154-ee976fead8cc"
      },
      "source": [
        "model = model()\n",
        "model.fit(X_train, y_train, epochs=40, batch_size=128, verbose=1, validation_split=0.2)"
      ],
      "execution_count": 14,
      "outputs": [
        {
          "output_type": "stream",
          "text": [
            "Epoch 1/40\n",
            "27/27 [==============================] - 1s 20ms/step - loss: 0.9941 - accuracy: 0.1071 - val_loss: 0.8471 - val_accuracy: 0.6359\n",
            "Epoch 2/40\n",
            "27/27 [==============================] - 0s 3ms/step - loss: 0.8199 - accuracy: 0.7124 - val_loss: 0.6937 - val_accuracy: 0.9461\n",
            "Epoch 3/40\n",
            "27/27 [==============================] - 0s 3ms/step - loss: 0.6650 - accuracy: 0.9418 - val_loss: 0.5579 - val_accuracy: 0.9461\n",
            "Epoch 4/40\n",
            "27/27 [==============================] - 0s 3ms/step - loss: 0.5327 - accuracy: 0.9423 - val_loss: 0.4369 - val_accuracy: 0.9461\n",
            "Epoch 5/40\n",
            "27/27 [==============================] - 0s 3ms/step - loss: 0.4091 - accuracy: 0.9485 - val_loss: 0.3384 - val_accuracy: 0.9461\n",
            "Epoch 6/40\n",
            "27/27 [==============================] - 0s 3ms/step - loss: 0.3219 - accuracy: 0.9370 - val_loss: 0.2661 - val_accuracy: 0.9461\n",
            "Epoch 7/40\n",
            "27/27 [==============================] - 0s 3ms/step - loss: 0.2566 - accuracy: 0.9354 - val_loss: 0.2174 - val_accuracy: 0.9461\n",
            "Epoch 8/40\n",
            "27/27 [==============================] - 0s 3ms/step - loss: 0.2122 - accuracy: 0.9386 - val_loss: 0.1844 - val_accuracy: 0.9461\n",
            "Epoch 9/40\n",
            "27/27 [==============================] - 0s 3ms/step - loss: 0.1833 - accuracy: 0.9397 - val_loss: 0.1626 - val_accuracy: 0.9461\n",
            "Epoch 10/40\n",
            "27/27 [==============================] - 0s 3ms/step - loss: 0.1650 - accuracy: 0.9371 - val_loss: 0.1481 - val_accuracy: 0.9461\n",
            "Epoch 11/40\n",
            "27/27 [==============================] - 0s 3ms/step - loss: 0.1462 - accuracy: 0.9427 - val_loss: 0.1375 - val_accuracy: 0.9461\n",
            "Epoch 12/40\n",
            "27/27 [==============================] - 0s 3ms/step - loss: 0.1386 - accuracy: 0.9413 - val_loss: 0.1301 - val_accuracy: 0.9461\n",
            "Epoch 13/40\n",
            "27/27 [==============================] - 0s 3ms/step - loss: 0.1369 - accuracy: 0.9376 - val_loss: 0.1242 - val_accuracy: 0.9461\n",
            "Epoch 14/40\n",
            "27/27 [==============================] - 0s 3ms/step - loss: 0.1259 - accuracy: 0.9429 - val_loss: 0.1196 - val_accuracy: 0.9461\n",
            "Epoch 15/40\n",
            "27/27 [==============================] - 0s 3ms/step - loss: 0.1167 - accuracy: 0.9464 - val_loss: 0.1161 - val_accuracy: 0.9461\n",
            "Epoch 16/40\n",
            "27/27 [==============================] - 0s 3ms/step - loss: 0.1193 - accuracy: 0.9417 - val_loss: 0.1130 - val_accuracy: 0.9461\n",
            "Epoch 17/40\n",
            "27/27 [==============================] - 0s 3ms/step - loss: 0.1125 - accuracy: 0.9442 - val_loss: 0.1103 - val_accuracy: 0.9461\n",
            "Epoch 18/40\n",
            "27/27 [==============================] - 0s 3ms/step - loss: 0.1165 - accuracy: 0.9387 - val_loss: 0.1080 - val_accuracy: 0.9461\n",
            "Epoch 19/40\n",
            "27/27 [==============================] - 0s 4ms/step - loss: 0.1138 - accuracy: 0.9399 - val_loss: 0.1057 - val_accuracy: 0.9461\n",
            "Epoch 20/40\n",
            "27/27 [==============================] - 0s 3ms/step - loss: 0.1071 - accuracy: 0.9434 - val_loss: 0.1037 - val_accuracy: 0.9461\n",
            "Epoch 21/40\n",
            "27/27 [==============================] - 0s 3ms/step - loss: 0.1029 - accuracy: 0.9446 - val_loss: 0.1016 - val_accuracy: 0.9461\n",
            "Epoch 22/40\n",
            "27/27 [==============================] - 0s 3ms/step - loss: 0.1123 - accuracy: 0.9363 - val_loss: 0.0997 - val_accuracy: 0.9461\n",
            "Epoch 23/40\n",
            "27/27 [==============================] - 0s 3ms/step - loss: 0.1054 - accuracy: 0.9395 - val_loss: 0.0977 - val_accuracy: 0.9461\n",
            "Epoch 24/40\n",
            "27/27 [==============================] - 0s 3ms/step - loss: 0.1020 - accuracy: 0.9414 - val_loss: 0.0958 - val_accuracy: 0.9461\n",
            "Epoch 25/40\n",
            "27/27 [==============================] - 0s 3ms/step - loss: 0.1033 - accuracy: 0.9384 - val_loss: 0.0940 - val_accuracy: 0.9461\n",
            "Epoch 26/40\n",
            "27/27 [==============================] - 0s 3ms/step - loss: 0.0915 - accuracy: 0.9469 - val_loss: 0.0922 - val_accuracy: 0.9461\n",
            "Epoch 27/40\n",
            "27/27 [==============================] - 0s 3ms/step - loss: 0.0887 - accuracy: 0.9471 - val_loss: 0.0903 - val_accuracy: 0.9461\n",
            "Epoch 28/40\n",
            "27/27 [==============================] - 0s 3ms/step - loss: 0.0889 - accuracy: 0.9451 - val_loss: 0.0884 - val_accuracy: 0.9461\n",
            "Epoch 29/40\n",
            "27/27 [==============================] - 0s 3ms/step - loss: 0.0985 - accuracy: 0.9357 - val_loss: 0.0865 - val_accuracy: 0.9461\n",
            "Epoch 30/40\n",
            "27/27 [==============================] - 0s 3ms/step - loss: 0.0973 - accuracy: 0.9352 - val_loss: 0.0847 - val_accuracy: 0.9461\n",
            "Epoch 31/40\n",
            "27/27 [==============================] - 0s 3ms/step - loss: 0.0859 - accuracy: 0.9439 - val_loss: 0.0828 - val_accuracy: 0.9461\n",
            "Epoch 32/40\n",
            "27/27 [==============================] - 0s 3ms/step - loss: 0.0884 - accuracy: 0.9392 - val_loss: 0.0809 - val_accuracy: 0.9461\n",
            "Epoch 33/40\n",
            "27/27 [==============================] - 0s 3ms/step - loss: 0.0809 - accuracy: 0.9440 - val_loss: 0.0789 - val_accuracy: 0.9461\n",
            "Epoch 34/40\n",
            "27/27 [==============================] - 0s 3ms/step - loss: 0.0830 - accuracy: 0.9407 - val_loss: 0.0769 - val_accuracy: 0.9461\n",
            "Epoch 35/40\n",
            "27/27 [==============================] - 0s 3ms/step - loss: 0.0817 - accuracy: 0.9394 - val_loss: 0.0749 - val_accuracy: 0.9461\n",
            "Epoch 36/40\n",
            "27/27 [==============================] - 0s 3ms/step - loss: 0.0806 - accuracy: 0.9384 - val_loss: 0.0728 - val_accuracy: 0.9461\n",
            "Epoch 37/40\n",
            "27/27 [==============================] - 0s 3ms/step - loss: 0.0711 - accuracy: 0.9459 - val_loss: 0.0709 - val_accuracy: 0.9461\n",
            "Epoch 38/40\n",
            "27/27 [==============================] - 0s 3ms/step - loss: 0.0674 - accuracy: 0.9478 - val_loss: 0.0689 - val_accuracy: 0.9461\n",
            "Epoch 39/40\n",
            "27/27 [==============================] - 0s 3ms/step - loss: 0.0707 - accuracy: 0.9428 - val_loss: 0.0668 - val_accuracy: 0.9461\n",
            "Epoch 40/40\n",
            "27/27 [==============================] - 0s 3ms/step - loss: 0.0614 - accuracy: 0.9499 - val_loss: 0.0651 - val_accuracy: 0.9461\n"
          ],
          "name": "stdout"
        },
        {
          "output_type": "execute_result",
          "data": {
            "text/plain": [
              "<tensorflow.python.keras.callbacks.History at 0x7f1cc75829d0>"
            ]
          },
          "metadata": {
            "tags": []
          },
          "execution_count": 14
        }
      ]
    },
    {
      "cell_type": "code",
      "metadata": {
        "colab": {
          "base_uri": "https://localhost:8080/"
        },
        "id": "8M3pzEP-VNa8",
        "outputId": "a730f2cc-8a42-4313-91e1-6917535e33bb"
      },
      "source": [
        "predictions = model.predict(X_test)\n",
        "loss, accuracy = model.evaluate(y_test, predictions)"
      ],
      "execution_count": 15,
      "outputs": [
        {
          "output_type": "stream",
          "text": [
            "33/33 [==============================] - 0s 1ms/step - loss: 0.1449 - accuracy: 1.0000\n"
          ],
          "name": "stdout"
        }
      ]
    },
    {
      "cell_type": "code",
      "metadata": {
        "colab": {
          "base_uri": "https://localhost:8080/"
        },
        "id": "pIfMFAVrVVmG",
        "outputId": "b33d3108-e4d8-4409-db50-0cce891bc71c"
      },
      "source": [
        "print(\"Test Accuracy: {}%\".format(accuracy * 100))"
      ],
      "execution_count": 16,
      "outputs": [
        {
          "output_type": "stream",
          "text": [
            "Test Accuracy: 100.0%\n"
          ],
          "name": "stdout"
        }
      ]
    }
  ]
}