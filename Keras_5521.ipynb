{
  "nbformat": 4,
  "nbformat_minor": 0,
  "metadata": {
    "colab": {
      "name": "Keras_5521.ipynb",
      "provenance": [],
      "collapsed_sections": [],
      "authorship_tag": "ABX9TyNM5BFTveH1tnHae5Ul1AUa",
      "include_colab_link": true
    },
    "kernelspec": {
      "name": "python3",
      "display_name": "Python 3"
    },
    "language_info": {
      "name": "python"
    }
  },
  "cells": [
    {
      "cell_type": "markdown",
      "metadata": {
        "id": "view-in-github",
        "colab_type": "text"
      },
      "source": [
        "<a href=\"https://colab.research.google.com/github/Speedbird45Bravo/Keras_projects_21/blob/main/Keras_5521.ipynb\" target=\"_parent\"><img src=\"https://colab.research.google.com/assets/colab-badge.svg\" alt=\"Open In Colab\"/></a>"
      ]
    },
    {
      "cell_type": "code",
      "metadata": {
        "id": "AdFx3EFhO29K"
      },
      "source": [
        "from keras.layers import Dense\n",
        "from keras.models import Sequential\n",
        "from keras.utils import to_categorical\n",
        "from sklearn.model_selection import train_test_split\n",
        "import numpy as np\n",
        "import pandas as pd"
      ],
      "execution_count": 49,
      "outputs": []
    },
    {
      "cell_type": "code",
      "metadata": {
        "id": "sboi8l64PyyG"
      },
      "source": [
        "df = pd.read_csv(\"https://projects.fivethirtyeight.com/soccer-api/club/spi_matches.csv\").dropna()"
      ],
      "execution_count": 50,
      "outputs": []
    },
    {
      "cell_type": "code",
      "metadata": {
        "id": "4xqImvV8P3Rm"
      },
      "source": [
        "df[\"margin\"] = np.abs(df[\"score1\"] - df[\"score2\"])\n",
        "df[\"total_goals\"] = df[\"score1\"] + df[\"score2\"]"
      ],
      "execution_count": 51,
      "outputs": []
    },
    {
      "cell_type": "code",
      "metadata": {
        "id": "i-2RPJmSP8IZ"
      },
      "source": [
        "margin = []"
      ],
      "execution_count": 52,
      "outputs": []
    },
    {
      "cell_type": "code",
      "metadata": {
        "id": "SN85PLFFP9PZ"
      },
      "source": [
        "for x in df[\"margin\"]:\n",
        "  if x > 0:\n",
        "    margin.append(\"RESULT\")\n",
        "  else:\n",
        "    margin.append(\"DRAW\")"
      ],
      "execution_count": 53,
      "outputs": []
    },
    {
      "cell_type": "code",
      "metadata": {
        "id": "GpgZYUDqQiHl"
      },
      "source": [
        "df[\"margin_type\"] = margin"
      ],
      "execution_count": 54,
      "outputs": []
    },
    {
      "cell_type": "code",
      "metadata": {
        "id": "zMEgDj0aQAsd"
      },
      "source": [
        "X = df[[\"margin\", \"total_goals\"]]\n",
        "y = df[[\"margin_type\"]].copy()\n",
        "X_train, X_test, y_train, y_test = train_test_split(X, y, test_size=0.25, random_state=6)"
      ],
      "execution_count": 55,
      "outputs": []
    },
    {
      "cell_type": "code",
      "metadata": {
        "id": "obJuqU4mQNqp"
      },
      "source": [
        "def load_model():\n",
        "  model = Sequential()\n",
        "  model.add(Dense(32, activation=\"relu\"))\n",
        "  model.add(Dense(2, activation=\"softmax\"))\n",
        "  model.compile(optimizer=\"adam\", loss=\"binary_crossentropy\", metrics=[\"accuracy\"])\n",
        "  return model"
      ],
      "execution_count": 56,
      "outputs": []
    },
    {
      "cell_type": "code",
      "metadata": {
        "id": "ZUIovpeRQZSg"
      },
      "source": [
        "def cat(array):\n",
        "  array = to_categorical(np.asarray(pd.factorize(array)[0]))\n",
        "  return array"
      ],
      "execution_count": 57,
      "outputs": []
    },
    {
      "cell_type": "code",
      "metadata": {
        "id": "Hm4doj6qQdnk"
      },
      "source": [
        "y_train = cat(y_train[\"margin_type\"])\n",
        "y_test = cat(y_test[\"margin_type\"])"
      ],
      "execution_count": 58,
      "outputs": []
    },
    {
      "cell_type": "code",
      "metadata": {
        "colab": {
          "base_uri": "https://localhost:8080/"
        },
        "id": "SVLGoIFvQkMr",
        "outputId": "867e04dc-81f0-47e4-87d2-9b1acef06cde"
      },
      "source": [
        "model = load_model()\n",
        "model.fit(X_train, y_train, epochs=60, batch_size=128, verbose=2, validation_split=0.2)"
      ],
      "execution_count": 59,
      "outputs": [
        {
          "output_type": "stream",
          "text": [
            "Epoch 1/60\n",
            "97/97 - 1s - loss: 0.6993 - accuracy: 0.5778 - val_loss: 0.5131 - val_accuracy: 0.7459\n",
            "Epoch 2/60\n",
            "97/97 - 0s - loss: 0.4549 - accuracy: 0.7452 - val_loss: 0.4108 - val_accuracy: 0.7459\n",
            "Epoch 3/60\n",
            "97/97 - 0s - loss: 0.3679 - accuracy: 0.7469 - val_loss: 0.3283 - val_accuracy: 0.8144\n",
            "Epoch 4/60\n",
            "97/97 - 0s - loss: 0.2885 - accuracy: 0.9200 - val_loss: 0.2519 - val_accuracy: 1.0000\n",
            "Epoch 5/60\n",
            "97/97 - 0s - loss: 0.2188 - accuracy: 1.0000 - val_loss: 0.1881 - val_accuracy: 1.0000\n",
            "Epoch 6/60\n",
            "97/97 - 0s - loss: 0.1627 - accuracy: 1.0000 - val_loss: 0.1392 - val_accuracy: 1.0000\n",
            "Epoch 7/60\n",
            "97/97 - 0s - loss: 0.1204 - accuracy: 1.0000 - val_loss: 0.1027 - val_accuracy: 1.0000\n",
            "Epoch 8/60\n",
            "97/97 - 0s - loss: 0.0892 - accuracy: 1.0000 - val_loss: 0.0761 - val_accuracy: 1.0000\n",
            "Epoch 9/60\n",
            "97/97 - 0s - loss: 0.0663 - accuracy: 1.0000 - val_loss: 0.0570 - val_accuracy: 1.0000\n",
            "Epoch 10/60\n",
            "97/97 - 0s - loss: 0.0500 - accuracy: 1.0000 - val_loss: 0.0433 - val_accuracy: 1.0000\n",
            "Epoch 11/60\n",
            "97/97 - 0s - loss: 0.0383 - accuracy: 1.0000 - val_loss: 0.0336 - val_accuracy: 1.0000\n",
            "Epoch 12/60\n",
            "97/97 - 0s - loss: 0.0299 - accuracy: 1.0000 - val_loss: 0.0264 - val_accuracy: 1.0000\n",
            "Epoch 13/60\n",
            "97/97 - 0s - loss: 0.0237 - accuracy: 1.0000 - val_loss: 0.0212 - val_accuracy: 1.0000\n",
            "Epoch 14/60\n",
            "97/97 - 0s - loss: 0.0192 - accuracy: 1.0000 - val_loss: 0.0172 - val_accuracy: 1.0000\n",
            "Epoch 15/60\n",
            "97/97 - 0s - loss: 0.0157 - accuracy: 1.0000 - val_loss: 0.0142 - val_accuracy: 1.0000\n",
            "Epoch 16/60\n",
            "97/97 - 0s - loss: 0.0130 - accuracy: 1.0000 - val_loss: 0.0119 - val_accuracy: 1.0000\n",
            "Epoch 17/60\n",
            "97/97 - 0s - loss: 0.0110 - accuracy: 1.0000 - val_loss: 0.0100 - val_accuracy: 1.0000\n",
            "Epoch 18/60\n",
            "97/97 - 0s - loss: 0.0093 - accuracy: 1.0000 - val_loss: 0.0086 - val_accuracy: 1.0000\n",
            "Epoch 19/60\n",
            "97/97 - 0s - loss: 0.0080 - accuracy: 1.0000 - val_loss: 0.0074 - val_accuracy: 1.0000\n",
            "Epoch 20/60\n",
            "97/97 - 0s - loss: 0.0069 - accuracy: 1.0000 - val_loss: 0.0064 - val_accuracy: 1.0000\n",
            "Epoch 21/60\n",
            "97/97 - 0s - loss: 0.0060 - accuracy: 1.0000 - val_loss: 0.0056 - val_accuracy: 1.0000\n",
            "Epoch 22/60\n",
            "97/97 - 0s - loss: 0.0053 - accuracy: 1.0000 - val_loss: 0.0049 - val_accuracy: 1.0000\n",
            "Epoch 23/60\n",
            "97/97 - 0s - loss: 0.0046 - accuracy: 1.0000 - val_loss: 0.0043 - val_accuracy: 1.0000\n",
            "Epoch 24/60\n",
            "97/97 - 0s - loss: 0.0041 - accuracy: 1.0000 - val_loss: 0.0039 - val_accuracy: 1.0000\n",
            "Epoch 25/60\n",
            "97/97 - 0s - loss: 0.0037 - accuracy: 1.0000 - val_loss: 0.0035 - val_accuracy: 1.0000\n",
            "Epoch 26/60\n",
            "97/97 - 0s - loss: 0.0033 - accuracy: 1.0000 - val_loss: 0.0031 - val_accuracy: 1.0000\n",
            "Epoch 27/60\n",
            "97/97 - 0s - loss: 0.0029 - accuracy: 1.0000 - val_loss: 0.0028 - val_accuracy: 1.0000\n",
            "Epoch 28/60\n",
            "97/97 - 0s - loss: 0.0026 - accuracy: 1.0000 - val_loss: 0.0025 - val_accuracy: 1.0000\n",
            "Epoch 29/60\n",
            "97/97 - 0s - loss: 0.0024 - accuracy: 1.0000 - val_loss: 0.0023 - val_accuracy: 1.0000\n",
            "Epoch 30/60\n",
            "97/97 - 0s - loss: 0.0022 - accuracy: 1.0000 - val_loss: 0.0021 - val_accuracy: 1.0000\n",
            "Epoch 31/60\n",
            "97/97 - 0s - loss: 0.0020 - accuracy: 1.0000 - val_loss: 0.0019 - val_accuracy: 1.0000\n",
            "Epoch 32/60\n",
            "97/97 - 0s - loss: 0.0018 - accuracy: 1.0000 - val_loss: 0.0017 - val_accuracy: 1.0000\n",
            "Epoch 33/60\n",
            "97/97 - 0s - loss: 0.0016 - accuracy: 1.0000 - val_loss: 0.0016 - val_accuracy: 1.0000\n",
            "Epoch 34/60\n",
            "97/97 - 0s - loss: 0.0015 - accuracy: 1.0000 - val_loss: 0.0014 - val_accuracy: 1.0000\n",
            "Epoch 35/60\n",
            "97/97 - 0s - loss: 0.0014 - accuracy: 1.0000 - val_loss: 0.0013 - val_accuracy: 1.0000\n",
            "Epoch 36/60\n",
            "97/97 - 0s - loss: 0.0013 - accuracy: 1.0000 - val_loss: 0.0012 - val_accuracy: 1.0000\n",
            "Epoch 37/60\n",
            "97/97 - 0s - loss: 0.0012 - accuracy: 1.0000 - val_loss: 0.0011 - val_accuracy: 1.0000\n",
            "Epoch 38/60\n",
            "97/97 - 0s - loss: 0.0011 - accuracy: 1.0000 - val_loss: 0.0010 - val_accuracy: 1.0000\n",
            "Epoch 39/60\n",
            "97/97 - 0s - loss: 9.8971e-04 - accuracy: 1.0000 - val_loss: 9.5259e-04 - val_accuracy: 1.0000\n",
            "Epoch 40/60\n",
            "97/97 - 0s - loss: 9.1457e-04 - accuracy: 1.0000 - val_loss: 8.8123e-04 - val_accuracy: 1.0000\n",
            "Epoch 41/60\n",
            "97/97 - 0s - loss: 8.4644e-04 - accuracy: 1.0000 - val_loss: 8.1597e-04 - val_accuracy: 1.0000\n",
            "Epoch 42/60\n",
            "97/97 - 0s - loss: 7.8443e-04 - accuracy: 1.0000 - val_loss: 7.5682e-04 - val_accuracy: 1.0000\n",
            "Epoch 43/60\n",
            "97/97 - 0s - loss: 7.2778e-04 - accuracy: 1.0000 - val_loss: 7.0257e-04 - val_accuracy: 1.0000\n",
            "Epoch 44/60\n",
            "97/97 - 0s - loss: 6.7593e-04 - accuracy: 1.0000 - val_loss: 6.5284e-04 - val_accuracy: 1.0000\n",
            "Epoch 45/60\n",
            "97/97 - 0s - loss: 6.2853e-04 - accuracy: 1.0000 - val_loss: 6.0727e-04 - val_accuracy: 1.0000\n",
            "Epoch 46/60\n",
            "97/97 - 0s - loss: 5.8495e-04 - accuracy: 1.0000 - val_loss: 5.6560e-04 - val_accuracy: 1.0000\n",
            "Epoch 47/60\n",
            "97/97 - 0s - loss: 5.4468e-04 - accuracy: 1.0000 - val_loss: 5.2685e-04 - val_accuracy: 1.0000\n",
            "Epoch 48/60\n",
            "97/97 - 0s - loss: 5.0766e-04 - accuracy: 1.0000 - val_loss: 4.9135e-04 - val_accuracy: 1.0000\n",
            "Epoch 49/60\n",
            "97/97 - 0s - loss: 4.7357e-04 - accuracy: 1.0000 - val_loss: 4.5841e-04 - val_accuracy: 1.0000\n",
            "Epoch 50/60\n",
            "97/97 - 0s - loss: 4.4207e-04 - accuracy: 1.0000 - val_loss: 4.2817e-04 - val_accuracy: 1.0000\n",
            "Epoch 51/60\n",
            "97/97 - 0s - loss: 4.1306e-04 - accuracy: 1.0000 - val_loss: 4.0028e-04 - val_accuracy: 1.0000\n",
            "Epoch 52/60\n",
            "97/97 - 0s - loss: 3.8617e-04 - accuracy: 1.0000 - val_loss: 3.7425e-04 - val_accuracy: 1.0000\n",
            "Epoch 53/60\n",
            "97/97 - 0s - loss: 3.6117e-04 - accuracy: 1.0000 - val_loss: 3.5019e-04 - val_accuracy: 1.0000\n",
            "Epoch 54/60\n",
            "97/97 - 0s - loss: 3.3797e-04 - accuracy: 1.0000 - val_loss: 3.2784e-04 - val_accuracy: 1.0000\n",
            "Epoch 55/60\n",
            "97/97 - 0s - loss: 3.1645e-04 - accuracy: 1.0000 - val_loss: 3.0703e-04 - val_accuracy: 1.0000\n",
            "Epoch 56/60\n",
            "97/97 - 0s - loss: 2.9648e-04 - accuracy: 1.0000 - val_loss: 2.8774e-04 - val_accuracy: 1.0000\n",
            "Epoch 57/60\n",
            "97/97 - 0s - loss: 2.7799e-04 - accuracy: 1.0000 - val_loss: 2.6987e-04 - val_accuracy: 1.0000\n",
            "Epoch 58/60\n",
            "97/97 - 0s - loss: 2.6069e-04 - accuracy: 1.0000 - val_loss: 2.5322e-04 - val_accuracy: 1.0000\n",
            "Epoch 59/60\n",
            "97/97 - 0s - loss: 2.4458e-04 - accuracy: 1.0000 - val_loss: 2.3759e-04 - val_accuracy: 1.0000\n",
            "Epoch 60/60\n",
            "97/97 - 0s - loss: 2.2957e-04 - accuracy: 1.0000 - val_loss: 2.2305e-04 - val_accuracy: 1.0000\n"
          ],
          "name": "stdout"
        },
        {
          "output_type": "execute_result",
          "data": {
            "text/plain": [
              "<tensorflow.python.keras.callbacks.History at 0x7feab76d6810>"
            ]
          },
          "metadata": {
            "tags": []
          },
          "execution_count": 59
        }
      ]
    },
    {
      "cell_type": "code",
      "metadata": {
        "colab": {
          "base_uri": "https://localhost:8080/"
        },
        "id": "NIxxtn7VTDC1",
        "outputId": "ea5f861e-b483-4a3a-82af-c389c4df8824"
      },
      "source": [
        "predictions = model.predict(X_test)\n",
        "loss, accuracy = model.evaluate(y_test, predictions)"
      ],
      "execution_count": 60,
      "outputs": [
        {
          "output_type": "stream",
          "text": [
            "161/161 [==============================] - 0s 1ms/step - loss: 0.0017 - accuracy: 1.0000\n"
          ],
          "name": "stdout"
        }
      ]
    },
    {
      "cell_type": "code",
      "metadata": {
        "colab": {
          "base_uri": "https://localhost:8080/"
        },
        "id": "shKtE3RETIFt",
        "outputId": "7d610303-8767-4539-ebdb-131027936535"
      },
      "source": [
        "print(\"Test Accuracy: {}%\".format(round(accuracy * 100),0))"
      ],
      "execution_count": 61,
      "outputs": [
        {
          "output_type": "stream",
          "text": [
            "Test Accuracy: 100%\n"
          ],
          "name": "stdout"
        }
      ]
    }
  ]
}