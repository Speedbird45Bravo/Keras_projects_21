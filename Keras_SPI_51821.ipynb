{
 "cells": [
  {
   "cell_type": "code",
   "execution_count": 3,
   "id": "a01686a0",
   "metadata": {},
   "outputs": [],
   "source": [
    "from keras.layers import Dense\n",
    "from keras.models import Sequential\n",
    "from keras.utils import to_categorical\n",
    "from sklearn.model_selection import train_test_split\n",
    "import numpy as np\n",
    "import pandas as pd"
   ]
  },
  {
   "cell_type": "code",
   "execution_count": 4,
   "id": "da4c049c",
   "metadata": {},
   "outputs": [],
   "source": [
    "df = pd.read_csv(\"https://projects.fivethirtyeight.com/soccer-api/club/spi_matches.csv\").dropna()"
   ]
  },
  {
   "cell_type": "code",
   "execution_count": 5,
   "id": "0fa4b4fc",
   "metadata": {},
   "outputs": [],
   "source": [
    "df['total_goals'] = df['score1'] + df['score2']\n",
    "df['margin'] = np.abs(df['score1'] - df['score2'])\n",
    "df['h_margin'] = df['score1'] - df['score2']"
   ]
  },
  {
   "cell_type": "code",
   "execution_count": 7,
   "id": "4e4d9be7",
   "metadata": {},
   "outputs": [],
   "source": [
    "results = []"
   ]
  },
  {
   "cell_type": "code",
   "execution_count": 8,
   "id": "8c8c0a77",
   "metadata": {},
   "outputs": [],
   "source": [
    "for x in df['h_margin']:\n",
    "    if x > 0:\n",
    "        results.append(\"HOME WIN\")\n",
    "    elif x < 0:\n",
    "        results.append(\"AWAY WIN\")\n",
    "    else:\n",
    "        results.append(\"DRAW\")"
   ]
  },
  {
   "cell_type": "code",
   "execution_count": 9,
   "id": "6c398b63",
   "metadata": {},
   "outputs": [],
   "source": [
    "df['result'] = results"
   ]
  },
  {
   "cell_type": "code",
   "execution_count": 10,
   "id": "f821fc4c",
   "metadata": {},
   "outputs": [],
   "source": [
    "X = df[['total_goals', 'margin', 'h_margin']]\n",
    "y = df[['result']].copy()\n",
    "X_train, X_test, y_train, y_test = train_test_split(X, y, test_size=0.2, random_state=6)"
   ]
  },
  {
   "cell_type": "code",
   "execution_count": 12,
   "id": "7bd5b94a",
   "metadata": {},
   "outputs": [],
   "source": [
    "def model():\n",
    "    model = Sequential()\n",
    "    model.add(Dense(16, activation=\"relu\"))\n",
    "    model.add(Dense(3, activation=\"softmax\"))\n",
    "    model.compile(optimizer=\"adam\", loss=\"categorical_crossentropy\", metrics=[\"accuracy\"])\n",
    "    return model"
   ]
  },
  {
   "cell_type": "code",
   "execution_count": 13,
   "id": "778c2295",
   "metadata": {},
   "outputs": [],
   "source": [
    "def categorize(array):\n",
    "    array = to_categorical(np.asarray(pd.factorize(array)[0]))\n",
    "    return array"
   ]
  },
  {
   "cell_type": "code",
   "execution_count": 14,
   "id": "4caac7ae",
   "metadata": {},
   "outputs": [],
   "source": [
    "y_train = categorize(y_train['result'])\n",
    "y_test = categorize(y_test['result'])"
   ]
  },
  {
   "cell_type": "code",
   "execution_count": 15,
   "id": "0d666688",
   "metadata": {},
   "outputs": [],
   "source": [
    "model = model()"
   ]
  },
  {
   "cell_type": "code",
   "execution_count": 16,
   "id": "d0e1b5e2",
   "metadata": {},
   "outputs": [
    {
     "name": "stdout",
     "output_type": "stream",
     "text": [
      "Epoch 1/40\n",
      "131/131 - 0s - loss: 0.7482 - accuracy: 0.6971\n",
      "Epoch 2/40\n",
      "131/131 - 0s - loss: 0.3423 - accuracy: 0.9999\n",
      "Epoch 3/40\n",
      "131/131 - 0s - loss: 0.2021 - accuracy: 0.9999\n",
      "Epoch 4/40\n",
      "131/131 - 0s - loss: 0.1287 - accuracy: 1.0000\n",
      "Epoch 5/40\n",
      "131/131 - 0s - loss: 0.0848 - accuracy: 1.0000\n",
      "Epoch 6/40\n",
      "131/131 - 0s - loss: 0.0573 - accuracy: 1.0000\n",
      "Epoch 7/40\n",
      "131/131 - 0s - loss: 0.0398 - accuracy: 1.0000\n",
      "Epoch 8/40\n",
      "131/131 - 0s - loss: 0.0286 - accuracy: 1.0000\n",
      "Epoch 9/40\n",
      "131/131 - 0s - loss: 0.0212 - accuracy: 1.0000\n",
      "Epoch 10/40\n",
      "131/131 - 0s - loss: 0.0162 - accuracy: 1.0000\n",
      "Epoch 11/40\n",
      "131/131 - 0s - loss: 0.0127 - accuracy: 1.0000\n",
      "Epoch 12/40\n",
      "131/131 - 0s - loss: 0.0101 - accuracy: 1.0000\n",
      "Epoch 13/40\n",
      "131/131 - 0s - loss: 0.0082 - accuracy: 1.0000\n",
      "Epoch 14/40\n",
      "131/131 - 0s - loss: 0.0067 - accuracy: 1.0000\n",
      "Epoch 15/40\n",
      "131/131 - 0s - loss: 0.0056 - accuracy: 1.0000\n",
      "Epoch 16/40\n",
      "131/131 - 0s - loss: 0.0047 - accuracy: 1.0000\n",
      "Epoch 17/40\n",
      "131/131 - 0s - loss: 0.0040 - accuracy: 1.0000\n",
      "Epoch 18/40\n",
      "131/131 - 0s - loss: 0.0034 - accuracy: 1.0000\n",
      "Epoch 19/40\n",
      "131/131 - 0s - loss: 0.0030 - accuracy: 1.0000\n",
      "Epoch 20/40\n",
      "131/131 - 0s - loss: 0.0026 - accuracy: 1.0000\n",
      "Epoch 21/40\n",
      "131/131 - 0s - loss: 0.0023 - accuracy: 1.0000\n",
      "Epoch 22/40\n",
      "131/131 - 0s - loss: 0.0020 - accuracy: 1.0000\n",
      "Epoch 23/40\n",
      "131/131 - 0s - loss: 0.0017 - accuracy: 1.0000\n",
      "Epoch 24/40\n",
      "131/131 - 0s - loss: 0.0015 - accuracy: 1.0000\n",
      "Epoch 25/40\n",
      "131/131 - 0s - loss: 0.0014 - accuracy: 1.0000\n",
      "Epoch 26/40\n",
      "131/131 - 0s - loss: 0.0012 - accuracy: 1.0000\n",
      "Epoch 27/40\n",
      "131/131 - 0s - loss: 0.0011 - accuracy: 1.0000\n",
      "Epoch 28/40\n",
      "131/131 - 0s - loss: 9.8507e-04 - accuracy: 1.0000\n",
      "Epoch 29/40\n",
      "131/131 - 0s - loss: 8.8603e-04 - accuracy: 1.0000\n",
      "Epoch 30/40\n",
      "131/131 - 0s - loss: 7.9830e-04 - accuracy: 1.0000\n",
      "Epoch 31/40\n",
      "131/131 - 0s - loss: 7.2071e-04 - accuracy: 1.0000\n",
      "Epoch 32/40\n",
      "131/131 - 0s - loss: 6.5210e-04 - accuracy: 1.0000\n",
      "Epoch 33/40\n",
      "131/131 - 0s - loss: 5.9081e-04 - accuracy: 1.0000\n",
      "Epoch 34/40\n",
      "131/131 - 0s - loss: 5.3630e-04 - accuracy: 1.0000\n",
      "Epoch 35/40\n",
      "131/131 - 0s - loss: 4.8751e-04 - accuracy: 1.0000\n",
      "Epoch 36/40\n",
      "131/131 - 0s - loss: 4.4397e-04 - accuracy: 1.0000\n",
      "Epoch 37/40\n",
      "131/131 - 0s - loss: 4.0472e-04 - accuracy: 1.0000\n",
      "Epoch 38/40\n",
      "131/131 - 0s - loss: 3.6924e-04 - accuracy: 1.0000\n",
      "Epoch 39/40\n",
      "131/131 - 0s - loss: 3.3748e-04 - accuracy: 1.0000\n",
      "Epoch 40/40\n",
      "131/131 - 0s - loss: 3.0872e-04 - accuracy: 1.0000\n"
     ]
    },
    {
     "data": {
      "text/plain": [
       "<tensorflow.python.keras.callbacks.History at 0x1c0053f6220>"
      ]
     },
     "execution_count": 16,
     "metadata": {},
     "output_type": "execute_result"
    }
   ],
   "source": [
    "model.fit(X_train, y_train, epochs=40, batch_size=128, verbose=2)"
   ]
  },
  {
   "cell_type": "code",
   "execution_count": 27,
   "id": "a956f34c",
   "metadata": {},
   "outputs": [],
   "source": [
    "predictions = model.predict(X_test).round(0)"
   ]
  },
  {
   "cell_type": "code",
   "execution_count": 28,
   "id": "61c05133",
   "metadata": {},
   "outputs": [
    {
     "name": "stdout",
     "output_type": "stream",
     "text": [
      "131/131 [==============================] - 0s 539us/step - loss: 4.2808 - accuracy: 0.2493\n"
     ]
    }
   ],
   "source": [
    "loss, accuracy = model.evaluate(y_test, predictions)"
   ]
  },
  {
   "cell_type": "code",
   "execution_count": 37,
   "id": "ec4acaa9",
   "metadata": {},
   "outputs": [
    {
     "name": "stdout",
     "output_type": "stream",
     "text": [
      "Test Accuracy: 24.927954375743866%\n"
     ]
    }
   ],
   "source": [
    "print(\"Test Accuracy: {}%\".format(accuracy * 100))"
   ]
  }
 ],
 "metadata": {
  "kernelspec": {
   "display_name": "Python 3",
   "language": "python",
   "name": "python3"
  },
  "language_info": {
   "codemirror_mode": {
    "name": "ipython",
    "version": 3
   },
   "file_extension": ".py",
   "mimetype": "text/x-python",
   "name": "python",
   "nbconvert_exporter": "python",
   "pygments_lexer": "ipython3",
   "version": "3.9.1"
  }
 },
 "nbformat": 4,
 "nbformat_minor": 5
}
