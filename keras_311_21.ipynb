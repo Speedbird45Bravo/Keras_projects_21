{
  "nbformat": 4,
  "nbformat_minor": 0,
  "metadata": {
    "colab": {
      "name": "keras_311_21.ipynb",
      "provenance": [],
      "collapsed_sections": []
    },
    "kernelspec": {
      "name": "python3",
      "display_name": "Python 3"
    }
  },
  "cells": [
    {
      "cell_type": "code",
      "metadata": {
        "colab": {
          "base_uri": "https://localhost:8080/"
        },
        "id": "W0vr42Fx9Rw7",
        "outputId": "437ed603-4ae1-45f9-d257-4de5891432ee"
      },
      "source": [
        "from keras.datasets import mnist\r\n",
        "from keras.layers import Dense\r\n",
        "from keras.models import Sequential\r\n",
        "from keras.utils import to_categorical\r\n",
        "\r\n",
        "(X_train, y_train), (X_test, y_test) = mnist.load_data()\r\n",
        "\r\n",
        "i_dims = X_train.shape[1] * X_train.shape[2]\r\n",
        "Xtrl = len(X_train)\r\n",
        "Xtel = len(X_test)\r\n",
        "\r\n",
        "model = Sequential()\r\n",
        "model.add(Dense(512, activation='relu', input_shape=(i_dims, )))\r\n",
        "model.add(Dense(10, activation='softmax'))\r\n",
        "model.compile(optimizer='rmsprop', loss='categorical_crossentropy', metrics=['accuracy'])\r\n",
        "\r\n",
        "X_train = X_train.reshape((Xtrl, i_dims))\r\n",
        "X_test = X_test.reshape((Xtel, i_dims)).astype('float32')\r\n",
        "y_train = to_categorical(y_train)\r\n",
        "y_test = to_categorical(y_test)\r\n",
        "\r\n",
        "model.fit(X_train, y_train, epochs=10, batch_size=128, verbose=2)\r\n",
        "\r\n",
        "test_loss, test_accuracy = model.evaluate(X_test, y_test)\r\n",
        "print(\"Test Accuracy: %.2f\" % (test_accuracy * 100) + \"%\")"
      ],
      "execution_count": 2,
      "outputs": [
        {
          "output_type": "stream",
          "text": [
            "Epoch 1/10\n",
            "469/469 - 4s - loss: 6.0092 - accuracy: 0.8977\n",
            "Epoch 2/10\n",
            "469/469 - 4s - loss: 0.7239 - accuracy: 0.9551\n",
            "Epoch 3/10\n",
            "469/469 - 4s - loss: 0.4546 - accuracy: 0.9670\n",
            "Epoch 4/10\n",
            "469/469 - 4s - loss: 0.4112 - accuracy: 0.9723\n",
            "Epoch 5/10\n",
            "469/469 - 4s - loss: 0.3408 - accuracy: 0.9772\n",
            "Epoch 6/10\n",
            "469/469 - 4s - loss: 0.3163 - accuracy: 0.9798\n",
            "Epoch 7/10\n",
            "469/469 - 4s - loss: 0.2900 - accuracy: 0.9821\n",
            "Epoch 8/10\n",
            "469/469 - 4s - loss: 0.2427 - accuracy: 0.9844\n",
            "Epoch 9/10\n",
            "469/469 - 4s - loss: 0.1989 - accuracy: 0.9864\n",
            "Epoch 10/10\n",
            "469/469 - 4s - loss: 0.2075 - accuracy: 0.9873\n",
            "313/313 [==============================] - 1s 2ms/step - loss: 0.7612 - accuracy: 0.9712\n",
            "Test Accuracy: 97.12%\n"
          ],
          "name": "stdout"
        }
      ]
    }
  ]
}