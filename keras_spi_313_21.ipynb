{
  "nbformat": 4,
  "nbformat_minor": 0,
  "metadata": {
    "colab": {
      "name": "keras_spi_313_21.ipynb",
      "provenance": [],
      "collapsed_sections": []
    },
    "kernelspec": {
      "name": "python3",
      "display_name": "Python 3"
    }
  },
  "cells": [
    {
      "cell_type": "code",
      "metadata": {
        "id": "3vfE_8vne5JO"
      },
      "source": [
        "import numpy as np\r\n",
        "import pandas as pd\r\n",
        "from keras.layers import Dense\r\n",
        "from keras.models import Sequential\r\n",
        "from sklearn.preprocessing import OneHotEncoder\r\n",
        "from sklearn.model_selection import train_test_split\r\n",
        "\r\n",
        "url = 'https://projects.fivethirtyeight.com/soccer-api/club/spi_matches.csv'\r\n",
        "df = pd.read_csv(url, parse_dates=['date']).dropna()\r\n",
        "df = df[(df.league=='Barclays Premier League') | (df.league=='Major League Soccer') | (df.league=='Chinese Super League')]\r\n",
        "df['spi_margin'] = np.abs(df['spi1'] - df['spi2'])"
      ],
      "execution_count": 16,
      "outputs": []
    },
    {
      "cell_type": "code",
      "metadata": {
        "id": "fEr750_qwVXR"
      },
      "source": [
        "ohe = OneHotEncoder()\r\n",
        "t1 = df['team1'].unique().tolist()\r\n",
        "t2 = df['team2'].unique().tolist()\r\n",
        "team1 = df.iloc[:,4:5].values\r\n",
        "team1 = ohe.fit_transform(team1).toarray()\r\n",
        "team1 = pd.DataFrame(team1).reset_index(drop=True)\r\n",
        "team1.columns = t1\r\n",
        "team2 = df.iloc[:,5:6].values\r\n",
        "team2 = ohe.fit_transform(team2).toarray()\r\n",
        "team2 = pd.DataFrame(team2).reset_index(drop=True)\r\n",
        "team2.columns = t2\r\n",
        "X_num = df[['spi1', 'spi2', 'prob1', 'prob2', 'probtie', 'proj_score1', 'proj_score2', 'importance1', 'importance2', 'score1', 'score2', 'xg1', 'xg2', 'nsxg1', 'nsxg2', 'adj_score1', 'adj_score2']].reset_index(drop=True)\r\n",
        "X = pd.concat([X_num, team1, team2], axis=1)\r\n",
        "y = df[['spi_margin']].copy()\r\n",
        "\r\n",
        "X_train, X_test, y_train, y_test = train_test_split(X, y, test_size=0.25, random_state=6)\r\n",
        "y_train = ohe.fit_transform(y_train).toarray()\r\n",
        "y_test = ohe.fit_transform(y_test).toarray()"
      ],
      "execution_count": 17,
      "outputs": []
    },
    {
      "cell_type": "code",
      "metadata": {
        "id": "UFc0BdBYz8-2"
      },
      "source": [
        "model = Sequential()\r\n",
        "model.add(Dense(128, activation='relu', input_shape=(165, )))\r\n",
        "model.add(Dense(64, activation='relu'))\r\n",
        "model.add(Dense(1, activation='linear', name='dense_output'))"
      ],
      "execution_count": 19,
      "outputs": []
    },
    {
      "cell_type": "code",
      "metadata": {
        "id": "uoLQjNBc0KB5"
      },
      "source": [
        "model.compile(optimizer='rmsprop', loss='mse', metrics=['mae'])"
      ],
      "execution_count": 20,
      "outputs": []
    },
    {
      "cell_type": "code",
      "metadata": {
        "colab": {
          "base_uri": "https://localhost:8080/"
        },
        "id": "Bspd6u_10L20",
        "outputId": "16872550-ec6d-49d2-9767-d0bb500520b4"
      },
      "source": [
        "model.fit(X_train, y_train, epochs=8, batch_size=128)"
      ],
      "execution_count": 24,
      "outputs": [
        {
          "output_type": "stream",
          "text": [
            "Epoch 1/8\n",
            "22/22 [==============================] - 0s 5ms/step - loss: 0.1279 - mae: 0.2864\n",
            "Epoch 2/8\n",
            "22/22 [==============================] - 0s 5ms/step - loss: 0.0837 - mae: 0.2438\n",
            "Epoch 3/8\n",
            "22/22 [==============================] - 0s 5ms/step - loss: 0.0862 - mae: 0.2409\n",
            "Epoch 4/8\n",
            "22/22 [==============================] - 0s 5ms/step - loss: 0.0579 - mae: 0.2027\n",
            "Epoch 5/8\n",
            "22/22 [==============================] - 0s 5ms/step - loss: 0.0642 - mae: 0.2057\n",
            "Epoch 6/8\n",
            "22/22 [==============================] - 0s 5ms/step - loss: 0.0599 - mae: 0.2019\n",
            "Epoch 7/8\n",
            "22/22 [==============================] - 0s 5ms/step - loss: 0.0432 - mae: 0.1760\n",
            "Epoch 8/8\n",
            "22/22 [==============================] - 0s 4ms/step - loss: 0.0422 - mae: 0.1797\n"
          ],
          "name": "stdout"
        },
        {
          "output_type": "execute_result",
          "data": {
            "text/plain": [
              "<tensorflow.python.keras.callbacks.History at 0x7fc17b9eb3d0>"
            ]
          },
          "metadata": {
            "tags": []
          },
          "execution_count": 24
        }
      ]
    },
    {
      "cell_type": "code",
      "metadata": {
        "colab": {
          "base_uri": "https://localhost:8080/"
        },
        "id": "Zcij3Rp00pZ0",
        "outputId": "bd4c8a91-9511-42f6-dc73-09d1300f2d86"
      },
      "source": [
        "mse, mae = model.evaluate(X_test, y_test)"
      ],
      "execution_count": 25,
      "outputs": [
        {
          "output_type": "stream",
          "text": [
            "29/29 [==============================] - 0s 1ms/step - loss: 0.0329 - mae: 0.1589\n"
          ],
          "name": "stdout"
        }
      ]
    },
    {
      "cell_type": "code",
      "metadata": {
        "colab": {
          "base_uri": "https://localhost:8080/"
        },
        "id": "_0HL4dDC_pPa",
        "outputId": "5f30c441-47f3-4cdc-b3db-be4b78cb5648"
      },
      "source": [
        "print(\"Mean Average Error: %.2f\" % (mae))\r\n",
        "m_calc = mae / np.mean(df['spi_margin'])\r\n",
        "print(\"Mean Y Value: %.2f\" % np.mean(df['spi_margin']))"
      ],
      "execution_count": 26,
      "outputs": [
        {
          "output_type": "stream",
          "text": [
            "Mean Average Error: 0.16\n",
            "Mean Y Value: 10.64\n"
          ],
          "name": "stdout"
        }
      ]
    },
    {
      "cell_type": "code",
      "metadata": {
        "colab": {
          "base_uri": "https://localhost:8080/"
        },
        "id": "_quZRZAP9a8y",
        "outputId": "c19540a6-786e-4e65-a475-655be7b34b22"
      },
      "source": [
        "print(\"Mean Accuracy: %.2f\" % ((1 - m_calc )* 100) + \"%\")"
      ],
      "execution_count": 28,
      "outputs": [
        {
          "output_type": "stream",
          "text": [
            "Mean Accuracy: 98.51%\n"
          ],
          "name": "stdout"
        }
      ]
    }
  ]
}