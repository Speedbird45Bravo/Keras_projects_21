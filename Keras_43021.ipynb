{
  "nbformat": 4,
  "nbformat_minor": 0,
  "metadata": {
    "colab": {
      "name": "Keras_43021.ipynb",
      "provenance": [],
      "collapsed_sections": [],
      "authorship_tag": "ABX9TyPU7W08rZSSFi+sAHJWMkYL",
      "include_colab_link": true
    },
    "kernelspec": {
      "name": "python3",
      "display_name": "Python 3"
    },
    "language_info": {
      "name": "python"
    }
  },
  "cells": [
    {
      "cell_type": "markdown",
      "metadata": {
        "id": "view-in-github",
        "colab_type": "text"
      },
      "source": [
        "<a href=\"https://colab.research.google.com/github/Speedbird45Bravo/Keras_projects_21/blob/main/Keras_43021.ipynb\" target=\"_parent\"><img src=\"https://colab.research.google.com/assets/colab-badge.svg\" alt=\"Open In Colab\"/></a>"
      ]
    },
    {
      "cell_type": "code",
      "metadata": {
        "id": "vsyzeiRft-wp"
      },
      "source": [
        "from keras.layers import Dense\n",
        "from keras.models import Sequential\n",
        "from keras.utils import to_categorical\n",
        "from sklearn.model_selection import train_test_split\n",
        "import numpy as np\n",
        "import pandas as pd"
      ],
      "execution_count": 41,
      "outputs": []
    },
    {
      "cell_type": "code",
      "metadata": {
        "id": "y-CGV0WNuNat"
      },
      "source": [
        "df = pd.read_csv(\"https://projects.fivethirtyeight.com/soccer-api/club/spi_matches.csv\").dropna()\n",
        "df = df[(df.league==\"Barclays Premier League\") | (df.league==\"UEFA Champions League\") & (df.season==2019)]"
      ],
      "execution_count": 42,
      "outputs": []
    },
    {
      "cell_type": "code",
      "metadata": {
        "id": "YZ32oaBTuTwX"
      },
      "source": [
        "df[\"spi_margin\"] = np.abs(df[\"spi1\"] - df[\"spi2\"])"
      ],
      "execution_count": 43,
      "outputs": []
    },
    {
      "cell_type": "code",
      "metadata": {
        "id": "72yABmbpuq17"
      },
      "source": [
        "spi = []"
      ],
      "execution_count": 44,
      "outputs": []
    },
    {
      "cell_type": "code",
      "metadata": {
        "id": "7JSAxfAtuw73"
      },
      "source": [
        "for x in df[\"spi_margin\"]:\n",
        "  if x > (np.mean(df[\"spi_margin\"]) + (np.std(df[\"spi_margin\"]) * 1.5)):\n",
        "    spi.append(\"OUTSIDE\")\n",
        "  else:\n",
        "    spi.append(\"INSIDE\")"
      ],
      "execution_count": 45,
      "outputs": []
    },
    {
      "cell_type": "code",
      "metadata": {
        "id": "TAsUhB9Hv6Eb"
      },
      "source": [
        "df[\"spi_margin_bucket\"] = spi"
      ],
      "execution_count": 46,
      "outputs": []
    },
    {
      "cell_type": "code",
      "metadata": {
        "id": "aov5yA_tu3Hr"
      },
      "source": [
        "def categorize(array):\n",
        "  array = to_categorical(np.asarray(pd.factorize(array)[0]))\n",
        "  return array"
      ],
      "execution_count": 47,
      "outputs": []
    },
    {
      "cell_type": "code",
      "metadata": {
        "id": "I0p8QQezvpVy"
      },
      "source": [
        "def load_model():\n",
        "  model = Sequential()\n",
        "  model.add(Dense(16, activation=\"relu\"))\n",
        "  model.add(Dense(2, activation=\"softmax\"))\n",
        "  model.compile(optimizer=\"adam\", loss=\"binary_crossentropy\", metrics=[\"accuracy\"])\n",
        "  return model"
      ],
      "execution_count": 48,
      "outputs": []
    },
    {
      "cell_type": "code",
      "metadata": {
        "id": "rlxO5IW6vziy"
      },
      "source": [
        "X = df[['spi1', 'spi2']]\n",
        "y = df[['spi_margin_bucket']].copy()"
      ],
      "execution_count": 49,
      "outputs": []
    },
    {
      "cell_type": "code",
      "metadata": {
        "id": "-ADmyCmZwYTW"
      },
      "source": [
        "np.random.seed(6)"
      ],
      "execution_count": 50,
      "outputs": []
    },
    {
      "cell_type": "code",
      "metadata": {
        "id": "H49bAi_av-M2"
      },
      "source": [
        "X_train, X_test, y_train, y_test = train_test_split(X, y, test_size=0.2, random_state=6)"
      ],
      "execution_count": 51,
      "outputs": []
    },
    {
      "cell_type": "code",
      "metadata": {
        "id": "ZHRloeekwsav"
      },
      "source": [
        "y_train = categorize(y_train[\"spi_margin_bucket\"])\n",
        "y_test = categorize(y_test[\"spi_margin_bucket\"])"
      ],
      "execution_count": 53,
      "outputs": []
    },
    {
      "cell_type": "code",
      "metadata": {
        "colab": {
          "base_uri": "https://localhost:8080/"
        },
        "id": "6KEvpOFEwCER",
        "outputId": "8ef1c71b-a7ff-45a9-9fea-6adaa380bb29"
      },
      "source": [
        "model = load_model()\n",
        "model.fit(X_train, y_train, epochs=40, batch_size=128, verbose=2, validation_split=0.2)"
      ],
      "execution_count": 54,
      "outputs": [
        {
          "output_type": "stream",
          "text": [
            "Epoch 1/40\n",
            "10/10 - 1s - loss: 2.9118 - accuracy: 0.8953 - val_loss: 2.1132 - val_accuracy: 0.9126\n",
            "Epoch 2/40\n",
            "10/10 - 0s - loss: 2.2885 - accuracy: 0.8953 - val_loss: 1.5947 - val_accuracy: 0.9126\n",
            "Epoch 3/40\n",
            "10/10 - 0s - loss: 1.6748 - accuracy: 0.8953 - val_loss: 1.0879 - val_accuracy: 0.9159\n",
            "Epoch 4/40\n",
            "10/10 - 0s - loss: 1.1504 - accuracy: 0.9172 - val_loss: 0.8480 - val_accuracy: 0.9094\n",
            "Epoch 5/40\n",
            "10/10 - 0s - loss: 1.0348 - accuracy: 0.8604 - val_loss: 0.8728 - val_accuracy: 0.8641\n",
            "Epoch 6/40\n",
            "10/10 - 0s - loss: 1.0007 - accuracy: 0.8782 - val_loss: 0.8025 - val_accuracy: 0.9126\n",
            "Epoch 7/40\n",
            "10/10 - 0s - loss: 0.9588 - accuracy: 0.9196 - val_loss: 0.7766 - val_accuracy: 0.9385\n",
            "Epoch 8/40\n",
            "10/10 - 0s - loss: 0.9317 - accuracy: 0.9205 - val_loss: 0.7529 - val_accuracy: 0.9159\n",
            "Epoch 9/40\n",
            "10/10 - 0s - loss: 0.8976 - accuracy: 0.9115 - val_loss: 0.7303 - val_accuracy: 0.9159\n",
            "Epoch 10/40\n",
            "10/10 - 0s - loss: 0.8710 - accuracy: 0.9075 - val_loss: 0.7045 - val_accuracy: 0.9159\n",
            "Epoch 11/40\n",
            "10/10 - 0s - loss: 0.8381 - accuracy: 0.9188 - val_loss: 0.6800 - val_accuracy: 0.9256\n",
            "Epoch 12/40\n",
            "10/10 - 0s - loss: 0.8079 - accuracy: 0.9229 - val_loss: 0.6568 - val_accuracy: 0.9256\n",
            "Epoch 13/40\n",
            "10/10 - 0s - loss: 0.7825 - accuracy: 0.9075 - val_loss: 0.6332 - val_accuracy: 0.9159\n",
            "Epoch 14/40\n",
            "10/10 - 0s - loss: 0.7486 - accuracy: 0.9164 - val_loss: 0.6060 - val_accuracy: 0.9385\n",
            "Epoch 15/40\n",
            "10/10 - 0s - loss: 0.7190 - accuracy: 0.9286 - val_loss: 0.5837 - val_accuracy: 0.9385\n",
            "Epoch 16/40\n",
            "10/10 - 0s - loss: 0.6911 - accuracy: 0.9245 - val_loss: 0.5624 - val_accuracy: 0.9256\n",
            "Epoch 17/40\n",
            "10/10 - 0s - loss: 0.6610 - accuracy: 0.9245 - val_loss: 0.5378 - val_accuracy: 0.9385\n",
            "Epoch 18/40\n",
            "10/10 - 0s - loss: 0.6329 - accuracy: 0.9269 - val_loss: 0.5168 - val_accuracy: 0.9417\n",
            "Epoch 19/40\n",
            "10/10 - 0s - loss: 0.6058 - accuracy: 0.9318 - val_loss: 0.4960 - val_accuracy: 0.9417\n",
            "Epoch 20/40\n",
            "10/10 - 0s - loss: 0.5815 - accuracy: 0.9286 - val_loss: 0.4760 - val_accuracy: 0.9417\n",
            "Epoch 21/40\n",
            "10/10 - 0s - loss: 0.5554 - accuracy: 0.9310 - val_loss: 0.4556 - val_accuracy: 0.9385\n",
            "Epoch 22/40\n",
            "10/10 - 0s - loss: 0.5313 - accuracy: 0.9318 - val_loss: 0.4379 - val_accuracy: 0.9417\n",
            "Epoch 23/40\n",
            "10/10 - 0s - loss: 0.5087 - accuracy: 0.9310 - val_loss: 0.4198 - val_accuracy: 0.9417\n",
            "Epoch 24/40\n",
            "10/10 - 0s - loss: 0.4897 - accuracy: 0.9213 - val_loss: 0.4037 - val_accuracy: 0.9353\n",
            "Epoch 25/40\n",
            "10/10 - 0s - loss: 0.4703 - accuracy: 0.9213 - val_loss: 0.3923 - val_accuracy: 0.9320\n",
            "Epoch 26/40\n",
            "10/10 - 0s - loss: 0.4524 - accuracy: 0.9148 - val_loss: 0.3775 - val_accuracy: 0.9288\n",
            "Epoch 27/40\n",
            "10/10 - 0s - loss: 0.4380 - accuracy: 0.9131 - val_loss: 0.3678 - val_accuracy: 0.9320\n",
            "Epoch 28/40\n",
            "10/10 - 0s - loss: 0.4224 - accuracy: 0.9034 - val_loss: 0.3549 - val_accuracy: 0.9159\n",
            "Epoch 29/40\n",
            "10/10 - 0s - loss: 0.4111 - accuracy: 0.9018 - val_loss: 0.3470 - val_accuracy: 0.9126\n",
            "Epoch 30/40\n",
            "10/10 - 0s - loss: 0.3981 - accuracy: 0.8994 - val_loss: 0.3386 - val_accuracy: 0.9126\n",
            "Epoch 31/40\n",
            "10/10 - 0s - loss: 0.3892 - accuracy: 0.8953 - val_loss: 0.3315 - val_accuracy: 0.9126\n",
            "Epoch 32/40\n",
            "10/10 - 0s - loss: 0.3794 - accuracy: 0.8953 - val_loss: 0.3238 - val_accuracy: 0.9126\n",
            "Epoch 33/40\n",
            "10/10 - 0s - loss: 0.3743 - accuracy: 0.8953 - val_loss: 0.3201 - val_accuracy: 0.9126\n",
            "Epoch 34/40\n",
            "10/10 - 0s - loss: 0.3667 - accuracy: 0.8953 - val_loss: 0.3168 - val_accuracy: 0.9126\n",
            "Epoch 35/40\n",
            "10/10 - 0s - loss: 0.3609 - accuracy: 0.8953 - val_loss: 0.3125 - val_accuracy: 0.9126\n",
            "Epoch 36/40\n",
            "10/10 - 0s - loss: 0.3588 - accuracy: 0.8953 - val_loss: 0.3146 - val_accuracy: 0.9126\n",
            "Epoch 37/40\n",
            "10/10 - 0s - loss: 0.3549 - accuracy: 0.8953 - val_loss: 0.3076 - val_accuracy: 0.9126\n",
            "Epoch 38/40\n",
            "10/10 - 0s - loss: 0.3515 - accuracy: 0.8953 - val_loss: 0.3069 - val_accuracy: 0.9126\n",
            "Epoch 39/40\n",
            "10/10 - 0s - loss: 0.3486 - accuracy: 0.8953 - val_loss: 0.3059 - val_accuracy: 0.9126\n",
            "Epoch 40/40\n",
            "10/10 - 0s - loss: 0.3482 - accuracy: 0.8953 - val_loss: 0.3031 - val_accuracy: 0.9126\n"
          ],
          "name": "stdout"
        },
        {
          "output_type": "execute_result",
          "data": {
            "text/plain": [
              "<tensorflow.python.keras.callbacks.History at 0x7fd6af838b10>"
            ]
          },
          "metadata": {
            "tags": []
          },
          "execution_count": 54
        }
      ]
    },
    {
      "cell_type": "code",
      "metadata": {
        "id": "UaKWllJWwmFI"
      },
      "source": [
        "predictions = model.predict(X_test)"
      ],
      "execution_count": 55,
      "outputs": []
    },
    {
      "cell_type": "code",
      "metadata": {
        "colab": {
          "base_uri": "https://localhost:8080/"
        },
        "id": "sBRmGIFZw11c",
        "outputId": "4b928863-c4bf-48d5-fcf5-425768900acf"
      },
      "source": [
        "loss, accuracy = model.evaluate(y_test, predictions)"
      ],
      "execution_count": 56,
      "outputs": [
        {
          "output_type": "stream",
          "text": [
            "13/13 [==============================] - 0s 2ms/step - loss: 0.6958 - accuracy: 0.9171\n"
          ],
          "name": "stdout"
        }
      ]
    },
    {
      "cell_type": "code",
      "metadata": {
        "colab": {
          "base_uri": "https://localhost:8080/"
        },
        "id": "jdCLJUoRw43o",
        "outputId": "13f99866-876a-442a-a673-55a87b8032ce"
      },
      "source": [
        "print(\"Test Accuracy: {}%\".format(accuracy * 100))"
      ],
      "execution_count": 63,
      "outputs": [
        {
          "output_type": "stream",
          "text": [
            "Test Accuracy: 91.70984625816345%\n"
          ],
          "name": "stdout"
        }
      ]
    }
  ]
}