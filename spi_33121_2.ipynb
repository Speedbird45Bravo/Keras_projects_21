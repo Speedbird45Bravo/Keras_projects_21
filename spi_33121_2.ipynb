{
  "nbformat": 4,
  "nbformat_minor": 0,
  "metadata": {
    "colab": {
      "name": "spi_33121_2.ipynb",
      "provenance": [],
      "collapsed_sections": [],
      "authorship_tag": "ABX9TyPN210N3CRq53j241PtJd2u"
    },
    "kernelspec": {
      "name": "python3",
      "display_name": "Python 3"
    },
    "language_info": {
      "name": "python"
    }
  },
  "cells": [
    {
      "cell_type": "code",
      "metadata": {
        "id": "x4nYGKxjRSCj"
      },
      "source": [
        "from keras.layers import Dense\n",
        "from keras.models import Sequential\n",
        "from keras.utils import to_categorical\n",
        "import numpy as np\n",
        "import pandas as pd\n",
        "from sklearn.model_selection import train_test_split\n",
        "\n",
        "# This is a swing at a custom neural network predicting game results based on scores.\n",
        "# I've been in Keras for a few months, but am just starting to understand my way around.\n",
        "df = pd.read_csv(\"https://projects.fivethirtyeight.com/soccer-api/club/spi_matches.csv\").dropna()\n",
        "\n",
        "# We need to calculate one team's aggregate margin in order to determine the result.\n",
        "# We've chosen home for that calculation, but may as well get away as well for good measure.\n",
        "# Then, the absolute margin is the number of goals between the teams.\n",
        "df['hm'] = df['score1'] - df['score2']\n",
        "df['am'] = df['score2'] - df['score1']\n",
        "df['margin'] = np.abs(df['score1'] - df['score2'])\n",
        "\n",
        "results = []\n",
        "\n",
        "for i in df['hm']:\n",
        "  if i > 0: # If the home team's margin is greater than 0, it's a home win.\n",
        "    results.append(\"HOME WIN\")\n",
        "  elif i < 0: # If the home team's margin is less than 0, it's an away win.\n",
        "    results.append(\"AWAY WIN\")\n",
        "  else: # Otherwise, it's a draw.\n",
        "    results.append(\"DRAW\")\n",
        "    \n",
        "df['result'] = results"
      ],
      "execution_count": 598,
      "outputs": []
    },
    {
      "cell_type": "code",
      "metadata": {
        "id": "TSHlmvvmYOx1"
      },
      "source": [
        "# The model gets a little confused the more numerical rows are fed into it, so we're keeping it simple.\n",
        "X = df[['score1', 'score2', 'hm', 'am', 'margin']].reset_index(drop=True)\n",
        "y = df[['result']].copy()\n",
        "X_train, X_test, y_train, y_test = train_test_split(X, y, test_size=0.4, random_state=6)"
      ],
      "execution_count": 599,
      "outputs": []
    },
    {
      "cell_type": "code",
      "metadata": {
        "id": "KKR8yEm0ZJ0C"
      },
      "source": [
        "# Have to factorize the labels before converting them to categorical (e.g. 1.,0.,0.).\n",
        "y_train = to_categorical(pd.factorize(y_train['result'])[0])\n",
        "y_test = to_categorical(pd.factorize(y_test['result'])[0])\n",
        "\n",
        "# The train and test data will be easier to handle in array form.\n",
        "X_train = np.asarray(X_train)\n",
        "X_test = np.asarray(X_test)"
      ],
      "execution_count": 600,
      "outputs": []
    },
    {
      "cell_type": "code",
      "metadata": {
        "id": "rEQzVIuplF9v"
      },
      "source": [
        "# Three layers with a 3 unit output layer given the number of outcomes (HOME WIN, AWAY WIN, DRAW).\n",
        "model = Sequential()\n",
        "model.add(Dense(1024, activation='relu'))\n",
        "model.add(Dense(256, activation='relu'))\n",
        "model.add(Dense(3, activation='softmax'))\n",
        "model.compile(optimizer='rmsprop', loss='categorical_crossentropy', metrics=['accuracy'])"
      ],
      "execution_count": 601,
      "outputs": []
    },
    {
      "cell_type": "code",
      "metadata": {
        "colab": {
          "base_uri": "https://localhost:8080/"
        },
        "id": "SogBg30mlkf9",
        "outputId": "500b50ed-a8ae-48f2-97a0-13ec15ff4c39"
      },
      "source": [
        "# Definitely excess on the epochs. ¯\\_(ツ)_/¯\n",
        "model.fit(X_train, y_train, epochs=40, batch_size=128, validation_split=0.2, verbose=1)"
      ],
      "execution_count": 602,
      "outputs": [
        {
          "output_type": "stream",
          "text": [
            "Epoch 1/40\n",
            "75/75 [==============================] - 1s 11ms/step - loss: 0.1995 - accuracy: 0.9721 - val_loss: 6.1976e-04 - val_accuracy: 1.0000\n",
            "Epoch 2/40\n",
            "75/75 [==============================] - 1s 8ms/step - loss: 2.6382e-04 - accuracy: 1.0000 - val_loss: 5.0535e-06 - val_accuracy: 1.0000\n",
            "Epoch 3/40\n",
            "75/75 [==============================] - 1s 8ms/step - loss: 2.6054e-06 - accuracy: 1.0000 - val_loss: 1.5270e-07 - val_accuracy: 1.0000\n",
            "Epoch 4/40\n",
            "75/75 [==============================] - 1s 8ms/step - loss: 7.3994e-08 - accuracy: 1.0000 - val_loss: 0.0000e+00 - val_accuracy: 1.0000\n",
            "Epoch 5/40\n",
            "75/75 [==============================] - 1s 8ms/step - loss: 7.6786e-11 - accuracy: 1.0000 - val_loss: 0.0000e+00 - val_accuracy: 1.0000\n",
            "Epoch 6/40\n",
            "75/75 [==============================] - 1s 8ms/step - loss: 9.9552e-11 - accuracy: 1.0000 - val_loss: 0.0000e+00 - val_accuracy: 1.0000\n",
            "Epoch 7/40\n",
            "75/75 [==============================] - 1s 9ms/step - loss: 7.1477e-11 - accuracy: 1.0000 - val_loss: 0.0000e+00 - val_accuracy: 1.0000\n",
            "Epoch 8/40\n",
            "75/75 [==============================] - 1s 9ms/step - loss: 7.8653e-11 - accuracy: 1.0000 - val_loss: 0.0000e+00 - val_accuracy: 1.0000\n",
            "Epoch 9/40\n",
            "75/75 [==============================] - 1s 9ms/step - loss: 4.4901e-11 - accuracy: 1.0000 - val_loss: 0.0000e+00 - val_accuracy: 1.0000\n",
            "Epoch 10/40\n",
            "75/75 [==============================] - 1s 9ms/step - loss: 5.8055e-11 - accuracy: 1.0000 - val_loss: 0.0000e+00 - val_accuracy: 1.0000\n",
            "Epoch 11/40\n",
            "75/75 [==============================] - 1s 9ms/step - loss: 5.5161e-11 - accuracy: 1.0000 - val_loss: 0.0000e+00 - val_accuracy: 1.0000\n",
            "Epoch 12/40\n",
            "75/75 [==============================] - 1s 9ms/step - loss: 1.6217e-11 - accuracy: 1.0000 - val_loss: 0.0000e+00 - val_accuracy: 1.0000\n",
            "Epoch 13/40\n",
            "75/75 [==============================] - 1s 9ms/step - loss: 2.4580e-11 - accuracy: 1.0000 - val_loss: 0.0000e+00 - val_accuracy: 1.0000\n",
            "Epoch 14/40\n",
            "75/75 [==============================] - 1s 8ms/step - loss: 0.0000e+00 - accuracy: 1.0000 - val_loss: 0.0000e+00 - val_accuracy: 1.0000\n",
            "Epoch 15/40\n",
            "75/75 [==============================] - 1s 8ms/step - loss: 0.0000e+00 - accuracy: 1.0000 - val_loss: 0.0000e+00 - val_accuracy: 1.0000\n",
            "Epoch 16/40\n",
            "75/75 [==============================] - 1s 9ms/step - loss: 0.0000e+00 - accuracy: 1.0000 - val_loss: 0.0000e+00 - val_accuracy: 1.0000\n",
            "Epoch 17/40\n",
            "75/75 [==============================] - 1s 9ms/step - loss: 0.0000e+00 - accuracy: 1.0000 - val_loss: 0.0000e+00 - val_accuracy: 1.0000\n",
            "Epoch 18/40\n",
            "75/75 [==============================] - 1s 8ms/step - loss: 0.0000e+00 - accuracy: 1.0000 - val_loss: 0.0000e+00 - val_accuracy: 1.0000\n",
            "Epoch 19/40\n",
            "75/75 [==============================] - 1s 8ms/step - loss: 0.0000e+00 - accuracy: 1.0000 - val_loss: 0.0000e+00 - val_accuracy: 1.0000\n",
            "Epoch 20/40\n",
            "75/75 [==============================] - 1s 9ms/step - loss: 0.0000e+00 - accuracy: 1.0000 - val_loss: 0.0000e+00 - val_accuracy: 1.0000\n",
            "Epoch 21/40\n",
            "75/75 [==============================] - 1s 9ms/step - loss: 0.0000e+00 - accuracy: 1.0000 - val_loss: 0.0000e+00 - val_accuracy: 1.0000\n",
            "Epoch 22/40\n",
            "75/75 [==============================] - 1s 9ms/step - loss: 0.0000e+00 - accuracy: 1.0000 - val_loss: 0.0000e+00 - val_accuracy: 1.0000\n",
            "Epoch 23/40\n",
            "75/75 [==============================] - 1s 9ms/step - loss: 0.0000e+00 - accuracy: 1.0000 - val_loss: 0.0000e+00 - val_accuracy: 1.0000\n",
            "Epoch 24/40\n",
            "75/75 [==============================] - 1s 8ms/step - loss: 0.0000e+00 - accuracy: 1.0000 - val_loss: 0.0000e+00 - val_accuracy: 1.0000\n",
            "Epoch 25/40\n",
            "75/75 [==============================] - 1s 8ms/step - loss: 0.0000e+00 - accuracy: 1.0000 - val_loss: 0.0000e+00 - val_accuracy: 1.0000\n",
            "Epoch 26/40\n",
            "75/75 [==============================] - 1s 9ms/step - loss: 0.0000e+00 - accuracy: 1.0000 - val_loss: 0.0000e+00 - val_accuracy: 1.0000\n",
            "Epoch 27/40\n",
            "75/75 [==============================] - 1s 8ms/step - loss: 0.0000e+00 - accuracy: 1.0000 - val_loss: 0.0000e+00 - val_accuracy: 1.0000\n",
            "Epoch 28/40\n",
            "75/75 [==============================] - 1s 8ms/step - loss: 0.0000e+00 - accuracy: 1.0000 - val_loss: 0.0000e+00 - val_accuracy: 1.0000\n",
            "Epoch 29/40\n",
            "75/75 [==============================] - 1s 9ms/step - loss: 0.0000e+00 - accuracy: 1.0000 - val_loss: 0.0000e+00 - val_accuracy: 1.0000\n",
            "Epoch 30/40\n",
            "75/75 [==============================] - 1s 8ms/step - loss: 0.0000e+00 - accuracy: 1.0000 - val_loss: 0.0000e+00 - val_accuracy: 1.0000\n",
            "Epoch 31/40\n",
            "75/75 [==============================] - 1s 9ms/step - loss: 0.0000e+00 - accuracy: 1.0000 - val_loss: 0.0000e+00 - val_accuracy: 1.0000\n",
            "Epoch 32/40\n",
            "75/75 [==============================] - 1s 8ms/step - loss: 0.0000e+00 - accuracy: 1.0000 - val_loss: 0.0000e+00 - val_accuracy: 1.0000\n",
            "Epoch 33/40\n",
            "75/75 [==============================] - 1s 9ms/step - loss: 0.0000e+00 - accuracy: 1.0000 - val_loss: 0.0000e+00 - val_accuracy: 1.0000\n",
            "Epoch 34/40\n",
            "75/75 [==============================] - 1s 9ms/step - loss: 0.0000e+00 - accuracy: 1.0000 - val_loss: 0.0000e+00 - val_accuracy: 1.0000\n",
            "Epoch 35/40\n",
            "75/75 [==============================] - 1s 8ms/step - loss: 0.0000e+00 - accuracy: 1.0000 - val_loss: 0.0000e+00 - val_accuracy: 1.0000\n",
            "Epoch 36/40\n",
            "75/75 [==============================] - 1s 8ms/step - loss: 0.0000e+00 - accuracy: 1.0000 - val_loss: 0.0000e+00 - val_accuracy: 1.0000\n",
            "Epoch 37/40\n",
            "75/75 [==============================] - 1s 9ms/step - loss: 0.0000e+00 - accuracy: 1.0000 - val_loss: 0.0000e+00 - val_accuracy: 1.0000\n",
            "Epoch 38/40\n",
            "75/75 [==============================] - 1s 8ms/step - loss: 0.0000e+00 - accuracy: 1.0000 - val_loss: 0.0000e+00 - val_accuracy: 1.0000\n",
            "Epoch 39/40\n",
            "75/75 [==============================] - 1s 9ms/step - loss: 0.0000e+00 - accuracy: 1.0000 - val_loss: 0.0000e+00 - val_accuracy: 1.0000\n",
            "Epoch 40/40\n",
            "75/75 [==============================] - 1s 9ms/step - loss: 0.0000e+00 - accuracy: 1.0000 - val_loss: 0.0000e+00 - val_accuracy: 1.0000\n"
          ],
          "name": "stdout"
        },
        {
          "output_type": "execute_result",
          "data": {
            "text/plain": [
              "<tensorflow.python.keras.callbacks.History at 0x7f4447f12d50>"
            ]
          },
          "metadata": {
            "tags": []
          },
          "execution_count": 602
        }
      ]
    },
    {
      "cell_type": "code",
      "metadata": {
        "id": "HX9oUATLcjRY"
      },
      "source": [
        "# Now we will predict results based on test data.\n",
        "predictions = model.predict(X_test).round(2)"
      ],
      "execution_count": 603,
      "outputs": []
    },
    {
      "cell_type": "code",
      "metadata": {
        "id": "HBtpPZS6npfw"
      },
      "source": [
        "# Reshaping y_test and predictions to be directly compared 1v1 iteratively.\n",
        "predictions = predictions.reshape(23814,)\n",
        "predictions = pd.Series(predictions)\n",
        "predictions = pd.DataFrame(predictions).reset_index(drop=True)\n",
        "y_test = y_test.reshape(23814,)\n",
        "y_test = pd.Series(y_test)\n",
        "y_test = pd.DataFrame(y_test).reset_index(drop=True)\n",
        "PvA = pd.concat([y_test, predictions], axis=1)\n",
        "PvA.columns = [\"Predicted\", \"Actual\"]"
      ],
      "execution_count": 604,
      "outputs": []
    },
    {
      "cell_type": "code",
      "metadata": {
        "id": "3rLDbljhp14I"
      },
      "source": [
        "# If the margin is 0, there is no error. If the margin is 1, there was an error.\n",
        "PvA['Margin'] = np.abs(PvA['Predicted'] - PvA['Actual'])"
      ],
      "execution_count": 605,
      "outputs": []
    },
    {
      "cell_type": "code",
      "metadata": {
        "id": "cPbNlyl7qCPs"
      },
      "source": [
        "# Sum of all of the rows with errors.\n",
        "PvA_err = np.sum(PvA['Margin'])"
      ],
      "execution_count": 607,
      "outputs": []
    },
    {
      "cell_type": "code",
      "metadata": {
        "id": "P267y9BrqE7c"
      },
      "source": [
        "# Length of the prediction set.\n",
        "PvA_len = len(PvA)"
      ],
      "execution_count": 608,
      "outputs": []
    },
    {
      "cell_type": "code",
      "metadata": {
        "id": "DlL8mLXAqWoQ"
      },
      "source": [
        "# Accuracy metric.\n",
        "PvA_acc = 1-(PvA_err/PvA_len)"
      ],
      "execution_count": 609,
      "outputs": []
    },
    {
      "cell_type": "code",
      "metadata": {
        "colab": {
          "base_uri": "https://localhost:8080/"
        },
        "id": "gqb7b1DZsjgk",
        "outputId": "78b01ffb-7c82-4c75-9494-d80d3c94a375"
      },
      "source": [
        "# AORTD = Accuracy on Random Test Data\n",
        "print(\"AORTD: %.2f\" % (PvA_acc * 100) + \"%\")"
      ],
      "execution_count": 610,
      "outputs": [
        {
          "output_type": "stream",
          "text": [
            "AORTD: 63.69%\n"
          ],
          "name": "stdout"
        }
      ]
    }
  ]
}