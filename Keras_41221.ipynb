{
  "nbformat": 4,
  "nbformat_minor": 0,
  "metadata": {
    "colab": {
      "name": "Keras_41221.ipynb",
      "provenance": [],
      "collapsed_sections": [],
      "authorship_tag": "ABX9TyOqpUyx0zV4ymkJPC0axSc/",
      "include_colab_link": true
    },
    "kernelspec": {
      "name": "python3",
      "display_name": "Python 3"
    },
    "language_info": {
      "name": "python"
    }
  },
  "cells": [
    {
      "cell_type": "markdown",
      "metadata": {
        "id": "view-in-github",
        "colab_type": "text"
      },
      "source": [
        "<a href=\"https://colab.research.google.com/github/Speedbird45Bravo/Keras_projects_21/blob/main/Keras_41221.ipynb\" target=\"_parent\"><img src=\"https://colab.research.google.com/assets/colab-badge.svg\" alt=\"Open In Colab\"/></a>"
      ]
    },
    {
      "cell_type": "code",
      "metadata": {
        "id": "ByqDHAraEPJl"
      },
      "source": [
        "from keras.layers import Dense, Dropout\n",
        "from keras.models import Sequential\n",
        "from keras.utils import to_categorical\n",
        "from sklearn.model_selection import train_test_split\n",
        "import numpy as np\n",
        "import pandas as pd\n",
        "\n",
        "df = pd.read_csv(\"https://projects.fivethirtyeight.com/soccer-api/club/spi_matches.csv\").dropna()\n",
        "df = df[(df.league=='Barclays Premier League') | (df.league=='English League Championship') | (df.league=='Major League Soccer')]\n",
        "df['spi_margin'] = np.abs(df['spi1'] - df['spi2'])\n",
        "df['margin'] = np.abs(df['score1'] - df['score2'])\n",
        "df['goal_count'] = df['score2'] + df['score1']\n",
        "\n",
        "gcount = []\n",
        "\n",
        "for x in df['goal_count']:\n",
        "  if x > 0:\n",
        "    gcount.append(\"GOALS\")\n",
        "  else:\n",
        "    gcount.append(\"SCORELESS\")\n",
        "\n",
        "df['goal_count_bucket'] = gcount"
      ],
      "execution_count": 33,
      "outputs": []
    },
    {
      "cell_type": "code",
      "metadata": {
        "id": "a2FtbttfFGa6"
      },
      "source": [
        "def load_model():\n",
        "  model = Sequential()\n",
        "  model.add(Dense(16, activation='relu'))\n",
        "  model.add(Dense(2, activation='softmax'))\n",
        "  model.compile(optimizer='adam', loss='binary_crossentropy', metrics=['accuracy'])\n",
        "  return model\n",
        "\n",
        "def to_cat(array):\n",
        "  y = to_categorical(np.asarray(pd.factorize(array)[0]))\n",
        "  return y"
      ],
      "execution_count": 34,
      "outputs": []
    },
    {
      "cell_type": "code",
      "metadata": {
        "id": "VPFuj5MQFjYK"
      },
      "source": [
        "X = df[['score1','score2']].reset_index(drop=True)\n",
        "y = df[['goal_count_bucket']].copy()\n",
        "X_train, X_test, y_train, y_test = train_test_split(X, y, test_size=0.2, random_state=6)\n",
        "y_train = to_cat(y_train['goal_count_bucket'])\n",
        "y_test = to_cat(y_test['goal_count_bucket'])"
      ],
      "execution_count": 35,
      "outputs": []
    },
    {
      "cell_type": "code",
      "metadata": {
        "colab": {
          "base_uri": "https://localhost:8080/"
        },
        "id": "0u54QT2UF09V",
        "outputId": "cf91f35c-4983-4b8e-addb-b5fb9bdcd778"
      },
      "source": [
        "model = load_model()\n",
        "model.fit(X_train, y_train, epochs=40, batch_size=128, verbose=1, validation_split=0.2)"
      ],
      "execution_count": 36,
      "outputs": [
        {
          "output_type": "stream",
          "text": [
            "Epoch 1/40\n",
            "26/26 [==============================] - 1s 9ms/step - loss: 0.9727 - accuracy: 0.2694 - val_loss: 0.8236 - val_accuracy: 0.3204\n",
            "Epoch 2/40\n",
            "26/26 [==============================] - 0s 3ms/step - loss: 0.7781 - accuracy: 0.3892 - val_loss: 0.6590 - val_accuracy: 0.6408\n",
            "Epoch 3/40\n",
            "26/26 [==============================] - 0s 3ms/step - loss: 0.6286 - accuracy: 0.6987 - val_loss: 0.5343 - val_accuracy: 0.9175\n",
            "Epoch 4/40\n",
            "26/26 [==============================] - 0s 4ms/step - loss: 0.5066 - accuracy: 0.9240 - val_loss: 0.4407 - val_accuracy: 0.9272\n",
            "Epoch 5/40\n",
            "26/26 [==============================] - 0s 3ms/step - loss: 0.4189 - accuracy: 0.9358 - val_loss: 0.3676 - val_accuracy: 0.9272\n",
            "Epoch 6/40\n",
            "26/26 [==============================] - 0s 3ms/step - loss: 0.3494 - accuracy: 0.9291 - val_loss: 0.3121 - val_accuracy: 0.9272\n",
            "Epoch 7/40\n",
            "26/26 [==============================] - 0s 3ms/step - loss: 0.2972 - accuracy: 0.9347 - val_loss: 0.2706 - val_accuracy: 0.9272\n",
            "Epoch 8/40\n",
            "26/26 [==============================] - 0s 3ms/step - loss: 0.2563 - accuracy: 0.9343 - val_loss: 0.2396 - val_accuracy: 0.9272\n",
            "Epoch 9/40\n",
            "26/26 [==============================] - 0s 4ms/step - loss: 0.2340 - accuracy: 0.9316 - val_loss: 0.2165 - val_accuracy: 0.9272\n",
            "Epoch 10/40\n",
            "26/26 [==============================] - 0s 3ms/step - loss: 0.2121 - accuracy: 0.9249 - val_loss: 0.1984 - val_accuracy: 0.9272\n",
            "Epoch 11/40\n",
            "26/26 [==============================] - 0s 3ms/step - loss: 0.1879 - accuracy: 0.9329 - val_loss: 0.1841 - val_accuracy: 0.9272\n",
            "Epoch 12/40\n",
            "26/26 [==============================] - 0s 3ms/step - loss: 0.1774 - accuracy: 0.9295 - val_loss: 0.1729 - val_accuracy: 0.9272\n",
            "Epoch 13/40\n",
            "26/26 [==============================] - 0s 3ms/step - loss: 0.1661 - accuracy: 0.9308 - val_loss: 0.1641 - val_accuracy: 0.9272\n",
            "Epoch 14/40\n",
            "26/26 [==============================] - 0s 3ms/step - loss: 0.1604 - accuracy: 0.9283 - val_loss: 0.1569 - val_accuracy: 0.9272\n",
            "Epoch 15/40\n",
            "26/26 [==============================] - 0s 4ms/step - loss: 0.1496 - accuracy: 0.9320 - val_loss: 0.1508 - val_accuracy: 0.9272\n",
            "Epoch 16/40\n",
            "26/26 [==============================] - 0s 3ms/step - loss: 0.1417 - accuracy: 0.9325 - val_loss: 0.1457 - val_accuracy: 0.9272\n",
            "Epoch 17/40\n",
            "26/26 [==============================] - 0s 3ms/step - loss: 0.1352 - accuracy: 0.9333 - val_loss: 0.1413 - val_accuracy: 0.9272\n",
            "Epoch 18/40\n",
            "26/26 [==============================] - 0s 3ms/step - loss: 0.1377 - accuracy: 0.9290 - val_loss: 0.1375 - val_accuracy: 0.9272\n",
            "Epoch 19/40\n",
            "26/26 [==============================] - 0s 4ms/step - loss: 0.1301 - accuracy: 0.9315 - val_loss: 0.1340 - val_accuracy: 0.9272\n",
            "Epoch 20/40\n",
            "26/26 [==============================] - 0s 3ms/step - loss: 0.1225 - accuracy: 0.9371 - val_loss: 0.1308 - val_accuracy: 0.9272\n",
            "Epoch 21/40\n",
            "26/26 [==============================] - 0s 3ms/step - loss: 0.1304 - accuracy: 0.9262 - val_loss: 0.1278 - val_accuracy: 0.9272\n",
            "Epoch 22/40\n",
            "26/26 [==============================] - 0s 3ms/step - loss: 0.1198 - accuracy: 0.9342 - val_loss: 0.1249 - val_accuracy: 0.9272\n",
            "Epoch 23/40\n",
            "26/26 [==============================] - 0s 3ms/step - loss: 0.1166 - accuracy: 0.9341 - val_loss: 0.1221 - val_accuracy: 0.9272\n",
            "Epoch 24/40\n",
            "26/26 [==============================] - 0s 3ms/step - loss: 0.1172 - accuracy: 0.9317 - val_loss: 0.1193 - val_accuracy: 0.9272\n",
            "Epoch 25/40\n",
            "26/26 [==============================] - 0s 3ms/step - loss: 0.1171 - accuracy: 0.9280 - val_loss: 0.1165 - val_accuracy: 0.9272\n",
            "Epoch 26/40\n",
            "26/26 [==============================] - 0s 3ms/step - loss: 0.1086 - accuracy: 0.9329 - val_loss: 0.1138 - val_accuracy: 0.9272\n",
            "Epoch 27/40\n",
            "26/26 [==============================] - 0s 3ms/step - loss: 0.1083 - accuracy: 0.9295 - val_loss: 0.1111 - val_accuracy: 0.9272\n",
            "Epoch 28/40\n",
            "26/26 [==============================] - 0s 3ms/step - loss: 0.1111 - accuracy: 0.9269 - val_loss: 0.1084 - val_accuracy: 0.9272\n",
            "Epoch 29/40\n",
            "26/26 [==============================] - 0s 3ms/step - loss: 0.0985 - accuracy: 0.9353 - val_loss: 0.1058 - val_accuracy: 0.9272\n",
            "Epoch 30/40\n",
            "26/26 [==============================] - 0s 3ms/step - loss: 0.0939 - accuracy: 0.9382 - val_loss: 0.1034 - val_accuracy: 0.9272\n",
            "Epoch 31/40\n",
            "26/26 [==============================] - 0s 3ms/step - loss: 0.0957 - accuracy: 0.9340 - val_loss: 0.1013 - val_accuracy: 0.9272\n",
            "Epoch 32/40\n",
            "26/26 [==============================] - 0s 4ms/step - loss: 0.0977 - accuracy: 0.9306 - val_loss: 0.0993 - val_accuracy: 0.9272\n",
            "Epoch 33/40\n",
            "26/26 [==============================] - 0s 3ms/step - loss: 0.1015 - accuracy: 0.9232 - val_loss: 0.0972 - val_accuracy: 0.9272\n",
            "Epoch 34/40\n",
            "26/26 [==============================] - 0s 3ms/step - loss: 0.0926 - accuracy: 0.9301 - val_loss: 0.0954 - val_accuracy: 0.9272\n",
            "Epoch 35/40\n",
            "26/26 [==============================] - 0s 3ms/step - loss: 0.0896 - accuracy: 0.9322 - val_loss: 0.0936 - val_accuracy: 0.9272\n",
            "Epoch 36/40\n",
            "26/26 [==============================] - 0s 3ms/step - loss: 0.0871 - accuracy: 0.9338 - val_loss: 0.0920 - val_accuracy: 0.9272\n",
            "Epoch 37/40\n",
            "26/26 [==============================] - 0s 3ms/step - loss: 0.0884 - accuracy: 0.9294 - val_loss: 0.0903 - val_accuracy: 0.9272\n",
            "Epoch 38/40\n",
            "26/26 [==============================] - 0s 3ms/step - loss: 0.0828 - accuracy: 0.9342 - val_loss: 0.0887 - val_accuracy: 0.9272\n",
            "Epoch 39/40\n",
            "26/26 [==============================] - 0s 3ms/step - loss: 0.0832 - accuracy: 0.9332 - val_loss: 0.0871 - val_accuracy: 0.9272\n",
            "Epoch 40/40\n",
            "26/26 [==============================] - 0s 3ms/step - loss: 0.0798 - accuracy: 0.9345 - val_loss: 0.0855 - val_accuracy: 0.9272\n"
          ],
          "name": "stdout"
        },
        {
          "output_type": "execute_result",
          "data": {
            "text/plain": [
              "<tensorflow.python.keras.callbacks.History at 0x7fba5792b0d0>"
            ]
          },
          "metadata": {
            "tags": []
          },
          "execution_count": 36
        }
      ]
    },
    {
      "cell_type": "code",
      "metadata": {
        "colab": {
          "base_uri": "https://localhost:8080/"
        },
        "id": "LvjIkWZuG-e_",
        "outputId": "fd61eeae-4e79-468d-9bfb-c62ce7d8e62c"
      },
      "source": [
        "predictions = model.predict(X_test).round(0)\n",
        "\n",
        "loss, accuracy = model.evaluate(y_test, predictions)\n",
        "print(\"Test Accuracy: %.2f\" % (accuracy * 100) + \"%\")"
      ],
      "execution_count": 37,
      "outputs": [
        {
          "output_type": "stream",
          "text": [
            "33/33 [==============================] - 0s 2ms/step - loss: 0.0614 - accuracy: 1.0000\n",
            "Test Accuracy: 100.00%\n"
          ],
          "name": "stdout"
        }
      ]
    }
  ]
}