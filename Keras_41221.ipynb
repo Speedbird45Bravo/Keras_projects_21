{
  "nbformat": 4,
  "nbformat_minor": 0,
  "metadata": {
    "colab": {
      "name": "Keras_41221.ipynb",
      "provenance": [],
      "collapsed_sections": [],
      "authorship_tag": "ABX9TyPai2XeQh3K5uaRaa0OUsOi",
      "include_colab_link": true
    },
    "kernelspec": {
      "name": "python3",
      "display_name": "Python 3"
    },
    "language_info": {
      "name": "python"
    }
  },
  "cells": [
    {
      "cell_type": "markdown",
      "metadata": {
        "id": "view-in-github",
        "colab_type": "text"
      },
      "source": [
        "<a href=\"https://colab.research.google.com/github/Speedbird45Bravo/Keras_projects_21/blob/main/Keras_41221.ipynb\" target=\"_parent\"><img src=\"https://colab.research.google.com/assets/colab-badge.svg\" alt=\"Open In Colab\"/></a>"
      ]
    },
    {
      "cell_type": "code",
      "metadata": {
        "id": "pkaP_-jQamxQ"
      },
      "source": [
        "from keras.layers import Dense\n",
        "from keras.models import Sequential\n",
        "from keras.utils import to_categorical\n",
        "from sklearn.model_selection import train_test_split\n",
        "import numpy as np\n",
        "import pandas as pd\n",
        "\n",
        "df = pd.read_csv(\"https://projects.fivethirtyeight.com/soccer-api/club/spi_matches.csv\").dropna()\n",
        "df['total_goals'] = df['score1'] + df['score2']"
      ],
      "execution_count": 16,
      "outputs": []
    },
    {
      "cell_type": "code",
      "metadata": {
        "id": "uj3Boz4YcdGE"
      },
      "source": [
        "total_goals = []\n",
        "\n",
        "for g in df['total_goals']:\n",
        "  if g > 0:\n",
        "    total_goals.append(\"GOALS\")\n",
        "  else:\n",
        "    total_goals.append(\"SCORELESS\")\n",
        "\n",
        "df['goal_label'] = total_goals"
      ],
      "execution_count": 22,
      "outputs": []
    },
    {
      "cell_type": "code",
      "metadata": {
        "id": "_v_q4DMQc0NV"
      },
      "source": [
        "def load_model():\n",
        "  model = Sequential()\n",
        "  model.add(Dense(16, activation='relu'))\n",
        "  model.add(Dense(2, activation='softmax'))\n",
        "  model.compile(optimizer='adam', loss='binary_crossentropy', metrics=['accuracy'])\n",
        "  return model\n",
        "\n",
        "def to_cat(array):\n",
        "  array = to_categorical(np.array(pd.factorize(array)[0]))\n",
        "  return array"
      ],
      "execution_count": 23,
      "outputs": []
    },
    {
      "cell_type": "code",
      "metadata": {
        "id": "VoRY2YyoeM7D"
      },
      "source": [
        "X = df[['score2','score1']].reset_index(drop=True)\n",
        "y = df[['goal_label']].copy()\n",
        "X_train, X_test, y_train, y_test = train_test_split(X, y, test_size=0.2, random_state=6)"
      ],
      "execution_count": 24,
      "outputs": []
    },
    {
      "cell_type": "code",
      "metadata": {
        "id": "UDzDvdOTeERN"
      },
      "source": [
        "model = load_model()\n",
        "y_train = to_cat(y_train['goal_label'])\n",
        "y_test = to_cat(y_test['goal_label'])"
      ],
      "execution_count": 26,
      "outputs": []
    },
    {
      "cell_type": "code",
      "metadata": {
        "colab": {
          "base_uri": "https://localhost:8080/"
        },
        "id": "Ux4NwBVueF36",
        "outputId": "f748e78d-4c65-46a2-9b52-8fd403799ffe"
      },
      "source": [
        "model.fit(X_train, y_train, epochs=40, batch_size=128, verbose=2, validation_split=0.2)"
      ],
      "execution_count": 27,
      "outputs": [
        {
          "output_type": "stream",
          "text": [
            "Epoch 1/40\n",
            "101/101 - 1s - loss: 0.7959 - accuracy: 0.2896 - val_loss: 0.6017 - val_accuracy: 0.9275\n",
            "Epoch 2/40\n",
            "101/101 - 0s - loss: 0.4685 - accuracy: 0.9310 - val_loss: 0.3572 - val_accuracy: 0.9287\n",
            "Epoch 3/40\n",
            "101/101 - 0s - loss: 0.2880 - accuracy: 0.9310 - val_loss: 0.2354 - val_accuracy: 0.9287\n",
            "Epoch 4/40\n",
            "101/101 - 0s - loss: 0.2028 - accuracy: 0.9310 - val_loss: 0.1799 - val_accuracy: 0.9287\n",
            "Epoch 5/40\n",
            "101/101 - 0s - loss: 0.1630 - accuracy: 0.9310 - val_loss: 0.1532 - val_accuracy: 0.9287\n",
            "Epoch 6/40\n",
            "101/101 - 0s - loss: 0.1431 - accuracy: 0.9310 - val_loss: 0.1387 - val_accuracy: 0.9287\n",
            "Epoch 7/40\n",
            "101/101 - 0s - loss: 0.1313 - accuracy: 0.9310 - val_loss: 0.1292 - val_accuracy: 0.9287\n",
            "Epoch 8/40\n",
            "101/101 - 0s - loss: 0.1228 - accuracy: 0.9310 - val_loss: 0.1214 - val_accuracy: 0.9287\n",
            "Epoch 9/40\n",
            "101/101 - 0s - loss: 0.1155 - accuracy: 0.9310 - val_loss: 0.1144 - val_accuracy: 0.9287\n",
            "Epoch 10/40\n",
            "101/101 - 0s - loss: 0.1086 - accuracy: 0.9310 - val_loss: 0.1075 - val_accuracy: 0.9287\n",
            "Epoch 11/40\n",
            "101/101 - 0s - loss: 0.1017 - accuracy: 0.9310 - val_loss: 0.1003 - val_accuracy: 0.9287\n",
            "Epoch 12/40\n",
            "101/101 - 0s - loss: 0.0947 - accuracy: 0.9310 - val_loss: 0.0931 - val_accuracy: 0.9287\n",
            "Epoch 13/40\n",
            "101/101 - 0s - loss: 0.0876 - accuracy: 0.9310 - val_loss: 0.0858 - val_accuracy: 0.9287\n",
            "Epoch 14/40\n",
            "101/101 - 0s - loss: 0.0804 - accuracy: 0.9310 - val_loss: 0.0785 - val_accuracy: 0.9287\n",
            "Epoch 15/40\n",
            "101/101 - 0s - loss: 0.0734 - accuracy: 0.9310 - val_loss: 0.0717 - val_accuracy: 0.9287\n",
            "Epoch 16/40\n",
            "101/101 - 0s - loss: 0.0675 - accuracy: 0.9310 - val_loss: 0.0666 - val_accuracy: 0.9287\n",
            "Epoch 17/40\n",
            "101/101 - 0s - loss: 0.0633 - accuracy: 0.9310 - val_loss: 0.0631 - val_accuracy: 0.9287\n",
            "Epoch 18/40\n",
            "101/101 - 0s - loss: 0.0603 - accuracy: 0.9310 - val_loss: 0.0603 - val_accuracy: 0.9287\n",
            "Epoch 19/40\n",
            "101/101 - 0s - loss: 0.0577 - accuracy: 0.9310 - val_loss: 0.0579 - val_accuracy: 0.9287\n",
            "Epoch 20/40\n",
            "101/101 - 0s - loss: 0.0553 - accuracy: 0.9466 - val_loss: 0.0556 - val_accuracy: 1.0000\n",
            "Epoch 21/40\n",
            "101/101 - 0s - loss: 0.0531 - accuracy: 1.0000 - val_loss: 0.0535 - val_accuracy: 1.0000\n",
            "Epoch 22/40\n",
            "101/101 - 0s - loss: 0.0511 - accuracy: 1.0000 - val_loss: 0.0515 - val_accuracy: 1.0000\n",
            "Epoch 23/40\n",
            "101/101 - 0s - loss: 0.0492 - accuracy: 1.0000 - val_loss: 0.0495 - val_accuracy: 1.0000\n",
            "Epoch 24/40\n",
            "101/101 - 0s - loss: 0.0473 - accuracy: 1.0000 - val_loss: 0.0477 - val_accuracy: 1.0000\n",
            "Epoch 25/40\n",
            "101/101 - 0s - loss: 0.0455 - accuracy: 1.0000 - val_loss: 0.0459 - val_accuracy: 1.0000\n",
            "Epoch 26/40\n",
            "101/101 - 0s - loss: 0.0438 - accuracy: 1.0000 - val_loss: 0.0441 - val_accuracy: 1.0000\n",
            "Epoch 27/40\n",
            "101/101 - 0s - loss: 0.0421 - accuracy: 1.0000 - val_loss: 0.0424 - val_accuracy: 1.0000\n",
            "Epoch 28/40\n",
            "101/101 - 0s - loss: 0.0404 - accuracy: 1.0000 - val_loss: 0.0407 - val_accuracy: 1.0000\n",
            "Epoch 29/40\n",
            "101/101 - 0s - loss: 0.0388 - accuracy: 1.0000 - val_loss: 0.0391 - val_accuracy: 1.0000\n",
            "Epoch 30/40\n",
            "101/101 - 0s - loss: 0.0373 - accuracy: 1.0000 - val_loss: 0.0375 - val_accuracy: 1.0000\n",
            "Epoch 31/40\n",
            "101/101 - 0s - loss: 0.0357 - accuracy: 1.0000 - val_loss: 0.0360 - val_accuracy: 1.0000\n",
            "Epoch 32/40\n",
            "101/101 - 0s - loss: 0.0343 - accuracy: 1.0000 - val_loss: 0.0345 - val_accuracy: 1.0000\n",
            "Epoch 33/40\n",
            "101/101 - 0s - loss: 0.0328 - accuracy: 1.0000 - val_loss: 0.0331 - val_accuracy: 1.0000\n",
            "Epoch 34/40\n",
            "101/101 - 0s - loss: 0.0315 - accuracy: 1.0000 - val_loss: 0.0317 - val_accuracy: 1.0000\n",
            "Epoch 35/40\n",
            "101/101 - 0s - loss: 0.0301 - accuracy: 1.0000 - val_loss: 0.0303 - val_accuracy: 1.0000\n",
            "Epoch 36/40\n",
            "101/101 - 0s - loss: 0.0288 - accuracy: 1.0000 - val_loss: 0.0290 - val_accuracy: 1.0000\n",
            "Epoch 37/40\n",
            "101/101 - 0s - loss: 0.0276 - accuracy: 1.0000 - val_loss: 0.0278 - val_accuracy: 1.0000\n",
            "Epoch 38/40\n",
            "101/101 - 0s - loss: 0.0263 - accuracy: 1.0000 - val_loss: 0.0265 - val_accuracy: 1.0000\n",
            "Epoch 39/40\n",
            "101/101 - 0s - loss: 0.0252 - accuracy: 1.0000 - val_loss: 0.0254 - val_accuracy: 1.0000\n",
            "Epoch 40/40\n",
            "101/101 - 0s - loss: 0.0241 - accuracy: 1.0000 - val_loss: 0.0242 - val_accuracy: 1.0000\n"
          ],
          "name": "stdout"
        },
        {
          "output_type": "execute_result",
          "data": {
            "text/plain": [
              "<tensorflow.python.keras.callbacks.History at 0x7efd4e43ab10>"
            ]
          },
          "metadata": {
            "tags": []
          },
          "execution_count": 27
        }
      ]
    },
    {
      "cell_type": "code",
      "metadata": {
        "colab": {
          "base_uri": "https://localhost:8080/"
        },
        "id": "w6YPKhWDeq-a",
        "outputId": "a640623b-8cd3-4878-d7ea-be6efcb40b61"
      },
      "source": [
        "predictions = model.predict(X_test).round(0)\n",
        "test, accuracy = model.evaluate(y_test, predictions)"
      ],
      "execution_count": 28,
      "outputs": [
        {
          "output_type": "stream",
          "text": [
            "126/126 [==============================] - 0s 1ms/step - loss: 0.3904 - accuracy: 0.9268\n"
          ],
          "name": "stdout"
        }
      ]
    },
    {
      "cell_type": "code",
      "metadata": {
        "colab": {
          "base_uri": "https://localhost:8080/"
        },
        "id": "RCSW-mf2VQg-",
        "outputId": "001e4755-0f61-4eba-a1b8-ad36d14d40f9"
      },
      "source": [
        "print(\"Test Accuracy: %.2f\" % (accuracy * 100) + \"%\")"
      ],
      "execution_count": 29,
      "outputs": [
        {
          "output_type": "stream",
          "text": [
            "Test Accuracy: 92.68%\n"
          ],
          "name": "stdout"
        }
      ]
    }
  ]
}