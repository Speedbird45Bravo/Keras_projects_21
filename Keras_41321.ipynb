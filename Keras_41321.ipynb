{
  "nbformat": 4,
  "nbformat_minor": 0,
  "metadata": {
    "colab": {
      "name": "Keras_41321.ipynb",
      "provenance": [],
      "collapsed_sections": [],
      "authorship_tag": "ABX9TyNYggqKmo8XBTXpG0kWaQMT",
      "include_colab_link": true
    },
    "kernelspec": {
      "name": "python3",
      "display_name": "Python 3"
    },
    "language_info": {
      "name": "python"
    }
  },
  "cells": [
    {
      "cell_type": "markdown",
      "metadata": {
        "id": "view-in-github",
        "colab_type": "text"
      },
      "source": [
        "<a href=\"https://colab.research.google.com/github/Speedbird45Bravo/Keras_projects_21/blob/main/Keras_41321.ipynb\" target=\"_parent\"><img src=\"https://colab.research.google.com/assets/colab-badge.svg\" alt=\"Open In Colab\"/></a>"
      ]
    },
    {
      "cell_type": "code",
      "metadata": {
        "id": "fyn1cUOAOvna"
      },
      "source": [
        "from keras.layers import Dense\n",
        "from keras.models import Sequential\n",
        "from keras.utils import to_categorical\n",
        "from sklearn.model_selection import train_test_split\n",
        "import numpy as np\n",
        "import pandas as pd"
      ],
      "execution_count": 1,
      "outputs": []
    },
    {
      "cell_type": "code",
      "metadata": {
        "id": "lxZZDPRFO4e-"
      },
      "source": [
        "df = pd.read_csv(\"https://projects.fivethirtyeight.com/soccer-api/club/spi_matches.csv\").dropna()\n",
        "df['tot_goals'] = df['score1'] + df['score2']"
      ],
      "execution_count": 3,
      "outputs": []
    },
    {
      "cell_type": "code",
      "metadata": {
        "id": "21R77EDDO_no"
      },
      "source": [
        "edgar = []\n",
        "\n",
        "for x in df['tot_goals']:\n",
        "  if x > 0:\n",
        "    edgar.append(\"SCORING\")\n",
        "  else:\n",
        "    edgar.append(\"NO SCORING\")\n",
        "\n",
        "df['score_bucket'] = edgar"
      ],
      "execution_count": 4,
      "outputs": []
    },
    {
      "cell_type": "code",
      "metadata": {
        "id": "NJhlfkDxPRT9"
      },
      "source": [
        "X = df[['score1', 'score2']].reset_index(drop=True)\n",
        "y = df[['score_bucket']].copy()\n",
        "X_train, X_test, y_train, y_test = train_test_split(X, y, test_size=0.2, random_state=6)"
      ],
      "execution_count": 5,
      "outputs": []
    },
    {
      "cell_type": "code",
      "metadata": {
        "id": "JwINyq2lPdbr"
      },
      "source": [
        "def load_model():\n",
        "  model = Sequential()\n",
        "  model.add(Dense(16, activation='relu'))\n",
        "  model.add(Dense(2, activation='softmax'))\n",
        "  model.compile(optimizer='rmsprop', loss='binary_crossentropy', metrics=['accuracy'])\n",
        "  return model"
      ],
      "execution_count": 6,
      "outputs": []
    },
    {
      "cell_type": "code",
      "metadata": {
        "id": "xlgYWyL2Pn6e"
      },
      "source": [
        "def to_cat(array):\n",
        "  array = to_categorical(np.asarray(pd.factorize(array)[0]))\n",
        "  return array"
      ],
      "execution_count": 7,
      "outputs": []
    },
    {
      "cell_type": "code",
      "metadata": {
        "id": "9XlBJLwMPvRx"
      },
      "source": [
        "y_train = to_cat(y_train['score_bucket'])\n",
        "y_test = to_cat(y_test['score_bucket'])"
      ],
      "execution_count": 9,
      "outputs": []
    },
    {
      "cell_type": "code",
      "metadata": {
        "colab": {
          "base_uri": "https://localhost:8080/"
        },
        "id": "6S24HkmQP1GV",
        "outputId": "3b831d2d-141d-4f15-80af-8c76feedf098"
      },
      "source": [
        "model = load_model()\n",
        "model.fit(X_train, y_train, epochs=20, batch_size=128, verbose=2, validation_split=0.2)"
      ],
      "execution_count": 10,
      "outputs": [
        {
          "output_type": "stream",
          "text": [
            "Epoch 1/20\n",
            "101/101 - 1s - loss: 0.5940 - accuracy: 0.7221 - val_loss: 0.3823 - val_accuracy: 0.9275\n",
            "Epoch 2/20\n",
            "101/101 - 0s - loss: 0.2655 - accuracy: 0.9317 - val_loss: 0.1887 - val_accuracy: 0.9275\n",
            "Epoch 3/20\n",
            "101/101 - 0s - loss: 0.1471 - accuracy: 0.9317 - val_loss: 0.1281 - val_accuracy: 0.9275\n",
            "Epoch 4/20\n",
            "101/101 - 0s - loss: 0.1088 - accuracy: 0.9317 - val_loss: 0.1007 - val_accuracy: 0.9275\n",
            "Epoch 5/20\n",
            "101/101 - 0s - loss: 0.0849 - accuracy: 0.9317 - val_loss: 0.0780 - val_accuracy: 0.9275\n",
            "Epoch 6/20\n",
            "101/101 - 0s - loss: 0.0644 - accuracy: 0.9317 - val_loss: 0.0582 - val_accuracy: 0.9275\n",
            "Epoch 7/20\n",
            "101/101 - 0s - loss: 0.0507 - accuracy: 0.9994 - val_loss: 0.0499 - val_accuracy: 1.0000\n",
            "Epoch 8/20\n",
            "101/101 - 0s - loss: 0.0445 - accuracy: 1.0000 - val_loss: 0.0447 - val_accuracy: 1.0000\n",
            "Epoch 9/20\n",
            "101/101 - 0s - loss: 0.0403 - accuracy: 1.0000 - val_loss: 0.0409 - val_accuracy: 1.0000\n",
            "Epoch 10/20\n",
            "101/101 - 0s - loss: 0.0370 - accuracy: 1.0000 - val_loss: 0.0377 - val_accuracy: 1.0000\n",
            "Epoch 11/20\n",
            "101/101 - 0s - loss: 0.0342 - accuracy: 1.0000 - val_loss: 0.0349 - val_accuracy: 1.0000\n",
            "Epoch 12/20\n",
            "101/101 - 0s - loss: 0.0317 - accuracy: 1.0000 - val_loss: 0.0323 - val_accuracy: 1.0000\n",
            "Epoch 13/20\n",
            "101/101 - 0s - loss: 0.0294 - accuracy: 1.0000 - val_loss: 0.0299 - val_accuracy: 1.0000\n",
            "Epoch 14/20\n",
            "101/101 - 0s - loss: 0.0271 - accuracy: 1.0000 - val_loss: 0.0276 - val_accuracy: 1.0000\n",
            "Epoch 15/20\n",
            "101/101 - 0s - loss: 0.0251 - accuracy: 1.0000 - val_loss: 0.0255 - val_accuracy: 1.0000\n",
            "Epoch 16/20\n",
            "101/101 - 0s - loss: 0.0231 - accuracy: 1.0000 - val_loss: 0.0235 - val_accuracy: 1.0000\n",
            "Epoch 17/20\n",
            "101/101 - 0s - loss: 0.0213 - accuracy: 1.0000 - val_loss: 0.0217 - val_accuracy: 1.0000\n",
            "Epoch 18/20\n",
            "101/101 - 0s - loss: 0.0196 - accuracy: 1.0000 - val_loss: 0.0200 - val_accuracy: 1.0000\n",
            "Epoch 19/20\n",
            "101/101 - 0s - loss: 0.0181 - accuracy: 1.0000 - val_loss: 0.0184 - val_accuracy: 1.0000\n",
            "Epoch 20/20\n",
            "101/101 - 0s - loss: 0.0166 - accuracy: 1.0000 - val_loss: 0.0169 - val_accuracy: 1.0000\n"
          ],
          "name": "stdout"
        },
        {
          "output_type": "execute_result",
          "data": {
            "text/plain": [
              "<tensorflow.python.keras.callbacks.History at 0x7f594577c690>"
            ]
          },
          "metadata": {
            "tags": []
          },
          "execution_count": 10
        }
      ]
    },
    {
      "cell_type": "code",
      "metadata": {
        "id": "wJ0qpTV5P8lQ"
      },
      "source": [
        "predictions = model.predict(X_test).round(2)"
      ],
      "execution_count": 11,
      "outputs": []
    },
    {
      "cell_type": "code",
      "metadata": {
        "colab": {
          "base_uri": "https://localhost:8080/"
        },
        "id": "w17yGSQzQBms",
        "outputId": "9a46a70d-8179-4de4-a3fa-1ae14f80899b"
      },
      "source": [
        "loss, accuracy = model.evaluate(y_test, predictions)\n",
        "print(\"Test Accuracy: %.2f\" % (accuracy * 100) + \"%\")"
      ],
      "execution_count": 12,
      "outputs": [
        {
          "output_type": "stream",
          "text": [
            "126/126 [==============================] - 0s 2ms/step - loss: 1.0919 - accuracy: 0.9251\n",
            "Test Accuracy: 92.51%\n"
          ],
          "name": "stdout"
        }
      ]
    }
  ]
}