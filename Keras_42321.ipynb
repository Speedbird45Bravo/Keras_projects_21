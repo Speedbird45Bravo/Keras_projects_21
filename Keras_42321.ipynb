{
  "nbformat": 4,
  "nbformat_minor": 0,
  "metadata": {
    "colab": {
      "name": "Keras_42321.ipynb",
      "provenance": [],
      "collapsed_sections": [],
      "authorship_tag": "ABX9TyOFPIEZ2bt+2fay+Oxt8tPL",
      "include_colab_link": true
    },
    "kernelspec": {
      "name": "python3",
      "display_name": "Python 3"
    },
    "language_info": {
      "name": "python"
    }
  },
  "cells": [
    {
      "cell_type": "markdown",
      "metadata": {
        "id": "view-in-github",
        "colab_type": "text"
      },
      "source": [
        "<a href=\"https://colab.research.google.com/github/Speedbird45Bravo/Keras_projects_21/blob/main/Keras_42321.ipynb\" target=\"_parent\"><img src=\"https://colab.research.google.com/assets/colab-badge.svg\" alt=\"Open In Colab\"/></a>"
      ]
    },
    {
      "cell_type": "code",
      "metadata": {
        "id": "Zzp6EJZKueWk"
      },
      "source": [
        "from keras.layers import Dense\n",
        "from keras.models import Sequential\n",
        "from keras.utils import to_categorical\n",
        "from sklearn.model_selection import train_test_split\n",
        "import numpy as np\n",
        "import pandas as pd"
      ],
      "execution_count": 8,
      "outputs": []
    },
    {
      "cell_type": "code",
      "metadata": {
        "id": "nuE1Fr4jurOM"
      },
      "source": [
        "df = pd.read_csv(\"https://projects.fivethirtyeight.com/soccer-api/club/spi_matches.csv\").dropna()\n",
        "df['goal_total'] = df['score1'] + df['score2']"
      ],
      "execution_count": 9,
      "outputs": []
    },
    {
      "cell_type": "code",
      "metadata": {
        "id": "tG9pOMf4u8NI"
      },
      "source": [
        "goals = []"
      ],
      "execution_count": 10,
      "outputs": []
    },
    {
      "cell_type": "code",
      "metadata": {
        "id": "Bvx_1SdDu9TI"
      },
      "source": [
        "for x in df['goal_total']:\n",
        "  if x > 0:\n",
        "    goals.append(\"SCORING GAME\")\n",
        "  else:\n",
        "    goals.append(\"NO SCORING GAME\")"
      ],
      "execution_count": 11,
      "outputs": []
    },
    {
      "cell_type": "code",
      "metadata": {
        "id": "QIhG2ZKCvDRk"
      },
      "source": [
        "df['score_bucket'] = goals"
      ],
      "execution_count": 12,
      "outputs": []
    },
    {
      "cell_type": "code",
      "metadata": {
        "id": "rXI6tYTCvHXY"
      },
      "source": [
        "def model():\n",
        "  model = Sequential()\n",
        "  model.add(Dense(16, activation='relu'))\n",
        "  model.add(Dense(8, activation='relu'))\n",
        "  model.add(Dense(2, activation='softmax'))\n",
        "  model.compile(optimizer='adam', loss='binary_crossentropy', metrics=['accuracy'])\n",
        "  return model"
      ],
      "execution_count": 13,
      "outputs": []
    },
    {
      "cell_type": "code",
      "metadata": {
        "id": "uGPM0COxvWe3"
      },
      "source": [
        "def categorical(array):\n",
        "  array = to_categorical(np.asarray(pd.factorize(array)[0]))\n",
        "  return array"
      ],
      "execution_count": 14,
      "outputs": []
    },
    {
      "cell_type": "code",
      "metadata": {
        "id": "-1IUNrlgvdmr"
      },
      "source": [
        "X = df[['score1', 'score2']]\n",
        "y = df[['score_bucket']].copy()\n",
        "X_train, X_test, y_train, y_test = train_test_split(X, y, test_size=0.2, random_state=6)"
      ],
      "execution_count": 15,
      "outputs": []
    },
    {
      "cell_type": "code",
      "metadata": {
        "id": "X0Os78Fivnjk"
      },
      "source": [
        "y_train = categorical(y_train['score_bucket'])\n",
        "y_test = categorical(y_test['score_bucket'])"
      ],
      "execution_count": 16,
      "outputs": []
    },
    {
      "cell_type": "code",
      "metadata": {
        "id": "B8NDwW6rvwmw"
      },
      "source": [
        "model = model()"
      ],
      "execution_count": 17,
      "outputs": []
    },
    {
      "cell_type": "code",
      "metadata": {
        "colab": {
          "base_uri": "https://localhost:8080/"
        },
        "id": "sk-Pe2uHvyuj",
        "outputId": "ee2a6dfc-fb5b-4f8c-82ff-8332b32c6a6e"
      },
      "source": [
        "model.fit(X_train, y_train, epochs=40, batch_size=128, verbose=1, validation_split=0.2)"
      ],
      "execution_count": 19,
      "outputs": [
        {
          "output_type": "stream",
          "text": [
            "Epoch 1/40\n",
            "102/102 [==============================] - 1s 7ms/step - loss: 3.3018e-05 - accuracy: 1.0000 - val_loss: 3.2039e-05 - val_accuracy: 1.0000\n",
            "Epoch 2/40\n",
            "102/102 [==============================] - 0s 2ms/step - loss: 3.0695e-05 - accuracy: 1.0000 - val_loss: 2.9799e-05 - val_accuracy: 1.0000\n",
            "Epoch 3/40\n",
            "102/102 [==============================] - 0s 2ms/step - loss: 2.8547e-05 - accuracy: 1.0000 - val_loss: 2.7730e-05 - val_accuracy: 1.0000\n",
            "Epoch 4/40\n",
            "102/102 [==============================] - 0s 3ms/step - loss: 2.6566e-05 - accuracy: 1.0000 - val_loss: 2.5802e-05 - val_accuracy: 1.0000\n",
            "Epoch 5/40\n",
            "102/102 [==============================] - 0s 2ms/step - loss: 2.4740e-05 - accuracy: 1.0000 - val_loss: 2.4038e-05 - val_accuracy: 1.0000\n",
            "Epoch 6/40\n",
            "102/102 [==============================] - 0s 2ms/step - loss: 2.3051e-05 - accuracy: 1.0000 - val_loss: 2.2417e-05 - val_accuracy: 1.0000\n",
            "Epoch 7/40\n",
            "102/102 [==============================] - 0s 2ms/step - loss: 2.1497e-05 - accuracy: 1.0000 - val_loss: 2.0894e-05 - val_accuracy: 1.0000\n",
            "Epoch 8/40\n",
            "102/102 [==============================] - 0s 2ms/step - loss: 2.0050e-05 - accuracy: 1.0000 - val_loss: 1.9505e-05 - val_accuracy: 1.0000\n",
            "Epoch 9/40\n",
            "102/102 [==============================] - 0s 2ms/step - loss: 1.8712e-05 - accuracy: 1.0000 - val_loss: 1.8221e-05 - val_accuracy: 1.0000\n",
            "Epoch 10/40\n",
            "102/102 [==============================] - 0s 2ms/step - loss: 1.7470e-05 - accuracy: 1.0000 - val_loss: 1.6993e-05 - val_accuracy: 1.0000\n",
            "Epoch 11/40\n",
            "102/102 [==============================] - 0s 3ms/step - loss: 1.6316e-05 - accuracy: 1.0000 - val_loss: 1.5879e-05 - val_accuracy: 1.0000\n",
            "Epoch 12/40\n",
            "102/102 [==============================] - 0s 2ms/step - loss: 1.5247e-05 - accuracy: 1.0000 - val_loss: 1.4845e-05 - val_accuracy: 1.0000\n",
            "Epoch 13/40\n",
            "102/102 [==============================] - 0s 2ms/step - loss: 1.4256e-05 - accuracy: 1.0000 - val_loss: 1.3883e-05 - val_accuracy: 1.0000\n",
            "Epoch 14/40\n",
            "102/102 [==============================] - 0s 3ms/step - loss: 1.3336e-05 - accuracy: 1.0000 - val_loss: 1.2986e-05 - val_accuracy: 1.0000\n",
            "Epoch 15/40\n",
            "102/102 [==============================] - 0s 2ms/step - loss: 1.2477e-05 - accuracy: 1.0000 - val_loss: 1.2153e-05 - val_accuracy: 1.0000\n",
            "Epoch 16/40\n",
            "102/102 [==============================] - 0s 2ms/step - loss: 1.1676e-05 - accuracy: 1.0000 - val_loss: 1.1378e-05 - val_accuracy: 1.0000\n",
            "Epoch 17/40\n",
            "102/102 [==============================] - 0s 2ms/step - loss: 1.0930e-05 - accuracy: 1.0000 - val_loss: 1.0646e-05 - val_accuracy: 1.0000\n",
            "Epoch 18/40\n",
            "102/102 [==============================] - 0s 3ms/step - loss: 1.0234e-05 - accuracy: 1.0000 - val_loss: 9.9705e-06 - val_accuracy: 1.0000\n",
            "Epoch 19/40\n",
            "102/102 [==============================] - 0s 2ms/step - loss: 9.5887e-06 - accuracy: 1.0000 - val_loss: 9.3470e-06 - val_accuracy: 1.0000\n",
            "Epoch 20/40\n",
            "102/102 [==============================] - 0s 2ms/step - loss: 8.9868e-06 - accuracy: 1.0000 - val_loss: 8.7608e-06 - val_accuracy: 1.0000\n",
            "Epoch 21/40\n",
            "102/102 [==============================] - 0s 3ms/step - loss: 8.4240e-06 - accuracy: 1.0000 - val_loss: 8.2113e-06 - val_accuracy: 1.0000\n",
            "Epoch 22/40\n",
            "102/102 [==============================] - 0s 3ms/step - loss: 7.8994e-06 - accuracy: 1.0000 - val_loss: 7.7012e-06 - val_accuracy: 1.0000\n",
            "Epoch 23/40\n",
            "102/102 [==============================] - 0s 2ms/step - loss: 7.4082e-06 - accuracy: 1.0000 - val_loss: 7.2276e-06 - val_accuracy: 1.0000\n",
            "Epoch 24/40\n",
            "102/102 [==============================] - 0s 2ms/step - loss: 6.9511e-06 - accuracy: 1.0000 - val_loss: 6.7751e-06 - val_accuracy: 1.0000\n",
            "Epoch 25/40\n",
            "102/102 [==============================] - 0s 2ms/step - loss: 6.5228e-06 - accuracy: 1.0000 - val_loss: 6.3644e-06 - val_accuracy: 1.0000\n",
            "Epoch 26/40\n",
            "102/102 [==============================] - 0s 3ms/step - loss: 6.1225e-06 - accuracy: 1.0000 - val_loss: 5.9744e-06 - val_accuracy: 1.0000\n",
            "Epoch 27/40\n",
            "102/102 [==============================] - 0s 2ms/step - loss: 5.7443e-06 - accuracy: 1.0000 - val_loss: 5.6024e-06 - val_accuracy: 1.0000\n",
            "Epoch 28/40\n",
            "102/102 [==============================] - 0s 2ms/step - loss: 5.3933e-06 - accuracy: 1.0000 - val_loss: 5.2617e-06 - val_accuracy: 1.0000\n",
            "Epoch 29/40\n",
            "102/102 [==============================] - 0s 2ms/step - loss: 5.0647e-06 - accuracy: 1.0000 - val_loss: 4.9413e-06 - val_accuracy: 1.0000\n",
            "Epoch 30/40\n",
            "102/102 [==============================] - 0s 2ms/step - loss: 4.7583e-06 - accuracy: 1.0000 - val_loss: 4.6430e-06 - val_accuracy: 1.0000\n",
            "Epoch 31/40\n",
            "102/102 [==============================] - 0s 2ms/step - loss: 4.4687e-06 - accuracy: 1.0000 - val_loss: 4.3522e-06 - val_accuracy: 1.0000\n",
            "Epoch 32/40\n",
            "102/102 [==============================] - 0s 2ms/step - loss: 4.1660e-06 - accuracy: 1.0000 - val_loss: 4.0493e-06 - val_accuracy: 1.0000\n",
            "Epoch 33/40\n",
            "102/102 [==============================] - 0s 2ms/step - loss: 3.8865e-06 - accuracy: 1.0000 - val_loss: 3.7861e-06 - val_accuracy: 1.0000\n",
            "Epoch 34/40\n",
            "102/102 [==============================] - 0s 2ms/step - loss: 3.6399e-06 - accuracy: 1.0000 - val_loss: 3.5483e-06 - val_accuracy: 1.0000\n",
            "Epoch 35/40\n",
            "102/102 [==============================] - 0s 2ms/step - loss: 3.4127e-06 - accuracy: 1.0000 - val_loss: 3.3283e-06 - val_accuracy: 1.0000\n",
            "Epoch 36/40\n",
            "102/102 [==============================] - 0s 2ms/step - loss: 3.2029e-06 - accuracy: 1.0000 - val_loss: 3.1237e-06 - val_accuracy: 1.0000\n",
            "Epoch 37/40\n",
            "102/102 [==============================] - 0s 2ms/step - loss: 3.0084e-06 - accuracy: 1.0000 - val_loss: 2.9356e-06 - val_accuracy: 1.0000\n",
            "Epoch 38/40\n",
            "102/102 [==============================] - 0s 2ms/step - loss: 2.8267e-06 - accuracy: 1.0000 - val_loss: 2.7595e-06 - val_accuracy: 1.0000\n",
            "Epoch 39/40\n",
            "102/102 [==============================] - 0s 2ms/step - loss: 2.6562e-06 - accuracy: 1.0000 - val_loss: 2.5931e-06 - val_accuracy: 1.0000\n",
            "Epoch 40/40\n",
            "102/102 [==============================] - 0s 2ms/step - loss: 2.4971e-06 - accuracy: 1.0000 - val_loss: 2.4376e-06 - val_accuracy: 1.0000\n"
          ],
          "name": "stdout"
        },
        {
          "output_type": "execute_result",
          "data": {
            "text/plain": [
              "<tensorflow.python.keras.callbacks.History at 0x7f68b4b82190>"
            ]
          },
          "metadata": {
            "tags": []
          },
          "execution_count": 19
        }
      ]
    },
    {
      "cell_type": "code",
      "metadata": {
        "id": "Btclmf6jv2Dj"
      },
      "source": [
        "predictions = model.predict(X_test)"
      ],
      "execution_count": 20,
      "outputs": []
    },
    {
      "cell_type": "code",
      "metadata": {
        "colab": {
          "base_uri": "https://localhost:8080/"
        },
        "id": "a55H7AJ9v84Q",
        "outputId": "ed279c26-daf0-46a2-a941-d285b705bb26"
      },
      "source": [
        "loss, accuracy = model.evaluate(y_test, predictions)\n",
        "print(\"Test Accuracy: {}%\".format(round(accuracy * 100), 2))"
      ],
      "execution_count": 21,
      "outputs": [
        {
          "output_type": "stream",
          "text": [
            "127/127 [==============================] - 0s 2ms/step - loss: 0.9291 - accuracy: 0.9255\n",
            "Test Accuracy: 93%\n"
          ],
          "name": "stdout"
        }
      ]
    }
  ]
}