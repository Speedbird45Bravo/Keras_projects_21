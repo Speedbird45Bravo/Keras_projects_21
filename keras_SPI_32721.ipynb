{
  "nbformat": 4,
  "nbformat_minor": 0,
  "metadata": {
    "colab": {
      "name": "keras_SPI_32721.ipynb",
      "provenance": [],
      "collapsed_sections": [],
      "authorship_tag": "ABX9TyM2hrt3cLiuxGEAcZPIrC5w",
      "include_colab_link": false
    },
    "kernelspec": {
      "name": "python3",
      "display_name": "Python 3"
    },
    "language_info": {
      "name": "python"
    }
  },
  "cells": [
    {
      "cell_type": "markdown",
      "metadata": {
        "id": "view-in-github",
        "colab_type": "text"
      },
      "source": [
        "<a href=\"https://colab.research.google.com/github/Speedbird45Bravo/Keras_projects_21/blob/main/keras_SPI_32721.ipynb\" target=\"_parent\"><img src=\"https://colab.research.google.com/assets/colab-badge.svg\" alt=\"Open In Colab\"/></a>"
      ]
    },
    {
      "cell_type": "code",
      "metadata": {
        "id": "cFqe9E-nvCx4"
      },
      "source": [
        "from keras.layers import Dense\n",
        "from keras.models import Sequential\n",
        "import matplotlib.pyplot as plt\n",
        "import numpy as np\n",
        "import pandas as pd\n",
        "from sklearn.model_selection import train_test_split\n",
        "from sklearn.preprocessing import OneHotEncoder, StandardScaler\n",
        "\n",
        "# This NN is predicting SPI margin in FiveThirtyEight's Soccer Power Index (SPI).\n",
        "url = \"https://projects.fivethirtyeight.com/soccer-api/club/spi_matches.csv\"\n",
        "df = pd.read_csv(url, parse_dates=['date']).dropna()\n",
        "df['spi_margin'] = abs(df['spi1'] - df['spi2'])\n",
        "\n",
        "# Given the power of the NN in reducing loss (and the relatively small size of the project), we don't quite NEED to scale features, but we will anyway.\n",
        "X_final = df[['spi1', 'spi2', 'prob1', 'prob2', 'probtie', 'proj_score1', 'proj_score2', 'importance1', 'importance2', 'score1', 'score2', 'xg1', 'xg2', 'nsxg1', 'nsxg2', 'adj_score1', 'adj_score2']].reset_index(drop=True)\n",
        "y_final = df[['spi_margin']].copy()\n",
        "X_train, X_test, y_train, y_test = train_test_split(X_final, y_final, test_size=0.25, random_state=6)\n",
        "ss = StandardScaler().fit(X_train)\n",
        "X_train_scaled = ss.transform(X_train)\n",
        "X_test_scaled = ss.transform(X_test)"
      ],
      "execution_count": 156,
      "outputs": []
    },
    {
      "cell_type": "code",
      "metadata": {
        "colab": {
          "base_uri": "https://localhost:8080/"
        },
        "id": "DwoH5tUh0zpg",
        "outputId": "a0076539-ce27-467d-faeb-4c30c390690e"
      },
      "source": [
        "# Given we are predicting scalar values, a one-unit output layer should suffice.\n",
        "model = Sequential()\n",
        "model.add(Dense(16, activation='relu'))\n",
        "model.add(Dense(4, activation='relu'))\n",
        "model.add(Dense(1))\n",
        "model.compile(optimizer='rmsprop', loss='mse', metrics=['mae'])\n",
        "history = model.fit(X_train_scaled, y_train, epochs=120, batch_size=128, verbose=0)\n",
        "loss, mae = model.evaluate(X_test_scaled, y_test)"
      ],
      "execution_count": 157,
      "outputs": [
        {
          "output_type": "stream",
          "text": [
            "156/156 [==============================] - 0s 1ms/step - loss: 0.0269 - mae: 0.1058\n"
          ],
          "name": "stdout"
        }
      ]
    },
    {
      "cell_type": "code",
      "metadata": {
        "colab": {
          "base_uri": "https://localhost:8080/"
        },
        "id": "5Dypw26370ZE",
        "outputId": "944ba93d-c6a3-4b3b-8292-e6838811cb9e"
      },
      "source": [
        "# Not bad, considering the first couple of training errors were way off, as can be seen in the graph below.\n",
        "print(\"Mean Average Error: %.4f\" % mae)"
      ],
      "execution_count": 158,
      "outputs": [
        {
          "output_type": "stream",
          "text": [
            "Mean Average Error: 0.1058\n"
          ],
          "name": "stdout"
        }
      ]
    },
    {
      "cell_type": "code",
      "metadata": {
        "colab": {
          "base_uri": "https://localhost:8080/",
          "height": 295
        },
        "id": "VIyEi3OU59hf",
        "outputId": "78d195b0-0810-4613-ca2f-b71cde60537f"
      },
      "source": [
        "plt.title(\"Training vs. Validation Error\")\n",
        "plt.xlabel(\"Epoch\")\n",
        "plt.ylabel(\"Error\")\n",
        "plt.plot(history.history['loss'], label='Training Error')\n",
        "plt.plot(history.history['mae'], label='Testing Error')\n",
        "plt.legend()\n",
        "plt.show()"
      ],
      "execution_count": 159,
      "outputs": [
        {
          "output_type": "display_data",
          "data": {
            "image/png": "[encoded data removed]",
            "text/plain": [
              "<Figure size 432x288 with 1 Axes>"
            ]
          },
          "metadata": {
            "tags": [],
            "needs_background": "light"
          }
        }
      ]
    }
  ]
}
