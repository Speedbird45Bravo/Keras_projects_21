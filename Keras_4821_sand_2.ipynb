{
  "nbformat": 4,
  "nbformat_minor": 0,
  "metadata": {
    "colab": {
      "name": "Keras_4821_sand_2.ipynb",
      "provenance": [],
      "collapsed_sections": [],
      "authorship_tag": "ABX9TyOPg5SnDinuguuw42L1XS0e"
    },
    "kernelspec": {
      "name": "python3",
      "display_name": "Python 3"
    },
    "language_info": {
      "name": "python"
    }
  },
  "cells": [
    {
      "cell_type": "code",
      "metadata": {
        "id": "jM2H5RyeUONz"
      },
      "source": [
        "from keras.layers import Dense, Dropout\n",
        "from keras.models import Sequential\n",
        "from keras.utils import to_categorical\n",
        "from sklearn.model_selection import train_test_split\n",
        "import numpy as np\n",
        "import pandas as pd\n",
        "\n",
        "df = pd.read_csv(\"https://projects.fivethirtyeight.com/soccer-api/club/spi_matches.csv\").dropna()\n",
        "df = df[(df.league=='Barclays Premier League') | (df.league=='English League Championship') | (df.league=='Major League Soccer')]\n",
        "df['spi_margin'] = np.abs(df['spi1'] - df['spi2'])\n",
        "df['margin'] = np.abs(df['score1'] - df['score2'])\n",
        "df['totgoals'] = df['score1'] + df['score2']\n",
        "\n",
        "res = []\n",
        "\n",
        "for x in df['totgoals']:\n",
        "  if x > 0:\n",
        "    res.append(\"GOALS\")\n",
        "  else:\n",
        "    res.append(\"SCORELESS\")\n",
        "\n",
        "df['goals'] = res"
      ],
      "execution_count": 55,
      "outputs": []
    },
    {
      "cell_type": "code",
      "metadata": {
        "id": "GCIrB7gFUqQT"
      },
      "source": [
        "def load_model():\n",
        "  model = Sequential()\n",
        "  model.add(Dense(16, activation='relu'))\n",
        "  model.add(Dense(2, activation='softmax'))\n",
        "  model.compile(optimizer='adam', loss='categorical_crossentropy', metrics=['accuracy'])\n",
        "  return model\n",
        "\n",
        "def to_cat(array):\n",
        "  y = to_categorical(np.asarray(pd.factorize(array)[0]))\n",
        "  return y\n",
        "\n",
        "def to_df(array):\n",
        "  df = pd.DataFrame(array).reset_index(drop=True)\n",
        "  return df"
      ],
      "execution_count": 56,
      "outputs": []
    },
    {
      "cell_type": "code",
      "metadata": {
        "id": "ETh_OCVEU9mx"
      },
      "source": [
        "model = load_model()"
      ],
      "execution_count": 57,
      "outputs": []
    },
    {
      "cell_type": "code",
      "metadata": {
        "id": "aLbapr4jU_KR"
      },
      "source": [
        "X = df[['score1','score2']].reset_index(drop=True)\n",
        "y = df[['goals']].copy()\n",
        "X_train, X_test, y_train, y_test = train_test_split(X, y, test_size=0.2, random_state=6)"
      ],
      "execution_count": 58,
      "outputs": []
    },
    {
      "cell_type": "code",
      "metadata": {
        "id": "zaOJj51qVRBH"
      },
      "source": [
        "y_train = to_cat(y_train['goals'])\n",
        "y_train = to_df(y_train)\n",
        "y_test = to_cat(y_test['goals'])\n",
        "y_test = to_df(y_test)"
      ],
      "execution_count": 59,
      "outputs": []
    },
    {
      "cell_type": "code",
      "metadata": {
        "colab": {
          "base_uri": "https://localhost:8080/"
        },
        "id": "MH2I27qnVdTs",
        "outputId": "b1480842-bba8-40b2-bed0-cd2cbd0b88bb"
      },
      "source": [
        "model.fit(X_train, y_train, epochs=40, batch_size=128, verbose=1, validation_split=0.2)"
      ],
      "execution_count": 60,
      "outputs": [
        {
          "output_type": "stream",
          "text": [
            "Epoch 1/40\n",
            "26/26 [==============================] - 1s 11ms/step - loss: 0.6575 - accuracy: 0.6096 - val_loss: 0.4918 - val_accuracy: 0.9403\n",
            "Epoch 2/40\n",
            "26/26 [==============================] - 0s 3ms/step - loss: 0.4551 - accuracy: 0.9219 - val_loss: 0.3495 - val_accuracy: 0.9403\n",
            "Epoch 3/40\n",
            "26/26 [==============================] - 0s 4ms/step - loss: 0.3290 - accuracy: 0.9294 - val_loss: 0.2654 - val_accuracy: 0.9403\n",
            "Epoch 4/40\n",
            "26/26 [==============================] - 0s 4ms/step - loss: 0.2534 - accuracy: 0.9285 - val_loss: 0.2149 - val_accuracy: 0.9403\n",
            "Epoch 5/40\n",
            "26/26 [==============================] - 0s 4ms/step - loss: 0.2138 - accuracy: 0.9265 - val_loss: 0.1816 - val_accuracy: 0.9403\n",
            "Epoch 6/40\n",
            "26/26 [==============================] - 0s 3ms/step - loss: 0.1770 - accuracy: 0.9344 - val_loss: 0.1594 - val_accuracy: 0.9403\n",
            "Epoch 7/40\n",
            "26/26 [==============================] - 0s 3ms/step - loss: 0.1629 - accuracy: 0.9295 - val_loss: 0.1444 - val_accuracy: 0.9403\n",
            "Epoch 8/40\n",
            "26/26 [==============================] - 0s 3ms/step - loss: 0.1540 - accuracy: 0.9245 - val_loss: 0.1336 - val_accuracy: 0.9403\n",
            "Epoch 9/40\n",
            "26/26 [==============================] - 0s 3ms/step - loss: 0.1409 - accuracy: 0.9282 - val_loss: 0.1255 - val_accuracy: 0.9403\n",
            "Epoch 10/40\n",
            "26/26 [==============================] - 0s 3ms/step - loss: 0.1292 - accuracy: 0.9318 - val_loss: 0.1193 - val_accuracy: 0.9403\n",
            "Epoch 11/40\n",
            "26/26 [==============================] - 0s 3ms/step - loss: 0.1319 - accuracy: 0.9240 - val_loss: 0.1144 - val_accuracy: 0.9403\n",
            "Epoch 12/40\n",
            "26/26 [==============================] - 0s 3ms/step - loss: 0.1189 - accuracy: 0.9325 - val_loss: 0.1101 - val_accuracy: 0.9403\n",
            "Epoch 13/40\n",
            "26/26 [==============================] - 0s 3ms/step - loss: 0.1162 - accuracy: 0.9310 - val_loss: 0.1064 - val_accuracy: 0.9403\n",
            "Epoch 14/40\n",
            "26/26 [==============================] - 0s 3ms/step - loss: 0.1085 - accuracy: 0.9344 - val_loss: 0.1029 - val_accuracy: 0.9403\n",
            "Epoch 15/40\n",
            "26/26 [==============================] - 0s 3ms/step - loss: 0.1114 - accuracy: 0.9274 - val_loss: 0.0996 - val_accuracy: 0.9403\n",
            "Epoch 16/40\n",
            "26/26 [==============================] - 0s 3ms/step - loss: 0.1083 - accuracy: 0.9281 - val_loss: 0.0965 - val_accuracy: 0.9403\n",
            "Epoch 17/40\n",
            "26/26 [==============================] - 0s 3ms/step - loss: 0.1084 - accuracy: 0.9247 - val_loss: 0.0934 - val_accuracy: 0.9403\n",
            "Epoch 18/40\n",
            "26/26 [==============================] - 0s 3ms/step - loss: 0.1037 - accuracy: 0.9253 - val_loss: 0.0904 - val_accuracy: 0.9403\n",
            "Epoch 19/40\n",
            "26/26 [==============================] - 0s 3ms/step - loss: 0.0930 - accuracy: 0.9330 - val_loss: 0.0874 - val_accuracy: 0.9403\n",
            "Epoch 20/40\n",
            "26/26 [==============================] - 0s 3ms/step - loss: 0.0901 - accuracy: 0.9331 - val_loss: 0.0844 - val_accuracy: 0.9403\n",
            "Epoch 21/40\n",
            "26/26 [==============================] - 0s 3ms/step - loss: 0.0961 - accuracy: 0.9227 - val_loss: 0.0816 - val_accuracy: 0.9403\n",
            "Epoch 22/40\n",
            "26/26 [==============================] - 0s 3ms/step - loss: 0.0900 - accuracy: 0.9255 - val_loss: 0.0788 - val_accuracy: 0.9403\n",
            "Epoch 23/40\n",
            "26/26 [==============================] - 0s 3ms/step - loss: 0.0861 - accuracy: 0.9271 - val_loss: 0.0762 - val_accuracy: 0.9403\n",
            "Epoch 24/40\n",
            "26/26 [==============================] - 0s 3ms/step - loss: 0.0833 - accuracy: 0.9260 - val_loss: 0.0737 - val_accuracy: 0.9403\n",
            "Epoch 25/40\n",
            "26/26 [==============================] - 0s 3ms/step - loss: 0.0740 - accuracy: 0.9359 - val_loss: 0.0714 - val_accuracy: 0.9403\n",
            "Epoch 26/40\n",
            "26/26 [==============================] - 0s 3ms/step - loss: 0.0778 - accuracy: 0.9258 - val_loss: 0.0692 - val_accuracy: 0.9403\n",
            "Epoch 27/40\n",
            "26/26 [==============================] - 0s 3ms/step - loss: 0.0737 - accuracy: 0.9303 - val_loss: 0.0672 - val_accuracy: 0.9403\n",
            "Epoch 28/40\n",
            "26/26 [==============================] - 0s 3ms/step - loss: 0.0704 - accuracy: 0.9305 - val_loss: 0.0651 - val_accuracy: 0.9403\n",
            "Epoch 29/40\n",
            "26/26 [==============================] - 0s 3ms/step - loss: 0.0687 - accuracy: 0.9295 - val_loss: 0.0632 - val_accuracy: 0.9403\n",
            "Epoch 30/40\n",
            "26/26 [==============================] - 0s 3ms/step - loss: 0.0681 - accuracy: 0.9289 - val_loss: 0.0616 - val_accuracy: 0.9403\n",
            "Epoch 31/40\n",
            "26/26 [==============================] - 0s 3ms/step - loss: 0.0684 - accuracy: 0.9265 - val_loss: 0.0601 - val_accuracy: 0.9403\n",
            "Epoch 32/40\n",
            "26/26 [==============================] - 0s 3ms/step - loss: 0.0657 - accuracy: 0.9282 - val_loss: 0.0583 - val_accuracy: 0.9403\n",
            "Epoch 33/40\n",
            "26/26 [==============================] - 0s 3ms/step - loss: 0.0625 - accuracy: 0.9295 - val_loss: 0.0566 - val_accuracy: 0.9403\n",
            "Epoch 34/40\n",
            "26/26 [==============================] - 0s 3ms/step - loss: 0.0581 - accuracy: 0.9932 - val_loss: 0.0551 - val_accuracy: 1.0000\n",
            "Epoch 35/40\n",
            "26/26 [==============================] - 0s 3ms/step - loss: 0.0619 - accuracy: 1.0000 - val_loss: 0.0536 - val_accuracy: 1.0000\n",
            "Epoch 36/40\n",
            "26/26 [==============================] - 0s 3ms/step - loss: 0.0554 - accuracy: 1.0000 - val_loss: 0.0523 - val_accuracy: 1.0000\n",
            "Epoch 37/40\n",
            "26/26 [==============================] - 0s 3ms/step - loss: 0.0562 - accuracy: 1.0000 - val_loss: 0.0510 - val_accuracy: 1.0000\n",
            "Epoch 38/40\n",
            "26/26 [==============================] - 0s 3ms/step - loss: 0.0597 - accuracy: 1.0000 - val_loss: 0.0498 - val_accuracy: 1.0000\n",
            "Epoch 39/40\n",
            "26/26 [==============================] - 0s 3ms/step - loss: 0.0635 - accuracy: 1.0000 - val_loss: 0.0487 - val_accuracy: 1.0000\n",
            "Epoch 40/40\n",
            "26/26 [==============================] - 0s 3ms/step - loss: 0.0520 - accuracy: 1.0000 - val_loss: 0.0476 - val_accuracy: 1.0000\n"
          ],
          "name": "stdout"
        },
        {
          "output_type": "execute_result",
          "data": {
            "text/plain": [
              "<tensorflow.python.keras.callbacks.History at 0x7f87c11b4310>"
            ]
          },
          "metadata": {
            "tags": []
          },
          "execution_count": 60
        }
      ]
    },
    {
      "cell_type": "code",
      "metadata": {
        "id": "nJgGpcGkV42Y"
      },
      "source": [
        "predictions = model.predict(X_test).round(0)\n",
        "pred2 = model.predict(X_train)"
      ],
      "execution_count": 61,
      "outputs": []
    },
    {
      "cell_type": "code",
      "metadata": {
        "colab": {
          "base_uri": "https://localhost:8080/"
        },
        "id": "GkjanFeXW_KI",
        "outputId": "36e837f6-bebe-4c7a-a7db-3de86e3a5602"
      },
      "source": [
        "loss2, acc2 = model.evaluate(y_train, pred2)\n",
        "loss, acc = model.evaluate(y_test, predictions)"
      ],
      "execution_count": 62,
      "outputs": [
        {
          "output_type": "stream",
          "text": [
            "129/129 [==============================] - 0s 2ms/step - loss: 0.1940 - accuracy: 0.9313\n",
            "33/33 [==============================] - 0s 1ms/step - loss: 0.2670 - accuracy: 0.9337\n"
          ],
          "name": "stdout"
        }
      ]
    },
    {
      "cell_type": "code",
      "metadata": {
        "id": "kauDbD0MXng6",
        "colab": {
          "base_uri": "https://localhost:8080/"
        },
        "outputId": "12d1db13-cc07-48ec-8bf2-bf102b33563b"
      },
      "source": [
        "print(\"Train Accuracy: %.2f\" % (acc2 * 100) + \"%\")\n",
        "print(\"Test Accuracy: %.2f\" % (acc * 100) + \"%\")"
      ],
      "execution_count": 63,
      "outputs": [
        {
          "output_type": "stream",
          "text": [
            "Train Accuracy: 93.13%\n",
            "Test Accuracy: 93.37%\n"
          ],
          "name": "stdout"
        }
      ]
    }
  ]
}