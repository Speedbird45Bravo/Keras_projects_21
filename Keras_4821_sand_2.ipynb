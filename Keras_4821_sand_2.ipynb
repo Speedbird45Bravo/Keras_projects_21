{
  "nbformat": 4,
  "nbformat_minor": 0,
  "metadata": {
    "colab": {
      "name": "Keras_4821_sand_2.ipynb",
      "provenance": [],
      "collapsed_sections": [],
      "authorship_tag": "ABX9TyN9BhnbwL72uezh8z2er6d5"
    },
    "kernelspec": {
      "name": "python3",
      "display_name": "Python 3"
    },
    "language_info": {
      "name": "python"
    }
  },
  "cells": [
    {
      "cell_type": "code",
      "metadata": {
        "id": "jM2H5RyeUONz"
      },
      "source": [
        "from keras.layers import Dense, Dropout\n",
        "from keras.models import Sequential\n",
        "from keras.utils import to_categorical\n",
        "from sklearn.model_selection import train_test_split\n",
        "import numpy as np\n",
        "import pandas as pd\n",
        "\n",
        "df = pd.read_csv(\"https://projects.fivethirtyeight.com/soccer-api/club/spi_matches.csv\").dropna()\n",
        "df = df[(df.league=='Barclays Premier League') | (df.league=='English League Championship') | (df.league=='Major League Soccer')]\n",
        "df['spi_margin'] = np.abs(df['spi1'] - df['spi2'])\n",
        "df['margin'] = np.abs(df['score1'] - df['score2'])\n",
        "df['totgoals'] = df['score1'] + df['score2']\n",
        "\n",
        "res = []\n",
        "\n",
        "for x in df['totgoals']:\n",
        "  if x > 0:\n",
        "    res.append(\"GOALS\")\n",
        "  else:\n",
        "    res.append(\"SCORELESS\")\n",
        "\n",
        "df['goals'] = res"
      ],
      "execution_count": null,
      "outputs": []
    },
    {
      "cell_type": "code",
      "metadata": {
        "id": "GCIrB7gFUqQT"
      },
      "source": [
        "def load_model():\n",
        "  model = Sequential()\n",
        "  model.add(Dense(16, activation='relu'))\n",
        "  model.add(Dense(2, activation='softmax'))\n",
        "  model.compile(optimizer='adam', loss='categorical_crossentropy', metrics=['accuracy'])\n",
        "  return model\n",
        "\n",
        "def to_cat(array):\n",
        "  y = to_categorical(np.asarray(pd.factorize(array)[0]))\n",
        "  return y\n",
        "\n",
        "def to_df(array):\n",
        "  df = pd.DataFrame(array).reset_index(drop=True)\n",
        "  return df"
      ],
      "execution_count": null,
      "outputs": []
    },
    {
      "cell_type": "code",
      "metadata": {
        "id": "ETh_OCVEU9mx"
      },
      "source": [
        "model = load_model()"
      ],
      "execution_count": null,
      "outputs": []
    },
    {
      "cell_type": "code",
      "metadata": {
        "id": "aLbapr4jU_KR"
      },
      "source": [
        "X = df[['score1','score2']].reset_index(drop=True)\n",
        "y = df[['goals']].copy()\n",
        "X_train, X_test, y_train, y_test = train_test_split(X, y, test_size=0.2, random_state=6)"
      ],
      "execution_count": null,
      "outputs": []
    },
    {
      "cell_type": "code",
      "metadata": {
        "id": "zaOJj51qVRBH"
      },
      "source": [
        "y_train = to_cat(y_train['goals'])\n",
        "y_train = to_df(y_train)\n",
        "y_test = to_cat(y_test['goals'])\n",
        "y_test = to_df(y_test)"
      ],
      "execution_count": null,
      "outputs": []
    },
    {
      "cell_type": "code",
      "metadata": {
        "colab": {
          "base_uri": "https://localhost:8080/"
        },
        "id": "MH2I27qnVdTs",
        "outputId": "6a015cda-a44d-42e1-de42-18b039bb4556"
      },
      "source": [
        "history = model.fit(X_train, y_train, epochs=40, batch_size=128, verbose=1, validation_split=0.1)"
      ],
      "execution_count": null,
      "outputs": [
        {
          "output_type": "stream",
          "text": [
            "Epoch 1/40\n",
            "29/29 [==============================] - 1s 23ms/step - loss: 0.7953 - accuracy: 0.4563 - val_loss: 0.6067 - val_accuracy: 0.6788\n",
            "Epoch 2/40\n",
            "29/29 [==============================] - 0s 3ms/step - loss: 0.5550 - accuracy: 0.7294 - val_loss: 0.4314 - val_accuracy: 0.9489\n",
            "Epoch 3/40\n",
            "29/29 [==============================] - 0s 4ms/step - loss: 0.4087 - accuracy: 0.9264 - val_loss: 0.3286 - val_accuracy: 0.9489\n",
            "Epoch 4/40\n",
            "29/29 [==============================] - 0s 4ms/step - loss: 0.3167 - accuracy: 0.9340 - val_loss: 0.2625 - val_accuracy: 0.9489\n",
            "Epoch 5/40\n",
            "29/29 [==============================] - 0s 4ms/step - loss: 0.2646 - accuracy: 0.9299 - val_loss: 0.2189 - val_accuracy: 0.9489\n",
            "Epoch 6/40\n",
            "29/29 [==============================] - 0s 4ms/step - loss: 0.2303 - accuracy: 0.9220 - val_loss: 0.1893 - val_accuracy: 0.9489\n",
            "Epoch 7/40\n",
            "29/29 [==============================] - 0s 3ms/step - loss: 0.1984 - accuracy: 0.9306 - val_loss: 0.1675 - val_accuracy: 0.9489\n",
            "Epoch 8/40\n",
            "29/29 [==============================] - 0s 4ms/step - loss: 0.1761 - accuracy: 0.9330 - val_loss: 0.1504 - val_accuracy: 0.9489\n",
            "Epoch 9/40\n",
            "29/29 [==============================] - 0s 3ms/step - loss: 0.1632 - accuracy: 0.9309 - val_loss: 0.1373 - val_accuracy: 0.9489\n",
            "Epoch 10/40\n",
            "29/29 [==============================] - 0s 3ms/step - loss: 0.1524 - accuracy: 0.9293 - val_loss: 0.1267 - val_accuracy: 0.9489\n",
            "Epoch 11/40\n",
            "29/29 [==============================] - 0s 4ms/step - loss: 0.1502 - accuracy: 0.9227 - val_loss: 0.1191 - val_accuracy: 0.9489\n",
            "Epoch 12/40\n",
            "29/29 [==============================] - 0s 3ms/step - loss: 0.1426 - accuracy: 0.9261 - val_loss: 0.1131 - val_accuracy: 0.9489\n",
            "Epoch 13/40\n",
            "29/29 [==============================] - 0s 4ms/step - loss: 0.1405 - accuracy: 0.9209 - val_loss: 0.1086 - val_accuracy: 0.9489\n",
            "Epoch 14/40\n",
            "29/29 [==============================] - 0s 3ms/step - loss: 0.1262 - accuracy: 0.9301 - val_loss: 0.1046 - val_accuracy: 0.9489\n",
            "Epoch 15/40\n",
            "29/29 [==============================] - 0s 3ms/step - loss: 0.1232 - accuracy: 0.9309 - val_loss: 0.1014 - val_accuracy: 0.9489\n",
            "Epoch 16/40\n",
            "29/29 [==============================] - 0s 4ms/step - loss: 0.1168 - accuracy: 0.9336 - val_loss: 0.0984 - val_accuracy: 0.9489\n",
            "Epoch 17/40\n",
            "29/29 [==============================] - 0s 4ms/step - loss: 0.1129 - accuracy: 0.9333 - val_loss: 0.0958 - val_accuracy: 0.9489\n",
            "Epoch 18/40\n",
            "29/29 [==============================] - 0s 4ms/step - loss: 0.1128 - accuracy: 0.9320 - val_loss: 0.0932 - val_accuracy: 0.9489\n",
            "Epoch 19/40\n",
            "29/29 [==============================] - 0s 3ms/step - loss: 0.1148 - accuracy: 0.9266 - val_loss: 0.0907 - val_accuracy: 0.9489\n",
            "Epoch 20/40\n",
            "29/29 [==============================] - 0s 3ms/step - loss: 0.1059 - accuracy: 0.9315 - val_loss: 0.0884 - val_accuracy: 0.9489\n",
            "Epoch 21/40\n",
            "29/29 [==============================] - 0s 3ms/step - loss: 0.1083 - accuracy: 0.9265 - val_loss: 0.0860 - val_accuracy: 0.9489\n",
            "Epoch 22/40\n",
            "29/29 [==============================] - 0s 4ms/step - loss: 0.0995 - accuracy: 0.9315 - val_loss: 0.0836 - val_accuracy: 0.9489\n",
            "Epoch 23/40\n",
            "29/29 [==============================] - 0s 4ms/step - loss: 0.0964 - accuracy: 0.9322 - val_loss: 0.0812 - val_accuracy: 0.9489\n",
            "Epoch 24/40\n",
            "29/29 [==============================] - 0s 4ms/step - loss: 0.0943 - accuracy: 0.9312 - val_loss: 0.0788 - val_accuracy: 0.9489\n",
            "Epoch 25/40\n",
            "29/29 [==============================] - 0s 3ms/step - loss: 0.0960 - accuracy: 0.9279 - val_loss: 0.0764 - val_accuracy: 0.9489\n",
            "Epoch 26/40\n",
            "29/29 [==============================] - 0s 3ms/step - loss: 0.0913 - accuracy: 0.9284 - val_loss: 0.0741 - val_accuracy: 0.9489\n",
            "Epoch 27/40\n",
            "29/29 [==============================] - 0s 5ms/step - loss: 0.0930 - accuracy: 0.9226 - val_loss: 0.0718 - val_accuracy: 0.9489\n",
            "Epoch 28/40\n",
            "29/29 [==============================] - 0s 3ms/step - loss: 0.0836 - accuracy: 0.9330 - val_loss: 0.0696 - val_accuracy: 0.9489\n",
            "Epoch 29/40\n",
            "29/29 [==============================] - 0s 4ms/step - loss: 0.0799 - accuracy: 0.9324 - val_loss: 0.0675 - val_accuracy: 0.9489\n",
            "Epoch 30/40\n",
            "29/29 [==============================] - 0s 3ms/step - loss: 0.0833 - accuracy: 0.9254 - val_loss: 0.0655 - val_accuracy: 0.9489\n",
            "Epoch 31/40\n",
            "29/29 [==============================] - 0s 4ms/step - loss: 0.0795 - accuracy: 0.9279 - val_loss: 0.0636 - val_accuracy: 0.9489\n",
            "Epoch 32/40\n",
            "29/29 [==============================] - 0s 3ms/step - loss: 0.0779 - accuracy: 0.9262 - val_loss: 0.0617 - val_accuracy: 0.9489\n",
            "Epoch 33/40\n",
            "29/29 [==============================] - 0s 4ms/step - loss: 0.0793 - accuracy: 0.9217 - val_loss: 0.0600 - val_accuracy: 0.9489\n",
            "Epoch 34/40\n",
            "29/29 [==============================] - 0s 3ms/step - loss: 0.0721 - accuracy: 0.9282 - val_loss: 0.0584 - val_accuracy: 0.9489\n",
            "Epoch 35/40\n",
            "29/29 [==============================] - 0s 3ms/step - loss: 0.0746 - accuracy: 0.9239 - val_loss: 0.0567 - val_accuracy: 0.9489\n",
            "Epoch 36/40\n",
            "29/29 [==============================] - 0s 3ms/step - loss: 0.0616 - accuracy: 0.9384 - val_loss: 0.0552 - val_accuracy: 0.9489\n",
            "Epoch 37/40\n",
            "29/29 [==============================] - 0s 4ms/step - loss: 0.0650 - accuracy: 0.9308 - val_loss: 0.0538 - val_accuracy: 0.9489\n",
            "Epoch 38/40\n",
            "29/29 [==============================] - 0s 4ms/step - loss: 0.0704 - accuracy: 0.9225 - val_loss: 0.0525 - val_accuracy: 0.9489\n",
            "Epoch 39/40\n",
            "29/29 [==============================] - 0s 4ms/step - loss: 0.0622 - accuracy: 0.9313 - val_loss: 0.0512 - val_accuracy: 0.9489\n",
            "Epoch 40/40\n",
            "29/29 [==============================] - 0s 3ms/step - loss: 0.0654 - accuracy: 0.9247 - val_loss: 0.0500 - val_accuracy: 0.9489\n"
          ],
          "name": "stdout"
        }
      ]
    },
    {
      "cell_type": "code",
      "metadata": {
        "id": "nJgGpcGkV42Y"
      },
      "source": [
        "predictions = model.predict(X_test).round(0)\n",
        "pred2 = model.predict(X_train)"
      ],
      "execution_count": null,
      "outputs": []
    },
    {
      "cell_type": "code",
      "metadata": {
        "colab": {
          "base_uri": "https://localhost:8080/"
        },
        "id": "GkjanFeXW_KI",
        "outputId": "036bca46-263e-403f-b8fa-eb8842a79b0c"
      },
      "source": [
        "loss2, acc2 = model.evaluate(y_train, pred2)\n",
        "loss, acc = model.evaluate(y_test, predictions)"
      ],
      "execution_count": null,
      "outputs": [
        {
          "output_type": "stream",
          "text": [
            "129/129 [==============================] - 0s 2ms/step - loss: 0.1896 - accuracy: 1.0000\n",
            "33/33 [==============================] - 0s 1ms/step - loss: 0.0649 - accuracy: 1.0000\n"
          ],
          "name": "stdout"
        }
      ]
    },
    {
      "cell_type": "code",
      "metadata": {
        "id": "kauDbD0MXng6",
        "colab": {
          "base_uri": "https://localhost:8080/"
        },
        "outputId": "493d3f75-98e7-481a-fd51-d7e7dae9c777"
      },
      "source": [
        "print(\"Train Accuracy: %.2f\" % (acc2 * 100) + \"%\")\n",
        "print(\"Test Accuracy: %.2f\" % (acc * 100) + \"%\")"
      ],
      "execution_count": null,
      "outputs": [
        {
          "output_type": "stream",
          "text": [
            "Train Accuracy: 100.00%\n",
            "Test Accuracy: 100.00%\n"
          ],
          "name": "stdout"
        }
      ]
    }
  ]
}