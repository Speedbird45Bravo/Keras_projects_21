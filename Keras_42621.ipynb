{
  "nbformat": 4,
  "nbformat_minor": 0,
  "metadata": {
    "colab": {
      "name": "Keras_42621.ipynb",
      "provenance": [],
      "collapsed_sections": [],
      "authorship_tag": "ABX9TyOaBH9alv+mzLl4yYPH4ppt",
      "include_colab_link": true
    },
    "kernelspec": {
      "name": "python3",
      "display_name": "Python 3"
    },
    "language_info": {
      "name": "python"
    }
  },
  "cells": [
    {
      "cell_type": "markdown",
      "metadata": {
        "id": "view-in-github",
        "colab_type": "text"
      },
      "source": [
        "<a href=\"https://colab.research.google.com/github/Speedbird45Bravo/Keras_projects_21/blob/main/Keras_42621.ipynb\" target=\"_parent\"><img src=\"https://colab.research.google.com/assets/colab-badge.svg\" alt=\"Open In Colab\"/></a>"
      ]
    },
    {
      "cell_type": "code",
      "metadata": {
        "id": "dgIUNXUyMWCr"
      },
      "source": [
        "from keras.layers import Dense\n",
        "from keras.models import Sequential\n",
        "from keras.utils import to_categorical\n",
        "from sklearn.model_selection import train_test_split\n",
        "import numpy as np\n",
        "import pandas as pd"
      ],
      "execution_count": 1,
      "outputs": []
    },
    {
      "cell_type": "code",
      "metadata": {
        "id": "Ho27uMcQMeF3"
      },
      "source": [
        "df = pd.read_csv(\"https://projects.fivethirtyeight.com/soccer-api/club/spi_matches.csv\").dropna()"
      ],
      "execution_count": 2,
      "outputs": []
    },
    {
      "cell_type": "code",
      "metadata": {
        "id": "VZNoyvXxMiry"
      },
      "source": [
        "df['total_goals_scored'] = df['score1'] + df['score2']\n",
        "goals = []"
      ],
      "execution_count": 10,
      "outputs": []
    },
    {
      "cell_type": "code",
      "metadata": {
        "id": "n7-zdrMBMojZ"
      },
      "source": [
        "for x in df['total_goals_scored']:\n",
        "  if x > 0:\n",
        "    goals.append(\"ONE OR GREATER\")\n",
        "  else:\n",
        "    goals.append(\"NO GOALS\")"
      ],
      "execution_count": 11,
      "outputs": []
    },
    {
      "cell_type": "code",
      "metadata": {
        "id": "L-Y904bQMzx2"
      },
      "source": [
        "df['goal_scoring_bucket'] = goals"
      ],
      "execution_count": 12,
      "outputs": []
    },
    {
      "cell_type": "code",
      "metadata": {
        "id": "gNJbMrpWM7zI"
      },
      "source": [
        "def categorical(array):\n",
        "  array = to_categorical(np.asarray(pd.factorize(array)[0]))\n",
        "  return array"
      ],
      "execution_count": 13,
      "outputs": []
    },
    {
      "cell_type": "code",
      "metadata": {
        "id": "0Xcd2PdHNKTI"
      },
      "source": [
        "def model():\n",
        "  model = Sequential()\n",
        "  model.add(Dense(16, activation='relu'))\n",
        "  model.add(Dense(2, activation='softmax'))\n",
        "  model.compile(optimizer='adam', loss='binary_crossentropy', metrics=['accuracy'])\n",
        "  return model"
      ],
      "execution_count": 15,
      "outputs": []
    },
    {
      "cell_type": "code",
      "metadata": {
        "id": "KEmXTgWxNYSs"
      },
      "source": [
        "X = df[['score1', 'score2']]\n",
        "y = df[['goal_scoring_bucket']].copy()\n",
        "X_train, X_test, y_train, y_test = train_test_split(X, y, test_size=0.2, random_state=6)"
      ],
      "execution_count": 16,
      "outputs": []
    },
    {
      "cell_type": "code",
      "metadata": {
        "id": "JVF7eDwjNlHc"
      },
      "source": [
        "y_train = categorical(y_train['goal_scoring_bucket'])\n",
        "y_test = categorical(y_test['goal_scoring_bucket'])"
      ],
      "execution_count": 17,
      "outputs": []
    },
    {
      "cell_type": "code",
      "metadata": {
        "id": "NUGy0VuSNptw"
      },
      "source": [
        "model = model()"
      ],
      "execution_count": 18,
      "outputs": []
    },
    {
      "cell_type": "code",
      "metadata": {
        "colab": {
          "base_uri": "https://localhost:8080/"
        },
        "id": "2cvD5vrNNqtP",
        "outputId": "7dadca36-d662-40c8-ac0f-7fca64b49132"
      },
      "source": [
        "model.fit(X_train, y_train, epochs=40, batch_size=128, verbose=1, validation_split=0.2)"
      ],
      "execution_count": 19,
      "outputs": [
        {
          "output_type": "stream",
          "text": [
            "Epoch 1/40\n",
            "102/102 [==============================] - 1s 3ms/step - loss: 0.4671 - accuracy: 0.9304 - val_loss: 0.2594 - val_accuracy: 0.9334\n",
            "Epoch 2/40\n",
            "102/102 [==============================] - 0s 1ms/step - loss: 0.2288 - accuracy: 0.9260 - val_loss: 0.1544 - val_accuracy: 0.9334\n",
            "Epoch 3/40\n",
            "102/102 [==============================] - 0s 1ms/step - loss: 0.1499 - accuracy: 0.9285 - val_loss: 0.1229 - val_accuracy: 0.9334\n",
            "Epoch 4/40\n",
            "102/102 [==============================] - 0s 1ms/step - loss: 0.1209 - accuracy: 0.9325 - val_loss: 0.1062 - val_accuracy: 0.9334\n",
            "Epoch 5/40\n",
            "102/102 [==============================] - 0s 1ms/step - loss: 0.1050 - accuracy: 0.9325 - val_loss: 0.0931 - val_accuracy: 0.9334\n",
            "Epoch 6/40\n",
            "102/102 [==============================] - 0s 1ms/step - loss: 0.0933 - accuracy: 0.9301 - val_loss: 0.0810 - val_accuracy: 0.9334\n",
            "Epoch 7/40\n",
            "102/102 [==============================] - 0s 1ms/step - loss: 0.0771 - accuracy: 0.9353 - val_loss: 0.0706 - val_accuracy: 0.9334\n",
            "Epoch 8/40\n",
            "102/102 [==============================] - 0s 1ms/step - loss: 0.0731 - accuracy: 0.9278 - val_loss: 0.0626 - val_accuracy: 0.9334\n",
            "Epoch 9/40\n",
            "102/102 [==============================] - 0s 1ms/step - loss: 0.0646 - accuracy: 0.9290 - val_loss: 0.0574 - val_accuracy: 1.0000\n",
            "Epoch 10/40\n",
            "102/102 [==============================] - 0s 1ms/step - loss: 0.0589 - accuracy: 1.0000 - val_loss: 0.0536 - val_accuracy: 1.0000\n",
            "Epoch 11/40\n",
            "102/102 [==============================] - 0s 1ms/step - loss: 0.0579 - accuracy: 1.0000 - val_loss: 0.0504 - val_accuracy: 1.0000\n",
            "Epoch 12/40\n",
            "102/102 [==============================] - 0s 1ms/step - loss: 0.0524 - accuracy: 1.0000 - val_loss: 0.0477 - val_accuracy: 1.0000\n",
            "Epoch 13/40\n",
            "102/102 [==============================] - 0s 1ms/step - loss: 0.0486 - accuracy: 1.0000 - val_loss: 0.0452 - val_accuracy: 1.0000\n",
            "Epoch 14/40\n",
            "102/102 [==============================] - 0s 1ms/step - loss: 0.0500 - accuracy: 1.0000 - val_loss: 0.0429 - val_accuracy: 1.0000\n",
            "Epoch 15/40\n",
            "102/102 [==============================] - 0s 1ms/step - loss: 0.0474 - accuracy: 1.0000 - val_loss: 0.0407 - val_accuracy: 1.0000\n",
            "Epoch 16/40\n",
            "102/102 [==============================] - 0s 1ms/step - loss: 0.0421 - accuracy: 1.0000 - val_loss: 0.0387 - val_accuracy: 1.0000\n",
            "Epoch 17/40\n",
            "102/102 [==============================] - 0s 1ms/step - loss: 0.0429 - accuracy: 1.0000 - val_loss: 0.0368 - val_accuracy: 1.0000\n",
            "Epoch 18/40\n",
            "102/102 [==============================] - 0s 1ms/step - loss: 0.0394 - accuracy: 1.0000 - val_loss: 0.0349 - val_accuracy: 1.0000\n",
            "Epoch 19/40\n",
            "102/102 [==============================] - 0s 1ms/step - loss: 0.0377 - accuracy: 1.0000 - val_loss: 0.0332 - val_accuracy: 1.0000\n",
            "Epoch 20/40\n",
            "102/102 [==============================] - 0s 1ms/step - loss: 0.0353 - accuracy: 1.0000 - val_loss: 0.0315 - val_accuracy: 1.0000\n",
            "Epoch 21/40\n",
            "102/102 [==============================] - 0s 1ms/step - loss: 0.0332 - accuracy: 1.0000 - val_loss: 0.0300 - val_accuracy: 1.0000\n",
            "Epoch 22/40\n",
            "102/102 [==============================] - 0s 1ms/step - loss: 0.0307 - accuracy: 1.0000 - val_loss: 0.0285 - val_accuracy: 1.0000\n",
            "Epoch 23/40\n",
            "102/102 [==============================] - 0s 1ms/step - loss: 0.0309 - accuracy: 1.0000 - val_loss: 0.0270 - val_accuracy: 1.0000\n",
            "Epoch 24/40\n",
            "102/102 [==============================] - 0s 1ms/step - loss: 0.0280 - accuracy: 1.0000 - val_loss: 0.0257 - val_accuracy: 1.0000\n",
            "Epoch 25/40\n",
            "102/102 [==============================] - 0s 1ms/step - loss: 0.0273 - accuracy: 1.0000 - val_loss: 0.0244 - val_accuracy: 1.0000\n",
            "Epoch 26/40\n",
            "102/102 [==============================] - 0s 1ms/step - loss: 0.0259 - accuracy: 1.0000 - val_loss: 0.0231 - val_accuracy: 1.0000\n",
            "Epoch 27/40\n",
            "102/102 [==============================] - 0s 1ms/step - loss: 0.0245 - accuracy: 1.0000 - val_loss: 0.0220 - val_accuracy: 1.0000\n",
            "Epoch 28/40\n",
            "102/102 [==============================] - 0s 1ms/step - loss: 0.0244 - accuracy: 1.0000 - val_loss: 0.0209 - val_accuracy: 1.0000\n",
            "Epoch 29/40\n",
            "102/102 [==============================] - 0s 1ms/step - loss: 0.0223 - accuracy: 1.0000 - val_loss: 0.0198 - val_accuracy: 1.0000\n",
            "Epoch 30/40\n",
            "102/102 [==============================] - 0s 1ms/step - loss: 0.0190 - accuracy: 1.0000 - val_loss: 0.0188 - val_accuracy: 1.0000\n",
            "Epoch 31/40\n",
            "102/102 [==============================] - 0s 1ms/step - loss: 0.0200 - accuracy: 1.0000 - val_loss: 0.0179 - val_accuracy: 1.0000\n",
            "Epoch 32/40\n",
            "102/102 [==============================] - 0s 1ms/step - loss: 0.0188 - accuracy: 1.0000 - val_loss: 0.0170 - val_accuracy: 1.0000\n",
            "Epoch 33/40\n",
            "102/102 [==============================] - 0s 1ms/step - loss: 0.0184 - accuracy: 1.0000 - val_loss: 0.0161 - val_accuracy: 1.0000\n",
            "Epoch 34/40\n",
            "102/102 [==============================] - 0s 1ms/step - loss: 0.0166 - accuracy: 1.0000 - val_loss: 0.0154 - val_accuracy: 1.0000\n",
            "Epoch 35/40\n",
            "102/102 [==============================] - 0s 1ms/step - loss: 0.0159 - accuracy: 1.0000 - val_loss: 0.0146 - val_accuracy: 1.0000\n",
            "Epoch 36/40\n",
            "102/102 [==============================] - 0s 1ms/step - loss: 0.0151 - accuracy: 1.0000 - val_loss: 0.0139 - val_accuracy: 1.0000\n",
            "Epoch 37/40\n",
            "102/102 [==============================] - 0s 1ms/step - loss: 0.0147 - accuracy: 1.0000 - val_loss: 0.0132 - val_accuracy: 1.0000\n",
            "Epoch 38/40\n",
            "102/102 [==============================] - 0s 1ms/step - loss: 0.0146 - accuracy: 1.0000 - val_loss: 0.0125 - val_accuracy: 1.0000\n",
            "Epoch 39/40\n",
            "102/102 [==============================] - 0s 1ms/step - loss: 0.0136 - accuracy: 1.0000 - val_loss: 0.0119 - val_accuracy: 1.0000\n",
            "Epoch 40/40\n",
            "102/102 [==============================] - 0s 1ms/step - loss: 0.0129 - accuracy: 1.0000 - val_loss: 0.0114 - val_accuracy: 1.0000\n"
          ],
          "name": "stdout"
        },
        {
          "output_type": "execute_result",
          "data": {
            "text/plain": [
              "<tensorflow.python.keras.callbacks.History at 0x7ffa33914790>"
            ]
          },
          "metadata": {
            "tags": []
          },
          "execution_count": 19
        }
      ]
    },
    {
      "cell_type": "code",
      "metadata": {
        "id": "vVrUoHZ1NvL7"
      },
      "source": [
        "predictions = model.predict(X_test)"
      ],
      "execution_count": 20,
      "outputs": []
    },
    {
      "cell_type": "code",
      "metadata": {
        "colab": {
          "base_uri": "https://localhost:8080/"
        },
        "id": "NHecNO5eNyrj",
        "outputId": "0d105e94-83bd-418c-e445-a560503bea7f"
      },
      "source": [
        "loss, accuracy = model.evaluate(y_test, predictions)"
      ],
      "execution_count": 21,
      "outputs": [
        {
          "output_type": "stream",
          "text": [
            "128/128 [==============================] - 0s 1ms/step - loss: 0.4539 - accuracy: 0.9305\n"
          ],
          "name": "stdout"
        }
      ]
    },
    {
      "cell_type": "code",
      "metadata": {
        "colab": {
          "base_uri": "https://localhost:8080/"
        },
        "id": "o-n93gaON1or",
        "outputId": "c337da10-ce99-44b4-dad3-dfae55518a16"
      },
      "source": [
        "print(\"Test Accuracy: {}%\".format(round(accuracy * 100),2))"
      ],
      "execution_count": 24,
      "outputs": [
        {
          "output_type": "stream",
          "text": [
            "Test Accuracy: 93%\n"
          ],
          "name": "stdout"
        }
      ]
    }
  ]
}