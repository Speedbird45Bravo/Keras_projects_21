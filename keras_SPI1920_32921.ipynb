{
  "nbformat": 4,
  "nbformat_minor": 0,
  "metadata": {
    "colab": {
      "name": "keras_SPI1920_32921.ipynb",
      "provenance": [],
      "collapsed_sections": [],
      "authorship_tag": "ABX9TyNEzwuWk18mh51LDfZtq374",
      "include_colab_link": true
    },
    "kernelspec": {
      "name": "python3",
      "display_name": "Python 3"
    },
    "language_info": {
      "name": "python"
    }
  },
  "cells": [
    {
      "cell_type": "markdown",
      "metadata": {
        "id": "view-in-github",
        "colab_type": "text"
      },
      "source": [
        "<a href=\"https://colab.research.google.com/github/Speedbird45Bravo/Keras_projects_21/blob/main/keras_SPI1920_32921.ipynb\" target=\"_parent\"><img src=\"https://colab.research.google.com/assets/colab-badge.svg\" alt=\"Open In Colab\"/></a>"
      ]
    },
    {
      "cell_type": "code",
      "metadata": {
        "id": "hcDWnKj9WQqO"
      },
      "source": [
        "from keras.layers import Dense\n",
        "from keras.models import Sequential\n",
        "import pandas as pd\n",
        "import numpy as np\n",
        "import matplotlib.pyplot as plt\n",
        "from sklearn.model_selection import train_test_split\n",
        "from sklearn.preprocessing import StandardScaler\n",
        "\n",
        "url = \"https://projects.fivethirtyeight.com/soccer-api/club/spi_matches.csv\"\n",
        "df = pd.read_csv(url, parse_dates=['date']).dropna()\n",
        "df = df[(df.season >= 2018) & (df.league=='Barclays Premier League')]\n",
        "df['spi_margin'] = np.abs(df['spi1'] - df['spi2'])\n",
        "X = df[['spi1', 'spi2', 'prob1', 'prob2', 'probtie', 'proj_score1', 'proj_score2', 'importance1', 'importance2', 'score1', 'score2', 'xg1', 'xg2', 'nsxg1', 'nsxg2', 'adj_score1', 'adj_score2']].reset_index(drop=True)\n",
        "y = df[['spi_margin']].copy()\n",
        "X_train, X_test, y_train, y_test = train_test_split(X, y, test_size=0.2, random_state=6)"
      ],
      "execution_count": 9,
      "outputs": []
    },
    {
      "cell_type": "code",
      "metadata": {
        "id": "kokuJId1WqcO"
      },
      "source": [
        "ss = StandardScaler().fit(X_train)\n",
        "X_train_scaled = ss.transform(X_train)\n",
        "X_test_scaled = ss.transform(X_test)"
      ],
      "execution_count": 10,
      "outputs": []
    },
    {
      "cell_type": "code",
      "metadata": {
        "colab": {
          "base_uri": "https://localhost:8080/"
        },
        "id": "RPuR9LWCXd1d",
        "outputId": "238549f0-d729-431a-d4b6-6d2efba39910"
      },
      "source": [
        "model = Sequential()\n",
        "model.add(Dense(64, activation=\"relu\"))\n",
        "model.add(Dense(16, activation=\"relu\"))\n",
        "model.add(Dense(1))\n",
        "model.compile(optimizer='rmsprop', loss='mse', metrics=['mae'])\n",
        "history = model.fit(X_train_scaled, y_train, epochs=100, batch_size=128, validation_split=0.2, verbose=1)"
      ],
      "execution_count": 13,
      "outputs": [
        {
          "output_type": "stream",
          "text": [
            "Epoch 1/100\n",
            "6/6 [==============================] - 1s 53ms/step - loss: 195.2662 - mae: 11.0066 - val_loss: 189.1338 - val_mae: 11.0479\n",
            "Epoch 2/100\n",
            "6/6 [==============================] - 0s 15ms/step - loss: 174.6903 - mae: 10.3916 - val_loss: 175.2689 - val_mae: 10.5890\n",
            "Epoch 3/100\n",
            "6/6 [==============================] - 0s 14ms/step - loss: 160.5561 - mae: 9.9136 - val_loss: 161.3637 - val_mae: 10.1206\n",
            "Epoch 4/100\n",
            "6/6 [==============================] - 0s 15ms/step - loss: 153.7241 - mae: 9.7288 - val_loss: 147.3683 - val_mae: 9.6435\n",
            "Epoch 5/100\n",
            "6/6 [==============================] - 0s 17ms/step - loss: 132.0534 - mae: 8.9225 - val_loss: 132.8616 - val_mae: 9.1313\n",
            "Epoch 6/100\n",
            "6/6 [==============================] - 0s 14ms/step - loss: 120.4972 - mae: 8.4639 - val_loss: 118.3150 - val_mae: 8.5898\n",
            "Epoch 7/100\n",
            "6/6 [==============================] - 0s 13ms/step - loss: 106.8813 - mae: 8.0046 - val_loss: 103.3643 - val_mae: 8.0122\n",
            "Epoch 8/100\n",
            "6/6 [==============================] - 0s 15ms/step - loss: 98.6535 - mae: 7.6730 - val_loss: 88.6310 - val_mae: 7.4009\n",
            "Epoch 9/100\n",
            "6/6 [==============================] - 0s 14ms/step - loss: 83.9270 - mae: 7.0257 - val_loss: 74.8604 - val_mae: 6.8208\n",
            "Epoch 10/100\n",
            "6/6 [==============================] - 0s 16ms/step - loss: 70.5980 - mae: 6.4348 - val_loss: 60.7595 - val_mae: 6.1749\n",
            "Epoch 11/100\n",
            "6/6 [==============================] - 0s 14ms/step - loss: 58.2736 - mae: 5.9386 - val_loss: 49.2936 - val_mae: 5.5789\n",
            "Epoch 12/100\n",
            "6/6 [==============================] - 0s 14ms/step - loss: 49.8677 - mae: 5.5054 - val_loss: 39.3378 - val_mae: 5.0035\n",
            "Epoch 13/100\n",
            "6/6 [==============================] - 0s 13ms/step - loss: 38.8352 - mae: 4.8889 - val_loss: 32.0212 - val_mae: 4.5380\n",
            "Epoch 14/100\n",
            "6/6 [==============================] - 0s 14ms/step - loss: 31.4913 - mae: 4.4292 - val_loss: 26.7073 - val_mae: 4.1488\n",
            "Epoch 15/100\n",
            "6/6 [==============================] - 0s 13ms/step - loss: 26.8282 - mae: 4.0841 - val_loss: 23.8195 - val_mae: 3.9183\n",
            "Epoch 16/100\n",
            "6/6 [==============================] - 0s 15ms/step - loss: 25.2143 - mae: 4.0073 - val_loss: 21.5877 - val_mae: 3.7222\n",
            "Epoch 17/100\n",
            "6/6 [==============================] - 0s 14ms/step - loss: 22.2425 - mae: 3.7707 - val_loss: 20.3129 - val_mae: 3.6043\n",
            "Epoch 18/100\n",
            "6/6 [==============================] - 0s 15ms/step - loss: 20.8118 - mae: 3.6656 - val_loss: 19.4802 - val_mae: 3.5280\n",
            "Epoch 19/100\n",
            "6/6 [==============================] - 0s 15ms/step - loss: 19.2997 - mae: 3.5420 - val_loss: 18.6960 - val_mae: 3.4517\n",
            "Epoch 20/100\n",
            "6/6 [==============================] - 0s 14ms/step - loss: 17.9052 - mae: 3.4109 - val_loss: 18.0174 - val_mae: 3.3921\n",
            "Epoch 21/100\n",
            "6/6 [==============================] - 0s 15ms/step - loss: 16.8743 - mae: 3.3019 - val_loss: 17.2359 - val_mae: 3.3262\n",
            "Epoch 22/100\n",
            "6/6 [==============================] - 0s 15ms/step - loss: 17.7662 - mae: 3.3639 - val_loss: 16.5443 - val_mae: 3.2436\n",
            "Epoch 23/100\n",
            "6/6 [==============================] - 0s 14ms/step - loss: 14.9254 - mae: 3.1301 - val_loss: 15.7728 - val_mae: 3.1874\n",
            "Epoch 24/100\n",
            "6/6 [==============================] - 0s 16ms/step - loss: 14.4916 - mae: 3.1049 - val_loss: 15.0610 - val_mae: 3.1277\n",
            "Epoch 25/100\n",
            "6/6 [==============================] - 0s 14ms/step - loss: 14.8697 - mae: 3.1296 - val_loss: 14.4481 - val_mae: 3.0636\n",
            "Epoch 26/100\n",
            "6/6 [==============================] - 0s 14ms/step - loss: 13.9359 - mae: 2.9960 - val_loss: 13.8206 - val_mae: 2.9931\n",
            "Epoch 27/100\n",
            "6/6 [==============================] - 0s 15ms/step - loss: 13.6172 - mae: 2.9622 - val_loss: 13.2596 - val_mae: 2.9385\n",
            "Epoch 28/100\n",
            "6/6 [==============================] - 0s 59ms/step - loss: 12.6264 - mae: 2.8453 - val_loss: 12.6848 - val_mae: 2.8672\n",
            "Epoch 29/100\n",
            "6/6 [==============================] - 0s 13ms/step - loss: 11.4679 - mae: 2.7446 - val_loss: 12.3234 - val_mae: 2.8241\n",
            "Epoch 30/100\n",
            "6/6 [==============================] - 0s 14ms/step - loss: 11.6358 - mae: 2.7314 - val_loss: 11.6262 - val_mae: 2.7480\n",
            "Epoch 31/100\n",
            "6/6 [==============================] - 0s 14ms/step - loss: 11.0396 - mae: 2.6756 - val_loss: 11.0919 - val_mae: 2.6922\n",
            "Epoch 32/100\n",
            "6/6 [==============================] - 0s 17ms/step - loss: 9.9107 - mae: 2.5189 - val_loss: 10.4896 - val_mae: 2.6019\n",
            "Epoch 33/100\n",
            "6/6 [==============================] - 0s 15ms/step - loss: 9.5351 - mae: 2.5029 - val_loss: 10.1974 - val_mae: 2.5352\n",
            "Epoch 34/100\n",
            "6/6 [==============================] - 0s 17ms/step - loss: 9.0724 - mae: 2.4149 - val_loss: 9.6115 - val_mae: 2.4850\n",
            "Epoch 35/100\n",
            "6/6 [==============================] - 0s 14ms/step - loss: 8.8676 - mae: 2.3870 - val_loss: 9.2384 - val_mae: 2.4090\n",
            "Epoch 36/100\n",
            "6/6 [==============================] - 0s 16ms/step - loss: 7.9354 - mae: 2.2477 - val_loss: 8.9743 - val_mae: 2.3601\n",
            "Epoch 37/100\n",
            "6/6 [==============================] - 0s 15ms/step - loss: 7.6042 - mae: 2.1826 - val_loss: 8.6425 - val_mae: 2.3095\n",
            "Epoch 38/100\n",
            "6/6 [==============================] - 0s 13ms/step - loss: 7.2360 - mae: 2.1412 - val_loss: 8.3693 - val_mae: 2.2752\n",
            "Epoch 39/100\n",
            "6/6 [==============================] - 0s 15ms/step - loss: 7.6701 - mae: 2.1838 - val_loss: 7.7745 - val_mae: 2.1870\n",
            "Epoch 40/100\n",
            "6/6 [==============================] - 0s 14ms/step - loss: 7.2350 - mae: 2.0990 - val_loss: 7.7685 - val_mae: 2.1690\n",
            "Epoch 41/100\n",
            "6/6 [==============================] - 0s 13ms/step - loss: 6.3975 - mae: 2.0184 - val_loss: 7.1792 - val_mae: 2.0816\n",
            "Epoch 42/100\n",
            "6/6 [==============================] - 0s 14ms/step - loss: 6.2146 - mae: 1.9471 - val_loss: 6.9822 - val_mae: 2.0476\n",
            "Epoch 43/100\n",
            "6/6 [==============================] - 0s 14ms/step - loss: 6.0503 - mae: 1.9277 - val_loss: 6.9584 - val_mae: 2.0487\n",
            "Epoch 44/100\n",
            "6/6 [==============================] - 0s 15ms/step - loss: 5.5587 - mae: 1.8567 - val_loss: 6.4764 - val_mae: 1.9566\n",
            "Epoch 45/100\n",
            "6/6 [==============================] - 0s 14ms/step - loss: 5.4422 - mae: 1.7836 - val_loss: 6.3127 - val_mae: 1.9233\n",
            "Epoch 46/100\n",
            "6/6 [==============================] - 0s 15ms/step - loss: 4.8562 - mae: 1.7455 - val_loss: 6.1173 - val_mae: 1.8857\n",
            "Epoch 47/100\n",
            "6/6 [==============================] - 0s 13ms/step - loss: 4.6547 - mae: 1.6881 - val_loss: 6.0105 - val_mae: 1.8654\n",
            "Epoch 48/100\n",
            "6/6 [==============================] - 0s 16ms/step - loss: 4.5589 - mae: 1.6481 - val_loss: 5.7225 - val_mae: 1.8106\n",
            "Epoch 49/100\n",
            "6/6 [==============================] - 0s 15ms/step - loss: 4.1959 - mae: 1.6148 - val_loss: 5.5300 - val_mae: 1.7498\n",
            "Epoch 50/100\n",
            "6/6 [==============================] - 0s 13ms/step - loss: 4.6482 - mae: 1.6230 - val_loss: 5.2820 - val_mae: 1.7211\n",
            "Epoch 51/100\n",
            "6/6 [==============================] - 0s 14ms/step - loss: 4.1299 - mae: 1.5636 - val_loss: 5.2430 - val_mae: 1.7093\n",
            "Epoch 52/100\n",
            "6/6 [==============================] - 0s 17ms/step - loss: 3.8450 - mae: 1.4921 - val_loss: 5.0922 - val_mae: 1.6741\n",
            "Epoch 53/100\n",
            "6/6 [==============================] - 0s 14ms/step - loss: 4.5269 - mae: 1.5837 - val_loss: 4.8559 - val_mae: 1.6067\n",
            "Epoch 54/100\n",
            "6/6 [==============================] - 0s 14ms/step - loss: 3.5408 - mae: 1.4426 - val_loss: 4.9168 - val_mae: 1.6021\n",
            "Epoch 55/100\n",
            "6/6 [==============================] - 0s 14ms/step - loss: 3.4214 - mae: 1.4330 - val_loss: 4.8561 - val_mae: 1.6393\n",
            "Epoch 56/100\n",
            "6/6 [==============================] - 0s 15ms/step - loss: 3.8060 - mae: 1.4775 - val_loss: 4.5755 - val_mae: 1.5596\n",
            "Epoch 57/100\n",
            "6/6 [==============================] - 0s 16ms/step - loss: 3.1356 - mae: 1.3686 - val_loss: 4.4793 - val_mae: 1.5343\n",
            "Epoch 58/100\n",
            "6/6 [==============================] - 0s 16ms/step - loss: 3.1429 - mae: 1.3713 - val_loss: 4.8057 - val_mae: 1.5960\n",
            "Epoch 59/100\n",
            "6/6 [==============================] - 0s 14ms/step - loss: 3.8210 - mae: 1.4824 - val_loss: 4.2294 - val_mae: 1.4732\n",
            "Epoch 60/100\n",
            "6/6 [==============================] - 0s 15ms/step - loss: 3.0542 - mae: 1.3205 - val_loss: 4.0781 - val_mae: 1.4393\n",
            "Epoch 61/100\n",
            "6/6 [==============================] - 0s 16ms/step - loss: 2.9129 - mae: 1.2867 - val_loss: 4.0682 - val_mae: 1.4354\n",
            "Epoch 62/100\n",
            "6/6 [==============================] - 0s 14ms/step - loss: 3.1262 - mae: 1.3327 - val_loss: 4.0464 - val_mae: 1.4537\n",
            "Epoch 63/100\n",
            "6/6 [==============================] - 0s 15ms/step - loss: 3.2716 - mae: 1.2970 - val_loss: 3.8750 - val_mae: 1.3883\n",
            "Epoch 64/100\n",
            "6/6 [==============================] - 0s 16ms/step - loss: 2.6868 - mae: 1.2397 - val_loss: 3.8002 - val_mae: 1.3916\n",
            "Epoch 65/100\n",
            "6/6 [==============================] - 0s 14ms/step - loss: 2.6206 - mae: 1.2448 - val_loss: 4.0231 - val_mae: 1.4060\n",
            "Epoch 66/100\n",
            "6/6 [==============================] - 0s 15ms/step - loss: 3.3257 - mae: 1.3381 - val_loss: 3.7143 - val_mae: 1.3534\n",
            "Epoch 67/100\n",
            "6/6 [==============================] - 0s 14ms/step - loss: 2.5580 - mae: 1.2259 - val_loss: 3.8195 - val_mae: 1.3563\n",
            "Epoch 68/100\n",
            "6/6 [==============================] - 0s 14ms/step - loss: 2.7382 - mae: 1.2178 - val_loss: 3.6587 - val_mae: 1.3415\n",
            "Epoch 69/100\n",
            "6/6 [==============================] - 0s 13ms/step - loss: 2.7325 - mae: 1.2343 - val_loss: 3.5600 - val_mae: 1.3373\n",
            "Epoch 70/100\n",
            "6/6 [==============================] - 0s 14ms/step - loss: 2.5542 - mae: 1.1907 - val_loss: 3.5213 - val_mae: 1.3241\n",
            "Epoch 71/100\n",
            "6/6 [==============================] - 0s 14ms/step - loss: 2.4890 - mae: 1.1889 - val_loss: 3.7761 - val_mae: 1.4134\n",
            "Epoch 72/100\n",
            "6/6 [==============================] - 0s 13ms/step - loss: 2.3500 - mae: 1.1765 - val_loss: 3.3739 - val_mae: 1.2772\n",
            "Epoch 73/100\n",
            "6/6 [==============================] - 0s 14ms/step - loss: 2.3419 - mae: 1.1407 - val_loss: 3.4422 - val_mae: 1.3366\n",
            "Epoch 74/100\n",
            "6/6 [==============================] - 0s 14ms/step - loss: 2.4878 - mae: 1.1491 - val_loss: 3.1498 - val_mae: 1.2308\n",
            "Epoch 75/100\n",
            "6/6 [==============================] - 0s 15ms/step - loss: 2.0994 - mae: 1.0700 - val_loss: 3.0900 - val_mae: 1.2234\n",
            "Epoch 76/100\n",
            "6/6 [==============================] - 0s 16ms/step - loss: 2.3343 - mae: 1.1269 - val_loss: 3.0008 - val_mae: 1.1953\n",
            "Epoch 77/100\n",
            "6/6 [==============================] - 0s 14ms/step - loss: 1.9576 - mae: 1.0388 - val_loss: 2.9983 - val_mae: 1.1986\n",
            "Epoch 78/100\n",
            "6/6 [==============================] - 0s 15ms/step - loss: 2.0637 - mae: 1.0387 - val_loss: 3.1018 - val_mae: 1.2181\n",
            "Epoch 79/100\n",
            "6/6 [==============================] - 0s 14ms/step - loss: 2.2839 - mae: 1.0774 - val_loss: 2.9096 - val_mae: 1.2094\n",
            "Epoch 80/100\n",
            "6/6 [==============================] - 0s 15ms/step - loss: 2.3408 - mae: 1.0676 - val_loss: 3.0092 - val_mae: 1.2064\n",
            "Epoch 81/100\n",
            "6/6 [==============================] - 0s 14ms/step - loss: 2.0615 - mae: 1.0407 - val_loss: 2.7019 - val_mae: 1.1325\n",
            "Epoch 82/100\n",
            "6/6 [==============================] - 0s 13ms/step - loss: 1.9156 - mae: 1.0093 - val_loss: 2.7732 - val_mae: 1.1434\n",
            "Epoch 83/100\n",
            "6/6 [==============================] - 0s 14ms/step - loss: 1.9399 - mae: 1.0119 - val_loss: 2.7725 - val_mae: 1.1513\n",
            "Epoch 84/100\n",
            "6/6 [==============================] - 0s 15ms/step - loss: 1.7658 - mae: 0.9877 - val_loss: 2.5894 - val_mae: 1.1003\n",
            "Epoch 85/100\n",
            "6/6 [==============================] - 0s 15ms/step - loss: 1.8983 - mae: 1.0053 - val_loss: 2.4964 - val_mae: 1.0792\n",
            "Epoch 86/100\n",
            "6/6 [==============================] - 0s 15ms/step - loss: 2.0440 - mae: 0.9919 - val_loss: 2.4317 - val_mae: 1.0786\n",
            "Epoch 87/100\n",
            "6/6 [==============================] - 0s 14ms/step - loss: 1.6812 - mae: 0.9524 - val_loss: 2.5937 - val_mae: 1.1324\n",
            "Epoch 88/100\n",
            "6/6 [==============================] - 0s 16ms/step - loss: 1.7337 - mae: 0.9821 - val_loss: 2.3240 - val_mae: 1.0584\n",
            "Epoch 89/100\n",
            "6/6 [==============================] - 0s 15ms/step - loss: 1.5703 - mae: 0.8999 - val_loss: 2.4783 - val_mae: 1.1323\n",
            "Epoch 90/100\n",
            "6/6 [==============================] - 0s 14ms/step - loss: 1.9791 - mae: 0.9693 - val_loss: 2.3891 - val_mae: 1.0633\n",
            "Epoch 91/100\n",
            "6/6 [==============================] - 0s 14ms/step - loss: 1.6139 - mae: 0.8990 - val_loss: 2.2458 - val_mae: 1.0322\n",
            "Epoch 92/100\n",
            "6/6 [==============================] - 0s 14ms/step - loss: 1.3606 - mae: 0.8755 - val_loss: 2.1952 - val_mae: 1.0181\n",
            "Epoch 93/100\n",
            "6/6 [==============================] - 0s 14ms/step - loss: 1.6845 - mae: 0.8988 - val_loss: 2.1937 - val_mae: 1.0088\n",
            "Epoch 94/100\n",
            "6/6 [==============================] - 0s 14ms/step - loss: 1.6505 - mae: 0.8828 - val_loss: 2.2384 - val_mae: 1.0272\n",
            "Epoch 95/100\n",
            "6/6 [==============================] - 0s 13ms/step - loss: 1.4125 - mae: 0.8781 - val_loss: 2.0006 - val_mae: 0.9633\n",
            "Epoch 96/100\n",
            "6/6 [==============================] - 0s 15ms/step - loss: 1.6067 - mae: 0.8779 - val_loss: 2.1916 - val_mae: 1.0207\n",
            "Epoch 97/100\n",
            "6/6 [==============================] - 0s 15ms/step - loss: 1.3991 - mae: 0.8413 - val_loss: 2.0766 - val_mae: 0.9842\n",
            "Epoch 98/100\n",
            "6/6 [==============================] - 0s 18ms/step - loss: 1.5813 - mae: 0.9047 - val_loss: 1.9183 - val_mae: 0.9364\n",
            "Epoch 99/100\n",
            "6/6 [==============================] - 0s 13ms/step - loss: 1.2026 - mae: 0.8083 - val_loss: 1.9639 - val_mae: 0.9628\n",
            "Epoch 100/100\n",
            "6/6 [==============================] - 0s 14ms/step - loss: 1.2330 - mae: 0.8111 - val_loss: 1.9671 - val_mae: 0.9797\n"
          ],
          "name": "stdout"
        }
      ]
    },
    {
      "cell_type": "code",
      "metadata": {
        "colab": {
          "base_uri": "https://localhost:8080/"
        },
        "id": "1ZNYZa_2X6sx",
        "outputId": "c3ac0c65-e642-4800-e073-e7112359c2ed"
      },
      "source": [
        "loss, mae = model.evaluate(X_test_scaled, y_test)\n",
        "print(\"Mean Average Error: %.4f\" % mae)"
      ],
      "execution_count": 15,
      "outputs": [
        {
          "output_type": "stream",
          "text": [
            "7/7 [==============================] - 0s 2ms/step - loss: 1.7827 - mae: 0.9794\n",
            "Mean Average Error: 0.9794\n"
          ],
          "name": "stdout"
        }
      ]
    },
    {
      "cell_type": "code",
      "metadata": {
        "colab": {
          "base_uri": "https://localhost:8080/",
          "height": 295
        },
        "id": "7veqCO2kYR5i",
        "outputId": "e6e1414a-a07d-4499-820c-8a65a084ec1e"
      },
      "source": [
        "plt.plot(history.history['mae'], label='Training Error')\n",
        "plt.plot(history.history['val_mae'], label='Validation Error')\n",
        "plt.xlabel(\"Epoch\")\n",
        "plt.ylabel(\"Error\")\n",
        "plt.title(\"Training vs. Validation Error\")\n",
        "plt.legend()\n",
        "plt.show()"
      ],
      "execution_count": 22,
      "outputs": [
        {
          "output_type": "display_data",
          "data": {
            "image/png": "[encoded data removed]",
            "text/plain": [
              "<Figure size 432x288 with 1 Axes>"
            ]
          },
          "metadata": {
            "tags": [],
            "needs_background": "light"
          }
        }
      ]
    }
  ]
}