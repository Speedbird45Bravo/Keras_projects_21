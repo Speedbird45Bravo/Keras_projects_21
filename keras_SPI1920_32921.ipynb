{
  "nbformat": 4,
  "nbformat_minor": 0,
  "metadata": {
    "colab": {
      "name": "keras_SPI1920_32921.ipynb",
      "provenance": [],
      "collapsed_sections": [],
      "authorship_tag": "ABX9TyNMOUXF8y+qCCyebYYDtrKb",
      "include_colab_link": true
    },
    "kernelspec": {
      "name": "python3",
      "display_name": "Python 3"
    },
    "language_info": {
      "name": "python"
    }
  },
  "cells": [
    {
      "cell_type": "markdown",
      "metadata": {
        "id": "view-in-github",
        "colab_type": "text"
      },
      "source": [
        "<a href=\"https://colab.research.google.com/github/Speedbird45Bravo/Keras_projects_21/blob/main/keras_SPI1920_32921.ipynb\" target=\"_parent\"><img src=\"https://colab.research.google.com/assets/colab-badge.svg\" alt=\"Open In Colab\"/></a>"
      ]
    },
    {
      "cell_type": "code",
      "metadata": {
        "id": "hcDWnKj9WQqO"
      },
      "source": [
        "from keras.layers import Dense\n",
        "from keras.models import Sequential\n",
        "import pandas as pd\n",
        "import numpy as np\n",
        "import matplotlib.pyplot as plt\n",
        "from sklearn.model_selection import train_test_split\n",
        "from sklearn.preprocessing import StandardScaler\n",
        "\n",
        "url = \"https://projects.fivethirtyeight.com/soccer-api/club/spi_matches.csv\"\n",
        "df = pd.read_csv(url, parse_dates=['date']).dropna()\n",
        "df = df[(df.season == 2019) & (df.league=='Barclays Premier League')]\n",
        "df['spi_margin'] = np.abs(df['spi1'] - df['spi2'])\n",
        "X = df[['spi1', 'spi2', 'prob1', 'prob2', 'probtie', 'proj_score1', 'proj_score2', 'importance1', 'importance2', 'score1', 'score2', 'xg1', 'xg2', 'nsxg1', 'nsxg2', 'adj_score1', 'adj_score2']].reset_index(drop=True)\n",
        "y = df[['spi_margin']].copy()\n",
        "X_train, X_test, y_train, y_test = train_test_split(X, y, test_size=0.2, random_state=6)"
      ],
      "execution_count": 31,
      "outputs": []
    },
    {
      "cell_type": "code",
      "metadata": {
        "id": "kokuJId1WqcO"
      },
      "source": [
        "ss = StandardScaler().fit(X_train)\n",
        "X_train_scaled = ss.transform(X_train)\n",
        "X_test_scaled = ss.transform(X_test)"
      ],
      "execution_count": 32,
      "outputs": []
    },
    {
      "cell_type": "code",
      "metadata": {
        "id": "RPuR9LWCXd1d"
      },
      "source": [
        "model = Sequential()\n",
        "model.add(Dense(64, activation=\"relu\"))\n",
        "model.add(Dense(16, activation=\"relu\"))\n",
        "model.add(Dense(4))\n",
        "model.compile(optimizer='rmsprop', loss='mse', metrics=['mae'])\n",
        "history = model.fit(X_train_scaled, y_train, epochs=400, batch_size=128, validation_split=0.2, verbose=0)"
      ],
      "execution_count": 38,
      "outputs": []
    },
    {
      "cell_type": "code",
      "metadata": {
        "colab": {
          "base_uri": "https://localhost:8080/"
        },
        "id": "1ZNYZa_2X6sx",
        "outputId": "3dbb4df7-fb60-43cf-d24d-03c1b822acb3"
      },
      "source": [
        "loss, mae = model.evaluate(X_test_scaled, y_test)\n",
        "print(\"Mean Average Error: %.4f\" % mae)"
      ],
      "execution_count": 39,
      "outputs": [
        {
          "output_type": "stream",
          "text": [
            "3/3 [==============================] - 0s 5ms/step - loss: 1.9637 - mae: 0.8347\n",
            "Mean Average Error: 0.8347\n"
          ],
          "name": "stdout"
        }
      ]
    },
    {
      "cell_type": "code",
      "metadata": {
        "colab": {
          "base_uri": "https://localhost:8080/",
          "height": 295
        },
        "id": "7veqCO2kYR5i",
        "outputId": "968afb3a-bde3-4566-ce83-1ad27c2b7ab4"
      },
      "source": [
        "plt.plot(history.history['mae'], label='Training Error')\n",
        "plt.plot(history.history['val_mae'], label='Validation Error')\n",
        "plt.xlabel(\"Epoch\")\n",
        "plt.ylabel(\"Error\")\n",
        "plt.title(\"Training vs. Validation Error\")\n",
        "plt.legend()\n",
        "plt.show()"
      ],
      "execution_count": 41,
      "outputs": [
        {
          "output_type": "display_data",
          "data": {
            "image/png": "[encoded data removed]",
            "text/plain": [
              "<Figure size 432x288 with 1 Axes>"
            ]
          },
          "metadata": {
            "tags": [],
            "needs_background": "light"
          }
        }
      ]
    }
  ]
}