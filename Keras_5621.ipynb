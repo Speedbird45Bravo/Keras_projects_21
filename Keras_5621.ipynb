{
  "nbformat": 4,
  "nbformat_minor": 0,
  "metadata": {
    "colab": {
      "name": "Keras_5621.ipynb",
      "provenance": [],
      "collapsed_sections": [],
      "authorship_tag": "ABX9TyNvSJ+ciK+nKjrkLwJwJl6s"
    },
    "kernelspec": {
      "name": "python3",
      "display_name": "Python 3"
    },
    "language_info": {
      "name": "python"
    }
  },
  "cells": [
    {
      "cell_type": "code",
      "metadata": {
        "id": "AdFx3EFhO29K"
      },
      "source": [
        "from keras.layers import Dense, Dropout\n",
        "from keras.models import Sequential\n",
        "from keras.utils import to_categorical\n",
        "from sklearn.model_selection import train_test_split\n",
        "import numpy as np\n",
        "import pandas as pd"
      ],
      "execution_count": 88,
      "outputs": []
    },
    {
      "cell_type": "code",
      "metadata": {
        "id": "sboi8l64PyyG"
      },
      "source": [
        "df = pd.read_csv(\"https://projects.fivethirtyeight.com/soccer-api/club/spi_matches.csv\").dropna()"
      ],
      "execution_count": 89,
      "outputs": []
    },
    {
      "cell_type": "code",
      "metadata": {
        "id": "4xqImvV8P3Rm"
      },
      "source": [
        "df['margin'] = np.abs(df['score1'] - df['score2'])"
      ],
      "execution_count": 90,
      "outputs": []
    },
    {
      "cell_type": "code",
      "metadata": {
        "id": "i-2RPJmSP8IZ"
      },
      "source": [
        "margin = []"
      ],
      "execution_count": 91,
      "outputs": []
    },
    {
      "cell_type": "code",
      "metadata": {
        "id": "SN85PLFFP9PZ"
      },
      "source": [
        "for x in df[\"margin\"]:\n",
        "  if x > 0:\n",
        "    margin.append(\"RESULT\")\n",
        "  else:\n",
        "    margin.append(\"DRAW\")"
      ],
      "execution_count": 92,
      "outputs": []
    },
    {
      "cell_type": "code",
      "metadata": {
        "id": "GpgZYUDqQiHl"
      },
      "source": [
        "df[\"result_type\"] = margin"
      ],
      "execution_count": 93,
      "outputs": []
    },
    {
      "cell_type": "code",
      "metadata": {
        "id": "zMEgDj0aQAsd"
      },
      "source": [
        "X = df[[\"margin\", \"score1\"]]\n",
        "y = df[[\"result_type\"]].copy()\n",
        "X_train, X_test, y_train, y_test = train_test_split(X, y, test_size=0.25, random_state=6)"
      ],
      "execution_count": 101,
      "outputs": []
    },
    {
      "cell_type": "code",
      "metadata": {
        "id": "obJuqU4mQNqp"
      },
      "source": [
        "def load_model():\n",
        "  model = Sequential()\n",
        "  model.add(Dense(32, activation=\"relu\"))\n",
        "  model.add(Dropout(0.001))\n",
        "  model.add(Dense(2, activation=\"softmax\"))\n",
        "  model.compile(optimizer=\"adam\", loss=\"binary_crossentropy\", metrics=[\"accuracy\"])\n",
        "  return model"
      ],
      "execution_count": 102,
      "outputs": []
    },
    {
      "cell_type": "code",
      "metadata": {
        "id": "ZUIovpeRQZSg"
      },
      "source": [
        "def cat(array):\n",
        "  array = to_categorical(np.asarray(pd.factorize(array)[0]))\n",
        "  return array"
      ],
      "execution_count": 103,
      "outputs": []
    },
    {
      "cell_type": "code",
      "metadata": {
        "id": "Hm4doj6qQdnk"
      },
      "source": [
        "y_train = cat(y_train[\"result_type\"])\n",
        "y_test = cat(y_test[\"result_type\"])"
      ],
      "execution_count": 104,
      "outputs": []
    },
    {
      "cell_type": "code",
      "metadata": {
        "colab": {
          "base_uri": "https://localhost:8080/"
        },
        "id": "SVLGoIFvQkMr",
        "outputId": "96ffaeea-cb59-4a3e-c4e9-8bed8ea0bf7a"
      },
      "source": [
        "model = load_model()\n",
        "model.fit(X_train, y_train, epochs=120, batch_size=128, verbose=2, validation_split=0.2)"
      ],
      "execution_count": 105,
      "outputs": [
        {
          "output_type": "stream",
          "text": [
            "Epoch 1/120\n",
            "97/97 - 1s - loss: 0.5290 - accuracy: 0.7027 - val_loss: 0.4075 - val_accuracy: 0.7447\n",
            "Epoch 2/120\n",
            "97/97 - 0s - loss: 0.3322 - accuracy: 0.8148 - val_loss: 0.2671 - val_accuracy: 1.0000\n",
            "Epoch 3/120\n",
            "97/97 - 0s - loss: 0.2128 - accuracy: 1.0000 - val_loss: 0.1677 - val_accuracy: 1.0000\n",
            "Epoch 4/120\n",
            "97/97 - 0s - loss: 0.1337 - accuracy: 1.0000 - val_loss: 0.1056 - val_accuracy: 1.0000\n",
            "Epoch 5/120\n",
            "97/97 - 0s - loss: 0.0850 - accuracy: 1.0000 - val_loss: 0.0680 - val_accuracy: 1.0000\n",
            "Epoch 6/120\n",
            "97/97 - 0s - loss: 0.0558 - accuracy: 1.0000 - val_loss: 0.0456 - val_accuracy: 1.0000\n",
            "Epoch 7/120\n",
            "97/97 - 0s - loss: 0.0383 - accuracy: 1.0000 - val_loss: 0.0319 - val_accuracy: 1.0000\n",
            "Epoch 8/120\n",
            "97/97 - 0s - loss: 0.0272 - accuracy: 1.0000 - val_loss: 0.0231 - val_accuracy: 1.0000\n",
            "Epoch 9/120\n",
            "97/97 - 0s - loss: 0.0200 - accuracy: 1.0000 - val_loss: 0.0173 - val_accuracy: 1.0000\n",
            "Epoch 10/120\n",
            "97/97 - 0s - loss: 0.0152 - accuracy: 1.0000 - val_loss: 0.0133 - val_accuracy: 1.0000\n",
            "Epoch 11/120\n",
            "97/97 - 0s - loss: 0.0118 - accuracy: 1.0000 - val_loss: 0.0105 - val_accuracy: 1.0000\n",
            "Epoch 12/120\n",
            "97/97 - 0s - loss: 0.0094 - accuracy: 1.0000 - val_loss: 0.0084 - val_accuracy: 1.0000\n",
            "Epoch 13/120\n",
            "97/97 - 0s - loss: 0.0077 - accuracy: 1.0000 - val_loss: 0.0069 - val_accuracy: 1.0000\n",
            "Epoch 14/120\n",
            "97/97 - 0s - loss: 0.0063 - accuracy: 1.0000 - val_loss: 0.0057 - val_accuracy: 1.0000\n",
            "Epoch 15/120\n",
            "97/97 - 0s - loss: 0.0053 - accuracy: 1.0000 - val_loss: 0.0048 - val_accuracy: 1.0000\n",
            "Epoch 16/120\n",
            "97/97 - 0s - loss: 0.0045 - accuracy: 1.0000 - val_loss: 0.0041 - val_accuracy: 1.0000\n",
            "Epoch 17/120\n",
            "97/97 - 0s - loss: 0.0038 - accuracy: 1.0000 - val_loss: 0.0035 - val_accuracy: 1.0000\n",
            "Epoch 18/120\n",
            "97/97 - 0s - loss: 0.0033 - accuracy: 1.0000 - val_loss: 0.0030 - val_accuracy: 1.0000\n",
            "Epoch 19/120\n",
            "97/97 - 0s - loss: 0.0028 - accuracy: 1.0000 - val_loss: 0.0026 - val_accuracy: 1.0000\n",
            "Epoch 20/120\n",
            "97/97 - 0s - loss: 0.0025 - accuracy: 1.0000 - val_loss: 0.0023 - val_accuracy: 1.0000\n",
            "Epoch 21/120\n",
            "97/97 - 0s - loss: 0.0022 - accuracy: 1.0000 - val_loss: 0.0020 - val_accuracy: 1.0000\n",
            "Epoch 22/120\n",
            "97/97 - 0s - loss: 0.0019 - accuracy: 1.0000 - val_loss: 0.0018 - val_accuracy: 1.0000\n",
            "Epoch 23/120\n",
            "97/97 - 0s - loss: 0.0017 - accuracy: 1.0000 - val_loss: 0.0016 - val_accuracy: 1.0000\n",
            "Epoch 24/120\n",
            "97/97 - 0s - loss: 0.0015 - accuracy: 1.0000 - val_loss: 0.0014 - val_accuracy: 1.0000\n",
            "Epoch 25/120\n",
            "97/97 - 0s - loss: 0.0014 - accuracy: 1.0000 - val_loss: 0.0013 - val_accuracy: 1.0000\n",
            "Epoch 26/120\n",
            "97/97 - 0s - loss: 0.0012 - accuracy: 1.0000 - val_loss: 0.0012 - val_accuracy: 1.0000\n",
            "Epoch 27/120\n",
            "97/97 - 0s - loss: 0.0011 - accuracy: 1.0000 - val_loss: 0.0010 - val_accuracy: 1.0000\n",
            "Epoch 28/120\n",
            "97/97 - 0s - loss: 0.0010 - accuracy: 1.0000 - val_loss: 9.4714e-04 - val_accuracy: 1.0000\n",
            "Epoch 29/120\n",
            "97/97 - 0s - loss: 9.0926e-04 - accuracy: 1.0000 - val_loss: 8.6043e-04 - val_accuracy: 1.0000\n",
            "Epoch 30/120\n",
            "97/97 - 0s - loss: 8.2642e-04 - accuracy: 1.0000 - val_loss: 7.8315e-04 - val_accuracy: 1.0000\n",
            "Epoch 31/120\n",
            "97/97 - 0s - loss: 7.5222e-04 - accuracy: 1.0000 - val_loss: 7.1472e-04 - val_accuracy: 1.0000\n",
            "Epoch 32/120\n",
            "97/97 - 0s - loss: 6.9124e-04 - accuracy: 1.0000 - val_loss: 6.5343e-04 - val_accuracy: 1.0000\n",
            "Epoch 33/120\n",
            "97/97 - 0s - loss: 6.3119e-04 - accuracy: 1.0000 - val_loss: 5.9882e-04 - val_accuracy: 1.0000\n",
            "Epoch 34/120\n",
            "97/97 - 0s - loss: 5.8000e-04 - accuracy: 1.0000 - val_loss: 5.4957e-04 - val_accuracy: 1.0000\n",
            "Epoch 35/120\n",
            "97/97 - 0s - loss: 5.3367e-04 - accuracy: 1.0000 - val_loss: 5.0506e-04 - val_accuracy: 1.0000\n",
            "Epoch 36/120\n",
            "97/97 - 0s - loss: 4.8951e-04 - accuracy: 1.0000 - val_loss: 4.6497e-04 - val_accuracy: 1.0000\n",
            "Epoch 37/120\n",
            "97/97 - 0s - loss: 4.5044e-04 - accuracy: 1.0000 - val_loss: 4.2867e-04 - val_accuracy: 1.0000\n",
            "Epoch 38/120\n",
            "97/97 - 0s - loss: 4.1527e-04 - accuracy: 1.0000 - val_loss: 3.9615e-04 - val_accuracy: 1.0000\n",
            "Epoch 39/120\n",
            "97/97 - 0s - loss: 3.8609e-04 - accuracy: 1.0000 - val_loss: 3.6607e-04 - val_accuracy: 1.0000\n",
            "Epoch 40/120\n",
            "97/97 - 0s - loss: 3.5628e-04 - accuracy: 1.0000 - val_loss: 3.3893e-04 - val_accuracy: 1.0000\n",
            "Epoch 41/120\n",
            "97/97 - 0s - loss: 3.3036e-04 - accuracy: 1.0000 - val_loss: 3.1399e-04 - val_accuracy: 1.0000\n",
            "Epoch 42/120\n",
            "97/97 - 0s - loss: 3.0437e-04 - accuracy: 1.0000 - val_loss: 2.9143e-04 - val_accuracy: 1.0000\n",
            "Epoch 43/120\n",
            "97/97 - 0s - loss: 2.8357e-04 - accuracy: 1.0000 - val_loss: 2.7075e-04 - val_accuracy: 1.0000\n",
            "Epoch 44/120\n",
            "97/97 - 0s - loss: 2.6301e-04 - accuracy: 1.0000 - val_loss: 2.5173e-04 - val_accuracy: 1.0000\n",
            "Epoch 45/120\n",
            "97/97 - 0s - loss: 2.4598e-04 - accuracy: 1.0000 - val_loss: 2.3412e-04 - val_accuracy: 1.0000\n",
            "Epoch 46/120\n",
            "97/97 - 0s - loss: 2.2771e-04 - accuracy: 1.0000 - val_loss: 2.1811e-04 - val_accuracy: 1.0000\n",
            "Epoch 47/120\n",
            "97/97 - 0s - loss: 2.1332e-04 - accuracy: 1.0000 - val_loss: 2.0326e-04 - val_accuracy: 1.0000\n",
            "Epoch 48/120\n",
            "97/97 - 0s - loss: 1.9906e-04 - accuracy: 1.0000 - val_loss: 1.8956e-04 - val_accuracy: 1.0000\n",
            "Epoch 49/120\n",
            "97/97 - 0s - loss: 1.8543e-04 - accuracy: 1.0000 - val_loss: 1.7687e-04 - val_accuracy: 1.0000\n",
            "Epoch 50/120\n",
            "97/97 - 0s - loss: 1.7334e-04 - accuracy: 1.0000 - val_loss: 1.6513e-04 - val_accuracy: 1.0000\n",
            "Epoch 51/120\n",
            "97/97 - 0s - loss: 1.6178e-04 - accuracy: 1.0000 - val_loss: 1.5426e-04 - val_accuracy: 1.0000\n",
            "Epoch 52/120\n",
            "97/97 - 0s - loss: 1.5109e-04 - accuracy: 1.0000 - val_loss: 1.4426e-04 - val_accuracy: 1.0000\n",
            "Epoch 53/120\n",
            "97/97 - 0s - loss: 1.4117e-04 - accuracy: 1.0000 - val_loss: 1.3492e-04 - val_accuracy: 1.0000\n",
            "Epoch 54/120\n",
            "97/97 - 0s - loss: 1.3153e-04 - accuracy: 1.0000 - val_loss: 1.2636e-04 - val_accuracy: 1.0000\n",
            "Epoch 55/120\n",
            "97/97 - 0s - loss: 1.2387e-04 - accuracy: 1.0000 - val_loss: 1.1836e-04 - val_accuracy: 1.0000\n",
            "Epoch 56/120\n",
            "97/97 - 0s - loss: 1.1572e-04 - accuracy: 1.0000 - val_loss: 1.1090e-04 - val_accuracy: 1.0000\n",
            "Epoch 57/120\n",
            "97/97 - 0s - loss: 1.0902e-04 - accuracy: 1.0000 - val_loss: 1.0394e-04 - val_accuracy: 1.0000\n",
            "Epoch 58/120\n",
            "97/97 - 0s - loss: 1.0231e-04 - accuracy: 1.0000 - val_loss: 9.7420e-05 - val_accuracy: 1.0000\n",
            "Epoch 59/120\n",
            "97/97 - 0s - loss: 9.6429e-05 - accuracy: 1.0000 - val_loss: 9.1375e-05 - val_accuracy: 1.0000\n",
            "Epoch 60/120\n",
            "97/97 - 0s - loss: 8.9679e-05 - accuracy: 1.0000 - val_loss: 8.5798e-05 - val_accuracy: 1.0000\n",
            "Epoch 61/120\n",
            "97/97 - 0s - loss: 8.4357e-05 - accuracy: 1.0000 - val_loss: 8.0513e-05 - val_accuracy: 1.0000\n",
            "Epoch 62/120\n",
            "97/97 - 0s - loss: 7.9226e-05 - accuracy: 1.0000 - val_loss: 7.5651e-05 - val_accuracy: 1.0000\n",
            "Epoch 63/120\n",
            "97/97 - 0s - loss: 7.4321e-05 - accuracy: 1.0000 - val_loss: 7.1085e-05 - val_accuracy: 1.0000\n",
            "Epoch 64/120\n",
            "97/97 - 0s - loss: 6.9657e-05 - accuracy: 1.0000 - val_loss: 6.6801e-05 - val_accuracy: 1.0000\n",
            "Epoch 65/120\n",
            "97/97 - 0s - loss: 6.5907e-05 - accuracy: 1.0000 - val_loss: 6.2808e-05 - val_accuracy: 1.0000\n",
            "Epoch 66/120\n",
            "97/97 - 0s - loss: 6.1660e-05 - accuracy: 1.0000 - val_loss: 5.9077e-05 - val_accuracy: 1.0000\n",
            "Epoch 67/120\n",
            "97/97 - 0s - loss: 5.8066e-05 - accuracy: 1.0000 - val_loss: 5.5576e-05 - val_accuracy: 1.0000\n",
            "Epoch 68/120\n",
            "97/97 - 0s - loss: 5.4935e-05 - accuracy: 1.0000 - val_loss: 5.2284e-05 - val_accuracy: 1.0000\n",
            "Epoch 69/120\n",
            "97/97 - 0s - loss: 5.1863e-05 - accuracy: 1.0000 - val_loss: 4.9209e-05 - val_accuracy: 1.0000\n",
            "Epoch 70/120\n",
            "97/97 - 0s - loss: 4.8643e-05 - accuracy: 1.0000 - val_loss: 4.6314e-05 - val_accuracy: 1.0000\n",
            "Epoch 71/120\n",
            "97/97 - 0s - loss: 4.5808e-05 - accuracy: 1.0000 - val_loss: 4.3595e-05 - val_accuracy: 1.0000\n",
            "Epoch 72/120\n",
            "97/97 - 0s - loss: 4.3472e-05 - accuracy: 1.0000 - val_loss: 4.1070e-05 - val_accuracy: 1.0000\n",
            "Epoch 73/120\n",
            "97/97 - 0s - loss: 4.0733e-05 - accuracy: 1.0000 - val_loss: 3.8665e-05 - val_accuracy: 1.0000\n",
            "Epoch 74/120\n",
            "97/97 - 0s - loss: 3.8522e-05 - accuracy: 1.0000 - val_loss: 3.6439e-05 - val_accuracy: 1.0000\n",
            "Epoch 75/120\n",
            "97/97 - 0s - loss: 3.5936e-05 - accuracy: 1.0000 - val_loss: 3.4343e-05 - val_accuracy: 1.0000\n",
            "Epoch 76/120\n",
            "97/97 - 0s - loss: 3.4512e-05 - accuracy: 1.0000 - val_loss: 3.2349e-05 - val_accuracy: 1.0000\n",
            "Epoch 77/120\n",
            "97/97 - 0s - loss: 3.1991e-05 - accuracy: 1.0000 - val_loss: 3.0490e-05 - val_accuracy: 1.0000\n",
            "Epoch 78/120\n",
            "97/97 - 0s - loss: 3.0278e-05 - accuracy: 1.0000 - val_loss: 2.8751e-05 - val_accuracy: 1.0000\n",
            "Epoch 79/120\n",
            "97/97 - 0s - loss: 2.8347e-05 - accuracy: 1.0000 - val_loss: 2.7116e-05 - val_accuracy: 1.0000\n",
            "Epoch 80/120\n",
            "97/97 - 0s - loss: 2.7005e-05 - accuracy: 1.0000 - val_loss: 2.5579e-05 - val_accuracy: 1.0000\n",
            "Epoch 81/120\n",
            "97/97 - 0s - loss: 2.5335e-05 - accuracy: 1.0000 - val_loss: 2.4131e-05 - val_accuracy: 1.0000\n",
            "Epoch 82/120\n",
            "97/97 - 0s - loss: 2.3925e-05 - accuracy: 1.0000 - val_loss: 2.2761e-05 - val_accuracy: 1.0000\n",
            "Epoch 83/120\n",
            "97/97 - 0s - loss: 2.2587e-05 - accuracy: 1.0000 - val_loss: 2.1477e-05 - val_accuracy: 1.0000\n",
            "Epoch 84/120\n",
            "97/97 - 0s - loss: 2.1053e-05 - accuracy: 1.0000 - val_loss: 2.0283e-05 - val_accuracy: 1.0000\n",
            "Epoch 85/120\n",
            "97/97 - 0s - loss: 2.0239e-05 - accuracy: 1.0000 - val_loss: 1.9138e-05 - val_accuracy: 1.0000\n",
            "Epoch 86/120\n",
            "97/97 - 0s - loss: 1.9112e-05 - accuracy: 1.0000 - val_loss: 1.8062e-05 - val_accuracy: 1.0000\n",
            "Epoch 87/120\n",
            "97/97 - 0s - loss: 1.7970e-05 - accuracy: 1.0000 - val_loss: 1.7055e-05 - val_accuracy: 1.0000\n",
            "Epoch 88/120\n",
            "97/97 - 0s - loss: 1.7110e-05 - accuracy: 1.0000 - val_loss: 1.6095e-05 - val_accuracy: 1.0000\n",
            "Epoch 89/120\n",
            "97/97 - 0s - loss: 1.6083e-05 - accuracy: 1.0000 - val_loss: 1.5198e-05 - val_accuracy: 1.0000\n",
            "Epoch 90/120\n",
            "97/97 - 0s - loss: 1.5346e-05 - accuracy: 1.0000 - val_loss: 1.4347e-05 - val_accuracy: 1.0000\n",
            "Epoch 91/120\n",
            "97/97 - 0s - loss: 1.4103e-05 - accuracy: 1.0000 - val_loss: 1.3560e-05 - val_accuracy: 1.0000\n",
            "Epoch 92/120\n",
            "97/97 - 0s - loss: 1.3654e-05 - accuracy: 1.0000 - val_loss: 1.2811e-05 - val_accuracy: 1.0000\n",
            "Epoch 93/120\n",
            "97/97 - 0s - loss: 1.2874e-05 - accuracy: 1.0000 - val_loss: 1.2101e-05 - val_accuracy: 1.0000\n",
            "Epoch 94/120\n",
            "97/97 - 0s - loss: 1.2010e-05 - accuracy: 1.0000 - val_loss: 1.1437e-05 - val_accuracy: 1.0000\n",
            "Epoch 95/120\n",
            "97/97 - 0s - loss: 1.1469e-05 - accuracy: 1.0000 - val_loss: 1.0804e-05 - val_accuracy: 1.0000\n",
            "Epoch 96/120\n",
            "97/97 - 0s - loss: 1.1015e-05 - accuracy: 1.0000 - val_loss: 1.0207e-05 - val_accuracy: 1.0000\n",
            "Epoch 97/120\n",
            "97/97 - 0s - loss: 1.0317e-05 - accuracy: 1.0000 - val_loss: 9.6445e-06 - val_accuracy: 1.0000\n",
            "Epoch 98/120\n",
            "97/97 - 0s - loss: 9.6858e-06 - accuracy: 1.0000 - val_loss: 9.1173e-06 - val_accuracy: 1.0000\n",
            "Epoch 99/120\n",
            "97/97 - 0s - loss: 9.2436e-06 - accuracy: 1.0000 - val_loss: 8.6182e-06 - val_accuracy: 1.0000\n",
            "Epoch 100/120\n",
            "97/97 - 0s - loss: 8.6873e-06 - accuracy: 1.0000 - val_loss: 8.1443e-06 - val_accuracy: 1.0000\n",
            "Epoch 101/120\n",
            "97/97 - 0s - loss: 8.4095e-06 - accuracy: 1.0000 - val_loss: 7.6994e-06 - val_accuracy: 1.0000\n",
            "Epoch 102/120\n",
            "97/97 - 0s - loss: 7.7471e-06 - accuracy: 1.0000 - val_loss: 7.2798e-06 - val_accuracy: 1.0000\n",
            "Epoch 103/120\n",
            "97/97 - 0s - loss: 7.3587e-06 - accuracy: 1.0000 - val_loss: 6.8789e-06 - val_accuracy: 1.0000\n",
            "Epoch 104/120\n",
            "97/97 - 0s - loss: 6.9150e-06 - accuracy: 1.0000 - val_loss: 6.5060e-06 - val_accuracy: 1.0000\n",
            "Epoch 105/120\n",
            "97/97 - 0s - loss: 6.5182e-06 - accuracy: 1.0000 - val_loss: 6.1519e-06 - val_accuracy: 1.0000\n",
            "Epoch 106/120\n",
            "97/97 - 0s - loss: 6.3350e-06 - accuracy: 1.0000 - val_loss: 5.8186e-06 - val_accuracy: 1.0000\n",
            "Epoch 107/120\n",
            "97/97 - 0s - loss: 5.9233e-06 - accuracy: 1.0000 - val_loss: 5.5007e-06 - val_accuracy: 1.0000\n",
            "Epoch 108/120\n",
            "97/97 - 0s - loss: 5.5324e-06 - accuracy: 1.0000 - val_loss: 5.2023e-06 - val_accuracy: 1.0000\n",
            "Epoch 109/120\n",
            "97/97 - 0s - loss: 5.1975e-06 - accuracy: 1.0000 - val_loss: 4.9240e-06 - val_accuracy: 1.0000\n",
            "Epoch 110/120\n",
            "97/97 - 0s - loss: 4.9687e-06 - accuracy: 1.0000 - val_loss: 4.6569e-06 - val_accuracy: 1.0000\n",
            "Epoch 111/120\n",
            "97/97 - 0s - loss: 4.7354e-06 - accuracy: 1.0000 - val_loss: 4.4050e-06 - val_accuracy: 1.0000\n",
            "Epoch 112/120\n",
            "97/97 - 0s - loss: 4.4656e-06 - accuracy: 1.0000 - val_loss: 4.1677e-06 - val_accuracy: 1.0000\n",
            "Epoch 113/120\n",
            "97/97 - 0s - loss: 4.2744e-06 - accuracy: 1.0000 - val_loss: 3.9442e-06 - val_accuracy: 1.0000\n",
            "Epoch 114/120\n",
            "97/97 - 0s - loss: 4.2259e-06 - accuracy: 1.0000 - val_loss: 3.7263e-06 - val_accuracy: 1.0000\n",
            "Epoch 115/120\n",
            "97/97 - 0s - loss: 3.7118e-06 - accuracy: 1.0000 - val_loss: 3.5253e-06 - val_accuracy: 1.0000\n",
            "Epoch 116/120\n",
            "97/97 - 0s - loss: 3.5285e-06 - accuracy: 1.0000 - val_loss: 3.3381e-06 - val_accuracy: 1.0000\n",
            "Epoch 117/120\n",
            "97/97 - 0s - loss: 3.3526e-06 - accuracy: 1.0000 - val_loss: 3.1602e-06 - val_accuracy: 1.0000\n",
            "Epoch 118/120\n",
            "97/97 - 0s - loss: 3.2697e-06 - accuracy: 1.0000 - val_loss: 2.9901e-06 - val_accuracy: 1.0000\n",
            "Epoch 119/120\n",
            "97/97 - 0s - loss: 3.0083e-06 - accuracy: 1.0000 - val_loss: 2.8310e-06 - val_accuracy: 1.0000\n",
            "Epoch 120/120\n",
            "97/97 - 0s - loss: 2.9377e-06 - accuracy: 1.0000 - val_loss: 2.6780e-06 - val_accuracy: 1.0000\n"
          ],
          "name": "stdout"
        },
        {
          "output_type": "execute_result",
          "data": {
            "text/plain": [
              "<tensorflow.python.keras.callbacks.History at 0x7f889bf438d0>"
            ]
          },
          "metadata": {
            "tags": []
          },
          "execution_count": 105
        }
      ]
    },
    {
      "cell_type": "code",
      "metadata": {
        "colab": {
          "base_uri": "https://localhost:8080/"
        },
        "id": "NIxxtn7VTDC1",
        "outputId": "ecd2970c-f605-4023-ddaa-2b7e9b2e8b4d"
      },
      "source": [
        "predictions = model.predict(X_test)\n",
        "loss, accuracy = model.evaluate(y_test, predictions)"
      ],
      "execution_count": 106,
      "outputs": [
        {
          "output_type": "stream",
          "text": [
            "161/161 [==============================] - 0s 1ms/step - loss: 4.9359e-06 - accuracy: 1.0000\n"
          ],
          "name": "stdout"
        }
      ]
    },
    {
      "cell_type": "code",
      "metadata": {
        "colab": {
          "base_uri": "https://localhost:8080/"
        },
        "id": "shKtE3RETIFt",
        "outputId": "4e943852-ceb9-4b73-9792-3f640812ba92"
      },
      "source": [
        "print(\"Test Accuracy: {}%\".format(round(accuracy * 100),0))"
      ],
      "execution_count": 107,
      "outputs": [
        {
          "output_type": "stream",
          "text": [
            "Test Accuracy: 100%\n"
          ],
          "name": "stdout"
        }
      ]
    }
  ]
}