{
  "nbformat": 4,
  "nbformat_minor": 0,
  "metadata": {
    "colab": {
      "name": "Keras_4721_sand2.ipynb",
      "provenance": [],
      "collapsed_sections": [],
      "authorship_tag": "ABX9TyNG0vn/l8FHeFMXT0SYgBqt",
      "include_colab_link": true
    },
    "kernelspec": {
      "name": "python3",
      "display_name": "Python 3"
    },
    "language_info": {
      "name": "python"
    }
  },
  "cells": [
    {
      "cell_type": "markdown",
      "metadata": {
        "id": "view-in-github",
        "colab_type": "text"
      },
      "source": [
        "<a href=\"https://colab.research.google.com/github/Speedbird45Bravo/Keras_projects_21/blob/main/Keras_4721_sand2.ipynb\" target=\"_parent\"><img src=\"https://colab.research.google.com/assets/colab-badge.svg\" alt=\"Open In Colab\"/></a>"
      ]
    },
    {
      "cell_type": "code",
      "metadata": {
        "id": "jM2H5RyeUONz"
      },
      "source": [
        "from keras.layers import Dense\n",
        "from keras.models import Sequential\n",
        "from keras.utils import to_categorical\n",
        "from sklearn.model_selection import train_test_split\n",
        "import numpy as np\n",
        "import pandas as pd\n",
        "\n",
        "df = pd.read_csv(\"https://projects.fivethirtyeight.com/soccer-api/club/spi_matches.csv\").dropna()\n",
        "df = df[(df.league=='Barclays Premier League') | (df.league=='English League Championship') | (df.league=='Major League Soccer')]\n",
        "df['spi_margin'] = np.abs(df['spi1'] - df['spi2'])\n",
        "df['margin'] = np.abs(df['score1'] - df['score2'])\n",
        "\n",
        "res = []\n",
        "\n",
        "for x in df['margin']:\n",
        "  if x > 0:\n",
        "    res.append(\"RESULT\")\n",
        "  else:\n",
        "    res.append(\"DRAW\")\n",
        "\n",
        "df['result'] = res"
      ],
      "execution_count": 244,
      "outputs": []
    },
    {
      "cell_type": "code",
      "metadata": {
        "id": "GCIrB7gFUqQT"
      },
      "source": [
        "def load_model():\n",
        "  model = Sequential()\n",
        "  model.add(Dense(30, activation='relu'))\n",
        "  model.add(Dense(10, activation='relu'))\n",
        "  model.add(Dense(2, activation='softmax'))\n",
        "  model.compile(optimizer='rmsprop', loss='categorical_crossentropy', metrics=['accuracy'])\n",
        "  return model\n",
        "\n",
        "def to_cat(array):\n",
        "  y = to_categorical(np.asarray(pd.factorize(array)[0]))\n",
        "  return y\n",
        "\n",
        "def to_df(array):\n",
        "  df = pd.DataFrame(array).reset_index(drop=True)\n",
        "  return df"
      ],
      "execution_count": 245,
      "outputs": []
    },
    {
      "cell_type": "code",
      "metadata": {
        "id": "ETh_OCVEU9mx"
      },
      "source": [
        "model = load_model()"
      ],
      "execution_count": 246,
      "outputs": []
    },
    {
      "cell_type": "code",
      "metadata": {
        "id": "aLbapr4jU_KR"
      },
      "source": [
        "X = df[['score1','score2']].reset_index(drop=True)\n",
        "y = df[['result']].copy()\n",
        "X_train, X_test, y_train, y_test = train_test_split(X, y, test_size=0.2, random_state=6)"
      ],
      "execution_count": 247,
      "outputs": []
    },
    {
      "cell_type": "code",
      "metadata": {
        "id": "zaOJj51qVRBH"
      },
      "source": [
        "y_train = to_cat(y_train['result'])\n",
        "y_train = to_df(y_train)\n",
        "y_test = to_cat(y_test['result'])\n",
        "y_test = to_df(y_test)"
      ],
      "execution_count": 248,
      "outputs": []
    },
    {
      "cell_type": "code",
      "metadata": {
        "colab": {
          "base_uri": "https://localhost:8080/"
        },
        "id": "MH2I27qnVdTs",
        "outputId": "c6093507-3a40-43b5-8dfa-eb40ee1269b0"
      },
      "source": [
        "model.fit(X_train, y_train, epochs=100, batch_size=128, verbose=1, validation_split=0.2)"
      ],
      "execution_count": 249,
      "outputs": [
        {
          "output_type": "stream",
          "text": [
            "Epoch 1/100\n",
            "26/26 [==============================] - 1s 10ms/step - loss: 0.7712 - accuracy: 0.4706 - val_loss: 0.5467 - val_accuracy: 0.6516\n",
            "Epoch 2/100\n",
            "26/26 [==============================] - 0s 3ms/step - loss: 0.5350 - accuracy: 0.6969 - val_loss: 0.4667 - val_accuracy: 0.7722\n",
            "Epoch 3/100\n",
            "26/26 [==============================] - 0s 3ms/step - loss: 0.4738 - accuracy: 0.7599 - val_loss: 0.4368 - val_accuracy: 0.7722\n",
            "Epoch 4/100\n",
            "26/26 [==============================] - 0s 3ms/step - loss: 0.4356 - accuracy: 0.7675 - val_loss: 0.4111 - val_accuracy: 0.7722\n",
            "Epoch 5/100\n",
            "26/26 [==============================] - 0s 3ms/step - loss: 0.4127 - accuracy: 0.7627 - val_loss: 0.3855 - val_accuracy: 0.7722\n",
            "Epoch 6/100\n",
            "26/26 [==============================] - 0s 3ms/step - loss: 0.3869 - accuracy: 0.7647 - val_loss: 0.3589 - val_accuracy: 0.7722\n",
            "Epoch 7/100\n",
            "26/26 [==============================] - 0s 4ms/step - loss: 0.3570 - accuracy: 0.7642 - val_loss: 0.3312 - val_accuracy: 0.8392\n",
            "Epoch 8/100\n",
            "26/26 [==============================] - 0s 3ms/step - loss: 0.3296 - accuracy: 0.8233 - val_loss: 0.3020 - val_accuracy: 0.8392\n",
            "Epoch 9/100\n",
            "26/26 [==============================] - 0s 3ms/step - loss: 0.3026 - accuracy: 0.8298 - val_loss: 0.2720 - val_accuracy: 0.9403\n",
            "Epoch 10/100\n",
            "26/26 [==============================] - 0s 4ms/step - loss: 0.2709 - accuracy: 0.9147 - val_loss: 0.2452 - val_accuracy: 1.0000\n",
            "Epoch 11/100\n",
            "26/26 [==============================] - 0s 4ms/step - loss: 0.2492 - accuracy: 1.0000 - val_loss: 0.2173 - val_accuracy: 1.0000\n",
            "Epoch 12/100\n",
            "26/26 [==============================] - 0s 4ms/step - loss: 0.2110 - accuracy: 1.0000 - val_loss: 0.1919 - val_accuracy: 1.0000\n",
            "Epoch 13/100\n",
            "26/26 [==============================] - 0s 4ms/step - loss: 0.1866 - accuracy: 1.0000 - val_loss: 0.1664 - val_accuracy: 1.0000\n",
            "Epoch 14/100\n",
            "26/26 [==============================] - 0s 3ms/step - loss: 0.1604 - accuracy: 1.0000 - val_loss: 0.1366 - val_accuracy: 1.0000\n",
            "Epoch 15/100\n",
            "26/26 [==============================] - 0s 4ms/step - loss: 0.1367 - accuracy: 1.0000 - val_loss: 0.1127 - val_accuracy: 1.0000\n",
            "Epoch 16/100\n",
            "26/26 [==============================] - 0s 4ms/step - loss: 0.1114 - accuracy: 1.0000 - val_loss: 0.0915 - val_accuracy: 1.0000\n",
            "Epoch 17/100\n",
            "26/26 [==============================] - 0s 4ms/step - loss: 0.0881 - accuracy: 1.0000 - val_loss: 0.0721 - val_accuracy: 1.0000\n",
            "Epoch 18/100\n",
            "26/26 [==============================] - 0s 4ms/step - loss: 0.0712 - accuracy: 1.0000 - val_loss: 0.0562 - val_accuracy: 1.0000\n",
            "Epoch 19/100\n",
            "26/26 [==============================] - 0s 3ms/step - loss: 0.0527 - accuracy: 1.0000 - val_loss: 0.0429 - val_accuracy: 1.0000\n",
            "Epoch 20/100\n",
            "26/26 [==============================] - 0s 3ms/step - loss: 0.0413 - accuracy: 1.0000 - val_loss: 0.0320 - val_accuracy: 1.0000\n",
            "Epoch 21/100\n",
            "26/26 [==============================] - 0s 4ms/step - loss: 0.0294 - accuracy: 1.0000 - val_loss: 0.0235 - val_accuracy: 1.0000\n",
            "Epoch 22/100\n",
            "26/26 [==============================] - 0s 4ms/step - loss: 0.0221 - accuracy: 1.0000 - val_loss: 0.0167 - val_accuracy: 1.0000\n",
            "Epoch 23/100\n",
            "26/26 [==============================] - 0s 3ms/step - loss: 0.0156 - accuracy: 1.0000 - val_loss: 0.0115 - val_accuracy: 1.0000\n",
            "Epoch 24/100\n",
            "26/26 [==============================] - 0s 4ms/step - loss: 0.0105 - accuracy: 1.0000 - val_loss: 0.0078 - val_accuracy: 1.0000\n",
            "Epoch 25/100\n",
            "26/26 [==============================] - 0s 3ms/step - loss: 0.0071 - accuracy: 1.0000 - val_loss: 0.0052 - val_accuracy: 1.0000\n",
            "Epoch 26/100\n",
            "26/26 [==============================] - 0s 3ms/step - loss: 0.0049 - accuracy: 1.0000 - val_loss: 0.0035 - val_accuracy: 1.0000\n",
            "Epoch 27/100\n",
            "26/26 [==============================] - 0s 4ms/step - loss: 0.0031 - accuracy: 1.0000 - val_loss: 0.0023 - val_accuracy: 1.0000\n",
            "Epoch 28/100\n",
            "26/26 [==============================] - 0s 4ms/step - loss: 0.0021 - accuracy: 1.0000 - val_loss: 0.0014 - val_accuracy: 1.0000\n",
            "Epoch 29/100\n",
            "26/26 [==============================] - 0s 3ms/step - loss: 0.0013 - accuracy: 1.0000 - val_loss: 9.0771e-04 - val_accuracy: 1.0000\n",
            "Epoch 30/100\n",
            "26/26 [==============================] - 0s 3ms/step - loss: 8.3960e-04 - accuracy: 1.0000 - val_loss: 5.8375e-04 - val_accuracy: 1.0000\n",
            "Epoch 31/100\n",
            "26/26 [==============================] - 0s 3ms/step - loss: 5.1420e-04 - accuracy: 1.0000 - val_loss: 3.4377e-04 - val_accuracy: 1.0000\n",
            "Epoch 32/100\n",
            "26/26 [==============================] - 0s 4ms/step - loss: 3.1170e-04 - accuracy: 1.0000 - val_loss: 2.1178e-04 - val_accuracy: 1.0000\n",
            "Epoch 33/100\n",
            "26/26 [==============================] - 0s 4ms/step - loss: 1.9058e-04 - accuracy: 1.0000 - val_loss: 1.2519e-04 - val_accuracy: 1.0000\n",
            "Epoch 34/100\n",
            "26/26 [==============================] - 0s 4ms/step - loss: 1.0857e-04 - accuracy: 1.0000 - val_loss: 7.1509e-05 - val_accuracy: 1.0000\n",
            "Epoch 35/100\n",
            "26/26 [==============================] - 0s 3ms/step - loss: 6.1137e-05 - accuracy: 1.0000 - val_loss: 4.0994e-05 - val_accuracy: 1.0000\n",
            "Epoch 36/100\n",
            "26/26 [==============================] - 0s 3ms/step - loss: 3.5867e-05 - accuracy: 1.0000 - val_loss: 2.3210e-05 - val_accuracy: 1.0000\n",
            "Epoch 37/100\n",
            "26/26 [==============================] - 0s 3ms/step - loss: 2.0112e-05 - accuracy: 1.0000 - val_loss: 1.2840e-05 - val_accuracy: 1.0000\n",
            "Epoch 38/100\n",
            "26/26 [==============================] - 0s 3ms/step - loss: 1.1208e-05 - accuracy: 1.0000 - val_loss: 7.1969e-06 - val_accuracy: 1.0000\n",
            "Epoch 39/100\n",
            "26/26 [==============================] - 0s 4ms/step - loss: 6.2935e-06 - accuracy: 1.0000 - val_loss: 3.9960e-06 - val_accuracy: 1.0000\n",
            "Epoch 40/100\n",
            "26/26 [==============================] - 0s 3ms/step - loss: 3.5801e-06 - accuracy: 1.0000 - val_loss: 2.3341e-06 - val_accuracy: 1.0000\n",
            "Epoch 41/100\n",
            "26/26 [==============================] - 0s 3ms/step - loss: 1.9476e-06 - accuracy: 1.0000 - val_loss: 1.2506e-06 - val_accuracy: 1.0000\n",
            "Epoch 42/100\n",
            "26/26 [==============================] - 0s 4ms/step - loss: 1.1295e-06 - accuracy: 1.0000 - val_loss: 7.1250e-07 - val_accuracy: 1.0000\n",
            "Epoch 43/100\n",
            "26/26 [==============================] - 0s 4ms/step - loss: 6.0722e-07 - accuracy: 1.0000 - val_loss: 3.9683e-07 - val_accuracy: 1.0000\n",
            "Epoch 44/100\n",
            "26/26 [==============================] - 0s 3ms/step - loss: 3.6408e-07 - accuracy: 1.0000 - val_loss: 2.5410e-07 - val_accuracy: 1.0000\n",
            "Epoch 45/100\n",
            "26/26 [==============================] - 0s 3ms/step - loss: 2.2807e-07 - accuracy: 1.0000 - val_loss: 1.4999e-07 - val_accuracy: 1.0000\n",
            "Epoch 46/100\n",
            "26/26 [==============================] - 0s 3ms/step - loss: 1.4177e-07 - accuracy: 1.0000 - val_loss: 1.0353e-07 - val_accuracy: 1.0000\n",
            "Epoch 47/100\n",
            "26/26 [==============================] - 0s 3ms/step - loss: 1.0278e-07 - accuracy: 1.0000 - val_loss: 8.1167e-08 - val_accuracy: 1.0000\n",
            "Epoch 48/100\n",
            "26/26 [==============================] - 0s 3ms/step - loss: 7.1385e-08 - accuracy: 1.0000 - val_loss: 5.4160e-08 - val_accuracy: 1.0000\n",
            "Epoch 49/100\n",
            "26/26 [==============================] - 0s 4ms/step - loss: 5.3632e-08 - accuracy: 1.0000 - val_loss: 5.2272e-08 - val_accuracy: 1.0000\n",
            "Epoch 50/100\n",
            "26/26 [==============================] - 0s 4ms/step - loss: 4.8406e-08 - accuracy: 1.0000 - val_loss: 2.8604e-08 - val_accuracy: 1.0000\n",
            "Epoch 51/100\n",
            "26/26 [==============================] - 0s 4ms/step - loss: 2.3592e-08 - accuracy: 1.0000 - val_loss: 1.0600e-08 - val_accuracy: 1.0000\n",
            "Epoch 52/100\n",
            "26/26 [==============================] - 0s 4ms/step - loss: 9.9178e-09 - accuracy: 1.0000 - val_loss: 1.4520e-10 - val_accuracy: 1.0000\n",
            "Epoch 53/100\n",
            "26/26 [==============================] - 0s 4ms/step - loss: 8.7251e-10 - accuracy: 1.0000 - val_loss: 1.4520e-10 - val_accuracy: 1.0000\n",
            "Epoch 54/100\n",
            "26/26 [==============================] - 0s 3ms/step - loss: 6.0739e-10 - accuracy: 1.0000 - val_loss: 1.8876e-09 - val_accuracy: 1.0000\n",
            "Epoch 55/100\n",
            "26/26 [==============================] - 0s 4ms/step - loss: 3.9356e-10 - accuracy: 1.0000 - val_loss: 1.4520e-10 - val_accuracy: 1.0000\n",
            "Epoch 56/100\n",
            "26/26 [==============================] - 0s 4ms/step - loss: 1.6253e-10 - accuracy: 1.0000 - val_loss: 1.4520e-10 - val_accuracy: 1.0000\n",
            "Epoch 57/100\n",
            "26/26 [==============================] - 0s 4ms/step - loss: 2.0157e-10 - accuracy: 1.0000 - val_loss: 0.0000e+00 - val_accuracy: 1.0000\n",
            "Epoch 58/100\n",
            "26/26 [==============================] - 0s 3ms/step - loss: 0.0000e+00 - accuracy: 1.0000 - val_loss: 0.0000e+00 - val_accuracy: 1.0000\n",
            "Epoch 59/100\n",
            "26/26 [==============================] - 0s 5ms/step - loss: 6.2455e-11 - accuracy: 1.0000 - val_loss: 0.0000e+00 - val_accuracy: 1.0000\n",
            "Epoch 60/100\n",
            "26/26 [==============================] - 0s 4ms/step - loss: 2.4622e-11 - accuracy: 1.0000 - val_loss: 0.0000e+00 - val_accuracy: 1.0000\n",
            "Epoch 61/100\n",
            "26/26 [==============================] - 0s 5ms/step - loss: 0.0000e+00 - accuracy: 1.0000 - val_loss: 0.0000e+00 - val_accuracy: 1.0000\n",
            "Epoch 62/100\n",
            "26/26 [==============================] - 0s 4ms/step - loss: 0.0000e+00 - accuracy: 1.0000 - val_loss: 0.0000e+00 - val_accuracy: 1.0000\n",
            "Epoch 63/100\n",
            "26/26 [==============================] - 0s 3ms/step - loss: 0.0000e+00 - accuracy: 1.0000 - val_loss: 0.0000e+00 - val_accuracy: 1.0000\n",
            "Epoch 64/100\n",
            "26/26 [==============================] - 0s 4ms/step - loss: 0.0000e+00 - accuracy: 1.0000 - val_loss: 0.0000e+00 - val_accuracy: 1.0000\n",
            "Epoch 65/100\n",
            "26/26 [==============================] - 0s 3ms/step - loss: 0.0000e+00 - accuracy: 1.0000 - val_loss: 0.0000e+00 - val_accuracy: 1.0000\n",
            "Epoch 66/100\n",
            "26/26 [==============================] - 0s 3ms/step - loss: 0.0000e+00 - accuracy: 1.0000 - val_loss: 0.0000e+00 - val_accuracy: 1.0000\n",
            "Epoch 67/100\n",
            "26/26 [==============================] - 0s 3ms/step - loss: 0.0000e+00 - accuracy: 1.0000 - val_loss: 0.0000e+00 - val_accuracy: 1.0000\n",
            "Epoch 68/100\n",
            "26/26 [==============================] - 0s 3ms/step - loss: 0.0000e+00 - accuracy: 1.0000 - val_loss: 0.0000e+00 - val_accuracy: 1.0000\n",
            "Epoch 69/100\n",
            "26/26 [==============================] - 0s 4ms/step - loss: 0.0000e+00 - accuracy: 1.0000 - val_loss: 0.0000e+00 - val_accuracy: 1.0000\n",
            "Epoch 70/100\n",
            "26/26 [==============================] - 0s 4ms/step - loss: 0.0000e+00 - accuracy: 1.0000 - val_loss: 0.0000e+00 - val_accuracy: 1.0000\n",
            "Epoch 71/100\n",
            "26/26 [==============================] - 0s 4ms/step - loss: 0.0000e+00 - accuracy: 1.0000 - val_loss: 0.0000e+00 - val_accuracy: 1.0000\n",
            "Epoch 72/100\n",
            "26/26 [==============================] - 0s 4ms/step - loss: 0.0000e+00 - accuracy: 1.0000 - val_loss: 0.0000e+00 - val_accuracy: 1.0000\n",
            "Epoch 73/100\n",
            "26/26 [==============================] - 0s 4ms/step - loss: 0.0000e+00 - accuracy: 1.0000 - val_loss: 0.0000e+00 - val_accuracy: 1.0000\n",
            "Epoch 74/100\n",
            "26/26 [==============================] - 0s 3ms/step - loss: 0.0000e+00 - accuracy: 1.0000 - val_loss: 0.0000e+00 - val_accuracy: 1.0000\n",
            "Epoch 75/100\n",
            "26/26 [==============================] - 0s 4ms/step - loss: 0.0000e+00 - accuracy: 1.0000 - val_loss: 0.0000e+00 - val_accuracy: 1.0000\n",
            "Epoch 76/100\n",
            "26/26 [==============================] - 0s 4ms/step - loss: 0.0000e+00 - accuracy: 1.0000 - val_loss: 0.0000e+00 - val_accuracy: 1.0000\n",
            "Epoch 77/100\n",
            "26/26 [==============================] - 0s 4ms/step - loss: 0.0000e+00 - accuracy: 1.0000 - val_loss: 0.0000e+00 - val_accuracy: 1.0000\n",
            "Epoch 78/100\n",
            "26/26 [==============================] - 0s 4ms/step - loss: 0.0000e+00 - accuracy: 1.0000 - val_loss: 0.0000e+00 - val_accuracy: 1.0000\n",
            "Epoch 79/100\n",
            "26/26 [==============================] - 0s 4ms/step - loss: 0.0000e+00 - accuracy: 1.0000 - val_loss: 0.0000e+00 - val_accuracy: 1.0000\n",
            "Epoch 80/100\n",
            "26/26 [==============================] - 0s 4ms/step - loss: 0.0000e+00 - accuracy: 1.0000 - val_loss: 0.0000e+00 - val_accuracy: 1.0000\n",
            "Epoch 81/100\n",
            "26/26 [==============================] - 0s 4ms/step - loss: 0.0000e+00 - accuracy: 1.0000 - val_loss: 0.0000e+00 - val_accuracy: 1.0000\n",
            "Epoch 82/100\n",
            "26/26 [==============================] - 0s 4ms/step - loss: 0.0000e+00 - accuracy: 1.0000 - val_loss: 0.0000e+00 - val_accuracy: 1.0000\n",
            "Epoch 83/100\n",
            "26/26 [==============================] - 0s 4ms/step - loss: 0.0000e+00 - accuracy: 1.0000 - val_loss: 0.0000e+00 - val_accuracy: 1.0000\n",
            "Epoch 84/100\n",
            "26/26 [==============================] - 0s 4ms/step - loss: 0.0000e+00 - accuracy: 1.0000 - val_loss: 0.0000e+00 - val_accuracy: 1.0000\n",
            "Epoch 85/100\n",
            "26/26 [==============================] - 0s 3ms/step - loss: 0.0000e+00 - accuracy: 1.0000 - val_loss: 0.0000e+00 - val_accuracy: 1.0000\n",
            "Epoch 86/100\n",
            "26/26 [==============================] - 0s 4ms/step - loss: 0.0000e+00 - accuracy: 1.0000 - val_loss: 0.0000e+00 - val_accuracy: 1.0000\n",
            "Epoch 87/100\n",
            "26/26 [==============================] - 0s 4ms/step - loss: 0.0000e+00 - accuracy: 1.0000 - val_loss: 0.0000e+00 - val_accuracy: 1.0000\n",
            "Epoch 88/100\n",
            "26/26 [==============================] - 0s 4ms/step - loss: 0.0000e+00 - accuracy: 1.0000 - val_loss: 0.0000e+00 - val_accuracy: 1.0000\n",
            "Epoch 89/100\n",
            "26/26 [==============================] - 0s 4ms/step - loss: 0.0000e+00 - accuracy: 1.0000 - val_loss: 0.0000e+00 - val_accuracy: 1.0000\n",
            "Epoch 90/100\n",
            "26/26 [==============================] - 0s 4ms/step - loss: 0.0000e+00 - accuracy: 1.0000 - val_loss: 0.0000e+00 - val_accuracy: 1.0000\n",
            "Epoch 91/100\n",
            "26/26 [==============================] - 0s 4ms/step - loss: 0.0000e+00 - accuracy: 1.0000 - val_loss: 0.0000e+00 - val_accuracy: 1.0000\n",
            "Epoch 92/100\n",
            "26/26 [==============================] - 0s 4ms/step - loss: 0.0000e+00 - accuracy: 1.0000 - val_loss: 0.0000e+00 - val_accuracy: 1.0000\n",
            "Epoch 93/100\n",
            "26/26 [==============================] - 0s 3ms/step - loss: 0.0000e+00 - accuracy: 1.0000 - val_loss: 0.0000e+00 - val_accuracy: 1.0000\n",
            "Epoch 94/100\n",
            "26/26 [==============================] - 0s 4ms/step - loss: 0.0000e+00 - accuracy: 1.0000 - val_loss: 0.0000e+00 - val_accuracy: 1.0000\n",
            "Epoch 95/100\n",
            "26/26 [==============================] - 0s 3ms/step - loss: 0.0000e+00 - accuracy: 1.0000 - val_loss: 0.0000e+00 - val_accuracy: 1.0000\n",
            "Epoch 96/100\n",
            "26/26 [==============================] - 0s 3ms/step - loss: 0.0000e+00 - accuracy: 1.0000 - val_loss: 0.0000e+00 - val_accuracy: 1.0000\n",
            "Epoch 97/100\n",
            "26/26 [==============================] - 0s 4ms/step - loss: 0.0000e+00 - accuracy: 1.0000 - val_loss: 0.0000e+00 - val_accuracy: 1.0000\n",
            "Epoch 98/100\n",
            "26/26 [==============================] - 0s 4ms/step - loss: 0.0000e+00 - accuracy: 1.0000 - val_loss: 0.0000e+00 - val_accuracy: 1.0000\n",
            "Epoch 99/100\n",
            "26/26 [==============================] - 0s 4ms/step - loss: 0.0000e+00 - accuracy: 1.0000 - val_loss: 0.0000e+00 - val_accuracy: 1.0000\n",
            "Epoch 100/100\n",
            "26/26 [==============================] - 0s 3ms/step - loss: 0.0000e+00 - accuracy: 1.0000 - val_loss: 0.0000e+00 - val_accuracy: 1.0000\n"
          ],
          "name": "stdout"
        },
        {
          "output_type": "execute_result",
          "data": {
            "text/plain": [
              "<tensorflow.python.keras.callbacks.History at 0x7fc638d44810>"
            ]
          },
          "metadata": {
            "tags": []
          },
          "execution_count": 249
        }
      ]
    },
    {
      "cell_type": "code",
      "metadata": {
        "id": "nJgGpcGkV42Y"
      },
      "source": [
        "predictions = model.predict(X_test).round(0)\n",
        "pred2 = model.predict(X_train)"
      ],
      "execution_count": 250,
      "outputs": []
    },
    {
      "cell_type": "code",
      "metadata": {
        "colab": {
          "base_uri": "https://localhost:8080/"
        },
        "id": "GkjanFeXW_KI",
        "outputId": "d6669a93-c453-475a-9b31-58cae1201665"
      },
      "source": [
        "loss2, acc2 = model.evaluate(y_train, pred2)\n",
        "loss, acc = model.evaluate(y_test, predictions)"
      ],
      "execution_count": 251,
      "outputs": [
        {
          "output_type": "stream",
          "text": [
            "129/129 [==============================] - 0s 2ms/step - loss: 4.3195 - accuracy: 0.7636\n",
            "33/33 [==============================] - 0s 1ms/step - loss: 4.9150 - accuracy: 0.7310\n"
          ],
          "name": "stdout"
        }
      ]
    },
    {
      "cell_type": "code",
      "metadata": {
        "id": "kauDbD0MXng6",
        "colab": {
          "base_uri": "https://localhost:8080/"
        },
        "outputId": "90b647ec-826f-4c26-9d0d-654174230a95"
      },
      "source": [
        "print(\"Train Accuracy: %.2f\" % (acc2 * 100) + \"%\")\n",
        "print(\"Test Accuracy: %.2f\" % (acc * 100) + \"%\")"
      ],
      "execution_count": 253,
      "outputs": [
        {
          "output_type": "stream",
          "text": [
            "Train Accuracy: 76.36%\n",
            "Test Accuracy: 73.10%\n"
          ],
          "name": "stdout"
        }
      ]
    }
  ]
}