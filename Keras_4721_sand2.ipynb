{
  "nbformat": 4,
  "nbformat_minor": 0,
  "metadata": {
    "colab": {
      "name": "Keras_4721_sand2.ipynb",
      "provenance": [],
      "collapsed_sections": [],
      "authorship_tag": "ABX9TyOFkiEY8ycyXyH3wfPWOFpf",
      "include_colab_link": true
    },
    "kernelspec": {
      "name": "python3",
      "display_name": "Python 3"
    },
    "language_info": {
      "name": "python"
    }
  },
  "cells": [
    {
      "cell_type": "markdown",
      "metadata": {
        "id": "view-in-github",
        "colab_type": "text"
      },
      "source": [
        "<a href=\"https://colab.research.google.com/github/Speedbird45Bravo/Keras_projects_21/blob/main/Keras_4721_sand2.ipynb\" target=\"_parent\"><img src=\"https://colab.research.google.com/assets/colab-badge.svg\" alt=\"Open In Colab\"/></a>"
      ]
    },
    {
      "cell_type": "code",
      "metadata": {
        "id": "jM2H5RyeUONz"
      },
      "source": [
        "from keras.layers import Dense\n",
        "from keras.models import Sequential\n",
        "from keras.utils import to_categorical\n",
        "from sklearn.model_selection import train_test_split\n",
        "import numpy as np\n",
        "import pandas as pd\n",
        "\n",
        "df = pd.read_csv(\"https://projects.fivethirtyeight.com/soccer-api/club/spi_matches.csv\").dropna()\n",
        "df = df[(df.league=='Barclays Premier League') | (df.league=='English League Championship') | (df.league=='Major League Soccer')]\n",
        "df['spi_margin'] = np.abs(df['spi1'] - df['spi2'])\n",
        "df['margin'] = np.abs(df['score1'] - df['score2'])\n",
        "\n",
        "res = []\n",
        "\n",
        "for x in df['margin']:\n",
        "  if x > 0:\n",
        "    res.append(\"RESULT\")\n",
        "  else:\n",
        "    res.append(\"DRAW\")\n",
        "\n",
        "df['result'] = res"
      ],
      "execution_count": 290,
      "outputs": []
    },
    {
      "cell_type": "code",
      "metadata": {
        "id": "GCIrB7gFUqQT"
      },
      "source": [
        "def load_model():\n",
        "  model = Sequential()\n",
        "  model.add(Dense(2, activation='relu'))\n",
        "  model.add(Dense(2, activation='relu'))\n",
        "  model.add(Dense(2, activation='relu'))\n",
        "  model.add(Dense(2, activation='softmax'))\n",
        "  model.compile(optimizer='rmsprop', loss='categorical_crossentropy', metrics=['accuracy'])\n",
        "  return model\n",
        "\n",
        "def to_cat(array):\n",
        "  y = to_categorical(np.asarray(pd.factorize(array)[0]))\n",
        "  return y\n",
        "\n",
        "def to_df(array):\n",
        "  df = pd.DataFrame(array).reset_index(drop=True)\n",
        "  return df"
      ],
      "execution_count": 291,
      "outputs": []
    },
    {
      "cell_type": "code",
      "metadata": {
        "id": "ETh_OCVEU9mx"
      },
      "source": [
        "model = load_model()"
      ],
      "execution_count": 292,
      "outputs": []
    },
    {
      "cell_type": "code",
      "metadata": {
        "id": "aLbapr4jU_KR"
      },
      "source": [
        "X = df[['score1','score2']].reset_index(drop=True)\n",
        "y = df[['result']].copy()\n",
        "X_train, X_test, y_train, y_test = train_test_split(X, y, test_size=0.2, random_state=6)"
      ],
      "execution_count": 293,
      "outputs": []
    },
    {
      "cell_type": "code",
      "metadata": {
        "id": "zaOJj51qVRBH"
      },
      "source": [
        "y_train = to_cat(y_train['result'])\n",
        "y_train = to_df(y_train)\n",
        "y_test = to_cat(y_test['result'])\n",
        "y_test = to_df(y_test)"
      ],
      "execution_count": 294,
      "outputs": []
    },
    {
      "cell_type": "code",
      "metadata": {
        "colab": {
          "base_uri": "https://localhost:8080/"
        },
        "id": "MH2I27qnVdTs",
        "outputId": "49e968d1-e976-4d59-acae-64a6c23a2489"
      },
      "source": [
        "model.fit(X_train, y_train, epochs=100, batch_size=128, verbose=1, validation_split=0.2)"
      ],
      "execution_count": 295,
      "outputs": [
        {
          "output_type": "stream",
          "text": [
            "Epoch 1/100\n",
            "26/26 [==============================] - 1s 11ms/step - loss: 0.8935 - accuracy: 0.3185 - val_loss: 0.8026 - val_accuracy: 0.4227\n",
            "Epoch 2/100\n",
            "26/26 [==============================] - 0s 3ms/step - loss: 0.8023 - accuracy: 0.4131 - val_loss: 0.7492 - val_accuracy: 0.4689\n",
            "Epoch 3/100\n",
            "26/26 [==============================] - 0s 4ms/step - loss: 0.7457 - accuracy: 0.4779 - val_loss: 0.7080 - val_accuracy: 0.4629\n",
            "Epoch 4/100\n",
            "26/26 [==============================] - 0s 4ms/step - loss: 0.7036 - accuracy: 0.5437 - val_loss: 0.6777 - val_accuracy: 0.6273\n",
            "Epoch 5/100\n",
            "26/26 [==============================] - 0s 4ms/step - loss: 0.6694 - accuracy: 0.6523 - val_loss: 0.6551 - val_accuracy: 0.7004\n",
            "Epoch 6/100\n",
            "26/26 [==============================] - 0s 4ms/step - loss: 0.6496 - accuracy: 0.7186 - val_loss: 0.6379 - val_accuracy: 0.7454\n",
            "Epoch 7/100\n",
            "26/26 [==============================] - 0s 4ms/step - loss: 0.6287 - accuracy: 0.7667 - val_loss: 0.6249 - val_accuracy: 0.7467\n",
            "Epoch 8/100\n",
            "26/26 [==============================] - 0s 3ms/step - loss: 0.6180 - accuracy: 0.7584 - val_loss: 0.6143 - val_accuracy: 0.7467\n",
            "Epoch 9/100\n",
            "26/26 [==============================] - 0s 4ms/step - loss: 0.6069 - accuracy: 0.7591 - val_loss: 0.6060 - val_accuracy: 0.7467\n",
            "Epoch 10/100\n",
            "26/26 [==============================] - 0s 3ms/step - loss: 0.5939 - accuracy: 0.7683 - val_loss: 0.5986 - val_accuracy: 0.7467\n",
            "Epoch 11/100\n",
            "26/26 [==============================] - 0s 3ms/step - loss: 0.5911 - accuracy: 0.7566 - val_loss: 0.5896 - val_accuracy: 0.7467\n",
            "Epoch 12/100\n",
            "26/26 [==============================] - 0s 3ms/step - loss: 0.5843 - accuracy: 0.7502 - val_loss: 0.5791 - val_accuracy: 0.7467\n",
            "Epoch 13/100\n",
            "26/26 [==============================] - 0s 4ms/step - loss: 0.5664 - accuracy: 0.7610 - val_loss: 0.5690 - val_accuracy: 0.7467\n",
            "Epoch 14/100\n",
            "26/26 [==============================] - 0s 4ms/step - loss: 0.5572 - accuracy: 0.7566 - val_loss: 0.5583 - val_accuracy: 0.7467\n",
            "Epoch 15/100\n",
            "26/26 [==============================] - 0s 4ms/step - loss: 0.5342 - accuracy: 0.7706 - val_loss: 0.5496 - val_accuracy: 0.7467\n",
            "Epoch 16/100\n",
            "26/26 [==============================] - 0s 3ms/step - loss: 0.5332 - accuracy: 0.7616 - val_loss: 0.5427 - val_accuracy: 0.7467\n",
            "Epoch 17/100\n",
            "26/26 [==============================] - 0s 3ms/step - loss: 0.5215 - accuracy: 0.7646 - val_loss: 0.5370 - val_accuracy: 0.7467\n",
            "Epoch 18/100\n",
            "26/26 [==============================] - 0s 3ms/step - loss: 0.5115 - accuracy: 0.7678 - val_loss: 0.5309 - val_accuracy: 0.7467\n",
            "Epoch 19/100\n",
            "26/26 [==============================] - 0s 3ms/step - loss: 0.5091 - accuracy: 0.7625 - val_loss: 0.5245 - val_accuracy: 0.7467\n",
            "Epoch 20/100\n",
            "26/26 [==============================] - 0s 4ms/step - loss: 0.5012 - accuracy: 0.7650 - val_loss: 0.5173 - val_accuracy: 0.7467\n",
            "Epoch 21/100\n",
            "26/26 [==============================] - 0s 3ms/step - loss: 0.4927 - accuracy: 0.7661 - val_loss: 0.5102 - val_accuracy: 0.7467\n",
            "Epoch 22/100\n",
            "26/26 [==============================] - 0s 3ms/step - loss: 0.4805 - accuracy: 0.7729 - val_loss: 0.5057 - val_accuracy: 0.7467\n",
            "Epoch 23/100\n",
            "26/26 [==============================] - 0s 3ms/step - loss: 0.4846 - accuracy: 0.7675 - val_loss: 0.5021 - val_accuracy: 0.7467\n",
            "Epoch 24/100\n",
            "26/26 [==============================] - 0s 3ms/step - loss: 0.4791 - accuracy: 0.7658 - val_loss: 0.4986 - val_accuracy: 0.7467\n",
            "Epoch 25/100\n",
            "26/26 [==============================] - 0s 3ms/step - loss: 0.4745 - accuracy: 0.7656 - val_loss: 0.4950 - val_accuracy: 0.7467\n",
            "Epoch 26/100\n",
            "26/26 [==============================] - 0s 4ms/step - loss: 0.4732 - accuracy: 0.7680 - val_loss: 0.4917 - val_accuracy: 0.7467\n",
            "Epoch 27/100\n",
            "26/26 [==============================] - 0s 3ms/step - loss: 0.4650 - accuracy: 0.7686 - val_loss: 0.4889 - val_accuracy: 0.7467\n",
            "Epoch 28/100\n",
            "26/26 [==============================] - 0s 3ms/step - loss: 0.4700 - accuracy: 0.7623 - val_loss: 0.4862 - val_accuracy: 0.7467\n",
            "Epoch 29/100\n",
            "26/26 [==============================] - 0s 4ms/step - loss: 0.4674 - accuracy: 0.7639 - val_loss: 0.4839 - val_accuracy: 0.7467\n",
            "Epoch 30/100\n",
            "26/26 [==============================] - 0s 3ms/step - loss: 0.4707 - accuracy: 0.7588 - val_loss: 0.4814 - val_accuracy: 0.7467\n",
            "Epoch 31/100\n",
            "26/26 [==============================] - 0s 3ms/step - loss: 0.4484 - accuracy: 0.7789 - val_loss: 0.4793 - val_accuracy: 0.7467\n",
            "Epoch 32/100\n",
            "26/26 [==============================] - 0s 3ms/step - loss: 0.4621 - accuracy: 0.7624 - val_loss: 0.4774 - val_accuracy: 0.7467\n",
            "Epoch 33/100\n",
            "26/26 [==============================] - 0s 4ms/step - loss: 0.4528 - accuracy: 0.7719 - val_loss: 0.4754 - val_accuracy: 0.7467\n",
            "Epoch 34/100\n",
            "26/26 [==============================] - 0s 3ms/step - loss: 0.4520 - accuracy: 0.7734 - val_loss: 0.4739 - val_accuracy: 0.7467\n",
            "Epoch 35/100\n",
            "26/26 [==============================] - 0s 5ms/step - loss: 0.4671 - accuracy: 0.7552 - val_loss: 0.4721 - val_accuracy: 0.7467\n",
            "Epoch 36/100\n",
            "26/26 [==============================] - 0s 4ms/step - loss: 0.4565 - accuracy: 0.7609 - val_loss: 0.4706 - val_accuracy: 0.7467\n",
            "Epoch 37/100\n",
            "26/26 [==============================] - 0s 3ms/step - loss: 0.4562 - accuracy: 0.7617 - val_loss: 0.4690 - val_accuracy: 0.7467\n",
            "Epoch 38/100\n",
            "26/26 [==============================] - 0s 3ms/step - loss: 0.4486 - accuracy: 0.7679 - val_loss: 0.4674 - val_accuracy: 0.7467\n",
            "Epoch 39/100\n",
            "26/26 [==============================] - 0s 3ms/step - loss: 0.4496 - accuracy: 0.7641 - val_loss: 0.4661 - val_accuracy: 0.7467\n",
            "Epoch 40/100\n",
            "26/26 [==============================] - 0s 4ms/step - loss: 0.4461 - accuracy: 0.7686 - val_loss: 0.4648 - val_accuracy: 0.7467\n",
            "Epoch 41/100\n",
            "26/26 [==============================] - 0s 4ms/step - loss: 0.4490 - accuracy: 0.7629 - val_loss: 0.4633 - val_accuracy: 0.7467\n",
            "Epoch 42/100\n",
            "26/26 [==============================] - 0s 3ms/step - loss: 0.4506 - accuracy: 0.7577 - val_loss: 0.4613 - val_accuracy: 0.7467\n",
            "Epoch 43/100\n",
            "26/26 [==============================] - 0s 4ms/step - loss: 0.4479 - accuracy: 0.7623 - val_loss: 0.4597 - val_accuracy: 0.7467\n",
            "Epoch 44/100\n",
            "26/26 [==============================] - 0s 3ms/step - loss: 0.4388 - accuracy: 0.7735 - val_loss: 0.4579 - val_accuracy: 0.7467\n",
            "Epoch 45/100\n",
            "26/26 [==============================] - 0s 3ms/step - loss: 0.4391 - accuracy: 0.7681 - val_loss: 0.4564 - val_accuracy: 0.7467\n",
            "Epoch 46/100\n",
            "26/26 [==============================] - 0s 3ms/step - loss: 0.4438 - accuracy: 0.7620 - val_loss: 0.4548 - val_accuracy: 0.7467\n",
            "Epoch 47/100\n",
            "26/26 [==============================] - 0s 3ms/step - loss: 0.4463 - accuracy: 0.7615 - val_loss: 0.4527 - val_accuracy: 0.7467\n",
            "Epoch 48/100\n",
            "26/26 [==============================] - 0s 3ms/step - loss: 0.4519 - accuracy: 0.7570 - val_loss: 0.4507 - val_accuracy: 0.7467\n",
            "Epoch 49/100\n",
            "26/26 [==============================] - 0s 4ms/step - loss: 0.4491 - accuracy: 0.7473 - val_loss: 0.4497 - val_accuracy: 0.7467\n",
            "Epoch 50/100\n",
            "26/26 [==============================] - 0s 4ms/step - loss: 0.4288 - accuracy: 0.7622 - val_loss: 0.4462 - val_accuracy: 0.7467\n",
            "Epoch 51/100\n",
            "26/26 [==============================] - 0s 4ms/step - loss: 0.4300 - accuracy: 0.7555 - val_loss: 0.4434 - val_accuracy: 0.7467\n",
            "Epoch 52/100\n",
            "26/26 [==============================] - 0s 3ms/step - loss: 0.4237 - accuracy: 0.7632 - val_loss: 0.4406 - val_accuracy: 0.7467\n",
            "Epoch 53/100\n",
            "26/26 [==============================] - 0s 4ms/step - loss: 0.4255 - accuracy: 0.7653 - val_loss: 0.4368 - val_accuracy: 0.7467\n",
            "Epoch 54/100\n",
            "26/26 [==============================] - 0s 3ms/step - loss: 0.4263 - accuracy: 0.7549 - val_loss: 0.4337 - val_accuracy: 0.7467\n",
            "Epoch 55/100\n",
            "26/26 [==============================] - 0s 3ms/step - loss: 0.4186 - accuracy: 0.7620 - val_loss: 0.4302 - val_accuracy: 0.7467\n",
            "Epoch 56/100\n",
            "26/26 [==============================] - 0s 4ms/step - loss: 0.4108 - accuracy: 0.7629 - val_loss: 0.4260 - val_accuracy: 0.7467\n",
            "Epoch 57/100\n",
            "26/26 [==============================] - 0s 5ms/step - loss: 0.4142 - accuracy: 0.7562 - val_loss: 0.4222 - val_accuracy: 0.7467\n",
            "Epoch 58/100\n",
            "26/26 [==============================] - 0s 4ms/step - loss: 0.4071 - accuracy: 0.7599 - val_loss: 0.4185 - val_accuracy: 0.7467\n",
            "Epoch 59/100\n",
            "26/26 [==============================] - 0s 3ms/step - loss: 0.4000 - accuracy: 0.7648 - val_loss: 0.4149 - val_accuracy: 0.7467\n",
            "Epoch 60/100\n",
            "26/26 [==============================] - 0s 3ms/step - loss: 0.4068 - accuracy: 0.7544 - val_loss: 0.4116 - val_accuracy: 0.7467\n",
            "Epoch 61/100\n",
            "26/26 [==============================] - 0s 4ms/step - loss: 0.3983 - accuracy: 0.7556 - val_loss: 0.4079 - val_accuracy: 0.7467\n",
            "Epoch 62/100\n",
            "26/26 [==============================] - 0s 3ms/step - loss: 0.4013 - accuracy: 0.7556 - val_loss: 0.4052 - val_accuracy: 0.7467\n",
            "Epoch 63/100\n",
            "26/26 [==============================] - 0s 4ms/step - loss: 0.3854 - accuracy: 0.7631 - val_loss: 0.4011 - val_accuracy: 0.7467\n",
            "Epoch 64/100\n",
            "26/26 [==============================] - 0s 4ms/step - loss: 0.3795 - accuracy: 0.7673 - val_loss: 0.3979 - val_accuracy: 0.7467\n",
            "Epoch 65/100\n",
            "26/26 [==============================] - 0s 4ms/step - loss: 0.3665 - accuracy: 0.7748 - val_loss: 0.3945 - val_accuracy: 0.7467\n",
            "Epoch 66/100\n",
            "26/26 [==============================] - 0s 4ms/step - loss: 0.3672 - accuracy: 0.7668 - val_loss: 0.3916 - val_accuracy: 0.7467\n",
            "Epoch 67/100\n",
            "26/26 [==============================] - 0s 4ms/step - loss: 0.3648 - accuracy: 0.7656 - val_loss: 0.3887 - val_accuracy: 0.7467\n",
            "Epoch 68/100\n",
            "26/26 [==============================] - 0s 4ms/step - loss: 0.3646 - accuracy: 0.7593 - val_loss: 0.3869 - val_accuracy: 0.7467\n",
            "Epoch 69/100\n",
            "26/26 [==============================] - 0s 4ms/step - loss: 0.3634 - accuracy: 0.7714 - val_loss: 0.3831 - val_accuracy: 0.7162\n",
            "Epoch 70/100\n",
            "26/26 [==============================] - 0s 4ms/step - loss: 0.3839 - accuracy: 0.8213 - val_loss: 0.3783 - val_accuracy: 0.8343\n",
            "Epoch 71/100\n",
            "26/26 [==============================] - 0s 5ms/step - loss: 0.3516 - accuracy: 0.8512 - val_loss: 0.3750 - val_accuracy: 0.8343\n",
            "Epoch 72/100\n",
            "26/26 [==============================] - 0s 4ms/step - loss: 0.3446 - accuracy: 0.8538 - val_loss: 0.3715 - val_accuracy: 0.8343\n",
            "Epoch 73/100\n",
            "26/26 [==============================] - 0s 3ms/step - loss: 0.3363 - accuracy: 0.8522 - val_loss: 0.3682 - val_accuracy: 0.8343\n",
            "Epoch 74/100\n",
            "26/26 [==============================] - 0s 3ms/step - loss: 0.3439 - accuracy: 0.8490 - val_loss: 0.3644 - val_accuracy: 0.8343\n",
            "Epoch 75/100\n",
            "26/26 [==============================] - 0s 4ms/step - loss: 0.3411 - accuracy: 0.8515 - val_loss: 0.3616 - val_accuracy: 0.8343\n",
            "Epoch 76/100\n",
            "26/26 [==============================] - 0s 4ms/step - loss: 0.3420 - accuracy: 0.8345 - val_loss: 0.3583 - val_accuracy: 0.8343\n",
            "Epoch 77/100\n",
            "26/26 [==============================] - 0s 4ms/step - loss: 0.3284 - accuracy: 0.8537 - val_loss: 0.3530 - val_accuracy: 0.8343\n",
            "Epoch 78/100\n",
            "26/26 [==============================] - 0s 4ms/step - loss: 0.3169 - accuracy: 0.8530 - val_loss: 0.3463 - val_accuracy: 0.8343\n",
            "Epoch 79/100\n",
            "26/26 [==============================] - 0s 4ms/step - loss: 0.3168 - accuracy: 0.8522 - val_loss: 0.3406 - val_accuracy: 0.8343\n",
            "Epoch 80/100\n",
            "26/26 [==============================] - 0s 4ms/step - loss: 0.3141 - accuracy: 0.8501 - val_loss: 0.3347 - val_accuracy: 0.8343\n",
            "Epoch 81/100\n",
            "26/26 [==============================] - 0s 4ms/step - loss: 0.3182 - accuracy: 0.8363 - val_loss: 0.3285 - val_accuracy: 0.8343\n",
            "Epoch 82/100\n",
            "26/26 [==============================] - 0s 4ms/step - loss: 0.3025 - accuracy: 0.8472 - val_loss: 0.3201 - val_accuracy: 0.8343\n",
            "Epoch 83/100\n",
            "26/26 [==============================] - 0s 5ms/step - loss: 0.2888 - accuracy: 0.8458 - val_loss: 0.3131 - val_accuracy: 0.8343\n",
            "Epoch 84/100\n",
            "26/26 [==============================] - 0s 5ms/step - loss: 0.2936 - accuracy: 0.8365 - val_loss: 0.3061 - val_accuracy: 0.8343\n",
            "Epoch 85/100\n",
            "26/26 [==============================] - 0s 5ms/step - loss: 0.2800 - accuracy: 0.8470 - val_loss: 0.2964 - val_accuracy: 0.8343\n",
            "Epoch 86/100\n",
            "26/26 [==============================] - 0s 5ms/step - loss: 0.2685 - accuracy: 0.8542 - val_loss: 0.2881 - val_accuracy: 0.8343\n",
            "Epoch 87/100\n",
            "26/26 [==============================] - 0s 4ms/step - loss: 0.2672 - accuracy: 0.8769 - val_loss: 0.2801 - val_accuracy: 0.9294\n",
            "Epoch 88/100\n",
            "26/26 [==============================] - 0s 4ms/step - loss: 0.2673 - accuracy: 0.9385 - val_loss: 0.2718 - val_accuracy: 0.9294\n",
            "Epoch 89/100\n",
            "26/26 [==============================] - 0s 4ms/step - loss: 0.2505 - accuracy: 0.9419 - val_loss: 0.2606 - val_accuracy: 0.9294\n",
            "Epoch 90/100\n",
            "26/26 [==============================] - 0s 4ms/step - loss: 0.2366 - accuracy: 0.9408 - val_loss: 0.2503 - val_accuracy: 0.9294\n",
            "Epoch 91/100\n",
            "26/26 [==============================] - 0s 4ms/step - loss: 0.2293 - accuracy: 0.9425 - val_loss: 0.2394 - val_accuracy: 0.9294\n",
            "Epoch 92/100\n",
            "26/26 [==============================] - 0s 4ms/step - loss: 0.2281 - accuracy: 0.9435 - val_loss: 0.2285 - val_accuracy: 0.9294\n",
            "Epoch 93/100\n",
            "26/26 [==============================] - 0s 4ms/step - loss: 0.2081 - accuracy: 0.9409 - val_loss: 0.2151 - val_accuracy: 0.9294\n",
            "Epoch 94/100\n",
            "26/26 [==============================] - 0s 5ms/step - loss: 0.1908 - accuracy: 0.9429 - val_loss: 0.2027 - val_accuracy: 0.9294\n",
            "Epoch 95/100\n",
            "26/26 [==============================] - 0s 4ms/step - loss: 0.1905 - accuracy: 0.9367 - val_loss: 0.1904 - val_accuracy: 0.9294\n",
            "Epoch 96/100\n",
            "26/26 [==============================] - 0s 4ms/step - loss: 0.1653 - accuracy: 0.9455 - val_loss: 0.1740 - val_accuracy: 0.9294\n",
            "Epoch 97/100\n",
            "26/26 [==============================] - 0s 3ms/step - loss: 0.1586 - accuracy: 0.9441 - val_loss: 0.1593 - val_accuracy: 0.9294\n",
            "Epoch 98/100\n",
            "26/26 [==============================] - 0s 4ms/step - loss: 0.1391 - accuracy: 0.9491 - val_loss: 0.1432 - val_accuracy: 0.9842\n",
            "Epoch 99/100\n",
            "26/26 [==============================] - 0s 4ms/step - loss: 0.1275 - accuracy: 0.9896 - val_loss: 0.1274 - val_accuracy: 0.9842\n",
            "Epoch 100/100\n",
            "26/26 [==============================] - 0s 4ms/step - loss: 0.1111 - accuracy: 0.9926 - val_loss: 0.1116 - val_accuracy: 0.9842\n"
          ],
          "name": "stdout"
        },
        {
          "output_type": "execute_result",
          "data": {
            "text/plain": [
              "<tensorflow.python.keras.callbacks.History at 0x7fc6344e9990>"
            ]
          },
          "metadata": {
            "tags": []
          },
          "execution_count": 295
        }
      ]
    },
    {
      "cell_type": "code",
      "metadata": {
        "id": "nJgGpcGkV42Y"
      },
      "source": [
        "predictions = model.predict(X_test).round(0)\n",
        "pred2 = model.predict(X_train)"
      ],
      "execution_count": 296,
      "outputs": []
    },
    {
      "cell_type": "code",
      "metadata": {
        "colab": {
          "base_uri": "https://localhost:8080/"
        },
        "id": "GkjanFeXW_KI",
        "outputId": "aabe0864-3b6a-466b-afbc-7312c26b9e03"
      },
      "source": [
        "loss2, acc2 = model.evaluate(y_train, pred2)\n",
        "loss, acc = model.evaluate(y_test, predictions)"
      ],
      "execution_count": 297,
      "outputs": [
        {
          "output_type": "stream",
          "text": [
            "129/129 [==============================] - 0s 2ms/step - loss: 4.0868 - accuracy: 0.7714\n",
            "33/33 [==============================] - 0s 2ms/step - loss: 5.5580 - accuracy: 0.7573\n"
          ],
          "name": "stdout"
        }
      ]
    },
    {
      "cell_type": "code",
      "metadata": {
        "id": "kauDbD0MXng6",
        "colab": {
          "base_uri": "https://localhost:8080/"
        },
        "outputId": "d0ac0dc0-33c8-43ae-b519-58a604270905"
      },
      "source": [
        "print(\"Train Accuracy: %.2f\" % (acc2 * 100) + \"%\")\n",
        "print(\"Test Accuracy: %.2f\" % (acc * 100) + \"%\")"
      ],
      "execution_count": 298,
      "outputs": [
        {
          "output_type": "stream",
          "text": [
            "Train Accuracy: 77.14%\n",
            "Test Accuracy: 75.73%\n"
          ],
          "name": "stdout"
        }
      ]
    }
  ]
}