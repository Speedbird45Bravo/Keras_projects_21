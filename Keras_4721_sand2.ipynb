{
  "nbformat": 4,
  "nbformat_minor": 0,
  "metadata": {
    "colab": {
      "name": "Keras_4721_sand2.ipynb",
      "provenance": [],
      "collapsed_sections": [],
      "authorship_tag": "ABX9TyNs34Z8r0BDyuKbFF0wrLmB",
      "include_colab_link": true
    },
    "kernelspec": {
      "name": "python3",
      "display_name": "Python 3"
    },
    "language_info": {
      "name": "python"
    }
  },
  "cells": [
    {
      "cell_type": "markdown",
      "metadata": {
        "id": "view-in-github",
        "colab_type": "text"
      },
      "source": [
        "<a href=\"https://colab.research.google.com/github/Speedbird45Bravo/Keras_projects_21/blob/main/Keras_4721_sand2.ipynb\" target=\"_parent\"><img src=\"https://colab.research.google.com/assets/colab-badge.svg\" alt=\"Open In Colab\"/></a>"
      ]
    },
    {
      "cell_type": "code",
      "metadata": {
        "id": "jM2H5RyeUONz"
      },
      "source": [
        "from keras.layers import Dense\n",
        "from keras.models import Sequential\n",
        "from keras.utils import to_categorical\n",
        "from sklearn.model_selection import train_test_split\n",
        "import numpy as np\n",
        "import pandas as pd\n",
        "\n",
        "df = pd.read_csv(\"https://projects.fivethirtyeight.com/soccer-api/club/spi_matches.csv\").dropna()\n",
        "df = df[(df.league=='Barclays Premier League') | (df.league=='English League Championship') | (df.league=='Major League Soccer')]\n",
        "df['spi_margin'] = np.abs(df['spi1'] - df['spi2'])\n",
        "df['margin'] = np.abs(df['score1'] - df['score2'])\n",
        "\n",
        "res = []\n",
        "\n",
        "for x in df['margin']:\n",
        "  if x > 0:\n",
        "    res.append(\"RESULT\")\n",
        "  else:\n",
        "    res.append(\"DRAW\")\n",
        "\n",
        "df['result'] = res"
      ],
      "execution_count": 159,
      "outputs": []
    },
    {
      "cell_type": "code",
      "metadata": {
        "id": "GCIrB7gFUqQT"
      },
      "source": [
        "def load_model():\n",
        "  model = Sequential()\n",
        "  model.add(Dense(40, activation='relu'))\n",
        "  model.add(Dense(10, activation='relu'))\n",
        "  model.add(Dense(2, activation='softmax'))\n",
        "  model.compile(optimizer='rmsprop', loss='categorical_crossentropy', metrics=['accuracy'])\n",
        "  return model\n",
        "\n",
        "def to_cat(array):\n",
        "  y = to_categorical(np.asarray(pd.factorize(array)[0]))\n",
        "  return y\n",
        "\n",
        "def to_df(array):\n",
        "  df = pd.DataFrame(array).reset_index(drop=True)\n",
        "  return df"
      ],
      "execution_count": 160,
      "outputs": []
    },
    {
      "cell_type": "code",
      "metadata": {
        "id": "ETh_OCVEU9mx"
      },
      "source": [
        "model = load_model()"
      ],
      "execution_count": 161,
      "outputs": []
    },
    {
      "cell_type": "code",
      "metadata": {
        "id": "aLbapr4jU_KR"
      },
      "source": [
        "X = df[['score1','score2']].reset_index(drop=True)\n",
        "y = df[['result']].copy()\n",
        "X_train, X_test, y_train, y_test = train_test_split(X, y, test_size=0.2, random_state=6)"
      ],
      "execution_count": 162,
      "outputs": []
    },
    {
      "cell_type": "code",
      "metadata": {
        "id": "zaOJj51qVRBH"
      },
      "source": [
        "y_train = to_cat(y_train['result'])\n",
        "y_train = to_df(y_train)\n",
        "y_test = to_cat(y_test['result'])\n",
        "y_test = to_df(y_test)"
      ],
      "execution_count": 163,
      "outputs": []
    },
    {
      "cell_type": "code",
      "metadata": {
        "colab": {
          "base_uri": "https://localhost:8080/"
        },
        "id": "MH2I27qnVdTs",
        "outputId": "7e6146da-a5b4-4cb0-ec61-7cc1fbf5f619"
      },
      "source": [
        "model.fit(X_train, y_train, epochs=100, batch_size=128, verbose=1)"
      ],
      "execution_count": 164,
      "outputs": [
        {
          "output_type": "stream",
          "text": [
            "Epoch 1/100\n",
            "33/33 [==============================] - 1s 2ms/step - loss: 0.6086 - accuracy: 0.6698\n",
            "Epoch 2/100\n",
            "33/33 [==============================] - 0s 1ms/step - loss: 0.4402 - accuracy: 0.7794\n",
            "Epoch 3/100\n",
            "33/33 [==============================] - 0s 1ms/step - loss: 0.3832 - accuracy: 0.7691\n",
            "Epoch 4/100\n",
            "33/33 [==============================] - 0s 1ms/step - loss: 0.3401 - accuracy: 0.7615\n",
            "Epoch 5/100\n",
            "33/33 [==============================] - 0s 1ms/step - loss: 0.2906 - accuracy: 0.7845\n",
            "Epoch 6/100\n",
            "33/33 [==============================] - 0s 1ms/step - loss: 0.2391 - accuracy: 0.9956\n",
            "Epoch 7/100\n",
            "33/33 [==============================] - 0s 1ms/step - loss: 0.2004 - accuracy: 1.0000\n",
            "Epoch 8/100\n",
            "33/33 [==============================] - 0s 1ms/step - loss: 0.1586 - accuracy: 1.0000\n",
            "Epoch 9/100\n",
            "33/33 [==============================] - 0s 1ms/step - loss: 0.1276 - accuracy: 1.0000\n",
            "Epoch 10/100\n",
            "33/33 [==============================] - 0s 1ms/step - loss: 0.0962 - accuracy: 1.0000\n",
            "Epoch 11/100\n",
            "33/33 [==============================] - 0s 2ms/step - loss: 0.0728 - accuracy: 1.0000\n",
            "Epoch 12/100\n",
            "33/33 [==============================] - 0s 1ms/step - loss: 0.0532 - accuracy: 1.0000\n",
            "Epoch 13/100\n",
            "33/33 [==============================] - 0s 1ms/step - loss: 0.0354 - accuracy: 1.0000\n",
            "Epoch 14/100\n",
            "33/33 [==============================] - 0s 1ms/step - loss: 0.0222 - accuracy: 1.0000\n",
            "Epoch 15/100\n",
            "33/33 [==============================] - 0s 2ms/step - loss: 0.0142 - accuracy: 1.0000\n",
            "Epoch 16/100\n",
            "33/33 [==============================] - 0s 2ms/step - loss: 0.0089 - accuracy: 1.0000\n",
            "Epoch 17/100\n",
            "33/33 [==============================] - 0s 1ms/step - loss: 0.0051 - accuracy: 1.0000\n",
            "Epoch 18/100\n",
            "33/33 [==============================] - 0s 2ms/step - loss: 0.0027 - accuracy: 1.0000\n",
            "Epoch 19/100\n",
            "33/33 [==============================] - 0s 1ms/step - loss: 0.0015 - accuracy: 1.0000\n",
            "Epoch 20/100\n",
            "33/33 [==============================] - 0s 1ms/step - loss: 8.1119e-04 - accuracy: 1.0000\n",
            "Epoch 21/100\n",
            "33/33 [==============================] - 0s 1ms/step - loss: 3.5777e-04 - accuracy: 1.0000\n",
            "Epoch 22/100\n",
            "33/33 [==============================] - 0s 1ms/step - loss: 1.6423e-04 - accuracy: 1.0000\n",
            "Epoch 23/100\n",
            "33/33 [==============================] - 0s 2ms/step - loss: 7.6235e-05 - accuracy: 1.0000\n",
            "Epoch 24/100\n",
            "33/33 [==============================] - 0s 1ms/step - loss: 3.2320e-05 - accuracy: 1.0000\n",
            "Epoch 25/100\n",
            "33/33 [==============================] - 0s 2ms/step - loss: 1.4269e-05 - accuracy: 1.0000\n",
            "Epoch 26/100\n",
            "33/33 [==============================] - 0s 2ms/step - loss: 5.8931e-06 - accuracy: 1.0000\n",
            "Epoch 27/100\n",
            "33/33 [==============================] - 0s 2ms/step - loss: 2.1607e-06 - accuracy: 1.0000\n",
            "Epoch 28/100\n",
            "33/33 [==============================] - 0s 1ms/step - loss: 8.9768e-07 - accuracy: 1.0000\n",
            "Epoch 29/100\n",
            "33/33 [==============================] - 0s 2ms/step - loss: 3.6930e-07 - accuracy: 1.0000\n",
            "Epoch 30/100\n",
            "33/33 [==============================] - 0s 1ms/step - loss: 1.7567e-07 - accuracy: 1.0000\n",
            "Epoch 31/100\n",
            "33/33 [==============================] - 0s 2ms/step - loss: 8.9203e-08 - accuracy: 1.0000\n",
            "Epoch 32/100\n",
            "33/33 [==============================] - 0s 2ms/step - loss: 4.1815e-08 - accuracy: 1.0000\n",
            "Epoch 33/100\n",
            "33/33 [==============================] - 0s 1ms/step - loss: 2.0607e-08 - accuracy: 1.0000\n",
            "Epoch 34/100\n",
            "33/33 [==============================] - 0s 1ms/step - loss: 1.1621e-08 - accuracy: 1.0000\n",
            "Epoch 35/100\n",
            "33/33 [==============================] - 0s 1ms/step - loss: 8.5850e-09 - accuracy: 1.0000\n",
            "Epoch 36/100\n",
            "33/33 [==============================] - 0s 1ms/step - loss: 8.3492e-09 - accuracy: 1.0000\n",
            "Epoch 37/100\n",
            "33/33 [==============================] - 0s 1ms/step - loss: 9.2395e-09 - accuracy: 1.0000\n",
            "Epoch 38/100\n",
            "33/33 [==============================] - 0s 1ms/step - loss: 6.9904e-09 - accuracy: 1.0000\n",
            "Epoch 39/100\n",
            "33/33 [==============================] - 0s 2ms/step - loss: 1.0235e-10 - accuracy: 1.0000\n",
            "Epoch 40/100\n",
            "33/33 [==============================] - 0s 2ms/step - loss: 3.1399e-11 - accuracy: 1.0000\n",
            "Epoch 41/100\n",
            "33/33 [==============================] - 0s 1ms/step - loss: 2.7876e-11 - accuracy: 1.0000\n",
            "Epoch 42/100\n",
            "33/33 [==============================] - 0s 1ms/step - loss: 4.8150e-11 - accuracy: 1.0000\n",
            "Epoch 43/100\n",
            "33/33 [==============================] - 0s 1ms/step - loss: 5.5812e-11 - accuracy: 1.0000\n",
            "Epoch 44/100\n",
            "33/33 [==============================] - 0s 1ms/step - loss: 0.0000e+00 - accuracy: 1.0000\n",
            "Epoch 45/100\n",
            "33/33 [==============================] - 0s 1ms/step - loss: 0.0000e+00 - accuracy: 1.0000\n",
            "Epoch 46/100\n",
            "33/33 [==============================] - 0s 1ms/step - loss: 0.0000e+00 - accuracy: 1.0000\n",
            "Epoch 47/100\n",
            "33/33 [==============================] - 0s 1ms/step - loss: 0.0000e+00 - accuracy: 1.0000\n",
            "Epoch 48/100\n",
            "33/33 [==============================] - 0s 2ms/step - loss: 0.0000e+00 - accuracy: 1.0000\n",
            "Epoch 49/100\n",
            "33/33 [==============================] - 0s 2ms/step - loss: 0.0000e+00 - accuracy: 1.0000\n",
            "Epoch 50/100\n",
            "33/33 [==============================] - 0s 2ms/step - loss: 0.0000e+00 - accuracy: 1.0000\n",
            "Epoch 51/100\n",
            "33/33 [==============================] - 0s 1ms/step - loss: 0.0000e+00 - accuracy: 1.0000\n",
            "Epoch 52/100\n",
            "33/33 [==============================] - 0s 1ms/step - loss: 0.0000e+00 - accuracy: 1.0000\n",
            "Epoch 53/100\n",
            "33/33 [==============================] - 0s 3ms/step - loss: 0.0000e+00 - accuracy: 1.0000\n",
            "Epoch 54/100\n",
            "33/33 [==============================] - 0s 1ms/step - loss: 0.0000e+00 - accuracy: 1.0000\n",
            "Epoch 55/100\n",
            "33/33 [==============================] - 0s 1ms/step - loss: 0.0000e+00 - accuracy: 1.0000\n",
            "Epoch 56/100\n",
            "33/33 [==============================] - 0s 1ms/step - loss: 0.0000e+00 - accuracy: 1.0000\n",
            "Epoch 57/100\n",
            "33/33 [==============================] - 0s 2ms/step - loss: 0.0000e+00 - accuracy: 1.0000\n",
            "Epoch 58/100\n",
            "33/33 [==============================] - 0s 2ms/step - loss: 0.0000e+00 - accuracy: 1.0000\n",
            "Epoch 59/100\n",
            "33/33 [==============================] - 0s 1ms/step - loss: 0.0000e+00 - accuracy: 1.0000\n",
            "Epoch 60/100\n",
            "33/33 [==============================] - 0s 1ms/step - loss: 0.0000e+00 - accuracy: 1.0000\n",
            "Epoch 61/100\n",
            "33/33 [==============================] - 0s 1ms/step - loss: 0.0000e+00 - accuracy: 1.0000\n",
            "Epoch 62/100\n",
            "33/33 [==============================] - 0s 1ms/step - loss: 0.0000e+00 - accuracy: 1.0000\n",
            "Epoch 63/100\n",
            "33/33 [==============================] - 0s 2ms/step - loss: 0.0000e+00 - accuracy: 1.0000\n",
            "Epoch 64/100\n",
            "33/33 [==============================] - 0s 2ms/step - loss: 0.0000e+00 - accuracy: 1.0000\n",
            "Epoch 65/100\n",
            "33/33 [==============================] - 0s 2ms/step - loss: 0.0000e+00 - accuracy: 1.0000\n",
            "Epoch 66/100\n",
            "33/33 [==============================] - 0s 1ms/step - loss: 0.0000e+00 - accuracy: 1.0000\n",
            "Epoch 67/100\n",
            "33/33 [==============================] - 0s 1ms/step - loss: 0.0000e+00 - accuracy: 1.0000\n",
            "Epoch 68/100\n",
            "33/33 [==============================] - 0s 1ms/step - loss: 0.0000e+00 - accuracy: 1.0000\n",
            "Epoch 69/100\n",
            "33/33 [==============================] - 0s 1ms/step - loss: 0.0000e+00 - accuracy: 1.0000\n",
            "Epoch 70/100\n",
            "33/33 [==============================] - 0s 1ms/step - loss: 0.0000e+00 - accuracy: 1.0000\n",
            "Epoch 71/100\n",
            "33/33 [==============================] - 0s 2ms/step - loss: 0.0000e+00 - accuracy: 1.0000\n",
            "Epoch 72/100\n",
            "33/33 [==============================] - 0s 2ms/step - loss: 0.0000e+00 - accuracy: 1.0000\n",
            "Epoch 73/100\n",
            "33/33 [==============================] - 0s 1ms/step - loss: 0.0000e+00 - accuracy: 1.0000\n",
            "Epoch 74/100\n",
            "33/33 [==============================] - 0s 2ms/step - loss: 0.0000e+00 - accuracy: 1.0000\n",
            "Epoch 75/100\n",
            "33/33 [==============================] - 0s 2ms/step - loss: 0.0000e+00 - accuracy: 1.0000\n",
            "Epoch 76/100\n",
            "33/33 [==============================] - 0s 1ms/step - loss: 0.0000e+00 - accuracy: 1.0000\n",
            "Epoch 77/100\n",
            "33/33 [==============================] - 0s 1ms/step - loss: 0.0000e+00 - accuracy: 1.0000\n",
            "Epoch 78/100\n",
            "33/33 [==============================] - 0s 2ms/step - loss: 0.0000e+00 - accuracy: 1.0000\n",
            "Epoch 79/100\n",
            "33/33 [==============================] - 0s 2ms/step - loss: 0.0000e+00 - accuracy: 1.0000\n",
            "Epoch 80/100\n",
            "33/33 [==============================] - 0s 2ms/step - loss: 0.0000e+00 - accuracy: 1.0000\n",
            "Epoch 81/100\n",
            "33/33 [==============================] - 0s 1ms/step - loss: 0.0000e+00 - accuracy: 1.0000\n",
            "Epoch 82/100\n",
            "33/33 [==============================] - 0s 2ms/step - loss: 0.0000e+00 - accuracy: 1.0000\n",
            "Epoch 83/100\n",
            "33/33 [==============================] - 0s 3ms/step - loss: 0.0000e+00 - accuracy: 1.0000\n",
            "Epoch 84/100\n",
            "33/33 [==============================] - 0s 2ms/step - loss: 0.0000e+00 - accuracy: 1.0000\n",
            "Epoch 85/100\n",
            "33/33 [==============================] - 0s 2ms/step - loss: 0.0000e+00 - accuracy: 1.0000\n",
            "Epoch 86/100\n",
            "33/33 [==============================] - 0s 2ms/step - loss: 0.0000e+00 - accuracy: 1.0000\n",
            "Epoch 87/100\n",
            "33/33 [==============================] - 0s 2ms/step - loss: 0.0000e+00 - accuracy: 1.0000\n",
            "Epoch 88/100\n",
            "33/33 [==============================] - 0s 1ms/step - loss: 0.0000e+00 - accuracy: 1.0000\n",
            "Epoch 89/100\n",
            "33/33 [==============================] - 0s 1ms/step - loss: 0.0000e+00 - accuracy: 1.0000\n",
            "Epoch 90/100\n",
            "33/33 [==============================] - 0s 1ms/step - loss: 0.0000e+00 - accuracy: 1.0000\n",
            "Epoch 91/100\n",
            "33/33 [==============================] - 0s 1ms/step - loss: 0.0000e+00 - accuracy: 1.0000\n",
            "Epoch 92/100\n",
            "33/33 [==============================] - 0s 1ms/step - loss: 0.0000e+00 - accuracy: 1.0000\n",
            "Epoch 93/100\n",
            "33/33 [==============================] - 0s 1ms/step - loss: 0.0000e+00 - accuracy: 1.0000\n",
            "Epoch 94/100\n",
            "33/33 [==============================] - 0s 1ms/step - loss: 0.0000e+00 - accuracy: 1.0000\n",
            "Epoch 95/100\n",
            "33/33 [==============================] - 0s 1ms/step - loss: 0.0000e+00 - accuracy: 1.0000\n",
            "Epoch 96/100\n",
            "33/33 [==============================] - 0s 1ms/step - loss: 0.0000e+00 - accuracy: 1.0000\n",
            "Epoch 97/100\n",
            "33/33 [==============================] - 0s 1ms/step - loss: 0.0000e+00 - accuracy: 1.0000\n",
            "Epoch 98/100\n",
            "33/33 [==============================] - 0s 2ms/step - loss: 0.0000e+00 - accuracy: 1.0000\n",
            "Epoch 99/100\n",
            "33/33 [==============================] - 0s 1ms/step - loss: 0.0000e+00 - accuracy: 1.0000\n",
            "Epoch 100/100\n",
            "33/33 [==============================] - 0s 1ms/step - loss: 0.0000e+00 - accuracy: 1.0000\n"
          ],
          "name": "stdout"
        },
        {
          "output_type": "execute_result",
          "data": {
            "text/plain": [
              "<tensorflow.python.keras.callbacks.History at 0x7fc647f46d90>"
            ]
          },
          "metadata": {
            "tags": []
          },
          "execution_count": 164
        }
      ]
    },
    {
      "cell_type": "code",
      "metadata": {
        "id": "nJgGpcGkV42Y"
      },
      "source": [
        "predictions = model.predict(X_test).round(0)\n",
        "pred2 = model.predict(X_train)"
      ],
      "execution_count": 165,
      "outputs": []
    },
    {
      "cell_type": "code",
      "metadata": {
        "colab": {
          "base_uri": "https://localhost:8080/"
        },
        "id": "GkjanFeXW_KI",
        "outputId": "b10d49a6-a078-4054-f7b7-4e136f40b148"
      },
      "source": [
        "loss2, acc2 = model.evaluate(y_train, pred2)\n",
        "loss, acc = model.evaluate(y_test, predictions)"
      ],
      "execution_count": 168,
      "outputs": [
        {
          "output_type": "stream",
          "text": [
            "129/129 [==============================] - 0s 1ms/step - loss: 4.9877 - accuracy: 0.7636\n",
            "33/33 [==============================] - 0s 1ms/step - loss: 5.6754 - accuracy: 0.7310\n"
          ],
          "name": "stdout"
        }
      ]
    },
    {
      "cell_type": "code",
      "metadata": {
        "id": "kauDbD0MXng6",
        "colab": {
          "base_uri": "https://localhost:8080/"
        },
        "outputId": "f62991b9-7a5b-4cd1-b3b2-276d20ff9820"
      },
      "source": [
        "print(\"Train Accuracy: %.2f\" % (acc2 * 100) + \"%\")\n",
        "print(\"Test Accuracy: %.2f\" % (acc * 100) + \"%\")"
      ],
      "execution_count": 169,
      "outputs": [
        {
          "output_type": "stream",
          "text": [
            "Train Accuracy: 76.36%\n",
            "Test Accuracy: 73.10%\n"
          ],
          "name": "stdout"
        }
      ]
    }
  ]
}