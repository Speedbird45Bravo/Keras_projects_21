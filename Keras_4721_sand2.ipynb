{
  "nbformat": 4,
  "nbformat_minor": 0,
  "metadata": {
    "colab": {
      "name": "Keras_4721_sand2.ipynb",
      "provenance": [],
      "collapsed_sections": [],
      "authorship_tag": "ABX9TyO1PoTCqx5MulNvl4ANawNp",
      "include_colab_link": true
    },
    "kernelspec": {
      "name": "python3",
      "display_name": "Python 3"
    },
    "language_info": {
      "name": "python"
    }
  },
  "cells": [
    {
      "cell_type": "markdown",
      "metadata": {
        "id": "view-in-github",
        "colab_type": "text"
      },
      "source": [
        "<a href=\"https://colab.research.google.com/github/Speedbird45Bravo/Keras_projects_21/blob/main/Keras_4721_sand2.ipynb\" target=\"_parent\"><img src=\"https://colab.research.google.com/assets/colab-badge.svg\" alt=\"Open In Colab\"/></a>"
      ]
    },
    {
      "cell_type": "code",
      "metadata": {
        "id": "jM2H5RyeUONz"
      },
      "source": [
        "from keras.layers import Dense, Dropout\n",
        "from keras.models import Sequential\n",
        "from keras.utils import to_categorical\n",
        "from sklearn.model_selection import train_test_split\n",
        "import numpy as np\n",
        "import pandas as pd\n",
        "\n",
        "df = pd.read_csv(\"https://projects.fivethirtyeight.com/soccer-api/club/spi_matches.csv\").dropna()\n",
        "df = df[(df.league=='Barclays Premier League') | (df.league=='English League Championship') | (df.league=='Major League Soccer')]\n",
        "df['spi_margin'] = np.abs(df['spi1'] - df['spi2'])\n",
        "df['margin'] = np.abs(df['score1'] - df['score2'])\n",
        "\n",
        "res = []\n",
        "\n",
        "for x in df['margin']:\n",
        "  if x > 0:\n",
        "    res.append(\"RESULT\")\n",
        "  else:\n",
        "    res.append(\"DRAW\")\n",
        "\n",
        "df['result'] = res"
      ],
      "execution_count": 385,
      "outputs": []
    },
    {
      "cell_type": "code",
      "metadata": {
        "id": "GCIrB7gFUqQT"
      },
      "source": [
        "def load_model():\n",
        "  model = Sequential()\n",
        "  model.add(Dense(2, activation='relu'))\n",
        "  model.add(Dropout(0.01))\n",
        "  model.add(Dense(2, activation='relu'))\n",
        "  model.add(Dropout(0.01))\n",
        "  model.add(Dense(2, activation='softmax'))\n",
        "  model.compile(optimizer='rmsprop', loss='categorical_crossentropy', metrics=['accuracy'])\n",
        "  return model\n",
        "\n",
        "def to_cat(array):\n",
        "  y = to_categorical(np.asarray(pd.factorize(array)[0]))\n",
        "  return y\n",
        "\n",
        "def to_df(array):\n",
        "  df = pd.DataFrame(array).reset_index(drop=True)\n",
        "  return df"
      ],
      "execution_count": 386,
      "outputs": []
    },
    {
      "cell_type": "code",
      "metadata": {
        "id": "ETh_OCVEU9mx"
      },
      "source": [
        "model = load_model()"
      ],
      "execution_count": 387,
      "outputs": []
    },
    {
      "cell_type": "code",
      "metadata": {
        "id": "aLbapr4jU_KR"
      },
      "source": [
        "X = df[['score1','score2']].reset_index(drop=True)\n",
        "y = df[['result']].copy()\n",
        "X_train, X_test, y_train, y_test = train_test_split(X, y, test_size=0.1, random_state=6)"
      ],
      "execution_count": 388,
      "outputs": []
    },
    {
      "cell_type": "code",
      "metadata": {
        "id": "zaOJj51qVRBH"
      },
      "source": [
        "y_train = to_cat(y_train['result'])\n",
        "y_train = to_df(y_train)\n",
        "y_test = to_cat(y_test['result'])\n",
        "y_test = to_df(y_test)"
      ],
      "execution_count": 389,
      "outputs": []
    },
    {
      "cell_type": "code",
      "metadata": {
        "colab": {
          "base_uri": "https://localhost:8080/"
        },
        "id": "MH2I27qnVdTs",
        "outputId": "5c2fba38-ebed-4598-f3f8-ea7d17359b8a"
      },
      "source": [
        "model.fit(X_train, y_train, epochs=100, batch_size=128, verbose=1)"
      ],
      "execution_count": 390,
      "outputs": [
        {
          "output_type": "stream",
          "text": [
            "Epoch 1/100\n",
            "37/37 [==============================] - 1s 1ms/step - loss: 0.5553 - accuracy: 0.7605\n",
            "Epoch 2/100\n",
            "37/37 [==============================] - 0s 1ms/step - loss: 0.5399 - accuracy: 0.7568\n",
            "Epoch 3/100\n",
            "37/37 [==============================] - 0s 1ms/step - loss: 0.5378 - accuracy: 0.7618\n",
            "Epoch 4/100\n",
            "37/37 [==============================] - 0s 1ms/step - loss: 0.5394 - accuracy: 0.7586\n",
            "Epoch 5/100\n",
            "37/37 [==============================] - 0s 2ms/step - loss: 0.5378 - accuracy: 0.7526\n",
            "Epoch 6/100\n",
            "37/37 [==============================] - 0s 1ms/step - loss: 0.5329 - accuracy: 0.7605\n",
            "Epoch 7/100\n",
            "37/37 [==============================] - 0s 2ms/step - loss: 0.5239 - accuracy: 0.7580\n",
            "Epoch 8/100\n",
            "37/37 [==============================] - 0s 1ms/step - loss: 0.5327 - accuracy: 0.7512\n",
            "Epoch 9/100\n",
            "37/37 [==============================] - 0s 2ms/step - loss: 0.5319 - accuracy: 0.7566\n",
            "Epoch 10/100\n",
            "37/37 [==============================] - 0s 1ms/step - loss: 0.5351 - accuracy: 0.7528\n",
            "Epoch 11/100\n",
            "37/37 [==============================] - 0s 1ms/step - loss: 0.5174 - accuracy: 0.7626\n",
            "Epoch 12/100\n",
            "37/37 [==============================] - 0s 1ms/step - loss: 0.5205 - accuracy: 0.7620\n",
            "Epoch 13/100\n",
            "37/37 [==============================] - 0s 2ms/step - loss: 0.5141 - accuracy: 0.7646\n",
            "Epoch 14/100\n",
            "37/37 [==============================] - 0s 1ms/step - loss: 0.5306 - accuracy: 0.7474\n",
            "Epoch 15/100\n",
            "37/37 [==============================] - 0s 1ms/step - loss: 0.5217 - accuracy: 0.7572\n",
            "Epoch 16/100\n",
            "37/37 [==============================] - 0s 2ms/step - loss: 0.5150 - accuracy: 0.7629\n",
            "Epoch 17/100\n",
            "37/37 [==============================] - 0s 1ms/step - loss: 0.5192 - accuracy: 0.7550\n",
            "Epoch 18/100\n",
            "37/37 [==============================] - 0s 2ms/step - loss: 0.5143 - accuracy: 0.7614\n",
            "Epoch 19/100\n",
            "37/37 [==============================] - 0s 1ms/step - loss: 0.5253 - accuracy: 0.7514\n",
            "Epoch 20/100\n",
            "37/37 [==============================] - 0s 1ms/step - loss: 0.5132 - accuracy: 0.7611\n",
            "Epoch 21/100\n",
            "37/37 [==============================] - 0s 1ms/step - loss: 0.5174 - accuracy: 0.7567\n",
            "Epoch 22/100\n",
            "37/37 [==============================] - 0s 1ms/step - loss: 0.5098 - accuracy: 0.7588\n",
            "Epoch 23/100\n",
            "37/37 [==============================] - 0s 2ms/step - loss: 0.5329 - accuracy: 0.7452\n",
            "Epoch 24/100\n",
            "37/37 [==============================] - 0s 1ms/step - loss: 0.5256 - accuracy: 0.7490\n",
            "Epoch 25/100\n",
            "37/37 [==============================] - 0s 1ms/step - loss: 0.5261 - accuracy: 0.7459\n",
            "Epoch 26/100\n",
            "37/37 [==============================] - 0s 1ms/step - loss: 0.5068 - accuracy: 0.7582\n",
            "Epoch 27/100\n",
            "37/37 [==============================] - 0s 2ms/step - loss: 0.5275 - accuracy: 0.7497\n",
            "Epoch 28/100\n",
            "37/37 [==============================] - 0s 1ms/step - loss: 0.5106 - accuracy: 0.7569\n",
            "Epoch 29/100\n",
            "37/37 [==============================] - 0s 1ms/step - loss: 0.5234 - accuracy: 0.7506\n",
            "Epoch 30/100\n",
            "37/37 [==============================] - 0s 2ms/step - loss: 0.5224 - accuracy: 0.7487\n",
            "Epoch 31/100\n",
            "37/37 [==============================] - 0s 1ms/step - loss: 0.5227 - accuracy: 0.7539\n",
            "Epoch 32/100\n",
            "37/37 [==============================] - 0s 1ms/step - loss: 0.5125 - accuracy: 0.7590\n",
            "Epoch 33/100\n",
            "37/37 [==============================] - 0s 1ms/step - loss: 0.5082 - accuracy: 0.7585\n",
            "Epoch 34/100\n",
            "37/37 [==============================] - 0s 2ms/step - loss: 0.5189 - accuracy: 0.7494\n",
            "Epoch 35/100\n",
            "37/37 [==============================] - 0s 1ms/step - loss: 0.5342 - accuracy: 0.7426\n",
            "Epoch 36/100\n",
            "37/37 [==============================] - 0s 2ms/step - loss: 0.5205 - accuracy: 0.7553\n",
            "Epoch 37/100\n",
            "37/37 [==============================] - 0s 1ms/step - loss: 0.5183 - accuracy: 0.7503\n",
            "Epoch 38/100\n",
            "37/37 [==============================] - 0s 1ms/step - loss: 0.5154 - accuracy: 0.7594\n",
            "Epoch 39/100\n",
            "37/37 [==============================] - 0s 1ms/step - loss: 0.5249 - accuracy: 0.7473\n",
            "Epoch 40/100\n",
            "37/37 [==============================] - 0s 1ms/step - loss: 0.5201 - accuracy: 0.7563\n",
            "Epoch 41/100\n",
            "37/37 [==============================] - 0s 2ms/step - loss: 0.5053 - accuracy: 0.7639\n",
            "Epoch 42/100\n",
            "37/37 [==============================] - 0s 1ms/step - loss: 0.5096 - accuracy: 0.7635\n",
            "Epoch 43/100\n",
            "37/37 [==============================] - 0s 2ms/step - loss: 0.5149 - accuracy: 0.7537\n",
            "Epoch 44/100\n",
            "37/37 [==============================] - 0s 1ms/step - loss: 0.5235 - accuracy: 0.7487\n",
            "Epoch 45/100\n",
            "37/37 [==============================] - 0s 1ms/step - loss: 0.5080 - accuracy: 0.7601\n",
            "Epoch 46/100\n",
            "37/37 [==============================] - 0s 1ms/step - loss: 0.5162 - accuracy: 0.7498\n",
            "Epoch 47/100\n",
            "37/37 [==============================] - 0s 2ms/step - loss: 0.5073 - accuracy: 0.7609\n",
            "Epoch 48/100\n",
            "37/37 [==============================] - 0s 1ms/step - loss: 0.5136 - accuracy: 0.7555\n",
            "Epoch 49/100\n",
            "37/37 [==============================] - 0s 1ms/step - loss: 0.5073 - accuracy: 0.7656\n",
            "Epoch 50/100\n",
            "37/37 [==============================] - 0s 1ms/step - loss: 0.5126 - accuracy: 0.7598\n",
            "Epoch 51/100\n",
            "37/37 [==============================] - 0s 1ms/step - loss: 0.5184 - accuracy: 0.7517\n",
            "Epoch 52/100\n",
            "37/37 [==============================] - 0s 2ms/step - loss: 0.5104 - accuracy: 0.7559\n",
            "Epoch 53/100\n",
            "37/37 [==============================] - 0s 1ms/step - loss: 0.5151 - accuracy: 0.7574\n",
            "Epoch 54/100\n",
            "37/37 [==============================] - 0s 2ms/step - loss: 0.5181 - accuracy: 0.7570\n",
            "Epoch 55/100\n",
            "37/37 [==============================] - 0s 2ms/step - loss: 0.5208 - accuracy: 0.7465\n",
            "Epoch 56/100\n",
            "37/37 [==============================] - 0s 2ms/step - loss: 0.5029 - accuracy: 0.7614\n",
            "Epoch 57/100\n",
            "37/37 [==============================] - 0s 1ms/step - loss: 0.5232 - accuracy: 0.7533\n",
            "Epoch 58/100\n",
            "37/37 [==============================] - 0s 1ms/step - loss: 0.5130 - accuracy: 0.7565\n",
            "Epoch 59/100\n",
            "37/37 [==============================] - 0s 2ms/step - loss: 0.5097 - accuracy: 0.7588\n",
            "Epoch 60/100\n",
            "37/37 [==============================] - 0s 2ms/step - loss: 0.5150 - accuracy: 0.7551\n",
            "Epoch 61/100\n",
            "37/37 [==============================] - 0s 1ms/step - loss: 0.5124 - accuracy: 0.7585\n",
            "Epoch 62/100\n",
            "37/37 [==============================] - 0s 1ms/step - loss: 0.5102 - accuracy: 0.7576\n",
            "Epoch 63/100\n",
            "37/37 [==============================] - 0s 2ms/step - loss: 0.5148 - accuracy: 0.7533\n",
            "Epoch 64/100\n",
            "37/37 [==============================] - 0s 1ms/step - loss: 0.5062 - accuracy: 0.7624\n",
            "Epoch 65/100\n",
            "37/37 [==============================] - 0s 2ms/step - loss: 0.5221 - accuracy: 0.7444\n",
            "Epoch 66/100\n",
            "37/37 [==============================] - 0s 1ms/step - loss: 0.5142 - accuracy: 0.7508\n",
            "Epoch 67/100\n",
            "37/37 [==============================] - 0s 1ms/step - loss: 0.5182 - accuracy: 0.7496\n",
            "Epoch 68/100\n",
            "37/37 [==============================] - 0s 1ms/step - loss: 0.5047 - accuracy: 0.7594\n",
            "Epoch 69/100\n",
            "37/37 [==============================] - 0s 2ms/step - loss: 0.5158 - accuracy: 0.7534\n",
            "Epoch 70/100\n",
            "37/37 [==============================] - 0s 1ms/step - loss: 0.5116 - accuracy: 0.7597\n",
            "Epoch 71/100\n",
            "37/37 [==============================] - 0s 2ms/step - loss: 0.5178 - accuracy: 0.7465\n",
            "Epoch 72/100\n",
            "37/37 [==============================] - 0s 1ms/step - loss: 0.5161 - accuracy: 0.7507\n",
            "Epoch 73/100\n",
            "37/37 [==============================] - 0s 1ms/step - loss: 0.5377 - accuracy: 0.7788\n",
            "Epoch 74/100\n",
            "37/37 [==============================] - 0s 1ms/step - loss: 0.5185 - accuracy: 0.7644\n",
            "Epoch 75/100\n",
            "37/37 [==============================] - 0s 3ms/step - loss: 0.5122 - accuracy: 0.7591\n",
            "Epoch 76/100\n",
            "37/37 [==============================] - 0s 1ms/step - loss: 0.5169 - accuracy: 0.7658\n",
            "Epoch 77/100\n",
            "37/37 [==============================] - 0s 1ms/step - loss: 0.5268 - accuracy: 0.7906\n",
            "Epoch 78/100\n",
            "37/37 [==============================] - 0s 1ms/step - loss: 0.5149 - accuracy: 0.7654\n",
            "Epoch 79/100\n",
            "37/37 [==============================] - 0s 1ms/step - loss: 0.5181 - accuracy: 0.8072\n",
            "Epoch 80/100\n",
            "37/37 [==============================] - 0s 1ms/step - loss: 0.5251 - accuracy: 0.7533\n",
            "Epoch 81/100\n",
            "37/37 [==============================] - 0s 1ms/step - loss: 0.5050 - accuracy: 0.7615\n",
            "Epoch 82/100\n",
            "37/37 [==============================] - 0s 2ms/step - loss: 0.4969 - accuracy: 0.7749\n",
            "Epoch 83/100\n",
            "37/37 [==============================] - 0s 2ms/step - loss: 0.5075 - accuracy: 0.8198\n",
            "Epoch 84/100\n",
            "37/37 [==============================] - 0s 2ms/step - loss: 0.5131 - accuracy: 0.8143\n",
            "Epoch 85/100\n",
            "37/37 [==============================] - 0s 1ms/step - loss: 0.5055 - accuracy: 0.8193\n",
            "Epoch 86/100\n",
            "37/37 [==============================] - 0s 2ms/step - loss: 0.5079 - accuracy: 0.8215\n",
            "Epoch 87/100\n",
            "37/37 [==============================] - 0s 1ms/step - loss: 0.5097 - accuracy: 0.8191\n",
            "Epoch 88/100\n",
            "37/37 [==============================] - 0s 1ms/step - loss: 0.5074 - accuracy: 0.8222\n",
            "Epoch 89/100\n",
            "37/37 [==============================] - 0s 1ms/step - loss: 0.5177 - accuracy: 0.8123\n",
            "Epoch 90/100\n",
            "37/37 [==============================] - 0s 1ms/step - loss: 0.5077 - accuracy: 0.8207\n",
            "Epoch 91/100\n",
            "37/37 [==============================] - 0s 2ms/step - loss: 0.5142 - accuracy: 0.8119\n",
            "Epoch 92/100\n",
            "37/37 [==============================] - 0s 2ms/step - loss: 0.5244 - accuracy: 0.8082\n",
            "Epoch 93/100\n",
            "37/37 [==============================] - 0s 2ms/step - loss: 0.5061 - accuracy: 0.8192\n",
            "Epoch 94/100\n",
            "37/37 [==============================] - 0s 2ms/step - loss: 0.5122 - accuracy: 0.8163\n",
            "Epoch 95/100\n",
            "37/37 [==============================] - 0s 1ms/step - loss: 0.5076 - accuracy: 0.8204\n",
            "Epoch 96/100\n",
            "37/37 [==============================] - 0s 1ms/step - loss: 0.5220 - accuracy: 0.8060\n",
            "Epoch 97/100\n",
            "37/37 [==============================] - 0s 1ms/step - loss: 0.5226 - accuracy: 0.8061\n",
            "Epoch 98/100\n",
            "37/37 [==============================] - 0s 2ms/step - loss: 0.5137 - accuracy: 0.8141\n",
            "Epoch 99/100\n",
            "37/37 [==============================] - 0s 2ms/step - loss: 0.5250 - accuracy: 0.8107\n",
            "Epoch 100/100\n",
            "37/37 [==============================] - 0s 2ms/step - loss: 0.5113 - accuracy: 0.8190\n"
          ],
          "name": "stdout"
        },
        {
          "output_type": "execute_result",
          "data": {
            "text/plain": [
              "<tensorflow.python.keras.callbacks.History at 0x7fc6196570d0>"
            ]
          },
          "metadata": {
            "tags": []
          },
          "execution_count": 390
        }
      ]
    },
    {
      "cell_type": "code",
      "metadata": {
        "id": "nJgGpcGkV42Y"
      },
      "source": [
        "predictions = model.predict(X_test).round(0)\n",
        "pred2 = model.predict(X_train)"
      ],
      "execution_count": 391,
      "outputs": []
    },
    {
      "cell_type": "code",
      "metadata": {
        "colab": {
          "base_uri": "https://localhost:8080/"
        },
        "id": "GkjanFeXW_KI",
        "outputId": "f748dcfe-7cde-468b-dbbd-443824f2717a"
      },
      "source": [
        "loss2, acc2 = model.evaluate(y_train, pred2)\n",
        "loss, acc = model.evaluate(y_test, predictions)"
      ],
      "execution_count": 392,
      "outputs": [
        {
          "output_type": "stream",
          "text": [
            "145/145 [==============================] - 0s 1ms/step - loss: 0.5673 - accuracy: 0.9315\n",
            "17/17 [==============================] - 0s 1ms/step - loss: 0.4064 - accuracy: 0.9337\n"
          ],
          "name": "stdout"
        }
      ]
    },
    {
      "cell_type": "code",
      "metadata": {
        "id": "kauDbD0MXng6",
        "colab": {
          "base_uri": "https://localhost:8080/"
        },
        "outputId": "50df870b-350f-456f-ef59-cde8e82a62f0"
      },
      "source": [
        "print(\"Train Accuracy: %.2f\" % (acc2 * 100) + \"%\")\n",
        "print(\"Test Accuracy: %.2f\" % (acc * 100) + \"%\")"
      ],
      "execution_count": 393,
      "outputs": [
        {
          "output_type": "stream",
          "text": [
            "Train Accuracy: 93.15%\n",
            "Test Accuracy: 93.37%\n"
          ],
          "name": "stdout"
        }
      ]
    }
  ]
}