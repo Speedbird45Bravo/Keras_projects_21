{
  "nbformat": 4,
  "nbformat_minor": 0,
  "metadata": {
    "colab": {
      "name": "Keras_42921.ipynb",
      "provenance": [],
      "collapsed_sections": [],
      "authorship_tag": "ABX9TyNmiAXnWZ7vWI0bPuh4FCYM",
      "include_colab_link": true
    },
    "kernelspec": {
      "name": "python3",
      "display_name": "Python 3"
    },
    "language_info": {
      "name": "python"
    }
  },
  "cells": [
    {
      "cell_type": "markdown",
      "metadata": {
        "id": "view-in-github",
        "colab_type": "text"
      },
      "source": [
        "<a href=\"https://colab.research.google.com/github/Speedbird45Bravo/Keras_projects_21/blob/main/Keras_42921.ipynb\" target=\"_parent\"><img src=\"https://colab.research.google.com/assets/colab-badge.svg\" alt=\"Open In Colab\"/></a>"
      ]
    },
    {
      "cell_type": "code",
      "metadata": {
        "id": "UMPcmz8-oJi0"
      },
      "source": [
        "from keras.layers import Dense\n",
        "from keras.models import Sequential\n",
        "from keras.utils import to_categorical\n",
        "from sklearn.model_selection import train_test_split\n",
        "import numpy as np\n",
        "import pandas as pd"
      ],
      "execution_count": 1,
      "outputs": []
    },
    {
      "cell_type": "code",
      "metadata": {
        "id": "YvOHZSszoUbu"
      },
      "source": [
        "df = pd.read_csv(\"https://projects.fivethirtyeight.com/soccer-api/club/spi_matches.csv\").dropna()\n",
        "df = df[(df.league==\"Barclays Premier League\") | (df.league==\"UEFA Champions League\")]"
      ],
      "execution_count": 3,
      "outputs": []
    },
    {
      "cell_type": "code",
      "metadata": {
        "id": "6i5t0j26oZP0"
      },
      "source": [
        "df[\"goals\"] = df[\"score1\"] + df[\"score2\"]"
      ],
      "execution_count": 4,
      "outputs": []
    },
    {
      "cell_type": "code",
      "metadata": {
        "id": "Eh-sK-rEooOV"
      },
      "source": [
        "goals = []"
      ],
      "execution_count": 5,
      "outputs": []
    },
    {
      "cell_type": "code",
      "metadata": {
        "id": "_WIrpneVopUV"
      },
      "source": [
        "for x in df[\"goals\"]:\n",
        "  if x > 0:\n",
        "    goals.append(\"GOALS\")\n",
        "  else:\n",
        "    goals.append(\"NO GOALS\")"
      ],
      "execution_count": 6,
      "outputs": []
    },
    {
      "cell_type": "code",
      "metadata": {
        "id": "mz3rPpMlovQp"
      },
      "source": [
        "df[\"goal_bucket\"] = goals"
      ],
      "execution_count": 7,
      "outputs": []
    },
    {
      "cell_type": "code",
      "metadata": {
        "id": "bG00gH2hoygp"
      },
      "source": [
        "X = df[['score1', 'score2']]\n",
        "y = df[['goal_bucket']].copy()\n",
        "X_train, X_test, y_train, y_test = train_test_split(X, y, test_size=0.2, random_state=6)"
      ],
      "execution_count": 8,
      "outputs": []
    },
    {
      "cell_type": "code",
      "metadata": {
        "id": "5xju_ELOo6xf"
      },
      "source": [
        "def categorize(array):\n",
        "  array = to_categorical(np.asarray(pd.factorize(array)[0]))\n",
        "  return array"
      ],
      "execution_count": 9,
      "outputs": []
    },
    {
      "cell_type": "code",
      "metadata": {
        "id": "NNTxQUvwpAcT"
      },
      "source": [
        "def model():\n",
        "  model = Sequential()\n",
        "  model.add(Dense(16, activation=\"relu\"))\n",
        "  model.add(Dense(2, activation=\"softmax\"))\n",
        "  model.compile(optimizer=\"rmsprop\", loss=\"binary_crossentropy\", metrics=[\"accuracy\"])\n",
        "  return model"
      ],
      "execution_count": 10,
      "outputs": []
    },
    {
      "cell_type": "code",
      "metadata": {
        "id": "RgkMOmewpNX0"
      },
      "source": [
        "y_train = categorize(y_train[\"goal_bucket\"])\n",
        "y_test = categorize(y_test[\"goal_bucket\"])"
      ],
      "execution_count": 11,
      "outputs": []
    },
    {
      "cell_type": "code",
      "metadata": {
        "id": "NjKXBSmIpSzo"
      },
      "source": [
        "model = model()"
      ],
      "execution_count": 12,
      "outputs": []
    },
    {
      "cell_type": "code",
      "metadata": {
        "colab": {
          "base_uri": "https://localhost:8080/"
        },
        "id": "weMQjS2xpTy4",
        "outputId": "5e7c6e62-41ac-465f-e933-74e734cafce0"
      },
      "source": [
        "model.fit(X_train, y_train, epochs=40, batch_size=128, verbose=1, validation_split=0.2)"
      ],
      "execution_count": 14,
      "outputs": [
        {
          "output_type": "stream",
          "text": [
            "Epoch 1/40\n",
            "12/12 [==============================] - 1s 26ms/step - loss: 0.7784 - accuracy: 0.9326 - val_loss: 0.7176 - val_accuracy: 0.9311\n",
            "Epoch 2/40\n",
            "12/12 [==============================] - 0s 6ms/step - loss: 0.6739 - accuracy: 0.9388 - val_loss: 0.6415 - val_accuracy: 0.9311\n",
            "Epoch 3/40\n",
            "12/12 [==============================] - 0s 7ms/step - loss: 0.6076 - accuracy: 0.9283 - val_loss: 0.5753 - val_accuracy: 0.9311\n",
            "Epoch 4/40\n",
            "12/12 [==============================] - 0s 6ms/step - loss: 0.5465 - accuracy: 0.9352 - val_loss: 0.5170 - val_accuracy: 0.9311\n",
            "Epoch 5/40\n",
            "12/12 [==============================] - 0s 6ms/step - loss: 0.4893 - accuracy: 0.9439 - val_loss: 0.4642 - val_accuracy: 0.9311\n",
            "Epoch 6/40\n",
            "12/12 [==============================] - 0s 7ms/step - loss: 0.4469 - accuracy: 0.9259 - val_loss: 0.4154 - val_accuracy: 0.9311\n",
            "Epoch 7/40\n",
            "12/12 [==============================] - 0s 5ms/step - loss: 0.4025 - accuracy: 0.9219 - val_loss: 0.3730 - val_accuracy: 0.9311\n",
            "Epoch 8/40\n",
            "12/12 [==============================] - 0s 6ms/step - loss: 0.3592 - accuracy: 0.9369 - val_loss: 0.3360 - val_accuracy: 0.9311\n",
            "Epoch 9/40\n",
            "12/12 [==============================] - 0s 6ms/step - loss: 0.3317 - accuracy: 0.9292 - val_loss: 0.3037 - val_accuracy: 0.9311\n",
            "Epoch 10/40\n",
            "12/12 [==============================] - 0s 5ms/step - loss: 0.2987 - accuracy: 0.9338 - val_loss: 0.2769 - val_accuracy: 0.9311\n",
            "Epoch 11/40\n",
            "12/12 [==============================] - 0s 6ms/step - loss: 0.2785 - accuracy: 0.9249 - val_loss: 0.2528 - val_accuracy: 0.9311\n",
            "Epoch 12/40\n",
            "12/12 [==============================] - 0s 6ms/step - loss: 0.2550 - accuracy: 0.9287 - val_loss: 0.2315 - val_accuracy: 0.9311\n",
            "Epoch 13/40\n",
            "12/12 [==============================] - 0s 6ms/step - loss: 0.2273 - accuracy: 0.9327 - val_loss: 0.2132 - val_accuracy: 0.9311\n",
            "Epoch 14/40\n",
            "12/12 [==============================] - 0s 5ms/step - loss: 0.2161 - accuracy: 0.9288 - val_loss: 0.1973 - val_accuracy: 0.9311\n",
            "Epoch 15/40\n",
            "12/12 [==============================] - 0s 5ms/step - loss: 0.1909 - accuracy: 0.9387 - val_loss: 0.1834 - val_accuracy: 0.9311\n",
            "Epoch 16/40\n",
            "12/12 [==============================] - 0s 6ms/step - loss: 0.1785 - accuracy: 0.9398 - val_loss: 0.1715 - val_accuracy: 0.9311\n",
            "Epoch 17/40\n",
            "12/12 [==============================] - 0s 6ms/step - loss: 0.1677 - accuracy: 0.9376 - val_loss: 0.1613 - val_accuracy: 0.9311\n",
            "Epoch 18/40\n",
            "12/12 [==============================] - 0s 6ms/step - loss: 0.1626 - accuracy: 0.9335 - val_loss: 0.1524 - val_accuracy: 0.9311\n",
            "Epoch 19/40\n",
            "12/12 [==============================] - 0s 6ms/step - loss: 0.1473 - accuracy: 0.9399 - val_loss: 0.1449 - val_accuracy: 0.9311\n",
            "Epoch 20/40\n",
            "12/12 [==============================] - 0s 7ms/step - loss: 0.1462 - accuracy: 0.9335 - val_loss: 0.1382 - val_accuracy: 0.9311\n",
            "Epoch 21/40\n",
            "12/12 [==============================] - 0s 6ms/step - loss: 0.1301 - accuracy: 0.9402 - val_loss: 0.1324 - val_accuracy: 0.9311\n",
            "Epoch 22/40\n",
            "12/12 [==============================] - 0s 6ms/step - loss: 0.1282 - accuracy: 0.9381 - val_loss: 0.1272 - val_accuracy: 0.9311\n",
            "Epoch 23/40\n",
            "12/12 [==============================] - 0s 6ms/step - loss: 0.1219 - accuracy: 0.9401 - val_loss: 0.1225 - val_accuracy: 0.9311\n",
            "Epoch 24/40\n",
            "12/12 [==============================] - 0s 5ms/step - loss: 0.1200 - accuracy: 0.9370 - val_loss: 0.1182 - val_accuracy: 0.9311\n",
            "Epoch 25/40\n",
            "12/12 [==============================] - 0s 6ms/step - loss: 0.1120 - accuracy: 0.9384 - val_loss: 0.1142 - val_accuracy: 0.9311\n",
            "Epoch 26/40\n",
            "12/12 [==============================] - 0s 6ms/step - loss: 0.1149 - accuracy: 0.9320 - val_loss: 0.1104 - val_accuracy: 0.9311\n",
            "Epoch 27/40\n",
            "12/12 [==============================] - 0s 6ms/step - loss: 0.1134 - accuracy: 0.9308 - val_loss: 0.1067 - val_accuracy: 0.9311\n",
            "Epoch 28/40\n",
            "12/12 [==============================] - 0s 6ms/step - loss: 0.1049 - accuracy: 0.9344 - val_loss: 0.1031 - val_accuracy: 0.9311\n",
            "Epoch 29/40\n",
            "12/12 [==============================] - 0s 6ms/step - loss: 0.1145 - accuracy: 0.9223 - val_loss: 0.0998 - val_accuracy: 0.9311\n",
            "Epoch 30/40\n",
            "12/12 [==============================] - 0s 6ms/step - loss: 0.0977 - accuracy: 0.9345 - val_loss: 0.0964 - val_accuracy: 0.9311\n",
            "Epoch 31/40\n",
            "12/12 [==============================] - 0s 6ms/step - loss: 0.0984 - accuracy: 0.9303 - val_loss: 0.0933 - val_accuracy: 0.9311\n",
            "Epoch 32/40\n",
            "12/12 [==============================] - 0s 6ms/step - loss: 0.0967 - accuracy: 0.9301 - val_loss: 0.0902 - val_accuracy: 0.9311\n",
            "Epoch 33/40\n",
            "12/12 [==============================] - 0s 7ms/step - loss: 0.0885 - accuracy: 0.9344 - val_loss: 0.0869 - val_accuracy: 0.9311\n",
            "Epoch 34/40\n",
            "12/12 [==============================] - 0s 6ms/step - loss: 0.0774 - accuracy: 0.9416 - val_loss: 0.0841 - val_accuracy: 0.9311\n",
            "Epoch 35/40\n",
            "12/12 [==============================] - 0s 6ms/step - loss: 0.0841 - accuracy: 0.9327 - val_loss: 0.0815 - val_accuracy: 0.9311\n",
            "Epoch 36/40\n",
            "12/12 [==============================] - 0s 6ms/step - loss: 0.0840 - accuracy: 0.9297 - val_loss: 0.0789 - val_accuracy: 0.9311\n",
            "Epoch 37/40\n",
            "12/12 [==============================] - 0s 6ms/step - loss: 0.0742 - accuracy: 0.9373 - val_loss: 0.0763 - val_accuracy: 0.9311\n",
            "Epoch 38/40\n",
            "12/12 [==============================] - 0s 6ms/step - loss: 0.0788 - accuracy: 0.9311 - val_loss: 0.0739 - val_accuracy: 0.9311\n",
            "Epoch 39/40\n",
            "12/12 [==============================] - 0s 6ms/step - loss: 0.0721 - accuracy: 0.9333 - val_loss: 0.0714 - val_accuracy: 0.9311\n",
            "Epoch 40/40\n",
            "12/12 [==============================] - 0s 6ms/step - loss: 0.0694 - accuracy: 0.9347 - val_loss: 0.0691 - val_accuracy: 0.9311\n"
          ],
          "name": "stdout"
        },
        {
          "output_type": "execute_result",
          "data": {
            "text/plain": [
              "<tensorflow.python.keras.callbacks.History at 0x7fb032628810>"
            ]
          },
          "metadata": {
            "tags": []
          },
          "execution_count": 14
        }
      ]
    },
    {
      "cell_type": "code",
      "metadata": {
        "colab": {
          "base_uri": "https://localhost:8080/"
        },
        "id": "Lg_9M-IBpYJo",
        "outputId": "eaa0daa9-a79e-4f53-de82-40b684841e22"
      },
      "source": [
        "predictions = model.predict(X_test)\n",
        "loss, accuracy = model.evaluate(y_test, predictions)"
      ],
      "execution_count": 16,
      "outputs": [
        {
          "output_type": "stream",
          "text": [
            "15/15 [==============================] - 0s 2ms/step - loss: 0.1291 - accuracy: 1.0000\n"
          ],
          "name": "stdout"
        }
      ]
    },
    {
      "cell_type": "code",
      "metadata": {
        "colab": {
          "base_uri": "https://localhost:8080/"
        },
        "id": "zpHjCEpWpkmg",
        "outputId": "f7b139e1-35fe-48a0-929a-8cb9c27f8bc0"
      },
      "source": [
        "print(\"Test Accuracy: {}%\".format(round(accuracy * 100),2))"
      ],
      "execution_count": 19,
      "outputs": [
        {
          "output_type": "stream",
          "text": [
            "Test Accuracy: 100%\n"
          ],
          "name": "stdout"
        }
      ]
    }
  ]
}