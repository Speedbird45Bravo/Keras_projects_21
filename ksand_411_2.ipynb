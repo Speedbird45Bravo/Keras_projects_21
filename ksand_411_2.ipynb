{
  "nbformat": 4,
  "nbformat_minor": 0,
  "metadata": {
    "colab": {
      "name": "ksand_411_2.ipynb",
      "provenance": [],
      "collapsed_sections": [],
      "authorship_tag": "ABX9TyPfVGrvT89iWdaex6Wu/Nla",
      "include_colab_link": true
    },
    "kernelspec": {
      "name": "python3",
      "display_name": "Python 3"
    },
    "language_info": {
      "name": "python"
    }
  },
  "cells": [
    {
      "cell_type": "markdown",
      "metadata": {
        "id": "view-in-github",
        "colab_type": "text"
      },
      "source": [
        "<a href=\"https://colab.research.google.com/github/Speedbird45Bravo/Keras_projects_21/blob/main/ksand_411_2.ipynb\" target=\"_parent\"><img src=\"https://colab.research.google.com/assets/colab-badge.svg\" alt=\"Open In Colab\"/></a>"
      ]
    },
    {
      "cell_type": "code",
      "metadata": {
        "id": "pkaP_-jQamxQ"
      },
      "source": [
        "from keras.layers import Dense\n",
        "from keras.models import Sequential\n",
        "from keras.utils import to_categorical\n",
        "from sklearn.model_selection import train_test_split\n",
        "import numpy as np\n",
        "import pandas as pd\n",
        "\n",
        "df = pd.read_csv(\"https://projects.fivethirtyeight.com/soccer-api/club/spi_matches.csv\").dropna()"
      ],
      "execution_count": 131,
      "outputs": []
    },
    {
      "cell_type": "code",
      "metadata": {
        "id": "uj3Boz4YcdGE"
      },
      "source": [
        "thg = []\n",
        "\n",
        "for hg in df['score1']:\n",
        "  if hg >= 3:\n",
        "    thg.append(\"3+ Home Goals\")\n",
        "  else:\n",
        "    thg.append(\"<3 Home Goals\")\n",
        "\n",
        "df['h_goals'] = thg"
      ],
      "execution_count": 132,
      "outputs": []
    },
    {
      "cell_type": "code",
      "metadata": {
        "id": "_v_q4DMQc0NV"
      },
      "source": [
        "def load_model():\n",
        "  model = Sequential()\n",
        "  model.add(Dense(8, activation='relu'))\n",
        "  model.add(Dense(2, activation='softmax'))\n",
        "  model.compile(optimizer='adam', loss='categorical_crossentropy', metrics=['accuracy'])\n",
        "  return model\n",
        "\n",
        "def to_cat(array):\n",
        "  array = to_categorical(np.array(pd.factorize(array)[0]))\n",
        "  return array\n",
        "\n",
        "def to_df(array):\n",
        "  df = pd.DataFrame(array).reset_index(drop=True)\n",
        "  return df"
      ],
      "execution_count": 133,
      "outputs": []
    },
    {
      "cell_type": "code",
      "metadata": {
        "id": "VoRY2YyoeM7D"
      },
      "source": [
        "X = df[['score2','score1']].reset_index(drop=True)\n",
        "y = df[['h_goals']].copy()\n",
        "X_train, X_test, y_train, y_test = train_test_split(X, y, test_size=0.2, random_state=6)"
      ],
      "execution_count": 134,
      "outputs": []
    },
    {
      "cell_type": "code",
      "metadata": {
        "id": "UDzDvdOTeERN"
      },
      "source": [
        "model = load_model()\n",
        "y_train = to_cat(y_train['h_goals'])\n",
        "y_test = to_cat(y_test['h_goals'])"
      ],
      "execution_count": 135,
      "outputs": []
    },
    {
      "cell_type": "code",
      "metadata": {
        "colab": {
          "base_uri": "https://localhost:8080/"
        },
        "id": "Ux4NwBVueF36",
        "outputId": "b38fd58e-36f4-4268-cfd2-1077d4f873b1"
      },
      "source": [
        "model.fit(X_train, y_train, epochs=40, batch_size=128, verbose=2, validation_split=0.2)"
      ],
      "execution_count": 137,
      "outputs": [
        {
          "output_type": "stream",
          "text": [
            "Epoch 1/40\n",
            "101/101 - 0s - loss: 0.0372 - accuracy: 0.9998 - val_loss: 0.0366 - val_accuracy: 1.0000\n",
            "Epoch 2/40\n",
            "101/101 - 0s - loss: 0.0334 - accuracy: 0.9998 - val_loss: 0.0329 - val_accuracy: 1.0000\n",
            "Epoch 3/40\n",
            "101/101 - 0s - loss: 0.0301 - accuracy: 0.9998 - val_loss: 0.0296 - val_accuracy: 1.0000\n",
            "Epoch 4/40\n",
            "101/101 - 0s - loss: 0.0270 - accuracy: 0.9998 - val_loss: 0.0267 - val_accuracy: 1.0000\n",
            "Epoch 5/40\n",
            "101/101 - 0s - loss: 0.0244 - accuracy: 0.9998 - val_loss: 0.0241 - val_accuracy: 1.0000\n",
            "Epoch 6/40\n",
            "101/101 - 0s - loss: 0.0220 - accuracy: 0.9998 - val_loss: 0.0217 - val_accuracy: 1.0000\n",
            "Epoch 7/40\n",
            "101/101 - 0s - loss: 0.0199 - accuracy: 0.9998 - val_loss: 0.0196 - val_accuracy: 1.0000\n",
            "Epoch 8/40\n",
            "101/101 - 0s - loss: 0.0180 - accuracy: 1.0000 - val_loss: 0.0178 - val_accuracy: 1.0000\n",
            "Epoch 9/40\n",
            "101/101 - 0s - loss: 0.0163 - accuracy: 1.0000 - val_loss: 0.0161 - val_accuracy: 1.0000\n",
            "Epoch 10/40\n",
            "101/101 - 0s - loss: 0.0148 - accuracy: 1.0000 - val_loss: 0.0147 - val_accuracy: 1.0000\n",
            "Epoch 11/40\n",
            "101/101 - 0s - loss: 0.0135 - accuracy: 1.0000 - val_loss: 0.0133 - val_accuracy: 1.0000\n",
            "Epoch 12/40\n",
            "101/101 - 0s - loss: 0.0122 - accuracy: 1.0000 - val_loss: 0.0122 - val_accuracy: 1.0000\n",
            "Epoch 13/40\n",
            "101/101 - 0s - loss: 0.0112 - accuracy: 1.0000 - val_loss: 0.0111 - val_accuracy: 1.0000\n",
            "Epoch 14/40\n",
            "101/101 - 0s - loss: 0.0102 - accuracy: 1.0000 - val_loss: 0.0101 - val_accuracy: 1.0000\n",
            "Epoch 15/40\n",
            "101/101 - 0s - loss: 0.0093 - accuracy: 1.0000 - val_loss: 0.0092 - val_accuracy: 1.0000\n",
            "Epoch 16/40\n",
            "101/101 - 0s - loss: 0.0085 - accuracy: 1.0000 - val_loss: 0.0085 - val_accuracy: 1.0000\n",
            "Epoch 17/40\n",
            "101/101 - 0s - loss: 0.0078 - accuracy: 1.0000 - val_loss: 0.0078 - val_accuracy: 1.0000\n",
            "Epoch 18/40\n",
            "101/101 - 0s - loss: 0.0072 - accuracy: 1.0000 - val_loss: 0.0071 - val_accuracy: 1.0000\n",
            "Epoch 19/40\n",
            "101/101 - 0s - loss: 0.0066 - accuracy: 1.0000 - val_loss: 0.0065 - val_accuracy: 1.0000\n",
            "Epoch 20/40\n",
            "101/101 - 0s - loss: 0.0060 - accuracy: 1.0000 - val_loss: 0.0060 - val_accuracy: 1.0000\n",
            "Epoch 21/40\n",
            "101/101 - 0s - loss: 0.0055 - accuracy: 1.0000 - val_loss: 0.0055 - val_accuracy: 1.0000\n",
            "Epoch 22/40\n",
            "101/101 - 0s - loss: 0.0051 - accuracy: 1.0000 - val_loss: 0.0050 - val_accuracy: 1.0000\n",
            "Epoch 23/40\n",
            "101/101 - 0s - loss: 0.0047 - accuracy: 1.0000 - val_loss: 0.0046 - val_accuracy: 1.0000\n",
            "Epoch 24/40\n",
            "101/101 - 0s - loss: 0.0043 - accuracy: 1.0000 - val_loss: 0.0043 - val_accuracy: 1.0000\n",
            "Epoch 25/40\n",
            "101/101 - 0s - loss: 0.0040 - accuracy: 1.0000 - val_loss: 0.0039 - val_accuracy: 1.0000\n",
            "Epoch 26/40\n",
            "101/101 - 0s - loss: 0.0037 - accuracy: 1.0000 - val_loss: 0.0036 - val_accuracy: 1.0000\n",
            "Epoch 27/40\n",
            "101/101 - 0s - loss: 0.0034 - accuracy: 1.0000 - val_loss: 0.0034 - val_accuracy: 1.0000\n",
            "Epoch 28/40\n",
            "101/101 - 0s - loss: 0.0032 - accuracy: 1.0000 - val_loss: 0.0031 - val_accuracy: 1.0000\n",
            "Epoch 29/40\n",
            "101/101 - 0s - loss: 0.0029 - accuracy: 1.0000 - val_loss: 0.0029 - val_accuracy: 1.0000\n",
            "Epoch 30/40\n",
            "101/101 - 0s - loss: 0.0027 - accuracy: 1.0000 - val_loss: 0.0027 - val_accuracy: 1.0000\n",
            "Epoch 31/40\n",
            "101/101 - 0s - loss: 0.0025 - accuracy: 1.0000 - val_loss: 0.0025 - val_accuracy: 1.0000\n",
            "Epoch 32/40\n",
            "101/101 - 0s - loss: 0.0023 - accuracy: 1.0000 - val_loss: 0.0023 - val_accuracy: 1.0000\n",
            "Epoch 33/40\n",
            "101/101 - 0s - loss: 0.0022 - accuracy: 1.0000 - val_loss: 0.0022 - val_accuracy: 1.0000\n",
            "Epoch 34/40\n",
            "101/101 - 0s - loss: 0.0020 - accuracy: 1.0000 - val_loss: 0.0020 - val_accuracy: 1.0000\n",
            "Epoch 35/40\n",
            "101/101 - 0s - loss: 0.0019 - accuracy: 1.0000 - val_loss: 0.0019 - val_accuracy: 1.0000\n",
            "Epoch 36/40\n",
            "101/101 - 0s - loss: 0.0018 - accuracy: 1.0000 - val_loss: 0.0017 - val_accuracy: 1.0000\n",
            "Epoch 37/40\n",
            "101/101 - 0s - loss: 0.0016 - accuracy: 1.0000 - val_loss: 0.0016 - val_accuracy: 1.0000\n",
            "Epoch 38/40\n",
            "101/101 - 0s - loss: 0.0015 - accuracy: 1.0000 - val_loss: 0.0015 - val_accuracy: 1.0000\n",
            "Epoch 39/40\n",
            "101/101 - 0s - loss: 0.0014 - accuracy: 1.0000 - val_loss: 0.0014 - val_accuracy: 1.0000\n",
            "Epoch 40/40\n",
            "101/101 - 0s - loss: 0.0013 - accuracy: 1.0000 - val_loss: 0.0013 - val_accuracy: 1.0000\n"
          ],
          "name": "stdout"
        },
        {
          "output_type": "execute_result",
          "data": {
            "text/plain": [
              "<tensorflow.python.keras.callbacks.History at 0x7f5c6b3eaf50>"
            ]
          },
          "metadata": {
            "tags": []
          },
          "execution_count": 137
        }
      ]
    },
    {
      "cell_type": "code",
      "metadata": {
        "colab": {
          "base_uri": "https://localhost:8080/"
        },
        "id": "w6YPKhWDeq-a",
        "outputId": "d81110eb-c41b-4980-8548-05ae1855c158"
      },
      "source": [
        "predictions = model.predict(X_test).round(0)\n",
        "test, acc = model.evaluate(X_test, y_test)"
      ],
      "execution_count": 138,
      "outputs": [
        {
          "output_type": "stream",
          "text": [
            "126/126 [==============================] - 0s 974us/step - loss: 0.0013 - accuracy: 1.0000\n"
          ],
          "name": "stdout"
        }
      ]
    },
    {
      "cell_type": "code",
      "metadata": {
        "colab": {
          "base_uri": "https://localhost:8080/"
        },
        "id": "c4Bl-euMfqi1",
        "outputId": "213d6385-9b5d-45d1-a9dc-2bb013a3323a"
      },
      "source": [
        "print(\"Test Accuracy: %.2f\" % (acc * 100) + \"%\")"
      ],
      "execution_count": 139,
      "outputs": [
        {
          "output_type": "stream",
          "text": [
            "Test Accuracy: 100.00%\n"
          ],
          "name": "stdout"
        }
      ]
    }
  ]
}