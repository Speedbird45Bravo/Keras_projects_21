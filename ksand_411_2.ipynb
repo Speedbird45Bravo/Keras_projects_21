{
  "nbformat": 4,
  "nbformat_minor": 0,
  "metadata": {
    "colab": {
      "name": "ksand_411_2.ipynb",
      "provenance": [],
      "collapsed_sections": [],
      "authorship_tag": "ABX9TyNlO/kkyOPfcAVBmnfTvhiD",
      "include_colab_link": true
    },
    "kernelspec": {
      "name": "python3",
      "display_name": "Python 3"
    },
    "language_info": {
      "name": "python"
    }
  },
  "cells": [
    {
      "cell_type": "markdown",
      "metadata": {
        "id": "view-in-github",
        "colab_type": "text"
      },
      "source": [
        "<a href=\"https://colab.research.google.com/github/Speedbird45Bravo/Keras_projects_21/blob/main/ksand_411_2.ipynb\" target=\"_parent\"><img src=\"https://colab.research.google.com/assets/colab-badge.svg\" alt=\"Open In Colab\"/></a>"
      ]
    },
    {
      "cell_type": "code",
      "metadata": {
        "id": "pkaP_-jQamxQ"
      },
      "source": [
        "from keras.layers import Dense\n",
        "from keras.models import Sequential\n",
        "from keras.utils import to_categorical\n",
        "from sklearn.model_selection import train_test_split\n",
        "import numpy as np\n",
        "import pandas as pd\n",
        "\n",
        "df = pd.read_csv(\"https://projects.fivethirtyeight.com/soccer-api/club/spi_matches.csv\").dropna()"
      ],
      "execution_count": 152,
      "outputs": []
    },
    {
      "cell_type": "code",
      "metadata": {
        "id": "uj3Boz4YcdGE"
      },
      "source": [
        "thg = []\n",
        "\n",
        "for hg in df['score1']:\n",
        "  if hg >= 3:\n",
        "    thg.append(\"3+ Home Goals\")\n",
        "  else:\n",
        "    thg.append(\"<3 Home Goals\")\n",
        "\n",
        "df['h_goal_label'] = thg"
      ],
      "execution_count": 153,
      "outputs": []
    },
    {
      "cell_type": "code",
      "metadata": {
        "id": "_v_q4DMQc0NV"
      },
      "source": [
        "def load_model():\n",
        "  model = Sequential()\n",
        "  model.add(Dense(8, activation='relu'))\n",
        "  model.add(Dense(2, activation='softmax'))\n",
        "  model.compile(optimizer='adam', loss='categorical_crossentropy', metrics=['accuracy'])\n",
        "  return model\n",
        "\n",
        "def to_cat(array):\n",
        "  array = to_categorical(np.array(pd.factorize(array)[0]))\n",
        "  return array"
      ],
      "execution_count": 154,
      "outputs": []
    },
    {
      "cell_type": "code",
      "metadata": {
        "id": "VoRY2YyoeM7D"
      },
      "source": [
        "X = df[['score2','score1']].reset_index(drop=True)\n",
        "y = df[['h_goal_label']].copy()\n",
        "X_train, X_test, y_train, y_test = train_test_split(X, y, test_size=0.2, random_state=6)"
      ],
      "execution_count": 155,
      "outputs": []
    },
    {
      "cell_type": "code",
      "metadata": {
        "id": "UDzDvdOTeERN"
      },
      "source": [
        "model = load_model()\n",
        "y_train = to_cat(y_train['h_goal_label'])\n",
        "y_test = to_cat(y_test['h_goal_label'])"
      ],
      "execution_count": 156,
      "outputs": []
    },
    {
      "cell_type": "code",
      "metadata": {
        "colab": {
          "base_uri": "https://localhost:8080/"
        },
        "id": "Ux4NwBVueF36",
        "outputId": "a3e40b60-f874-42ce-f1bf-c84eebb14844"
      },
      "source": [
        "model.fit(X_train, y_train, epochs=20, batch_size=128, verbose=2, validation_split=0.2)"
      ],
      "execution_count": 157,
      "outputs": [
        {
          "output_type": "stream",
          "text": [
            "Epoch 1/20\n",
            "101/101 - 1s - loss: 0.6763 - accuracy: 0.6980 - val_loss: 0.5722 - val_accuracy: 0.9046\n",
            "Epoch 2/20\n",
            "101/101 - 0s - loss: 0.4973 - accuracy: 0.9201 - val_loss: 0.4309 - val_accuracy: 0.9523\n",
            "Epoch 3/20\n",
            "101/101 - 0s - loss: 0.3719 - accuracy: 0.9564 - val_loss: 0.3247 - val_accuracy: 0.9551\n",
            "Epoch 4/20\n",
            "101/101 - 0s - loss: 0.2790 - accuracy: 0.9712 - val_loss: 0.2466 - val_accuracy: 0.9825\n",
            "Epoch 5/20\n",
            "101/101 - 0s - loss: 0.2120 - accuracy: 0.9866 - val_loss: 0.1920 - val_accuracy: 0.9825\n",
            "Epoch 6/20\n",
            "101/101 - 0s - loss: 0.1668 - accuracy: 0.9869 - val_loss: 0.1543 - val_accuracy: 0.9825\n",
            "Epoch 7/20\n",
            "101/101 - 0s - loss: 0.1341 - accuracy: 0.9959 - val_loss: 0.1250 - val_accuracy: 0.9935\n",
            "Epoch 8/20\n",
            "101/101 - 0s - loss: 0.1091 - accuracy: 0.9964 - val_loss: 0.1026 - val_accuracy: 0.9935\n",
            "Epoch 9/20\n",
            "101/101 - 0s - loss: 0.0898 - accuracy: 0.9964 - val_loss: 0.0850 - val_accuracy: 0.9935\n",
            "Epoch 10/20\n",
            "101/101 - 0s - loss: 0.0742 - accuracy: 0.9987 - val_loss: 0.0706 - val_accuracy: 0.9972\n",
            "Epoch 11/20\n",
            "101/101 - 0s - loss: 0.0617 - accuracy: 0.9992 - val_loss: 0.0587 - val_accuracy: 0.9972\n",
            "Epoch 12/20\n",
            "101/101 - 0s - loss: 0.0514 - accuracy: 0.9992 - val_loss: 0.0492 - val_accuracy: 0.9972\n",
            "Epoch 13/20\n",
            "101/101 - 0s - loss: 0.0431 - accuracy: 0.9998 - val_loss: 0.0412 - val_accuracy: 1.0000\n",
            "Epoch 14/20\n",
            "101/101 - 0s - loss: 0.0364 - accuracy: 0.9998 - val_loss: 0.0348 - val_accuracy: 1.0000\n",
            "Epoch 15/20\n",
            "101/101 - 0s - loss: 0.0308 - accuracy: 1.0000 - val_loss: 0.0296 - val_accuracy: 1.0000\n",
            "Epoch 16/20\n",
            "101/101 - 0s - loss: 0.0262 - accuracy: 1.0000 - val_loss: 0.0252 - val_accuracy: 1.0000\n",
            "Epoch 17/20\n",
            "101/101 - 0s - loss: 0.0224 - accuracy: 1.0000 - val_loss: 0.0216 - val_accuracy: 1.0000\n",
            "Epoch 18/20\n",
            "101/101 - 0s - loss: 0.0194 - accuracy: 1.0000 - val_loss: 0.0187 - val_accuracy: 1.0000\n",
            "Epoch 19/20\n",
            "101/101 - 0s - loss: 0.0167 - accuracy: 1.0000 - val_loss: 0.0162 - val_accuracy: 1.0000\n",
            "Epoch 20/20\n",
            "101/101 - 0s - loss: 0.0145 - accuracy: 1.0000 - val_loss: 0.0141 - val_accuracy: 1.0000\n"
          ],
          "name": "stdout"
        },
        {
          "output_type": "execute_result",
          "data": {
            "text/plain": [
              "<tensorflow.python.keras.callbacks.History at 0x7f5c6b302b10>"
            ]
          },
          "metadata": {
            "tags": []
          },
          "execution_count": 157
        }
      ]
    },
    {
      "cell_type": "code",
      "metadata": {
        "colab": {
          "base_uri": "https://localhost:8080/"
        },
        "id": "w6YPKhWDeq-a",
        "outputId": "a0b94d77-cefb-4321-fed5-b1a9a641adf6"
      },
      "source": [
        "predictions = model.predict(X_test).round(0)\n",
        "test, acc = model.evaluate(X_test, y_test)"
      ],
      "execution_count": 158,
      "outputs": [
        {
          "output_type": "stream",
          "text": [
            "126/126 [==============================] - 0s 998us/step - loss: 0.0135 - accuracy: 1.0000\n"
          ],
          "name": "stdout"
        }
      ]
    },
    {
      "cell_type": "code",
      "metadata": {
        "colab": {
          "base_uri": "https://localhost:8080/"
        },
        "id": "RCSW-mf2VQg-",
        "outputId": "6a5fc2c9-9f5c-45fc-b852-6480c04dc055"
      },
      "source": [
        "print(\"Test Accuracy: %.2f\" % (acc * 100) + \"%\")"
      ],
      "execution_count": 159,
      "outputs": [
        {
          "output_type": "stream",
          "text": [
            "Test Accuracy: 100.00%\n"
          ],
          "name": "stdout"
        }
      ]
    }
  ]
}