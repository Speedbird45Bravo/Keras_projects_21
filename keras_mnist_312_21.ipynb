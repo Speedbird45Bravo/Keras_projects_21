{
  "nbformat": 4,
  "nbformat_minor": 0,
  "metadata": {
    "colab": {
      "name": "keras_mnist_312_21.ipynb",
      "provenance": [],
      "collapsed_sections": []
    },
    "kernelspec": {
      "name": "python3",
      "display_name": "Python 3"
    }
  },
  "cells": [
    {
      "cell_type": "code",
      "metadata": {
        "colab": {
          "base_uri": "https://localhost:8080/"
        },
        "id": "a63SfGlmsb3f",
        "outputId": "c47e317c-6736-444e-8866-b289e218c908"
      },
      "source": [
        "from keras.datasets import mnist\r\n",
        "from keras.layers import Dense\r\n",
        "from keras.models import Sequential\r\n",
        "from keras.utils import to_categorical\r\n",
        "\r\n",
        "(X_train, y_train), (X_test, y_test) = mnist.load_data()\r\n",
        "\r\n",
        "Xtrl = len(X_train)\r\n",
        "Xtel = len(X_test)\r\n",
        "i_dims = X_train.shape[1] * X_train.shape[2]\r\n",
        "\r\n",
        "X_train = X_train.reshape((Xtrl, i_dims))\r\n",
        "X_test = X_test.reshape((Xtel, i_dims)).astype('float32')\r\n",
        "y_train = to_categorical(y_train)\r\n",
        "y_test = to_categorical(y_test)\r\n",
        "\r\n",
        "model = Sequential()\r\n",
        "model.add(Dense(512, activation='relu', input_shape=(i_dims, )))\r\n",
        "model.add(Dense(10, activation='softmax'))\r\n",
        "model.compile(optimizer='rmsprop', loss='categorical_crossentropy', metrics=['accuracy'])\r\n",
        "model.fit(X_train, y_train, epochs=20, batch_size=128, verbose=2)\r\n",
        "test_loss, test_accuracy = model.evaluate(X_test, y_test)\r\n",
        "print(\"Test Accuracy: %.2f\" % (test_accuracy * 100) + \"%\")"
      ],
      "execution_count": null,
      "outputs": [
        {
          "output_type": "stream",
          "text": [
            "Epoch 1/20\n",
            "469/469 - 5s - loss: 5.1928 - accuracy: 0.8982\n",
            "Epoch 2/20\n",
            "469/469 - 4s - loss: 0.6240 - accuracy: 0.9521\n",
            "Epoch 3/20\n",
            "469/469 - 4s - loss: 0.4153 - accuracy: 0.9656\n",
            "Epoch 4/20\n",
            "469/469 - 4s - loss: 0.3481 - accuracy: 0.9717\n",
            "Epoch 5/20\n",
            "469/469 - 4s - loss: 0.2996 - accuracy: 0.9759\n",
            "Epoch 6/20\n",
            "469/469 - 4s - loss: 0.2673 - accuracy: 0.9795\n",
            "Epoch 7/20\n",
            "469/469 - 4s - loss: 0.2527 - accuracy: 0.9813\n",
            "Epoch 8/20\n",
            "469/469 - 4s - loss: 0.2041 - accuracy: 0.9839\n",
            "Epoch 9/20\n",
            "469/469 - 4s - loss: 0.1901 - accuracy: 0.9857\n",
            "Epoch 10/20\n",
            "469/469 - 4s - loss: 0.1996 - accuracy: 0.9868\n",
            "Epoch 11/20\n",
            "469/469 - 4s - loss: 0.1835 - accuracy: 0.9880\n",
            "Epoch 12/20\n",
            "469/469 - 4s - loss: 0.1623 - accuracy: 0.9889\n",
            "Epoch 13/20\n",
            "469/469 - 4s - loss: 0.1430 - accuracy: 0.9904\n",
            "Epoch 14/20\n",
            "469/469 - 4s - loss: 0.1628 - accuracy: 0.9903\n",
            "Epoch 15/20\n",
            "469/469 - 4s - loss: 0.1544 - accuracy: 0.9906\n",
            "Epoch 16/20\n",
            "469/469 - 4s - loss: 0.1403 - accuracy: 0.9918\n",
            "Epoch 17/20\n",
            "469/469 - 4s - loss: 0.1488 - accuracy: 0.9918\n",
            "Epoch 18/20\n",
            "469/469 - 4s - loss: 0.1434 - accuracy: 0.9923\n",
            "Epoch 19/20\n",
            "469/469 - 4s - loss: 0.1295 - accuracy: 0.9924\n",
            "Epoch 20/20\n",
            "469/469 - 4s - loss: 0.1146 - accuracy: 0.9937\n",
            "313/313 [==============================] - 1s 2ms/step - loss: 0.9074 - accuracy: 0.9760\n",
            "Test Accuracy: 97.60%\n"
          ],
          "name": "stdout"
        }
      ]
    }
  ]
}